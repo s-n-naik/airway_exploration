{
 "cells": [
  {
   "cell_type": "code",
   "execution_count": 105,
   "id": "ea069f35-53c3-44ef-aa08-716ff1eb7709",
   "metadata": {},
   "outputs": [
    {
     "name": "stdout",
     "output_type": "stream",
     "text": [
      "The autoreload extension is already loaded. To reload it, use:\n",
      "  %reload_ext autoreload\n"
     ]
    }
   ],
   "source": [
    "%load_ext autoreload\n",
    "%autoreload 2 \n",
    "# !apt-get install -y xvfb\n",
    "import time\n",
    "import torch\n",
    "from collections import Counter\n",
    "import torch.nn as nn\n",
    "from torch_geometric.data import Data\n",
    "from torch_geometric.nn import GATConv\n",
    "from torch_geometric.datasets import Planetoid\n",
    "import torch_geometric.transforms as T\n",
    "from torch_geometric.loader import DataLoader\n",
    "from torch_geometric.data import Dataset\n",
    "# https://www.youtube.com/watch?v=QLIkOtKS4os --> creating custom dataset in pytorch geometric\n",
    "from torch.utils.data import Dataset, random_split\n",
    "import torch_geometric\n",
    "from torch_geometric.data import Data, InMemoryDataset\n",
    "import torch_geometric\n",
    "from torch.nn import Linear\n",
    "import torch.nn.functional as F\n",
    "from torch_geometric.nn import GCNConv, GATConv\n",
    "from torch_geometric.nn import global_mean_pool\n",
    "import networkx as nx\n",
    "import pandas as pd\n",
    "import numpy as np\n",
    "import matplotlib as mpl\n",
    "import matplotlib.pyplot as plt\n",
    "import re\n",
    "import pickle\n",
    "import random\n",
    "import os\n",
    "\n",
    "from tqdm import tqdm\n",
    "from sklearn.preprocessing import StandardScaler\n",
    "from collections import Counter\n",
    "from sklearn.preprocessing import LabelEncoder"
   ]
  },
  {
   "cell_type": "markdown",
   "id": "67f6d731-8832-460c-9ab6-33d931ce4675",
   "metadata": {},
   "source": [
    "### Utility Functions"
   ]
  },
  {
   "cell_type": "code",
   "execution_count": 58,
   "id": "a4409c4d-e3b0-45ea-bd2e-3ae97e8408c4",
   "metadata": {},
   "outputs": [],
   "source": [
    "\n",
    "\n",
    "def set_device_and_seed(GPU=True, seed=0, gpu_name = \"cuda:0\"):\n",
    "    torch.cuda.is_available()\n",
    "    if GPU:\n",
    "        device = torch.device(gpu_name if torch.cuda.is_available() else 'cpu')\n",
    "    else:\n",
    "        device = torch.device(\"cpu\")\n",
    "    print(f'Using {device}')\n",
    "\n",
    "    if torch.cuda.is_available():\n",
    "        torch.backends.cudnn.deterministic = True\n",
    "        torch.cuda.manual_seed(seed)\n",
    "\n",
    "        \n",
    "    set_seed(seed)\n",
    "    \n",
    "    return device\n",
    "\n",
    "def set_seed(seed):\n",
    "    torch.manual_seed(seed)\n",
    "    np.random.seed(seed)\n",
    "    random.seed(seed)\n",
    "    print(f\"Setting torch, cuda, numpy and random seeds to {seed}\")\n",
    "\n",
    "\n",
    "def show(img):\n",
    "    npimg = img.cpu().numpy()\n",
    "    plt.imshow(np.transpose(npimg, (1,2,0)))\n",
    "\n",
    "    \n",
    "def visualize_graph(G, color):\n",
    "    plt.figure(figsize=(7,7))\n",
    "    plt.xticks([])\n",
    "    plt.yticks([])\n",
    "    nx.draw_networkx(G, pos=nx.spring_layout(G, seed=42), with_labels=False,\n",
    "                     node_color=color, cmap=\"Set2\")\n",
    "    plt.show()\n",
    "\n",
    "\n",
    "def visualize_embedding(h, color, epoch=None, loss=None):\n",
    "    plt.figure(figsize=(7,7))\n",
    "    plt.xticks([])\n",
    "    plt.yticks([])\n",
    "    h = h.detach().cpu().numpy()\n",
    "    plt.scatter(h[:, 0], h[:, 1], s=140, c=color, cmap=\"Set2\")\n",
    "    if epoch is not None and loss is not None:\n",
    "        plt.xlabel(f'Epoch: {epoch}, Loss: {loss.item():.4f}', fontsize=16)\n",
    "    plt.show()"
   ]
  },
  {
   "cell_type": "code",
   "execution_count": 59,
   "id": "db45b184-f90e-42a1-99ad-be9ca5c836a7",
   "metadata": {},
   "outputs": [
    {
     "name": "stdout",
     "output_type": "stream",
     "text": [
      "Using cpu\n",
      "Setting torch, cuda, numpy and random seeds to 0\n"
     ]
    }
   ],
   "source": [
    "# Setting random seed and device\n",
    "GPU = True # Choose whether to use GPU\n",
    "device =set_device_and_seed(GPU=False, seed=0, gpu_name='cuda:0')"
   ]
  },
  {
   "cell_type": "markdown",
   "id": "078e86c8-5063-436e-b3a5-05c2c58368c4",
   "metadata": {},
   "source": [
    "### Load Data\n"
   ]
  },
  {
   "cell_type": "code",
   "execution_count": 60,
   "id": "dca64ebf-39ab-4791-858b-b9240327f536",
   "metadata": {},
   "outputs": [],
   "source": [
    "orig_df = pd.read_csv(os.path.abspath(\"/home/sneha/e5_cleaned_QC.csv\"))\n"
   ]
  },
  {
   "cell_type": "code",
   "execution_count": 61,
   "id": "4e9c0254-4846-4ec8-bac2-9be2e8752167",
   "metadata": {},
   "outputs": [],
   "source": [
    "label_df = pd.read_csv(os.path.abspath(\"/home/sneha/MESA_Exam5_airway_variants.csv\"))"
   ]
  },
  {
   "cell_type": "markdown",
   "id": "1a744267-b6a9-43c9-a8b5-44a95b2b2c90",
   "metadata": {},
   "source": [
    "####  Class distribution of the labels "
   ]
  },
  {
   "cell_type": "code",
   "execution_count": 62,
   "id": "e3e2ff0a",
   "metadata": {},
   "outputs": [
    {
     "name": "stdout",
     "output_type": "stream",
     "text": [
      "192348 2909\n",
      "191383 2890\n"
     ]
    }
   ],
   "source": [
    "pilot_df_w_labels = orig_df.merge(label_df, on='idno', how='left')\n",
    "# drop nan labels\n",
    "print(len(pilot_df_w_labels), pilot_df_w_labels.idno.nunique())\n",
    "pilot_df_w_labels.dropna(subset='LL_1', inplace=True)\n",
    "\n",
    "print(len(pilot_df_w_labels), pilot_df_w_labels.idno.nunique())"
   ]
  },
  {
   "cell_type": "code",
   "execution_count": 63,
   "id": "a3790e90",
   "metadata": {},
   "outputs": [
    {
     "name": "stdout",
     "output_type": "stream",
     "text": [
      "Label frequency distribution\n"
     ]
    },
    {
     "data": {
      "text/html": [
       "<div>\n",
       "<style scoped>\n",
       "    .dataframe tbody tr th:only-of-type {\n",
       "        vertical-align: middle;\n",
       "    }\n",
       "\n",
       "    .dataframe tbody tr th {\n",
       "        vertical-align: top;\n",
       "    }\n",
       "\n",
       "    .dataframe thead th {\n",
       "        text-align: right;\n",
       "    }\n",
       "</style>\n",
       "<table border=\"1\" class=\"dataframe\">\n",
       "  <thead>\n",
       "    <tr style=\"text-align: right;\">\n",
       "      <th></th>\n",
       "      <th>idno</th>\n",
       "      <th>percent</th>\n",
       "    </tr>\n",
       "    <tr>\n",
       "      <th>LL_1</th>\n",
       "      <th></th>\n",
       "      <th></th>\n",
       "    </tr>\n",
       "  </thead>\n",
       "  <tbody>\n",
       "    <tr>\n",
       "      <th>Abs. RB7</th>\n",
       "      <td>163</td>\n",
       "      <td>5.64</td>\n",
       "    </tr>\n",
       "    <tr>\n",
       "      <th>Acc. B*</th>\n",
       "      <td>412</td>\n",
       "      <td>14.26</td>\n",
       "    </tr>\n",
       "    <tr>\n",
       "      <th>Acc. LB7</th>\n",
       "      <td>42</td>\n",
       "      <td>1.45</td>\n",
       "    </tr>\n",
       "    <tr>\n",
       "      <th>Standard</th>\n",
       "      <td>2101</td>\n",
       "      <td>72.70</td>\n",
       "    </tr>\n",
       "    <tr>\n",
       "      <th>Unclass.</th>\n",
       "      <td>172</td>\n",
       "      <td>5.95</td>\n",
       "    </tr>\n",
       "  </tbody>\n",
       "</table>\n",
       "</div>"
      ],
      "text/plain": [
       "          idno  percent\n",
       "LL_1                   \n",
       "Abs. RB7   163     5.64\n",
       "Acc. B*    412    14.26\n",
       "Acc. LB7    42     1.45\n",
       "Standard  2101    72.70\n",
       "Unclass.   172     5.95"
      ]
     },
     "execution_count": 63,
     "metadata": {},
     "output_type": "execute_result"
    }
   ],
   "source": [
    "print(\"Label frequency distribution\")\n",
    "label_freq = pilot_df_w_labels.groupby('LL_1').agg({'idno':lambda x:x.nunique()})\n",
    "total = label_freq.idno.sum()\n",
    "label_freq['percent'] = label_freq.idno.apply(lambda x:np.round(100*x/total, 2))\n",
    "label_freq.rename({'idno':'#participants'}, inplace=True)\n",
    "label_freq"
   ]
  },
  {
   "cell_type": "code",
   "execution_count": 64,
   "id": "f3211dd9-9e88-4964-99d5-7899bdcdf07b",
   "metadata": {},
   "outputs": [],
   "source": [
    "# drop unclass\n",
    "pilot_df_w_labels = pilot_df_w_labels.loc[~(pilot_df_w_labels.LL_1.str.lower().str.contains('unclass'))]\n"
   ]
  },
  {
   "cell_type": "code",
   "execution_count": 65,
   "id": "d96d9eb0",
   "metadata": {},
   "outputs": [
    {
     "data": {
      "text/html": [
       "<div>\n",
       "<style scoped>\n",
       "    .dataframe tbody tr th:only-of-type {\n",
       "        vertical-align: middle;\n",
       "    }\n",
       "\n",
       "    .dataframe tbody tr th {\n",
       "        vertical-align: top;\n",
       "    }\n",
       "\n",
       "    .dataframe thead th {\n",
       "        text-align: right;\n",
       "    }\n",
       "</style>\n",
       "<table border=\"1\" class=\"dataframe\">\n",
       "  <thead>\n",
       "    <tr style=\"text-align: right;\">\n",
       "      <th></th>\n",
       "      <th>idno</th>\n",
       "      <th>percent</th>\n",
       "    </tr>\n",
       "    <tr>\n",
       "      <th>binaryLL_1</th>\n",
       "      <th></th>\n",
       "      <th></th>\n",
       "    </tr>\n",
       "  </thead>\n",
       "  <tbody>\n",
       "    <tr>\n",
       "      <th>0</th>\n",
       "      <td>2101</td>\n",
       "      <td>77.3</td>\n",
       "    </tr>\n",
       "    <tr>\n",
       "      <th>1</th>\n",
       "      <td>617</td>\n",
       "      <td>22.7</td>\n",
       "    </tr>\n",
       "  </tbody>\n",
       "</table>\n",
       "</div>"
      ],
      "text/plain": [
       "            idno  percent\n",
       "binaryLL_1               \n",
       "0           2101     77.3\n",
       "1            617     22.7"
      ]
     },
     "execution_count": 65,
     "metadata": {},
     "output_type": "execute_result"
    }
   ],
   "source": [
    "# make labels binary\n",
    "binary_label = {\n",
    "    \n",
    "    'Abs. RB7': 1,\n",
    "'Acc. B*': 1,\n",
    "'Acc. LB7':1,\n",
    "'Standard':0\n",
    "    \n",
    "    \n",
    "}\n",
    "pilot_df_w_labels['binaryLL_1'] = pilot_df_w_labels.LL_1.apply(lambda x: binary_label[x])\n",
    "\n",
    "binary_label_freq = pilot_df_w_labels.groupby('binaryLL_1').agg({'idno':lambda x:x.nunique()})\n",
    "total = binary_label_freq.idno.sum()\n",
    "binary_label_freq['percent'] = binary_label_freq.idno.apply(lambda x:np.round(100*x/total, 2))\n",
    "binary_label_freq.rename({'idno':'#participants'}, inplace=True)\n",
    "binary_label_freq"
   ]
  },
  {
   "cell_type": "code",
   "execution_count": 67,
   "id": "427ad95d",
   "metadata": {},
   "outputs": [
    {
     "data": {
      "text/plain": [
       "179948"
      ]
     },
     "execution_count": 67,
     "metadata": {},
     "output_type": "execute_result"
    }
   ],
   "source": [
    "pilot_df = pilot_df_w_labels.copy()\n",
    "len(pilot_df)"
   ]
  },
  {
   "cell_type": "markdown",
   "id": "e7fb4fb5",
   "metadata": {},
   "source": [
    "# FEATURE ENGINEERING\n",
    "- todo choose features and normalise here\n",
    "- anomaly detection used direction, coords, level, bottom-up level, length (distance from coords to furthest child), number descendents + image feature which we dont have\n"
   ]
  },
  {
   "cell_type": "code",
   "execution_count": null,
   "id": "818d2e6f",
   "metadata": {},
   "outputs": [],
   "source": []
  },
  {
   "cell_type": "markdown",
   "id": "6c4dee94-15ef-41e7-b84d-1b57549eed88",
   "metadata": {},
   "source": [
    "## Make a graph sample & visualise in networkx"
   ]
  },
  {
   "cell_type": "code",
   "execution_count": 132,
   "id": "9ec6b457-7537-454c-b38e-8c5664412529",
   "metadata": {},
   "outputs": [
    {
     "name": "stderr",
     "output_type": "stream",
     "text": [
      "/tmp/ipykernel_31459/1715783808.py:10: SettingWithCopyWarning: \n",
      "A value is trying to be set on a copy of a slice from a DataFrame.\n",
      "Try using .loc[row_indexer,col_indexer] = value instead\n",
      "\n",
      "See the caveats in the documentation: https://pandas.pydata.org/pandas-docs/stable/user_guide/indexing.html#returning-a-view-versus-a-copy\n",
      "  tree_w_coords['anatomicalname'] = tree_w_coords['anatomicalname'].apply(lambda x:\"\" if ('unnamed' in x) or (x == '-') else x)\n"
     ]
    },
    {
     "data": {
      "image/png": "[encoded data removed]",
      "text/plain": [
       "<Figure size 720x720 with 1 Axes>"
      ]
     },
     "metadata": {
      "needs_background": "light"
     },
     "output_type": "display_data"
    }
   ],
   "source": [
    "tree_w_coords = pilot_df[(pilot_df.idno ==3011950)]\n",
    "val_min = -1\n",
    "val_max=10\n",
    "# cmap = mpl.cm.RdYlGn#.reversed()\n",
    "cmap = mpl.colormaps['spring'].reversed()\n",
    "norm = mpl.colors.Normalize(vmin=val_min, vmax=val_max)\n",
    "\n",
    "\n",
    "# simpliofy names\n",
    "tree_w_coords['anatomicalname'] = tree_w_coords['anatomicalname'].apply(lambda x:\"\" if ('unnamed' in x) or (x == '-') else x)\n",
    "\n",
    "row = tree_w_coords.iloc[0]\n",
    "# quick visualisation of tree\n",
    "\n",
    "fig=plt.figure(figsize=(10,10))\n",
    "ax = fig.add_subplot(projection='3d')\n",
    "\n",
    "for i in range(len(tree_w_coords)):\n",
    "    row = tree_w_coords.iloc[i]\n",
    "    ax.plot([row.parent_loc_x,row.x], [row.parent_loc_y,row.y], [row.parent_loc_z, row.z], linestyle='-',linewidth=3, color= cmap(norm(row.weibel_generation)), label=row.anatomicalname)\n",
    "ax.grid(False)\n",
    "ax.set_facecolor(color=(1,1,1))\n",
    "plt.show()"
   ]
  },
  {
   "cell_type": "code",
   "execution_count": 95,
   "id": "49475a9e-50ff-4f50-a20e-877046b6e3bf",
   "metadata": {},
   "outputs": [],
   "source": [
    "# nodes and features\n",
    "nodes = list(zip(tree_w_coords.endbpid, tree_w_coords[['x', 'y', 'z','dircosx', 'dircosy', 'dircosz','angle','weibel_generation', 'lobe', 'sublobe']].to_dict(orient='records')))\n",
    "nodes =[(-1,\n",
    "  {'x': 0,\n",
    "   'y': 0,\n",
    "   'z': 0,\n",
    "   'dircosx':0,\n",
    "   'dircosy':0,\n",
    "   'dircosz':0,\n",
    "   'lobe':0,\n",
    "   'sublobe':0,\n",
    "   'weibel_generation': -1,\n",
    "   'angle': 0.0})]+nodes"
   ]
  },
  {
   "cell_type": "code",
   "execution_count": 96,
   "id": "8866649e-0fda-4c0d-a523-5de3df8024df",
   "metadata": {},
   "outputs": [
    {
     "data": {
      "text/plain": [
       "{(-1.0, 1.0): {'centerlinelength': 82.0393, 'avginnerarea': 237.704},\n",
       " (1.0, 6.0): {'centerlinelength': 23.6456, 'avginnerarea': 140.567},\n",
       " (1.0, 7.0): {'centerlinelength': 50.79, 'avginnerarea': 97.7085},\n",
       " (6.0, 19.0): {'centerlinelength': 19.755, 'avginnerarea': 108.494},\n",
       " (6.0, 18.0): {'centerlinelength': 13.9716, 'avginnerarea': 60.5322},\n",
       " (7.0, 11.0): {'centerlinelength': 12.0985, 'avginnerarea': 60.5433},\n",
       " (7.0, 10.0): {'centerlinelength': 8.43446, 'avginnerarea': 146.8},\n",
       " (10.0, 15.0): {'centerlinelength': 9.92149, 'avginnerarea': 40.2393},\n",
       " (10.0, 14.0): {'centerlinelength': 8.46466, 'avginnerarea': 24.9217},\n",
       " (11.0, 17.0): {'centerlinelength': 10.5259, 'avginnerarea': 38.2976},\n",
       " (11.0, 16.0): {'centerlinelength': 11.1299, 'avginnerarea': 28.5548},\n",
       " (15.0, 22.0): {'centerlinelength': 7.0526, 'avginnerarea': 34.5042},\n",
       " (15.0, 23.0): {'centerlinelength': 7.63582, 'avginnerarea': 19.8735},\n",
       " (16.0, 25.0): {'centerlinelength': 14.131, 'avginnerarea': 11.3993},\n",
       " (16.0, 24.0): {'centerlinelength': 10.4428, 'avginnerarea': 12.4659},\n",
       " (17.0, 26.0): {'centerlinelength': 4.5556, 'avginnerarea': 27.7171},\n",
       " (17.0, 27.0): {'centerlinelength': 8.69773, 'avginnerarea': 24.4405},\n",
       " (18.0, 28.0): {'centerlinelength': 7.33379, 'avginnerarea': 42.1697},\n",
       " (18.0, 29.0): {'centerlinelength': 6.53103, 'avginnerarea': 36.133},\n",
       " (19.0, 30.0): {'centerlinelength': 18.0194, 'avginnerarea': 34.9124},\n",
       " (19.0, 31.0): {'centerlinelength': 6.1641, 'avginnerarea': 77.5104},\n",
       " (22.0, 37.0): {'centerlinelength': 9.86864, 'avginnerarea': 27.8457},\n",
       " (22.0, 36.0): {'centerlinelength': 9.00972, 'avginnerarea': 21.7158},\n",
       " (26.0, 45.0): {'centerlinelength': 13.3606, 'avginnerarea': 17.181},\n",
       " (26.0, 44.0): {'centerlinelength': 10.3104, 'avginnerarea': 10.7677},\n",
       " (28.0, 49.0): {'centerlinelength': 11.7633, 'avginnerarea': 20.9083},\n",
       " (28.0, 48.0): {'centerlinelength': 9.80872, 'avginnerarea': 17.8209},\n",
       " (30.0, 53.0): {'centerlinelength': 8.46466, 'avginnerarea': 17.7903},\n",
       " (30.0, 52.0): {'centerlinelength': 8.58649, 'avginnerarea': 19.1978},\n",
       " (31.0, 54.0): {'centerlinelength': 5.91187, 'avginnerarea': 27.693},\n",
       " (31.0, 55.0): {'centerlinelength': 6.82115, 'avginnerarea': 46.9},\n",
       " (37.0, 62.0): {'centerlinelength': 16.862, 'avginnerarea': 8.83696},\n",
       " (37.0, 63.0): {'centerlinelength': 6.1122, 'avginnerarea': 20.9681},\n",
       " (45.0, 74.0): {'centerlinelength': 5.23228, 'avginnerarea': 10.6845},\n",
       " (45.0, 75.0): {'centerlinelength': 8.63559, 'avginnerarea': 8.22995},\n",
       " (48.0, 81.0): {'centerlinelength': 8.81958, 'avginnerarea': 10.3992},\n",
       " (48.0, 80.0): {'centerlinelength': 5.63375, 'avginnerarea': 11.0843},\n",
       " (53.0, 91.0): {'centerlinelength': 12.364, 'avginnerarea': 8.0392},\n",
       " (53.0, 90.0): {'centerlinelength': 10.2981, 'avginnerarea': 9.52485},\n",
       " (55.0, 95.0): {'centerlinelength': 8.83154, 'avginnerarea': 30.8624},\n",
       " (55.0, 94.0): {'centerlinelength': 11.3614, 'avginnerarea': 14.4385},\n",
       " (62.0, 103.0): {'centerlinelength': 16.7553, 'avginnerarea': 3.94555},\n",
       " (62.0, 102.0): {'centerlinelength': 10.608, 'avginnerarea': 5.33808},\n",
       " (63.0, 104.0): {'centerlinelength': 34.1813, 'avginnerarea': 4.55076},\n",
       " (63.0, 105.0): {'centerlinelength': 2.46024, 'avginnerarea': 54.9024},\n",
       " (74.0, 111.0): {'centerlinelength': 6.85591, 'avginnerarea': 12.2182},\n",
       " (74.0, 110.0): {'centerlinelength': 7.25052, 'avginnerarea': 4.5652},\n",
       " (75.0, 112.0): {'centerlinelength': 16.567, 'avginnerarea': 5.43057},\n",
       " (75.0, 113.0): {'centerlinelength': 5.32531, 'avginnerarea': 7.29302},\n",
       " (80.0, 120.0): {'centerlinelength': 12.692, 'avginnerarea': 3.97483},\n",
       " (80.0, 121.0): {'centerlinelength': 12.1755, 'avginnerarea': 8.6392},\n",
       " (81.0, 123.0): {'centerlinelength': 22.8244, 'avginnerarea': 3.65988},\n",
       " (81.0, 122.0): {'centerlinelength': 9.5554, 'avginnerarea': 5.71767},\n",
       " (90.0, 141.0): {'centerlinelength': 8.28535, 'avginnerarea': 4.86555},\n",
       " (90.0, 140.0): {'centerlinelength': 9.28627, 'avginnerarea': 6.48666},\n",
       " (91.0, 142.0): {'centerlinelength': 23.4779, 'avginnerarea': 5.04479},\n",
       " (91.0, 143.0): {'centerlinelength': 2.22501, 'avginnerarea': 6.04257},\n",
       " (95.0, 151.0): {'centerlinelength': 4.31381, 'avginnerarea': 31.2766},\n",
       " (95.0, 150.0): {'centerlinelength': 10.5384, 'avginnerarea': 16.1096},\n",
       " (151.0, 206.0): {'centerlinelength': 6.74248, 'avginnerarea': 22.3847},\n",
       " (206.0, 245.0): {'centerlinelength': 17.7135, 'avginnerarea': 11.9459},\n",
       " (206.0, 246.0): {'centerlinelength': 14.5757, 'avginnerarea': 18.9143},\n",
       " (246.0, 267.0): {'centerlinelength': 16.9333, 'avginnerarea': 9.74379},\n",
       " (246.0, 268.0): {'centerlinelength': 1.83759, 'avginnerarea': -1.0},\n",
       " (267.0, 282.0): {'centerlinelength': 25.4443, 'avginnerarea': 7.48281},\n",
       " (267.0, 281.0): {'centerlinelength': 21.265, 'avginnerarea': 3.88054},\n",
       " (268.0, 283.0): {'centerlinelength': 5.4788, 'avginnerarea': 6.62087},\n",
       " (268.0, 284.0): {'centerlinelength': 11.5766, 'avginnerarea': 13.2596}}"
      ]
     },
     "execution_count": 96,
     "metadata": {},
     "output_type": "execute_result"
    }
   ],
   "source": [
    "# edges and features: TODO include all features relevant + NORMALISE\n",
    "edges = list(zip(tree_w_coords.startbpid, tree_w_coords.endbpid))\n",
    "edges_with_features = dict(zip(edges,tree_w_coords[['centerlinelength', 'avginnerarea']].to_dict(orient='records')))\n",
    "edges_with_features"
   ]
  },
  {
   "cell_type": "code",
   "execution_count": 114,
   "id": "7af00693-8f52-46ee-aa5d-7afeea6027c2",
   "metadata": {},
   "outputs": [
    {
     "data": {
      "image/png": "[encoded data removed]",
      "text/plain": [
       "<Figure size 720x720 with 1 Axes>"
      ]
     },
     "metadata": {},
     "output_type": "display_data"
    }
   ],
   "source": [
    "\n",
    "val_min = -1\n",
    "val_max=10\n",
    "# cmap = mpl.cm.RdYlGn#.reversed()\n",
    "cmap = mpl.colormaps['spring'].reversed()\n",
    "norm = mpl.colors.Normalize(vmin=val_min, vmax=val_max)\n",
    "g = nx.DiGraph()\n",
    "g.add_nodes_from(nodes)\n",
    "g.add_edges_from(edges)\n",
    "\n",
    "nx.set_edge_attributes(g,edges_with_features)\n",
    "# print(g.edges(data=True))\n",
    "# print(g.nodes(data=True))\n",
    "# 2D projection of tree (excluding the trachea itself)\n",
    "cmap_nodes = [cmap(norm(g.nodes[node]['weibel_generation']))for node in g.nodes() if not len(g.nodes[node])==0]\n",
    "# labels = {node:g.nodes[node]['anatomicalname'] for node in g.nodes() if (not len(g.nodes[node])==0) & (len(g.nodes[node]['anatomicalname']) > 1)}\n",
    "edge_labels = {edge:tree_w_coords.loc[tree_w_coords.endbpid == edge[1]]['anatomicalname'].item() for edge in g.edges() }\n",
    "# print('edge', edge_labels)\n",
    "pos = nx.planar_layout(g, scale=1, center=(5,5), dim=2)\n",
    "\n",
    "f, ax = plt.subplots(figsize=(10,10))\n",
    "cax = fig.add_axes([0.27, 0.8, 0.5, 0.05])\n",
    "nx.draw(g,pos=pos, with_labels=False,node_color=cmap_nodes, ax=ax)\n",
    "nx.draw_networkx_edge_labels(g, pos,\n",
    "                          edge_labels,\n",
    "                             font_color='k',\n",
    "                             font_size='10',\n",
    "                          label_pos=0.5,\n",
    "                          )\n",
    "plt.title(f'TRAINING GRAPH: {tree_w_coords.idno.unique()}')\n",
    "# plt.colorbar(cmap_nodes, cax=cax, orientation='vertical')\n",
    "plt.show()"
   ]
  },
  {
   "cell_type": "markdown",
   "id": "c167b805-997b-4035-b097-9a471aa5998f",
   "metadata": {},
   "source": [
    "## Pytorch Dataset for Geometric\n",
    "\n",
    "- TODO drop the unclassified examples\n",
    "- MAKE BINARY LABELS\n",
    "- WEIGHTED LOSS\n",
    "- SPLIT TRAIN TEST\n",
    "- LOOK INTO BETTER GCNS\n",
    "- FEATURE ENGINEERING AND NORMALISATION"
   ]
  },
  {
   "cell_type": "code",
   "execution_count": 16,
   "id": "3728de72-8825-4409-88d0-f2fb8b6e0294",
   "metadata": {
    "tags": []
   },
   "outputs": [],
   "source": [
    "\n",
    "# g = torch_geometric.utils.to_networkx(# torch dataset, to_undirected=False)\n",
    "# nx.draw_planar(g, with_labels=True)\n",
    "# g.edges()\n"
   ]
  },
  {
   "cell_type": "code",
   "execution_count": 53,
   "id": "fe294c3b-516c-47c3-b9d8-611a93af176e",
   "metadata": {},
   "outputs": [
    {
     "name": "stderr",
     "output_type": "stream",
     "text": [
      "Processing...\n"
     ]
    },
    {
     "name": "stdout",
     "output_type": "stream",
     "text": [
      "# Graphs 227 Label Frequency Counter({1: 177, 0: 50})\n",
      "{1: 0.7797356828193832, 0: 0.22026431718061673}\n"
     ]
    },
    {
     "name": "stderr",
     "output_type": "stream",
     "text": [
      "100%|█████████████████████████████████████████████████████████████████████████████████| 227/227 [00:34<00:00,  6.51it/s]\n",
      "Done!\n"
     ]
    }
   ],
   "source": [
    "class CustomDataset(torch_geometric.data.Dataset):\n",
    "    def __init__(self,root, filename_data, filename_labels, test=False, transform=None, pre_transform=None):\n",
    "        '''\n",
    "        root = where dataset should be stored, folder is split into raw_dir and processed_dir\n",
    "        '''\n",
    "        # super(CustomDataset, self).__init__(root, transform, pre_transform)\n",
    "        self.test = test\n",
    "        self.filename_data = filename_data\n",
    "        self.filename_labels = filename_labels\n",
    "        super(CustomDataset, self).__init__(root, transform, pre_transform)\n",
    "        \n",
    "    @property\n",
    "    def raw_file_names(self):\n",
    "        return self.filename_data\n",
    "    \n",
    "    @property\n",
    "    def processed_file_names(self):\n",
    "        \"\"\" If these files are found in raw_dir, processing is skipped\"\"\"\n",
    "        self.data = pd.read_csv(self.raw_paths[0]).reset_index()\n",
    "\n",
    "        if self.test:\n",
    "            return [f'data_test_{i}.pt' for i in list(self.data.index)]\n",
    "        else:\n",
    "            return [f'data_{i}.pt' for i in list(self.data.index)]\n",
    "    \n",
    "    def _download(self):\n",
    "        pass\n",
    "    \n",
    "    def process(self):\n",
    "        self.data = pd.read_csv(os.path.abspath(self.raw_paths[0]))\n",
    "        label_df = self._process_labels()\n",
    "        graph_ids = self.data.idno.unique()\n",
    "        \n",
    "        for i, idno in tqdm(list(enumerate(graph_ids))):\n",
    "            # iterate through each patricipant\n",
    "            df = self.data.loc[self.data.idno == idno].copy().reset_index()\n",
    "            # build a graph out of the df with node features, edge_features and edge_adjacency\n",
    "            x = self._get_node_features(df)\n",
    "            edge_adjacency = self._get_edge_adjacency(df)\n",
    "            edge_features = self._get_edge_features(df)\n",
    "            y = self._get_label(idno, label_df)\n",
    "            data = Data(x=x,\n",
    "                        edge_index=edge_adjacency,\n",
    "                        edge_attr = edge_features,\n",
    "                        y = y\n",
    "                       )\n",
    "            if self.test:\n",
    "                torch.save(data, \n",
    "                            os.path.join(self.processed_dir, \n",
    "                                         f'data_test_{i}.pt'))\n",
    "            else:\n",
    "                 torch.save(data, \n",
    "                            os.path.join(self.processed_dir, \n",
    "                                         f'data_{i}.pt'))\n",
    "    \n",
    "    \n",
    "    def _process_labels(self):\n",
    "        #(NOTE THIS IS WRONG YOU NEED TO DROP UNALBELLED)\n",
    "        label_df = pd.read_csv(os.path.abspath(self.filename_labels))\n",
    "        # binarise \n",
    "        label_df.LL_1 = label_df.LL_1.apply(lambda x: 'Standard' if x == 'Standard' else 'Anomaly')\n",
    "        # categorical variables\n",
    "        le = LabelEncoder()\n",
    "        le.fit(label_df.LL_1)\n",
    "        label_df['LL_1_encoded'] = le.transform(label_df.LL_1)\n",
    "        # drop rows not matching to data ids\n",
    "        data_df =  pd.read_csv(os.path.abspath(self.filename_data))\n",
    "        label_df_small = label_df.loc[label_df.idno.isin(data_df.idno.unique())]\n",
    "        print(\"# Graphs\", len(label_df_small), \"Label Frequency\", Counter(label_df_small['LL_1_encoded'].to_list()))\n",
    "        self.class_proportions = {k:v/len(label_df_small) for k,v in Counter(label_df_small['LL_1_encoded'].to_list()).items()}\n",
    "        print(self.class_proportions)\n",
    "        return label_df_small\n",
    "    \n",
    "    def _get_edge_adjacency(self,df):\n",
    "        # NOTE pytorch requires nodes to start from 0 and go up in integers so need to remap start and end bpids from df\n",
    "        relabel_map = {v:k+1 for k,v in df.endbpid.to_dict().items()}\n",
    "        # add trachea map (node 0)\n",
    "        relabel_map[-1] = 0\n",
    "        # apply relabelling to source and end nodes\n",
    "        source_nodes = df.startbpid.apply(lambda x: relabel_map[x]).to_list()\n",
    "        end_nodes = df.endbpid.apply(lambda x: relabel_map[x]).to_list()\n",
    "        # return in COO format\n",
    "        return torch.tensor([source_nodes, end_nodes], dtype=torch.long)\n",
    "\n",
    "    def _get_node_features(self,df):\n",
    "        df_w_coords = _get_coords(df)\n",
    "        # add trachea to nodes\n",
    "        # currently usnig as features \n",
    "        x_list_plus_trachea = [[0,0,0,-1]]+ df_w_coords.apply(lambda row:row[['x','y','z', 'weibel_generation']].to_list(), axis=1).to_list() # here only node features are pos and weibel gen\n",
    "        x = torch.tensor(x_list_plus_trachea, dtype=torch.float)\n",
    "        # normalise features\n",
    "        scaler = StandardScaler()\n",
    "        scaler.fit(x)\n",
    "        x_norm = scaler.transform(x)\n",
    "        return torch.tensor(x_norm, dtype=torch.float)\n",
    "\n",
    "    def _get_edge_features(self,df):\n",
    "        # get matrix of shape [# edges, edge feature size]\n",
    "        edge_features = df[['centerlinelength', 'avginnerarea']].values\n",
    "        # normalise\n",
    "        scaler = StandardScaler()\n",
    "        scaler.fit(edge_features)\n",
    "        edge_norm = scaler.transform(edge_features)\n",
    "        return torch.tensor(edge_norm, dtype=torch.float)\n",
    "\n",
    "    def _get_label(self, idno, label_df):\n",
    "        return torch.tensor(label_df.loc[label_df.idno==idno,\n",
    "                 'LL_1_encoded'].values, dtype=torch.int64)\n",
    "    \n",
    "    def len(self):\n",
    "        return int(self.data.idno.nunique())\n",
    "    \n",
    "    def get(self, idx):\n",
    "        '''\n",
    "        Equivalent to __getitem__ in pytorch\n",
    "        '''\n",
    "        if self.test:\n",
    "            data = torch.load(os.path.join(self.processed_dir, \n",
    "                                 f'data_test_{idx}.pt'))\n",
    "        else:\n",
    "            data = torch.load(os.path.join(self.processed_dir, \n",
    "                                 f'data_{idx}.pt'))   \n",
    "        return data\n",
    "            \n",
    "\n",
    "    def __repr__(self):\n",
    "        return '{}()'.format(self.__class__.__name__)\n",
    "        \n",
    "my_data  = CustomDataset('data/', '/home/sneha/airway_tree_pilot_clean.csv',\"/home/sneha/MESA_Exam5_airway_variants.csv\")"
   ]
  },
  {
   "cell_type": "code",
   "execution_count": 56,
   "id": "2de30873-9589-4e8e-aedf-795417d96c61",
   "metadata": {},
   "outputs": [
    {
     "name": "stdout",
     "output_type": "stream",
     "text": [
      "{1: 0.7797356828193832, 0: 0.22026431718061673}\n"
     ]
    }
   ],
   "source": [
    "train_loader = DataLoader(my_data, batch_size=16, shuffle=True)\n",
    "print(train_loader.dataset.class_proportions)"
   ]
  },
  {
   "cell_type": "code",
   "execution_count": 19,
   "id": "9b007a10-05f8-402d-8384-fdd137ba0a85",
   "metadata": {
    "tags": []
   },
   "outputs": [
    {
     "name": "stdout",
     "output_type": "stream",
     "text": [
      "tensor([[ 1.5410, -0.2934, -2.1788],\n",
      "        [ 0.5684, -1.0845, -1.3986]])\n",
      "tensor([[0.8446, 0.1349, 0.0205],\n",
      "        [0.7511, 0.1438, 0.1051]])\n"
     ]
    },
    {
     "name": "stderr",
     "output_type": "stream",
     "text": [
      "/tmp/ipykernel_9786/4204858206.py:4: UserWarning: Implicit dimension choice for softmax has been deprecated. Change the call to include dim=X as an argument.\n",
      "  print(m(input))\n",
      "/tmp/ipykernel_9786/4204858206.py:5: UserWarning: Implicit dimension choice for softmax has been deprecated. Change the call to include dim=X as an argument.\n",
      "  m(input).argmax(dim=1)\n"
     ]
    },
    {
     "data": {
      "text/plain": [
       "tensor([0, 0])"
      ]
     },
     "execution_count": 19,
     "metadata": {},
     "output_type": "execute_result"
    }
   ],
   "source": [
    "m = nn.Softmax()\n",
    "input = torch.randn(2, 3)\n",
    "print(input)\n",
    "print(m(input))\n",
    "m(input).argmax(dim=1)"
   ]
  },
  {
   "cell_type": "markdown",
   "id": "e0463469",
   "metadata": {},
   "source": [
    "### MODELS"
   ]
  },
  {
   "cell_type": "code",
   "execution_count": null,
   "id": "6033cd4d",
   "metadata": {},
   "outputs": [],
   "source": [
    "\n",
    "class GAT(torch.nn.Module):\n",
    "    def __init__(self):\n",
    "        super(GAT, self).__init__()\n",
    "        self.hid = 8\n",
    "        self.in_head = 8\n",
    "        self.out_head = 1\n",
    "        \n",
    "        \n",
    "        self.conv1 = GATConv(dataset.num_features, self.hid, heads=self.in_head, dropout=0.6)\n",
    "        self.conv2 = GATConv(self.hid*self.in_head, dataset.num_classes, concat=False,\n",
    "                             heads=self.out_head, dropout=0.6)\n",
    "\n",
    "    def forward(self, data):\n",
    "        x, edge_index = data.x, data.edge_index\n",
    "                \n",
    "        x = F.dropout(x, p=0.6, training=self.training)\n",
    "        x = self.conv1(x, edge_index)\n",
    "        x = F.elu(x)\n",
    "        x = F.dropout(x, p=0.6, training=self.training)\n",
    "        x = self.conv2(x, edge_index)\n",
    "        \n",
    "        return F.log_softmax(x, dim=1)\n",
    "    \n",
    "    \n",
    "    \n",
    "device = torch.device('cuda' if torch.cuda.is_available() else 'cpu')\n",
    "device = \"cpu\"\n",
    "\n",
    "model = GAT().to(device)\n",
    "data = dataset[0].to(device)\n",
    "print(data)\n",
    "\n",
    "optimizer = torch.optim.Adam(model.parameters(), lr=0.005, weight_decay=5e-4)\n",
    "\n",
    "model.train()\n",
    "for epoch in range(1000):\n",
    "    model.train()\n",
    "    optimizer.zero_grad()\n",
    "    out = model(data)\n",
    "    print(out.shape)\n",
    "    loss = F.nll_loss(out[data.train_mask], data.y[data.train_mask])\n",
    "    \n",
    "    if epoch%200 == 0:\n",
    "        print(loss)\n",
    "    \n",
    "    loss.backward()\n",
    "    optimizer.step()\n",
    "    \n",
    "    "
   ]
  },
  {
   "cell_type": "code",
   "execution_count": 31,
   "id": "cfdbcdcb-ff2c-4659-9025-123ef2d41799",
   "metadata": {},
   "outputs": [
    {
     "name": "stdout",
     "output_type": "stream",
     "text": [
      "GCN(\n",
      "  (conv1): GCNConv(4, 8)\n",
      "  (conv2): GCNConv(8, 8)\n",
      "  (conv3): GCNConv(8, 8)\n",
      "  (lin): Linear(in_features=8, out_features=1, bias=True)\n",
      ")\n",
      "[Parameter containing:\n",
      "tensor([0., 0., 0., 0., 0., 0., 0., 0.], requires_grad=True), Parameter containing:\n",
      "tensor([[-0.2659, -0.1007, -0.3153, -0.0881],\n",
      "        [ 0.6361, -0.6798, -0.3345,  0.6009],\n",
      "        [-0.0372, -0.1469,  0.2378, -0.2987],\n",
      "        [ 0.2904, -0.4362, -0.2126,  0.5412],\n",
      "        [ 0.0693, -0.5593,  0.4248, -0.4699],\n",
      "        [-0.0456, -0.0020, -0.3116,  0.3165],\n",
      "        [-0.0699,  0.3861,  0.3593, -0.5530],\n",
      "        [ 0.5281,  0.0176,  0.5583,  0.4401]], requires_grad=True), Parameter containing:\n",
      "tensor([0., 0., 0., 0., 0., 0., 0., 0.], requires_grad=True), Parameter containing:\n",
      "tensor([[-0.3485,  0.2862, -0.5823, -0.2902,  0.2441,  0.5731,  0.3985,  0.2532],\n",
      "        [-0.4325,  0.1859, -0.2230,  0.0355, -0.0784,  0.5731,  0.3995,  0.0641],\n",
      "        [-0.5954,  0.4798,  0.4201,  0.2081, -0.6052, -0.4069,  0.3224, -0.5745],\n",
      "        [ 0.2614,  0.0707,  0.5597,  0.2097,  0.3235,  0.1978, -0.2891, -0.3327],\n",
      "        [-0.5938, -0.0956,  0.0091, -0.1978,  0.1691,  0.4295,  0.0498, -0.2379],\n",
      "        [-0.5336, -0.3147,  0.1886, -0.5703, -0.6084,  0.0333,  0.0157, -0.4815],\n",
      "        [ 0.1446,  0.2679, -0.4766, -0.0909,  0.3629,  0.5462, -0.4283, -0.3291],\n",
      "        [-0.3468, -0.3117, -0.3970,  0.4699, -0.0310, -0.4658, -0.4339, -0.5206]],\n",
      "       requires_grad=True), Parameter containing:\n",
      "tensor([0., 0., 0., 0., 0., 0., 0., 0.], requires_grad=True), Parameter containing:\n",
      "tensor([[ 0.5299,  0.3668, -0.1517, -0.2049,  0.5557, -0.3329,  0.1450,  0.3993],\n",
      "        [ 0.2879, -0.3447,  0.0471,  0.0763,  0.4063, -0.2911, -0.5219, -0.4318],\n",
      "        [ 0.4474,  0.3507,  0.2421, -0.4080, -0.5132,  0.0480, -0.2560, -0.5417],\n",
      "        [-0.5227, -0.1788, -0.1200, -0.4665, -0.2333, -0.1993,  0.5461, -0.2751],\n",
      "        [-0.1350,  0.5098, -0.3922, -0.0415, -0.2888,  0.2505,  0.3748,  0.1924],\n",
      "        [-0.3396,  0.1984, -0.2920, -0.5005,  0.5565,  0.4423, -0.2042,  0.3236],\n",
      "        [-0.0074,  0.2199, -0.0040,  0.4896,  0.4258, -0.0481,  0.0132,  0.5802],\n",
      "        [ 0.2815, -0.5953, -0.1077, -0.1772, -0.1508, -0.0154, -0.1901,  0.3304]],\n",
      "       requires_grad=True), Parameter containing:\n",
      "tensor([[-0.3486,  0.2580,  0.0407,  0.2382,  0.1038,  0.2437, -0.3482,  0.1842]],\n",
      "       requires_grad=True), Parameter containing:\n",
      "tensor([0.0709], requires_grad=True)]\n"
     ]
    }
   ],
   "source": [
    "\n",
    "\n",
    "class GCN(torch.nn.Module):\n",
    "    def __init__(self,in_channels, hidden_channels, out_channels):\n",
    "        super(GCN, self).__init__()\n",
    "        torch.manual_seed(12345)\n",
    "        self.conv1 = GCNConv(in_channels, hidden_channels)\n",
    "        self.conv2 = GCNConv(hidden_channels, hidden_channels)\n",
    "        self.conv3 = GCNConv(hidden_channels, hidden_channels)\n",
    "        self.lin = Linear(hidden_channels, out_channels)\n",
    "\n",
    "    def forward(self, x, edge_index, batch):\n",
    "        # 1. Obtain node embeddings\n",
    "        x = self.conv1(x, edge_index)\n",
    "        x = x.relu()\n",
    "        x = self.conv2(x, edge_index)\n",
    "        x = x.relu()\n",
    "        x = self.conv3(x, edge_index)\n",
    "        # 2. Readout layer\n",
    "        x = global_mean_pool(x, batch)  # [batch_size, hidden_channels]\n",
    "\n",
    "        # 3. Apply a final classifier\n",
    "        x = F.dropout(x, p=0.5, training=self.training)\n",
    "        x = self.lin(x)\n",
    "        \n",
    "        return torch.tensor(x)\n",
    "\n",
    "def _count_parameters(model):\n",
    "    return sum(p.numel() for p in model.parameters() if p.requires_grad == True)\n",
    "    \n",
    "model = GCN(in_channels=4, hidden_channels=8, out_channels=1)\n",
    "print(model)\n",
    "print(list(model.parameters()))"
   ]
  },
  {
   "cell_type": "code",
   "execution_count": 21,
   "id": "96d123f6-f4fe-44c7-be51-5e26ddf4eec9",
   "metadata": {},
   "outputs": [
    {
     "name": "stdout",
     "output_type": "stream",
     "text": [
      "tensor([[ 1.5410, -0.2934, -2.1788],\n",
      "        [ 0.5684, -1.0845, -1.3986]])\n",
      "tensor([0, 3, 2])\n"
     ]
    },
    {
     "data": {
      "text/plain": [
       "tensor(2.7728, grad_fn=<NllLossBackward0>)"
      ]
     },
     "execution_count": 21,
     "metadata": {},
     "output_type": "execute_result"
    }
   ],
   "source": [
    "loss = nn.CrossEntropyLoss()\n",
    "input_ = torch.randn(3, 5, requires_grad=True)\n",
    "target = torch.empty(3, dtype=torch.long).random_(5)\n",
    "print(input)\n",
    "print(target)\n",
    "loss(input_, target)"
   ]
  },
  {
   "cell_type": "code",
   "execution_count": 62,
   "id": "011746b0-4620-4858-a41b-7d3891f7c1e2",
   "metadata": {
    "tags": []
   },
   "outputs": [
    {
     "name": "stdout",
     "output_type": "stream",
     "text": [
      "Using cpu\n",
      "Setting torch, cuda, numpy and random seeds to 0\n",
      "Class proportions {1: 0.7797356828193832, 0: 0.22026431718061673}\n"
     ]
    },
    {
     "name": "stderr",
     "output_type": "stream",
     "text": [
      "  0%|                                                                                            | 0/15 [00:00<?, ?it/s]/tmp/ipykernel_9786/2828724317.py:24: UserWarning: To copy construct from a tensor, it is recommended to use sourceTensor.clone().detach() or sourceTensor.clone().detach().requires_grad_(True), rather than torch.tensor(sourceTensor).\n",
      "  return torch.tensor(x)\n",
      "100%|███████████████████████████████████████████████████████████████████████████████████| 15/15 [00:00<00:00, 44.55it/s]\n"
     ]
    },
    {
     "name": "stdout",
     "output_type": "stream",
     "text": [
      "Epoch: 0, Loss: 1.39\n"
     ]
    },
    {
     "data": {
      "image/png": "[encoded data removed]",
      "text/plain": [
       "<Figure size 432x288 with 1 Axes>"
      ]
     },
     "metadata": {
      "needs_background": "light"
     },
     "output_type": "display_data"
    },
    {
     "name": "stdout",
     "output_type": "stream",
     "text": [
      "Class proportions {1: 0.7797356828193832, 0: 0.22026431718061673}\n"
     ]
    },
    {
     "name": "stderr",
     "output_type": "stream",
     "text": [
      "  0%|                                                                                            | 0/15 [00:00<?, ?it/s]/tmp/ipykernel_9786/2828724317.py:24: UserWarning: To copy construct from a tensor, it is recommended to use sourceTensor.clone().detach() or sourceTensor.clone().detach().requires_grad_(True), rather than torch.tensor(sourceTensor).\n",
      "  return torch.tensor(x)\n",
      "100%|███████████████████████████████████████████████████████████████████████████████████| 15/15 [00:00<00:00, 45.83it/s]\n"
     ]
    },
    {
     "name": "stdout",
     "output_type": "stream",
     "text": [
      "Epoch: 1, Loss: 1.37\n",
      "Class proportions {1: 0.7797356828193832, 0: 0.22026431718061673}\n"
     ]
    },
    {
     "name": "stderr",
     "output_type": "stream",
     "text": [
      "100%|███████████████████████████████████████████████████████████████████████████████████| 15/15 [00:00<00:00, 44.30it/s]\n"
     ]
    },
    {
     "name": "stdout",
     "output_type": "stream",
     "text": [
      "Epoch: 2, Loss: 1.42\n",
      "Class proportions {1: 0.7797356828193832, 0: 0.22026431718061673}\n"
     ]
    },
    {
     "name": "stderr",
     "output_type": "stream",
     "text": [
      "100%|███████████████████████████████████████████████████████████████████████████████████| 15/15 [00:00<00:00, 41.85it/s]\n"
     ]
    },
    {
     "name": "stdout",
     "output_type": "stream",
     "text": [
      "Epoch: 3, Loss: 1.38\n",
      "Class proportions {1: 0.7797356828193832, 0: 0.22026431718061673}\n"
     ]
    },
    {
     "name": "stderr",
     "output_type": "stream",
     "text": [
      "100%|███████████████████████████████████████████████████████████████████████████████████| 15/15 [00:00<00:00, 41.36it/s]\n"
     ]
    },
    {
     "name": "stdout",
     "output_type": "stream",
     "text": [
      "Epoch: 4, Loss: 1.37\n",
      "Class proportions {1: 0.7797356828193832, 0: 0.22026431718061673}\n"
     ]
    },
    {
     "name": "stderr",
     "output_type": "stream",
     "text": [
      "100%|███████████████████████████████████████████████████████████████████████████████████| 15/15 [00:00<00:00, 45.19it/s]\n"
     ]
    },
    {
     "name": "stdout",
     "output_type": "stream",
     "text": [
      "Epoch: 5, Loss: 1.38\n",
      "Class proportions {1: 0.7797356828193832, 0: 0.22026431718061673}\n"
     ]
    },
    {
     "name": "stderr",
     "output_type": "stream",
     "text": [
      "100%|███████████████████████████████████████████████████████████████████████████████████| 15/15 [00:00<00:00, 45.15it/s]\n"
     ]
    },
    {
     "name": "stdout",
     "output_type": "stream",
     "text": [
      "Epoch: 6, Loss: 1.44\n",
      "Class proportions {1: 0.7797356828193832, 0: 0.22026431718061673}\n"
     ]
    },
    {
     "name": "stderr",
     "output_type": "stream",
     "text": [
      "100%|███████████████████████████████████████████████████████████████████████████████████| 15/15 [00:00<00:00, 45.12it/s]\n"
     ]
    },
    {
     "name": "stdout",
     "output_type": "stream",
     "text": [
      "Epoch: 7, Loss: 1.36\n",
      "Class proportions {1: 0.7797356828193832, 0: 0.22026431718061673}\n"
     ]
    },
    {
     "name": "stderr",
     "output_type": "stream",
     "text": [
      "100%|███████████████████████████████████████████████████████████████████████████████████| 15/15 [00:00<00:00, 45.73it/s]\n"
     ]
    },
    {
     "name": "stdout",
     "output_type": "stream",
     "text": [
      "Epoch: 8, Loss: 1.37\n",
      "Class proportions {1: 0.7797356828193832, 0: 0.22026431718061673}\n"
     ]
    },
    {
     "name": "stderr",
     "output_type": "stream",
     "text": [
      "100%|███████████████████████████████████████████████████████████████████████████████████| 15/15 [00:00<00:00, 46.21it/s]\n"
     ]
    },
    {
     "name": "stdout",
     "output_type": "stream",
     "text": [
      "Epoch: 9, Loss: 1.39\n",
      "Class proportions {1: 0.7797356828193832, 0: 0.22026431718061673}\n"
     ]
    },
    {
     "name": "stderr",
     "output_type": "stream",
     "text": [
      "100%|███████████████████████████████████████████████████████████████████████████████████| 15/15 [00:00<00:00, 45.33it/s]\n"
     ]
    },
    {
     "name": "stdout",
     "output_type": "stream",
     "text": [
      "Epoch: 10, Loss: 1.40\n",
      "Class proportions {1: 0.7797356828193832, 0: 0.22026431718061673}\n"
     ]
    },
    {
     "name": "stderr",
     "output_type": "stream",
     "text": [
      "100%|███████████████████████████████████████████████████████████████████████████████████| 15/15 [00:00<00:00, 45.25it/s]\n"
     ]
    },
    {
     "name": "stdout",
     "output_type": "stream",
     "text": [
      "Epoch: 11, Loss: 1.36\n",
      "Class proportions {1: 0.7797356828193832, 0: 0.22026431718061673}\n"
     ]
    },
    {
     "name": "stderr",
     "output_type": "stream",
     "text": [
      "100%|███████████████████████████████████████████████████████████████████████████████████| 15/15 [00:00<00:00, 46.45it/s]\n"
     ]
    },
    {
     "name": "stdout",
     "output_type": "stream",
     "text": [
      "Epoch: 12, Loss: 1.38\n",
      "Class proportions {1: 0.7797356828193832, 0: 0.22026431718061673}\n"
     ]
    },
    {
     "name": "stderr",
     "output_type": "stream",
     "text": [
      "100%|███████████████████████████████████████████████████████████████████████████████████| 15/15 [00:00<00:00, 45.62it/s]\n"
     ]
    },
    {
     "name": "stdout",
     "output_type": "stream",
     "text": [
      "Epoch: 13, Loss: 1.45\n",
      "Class proportions {1: 0.7797356828193832, 0: 0.22026431718061673}\n"
     ]
    },
    {
     "name": "stderr",
     "output_type": "stream",
     "text": [
      "100%|███████████████████████████████████████████████████████████████████████████████████| 15/15 [00:00<00:00, 45.40it/s]\n"
     ]
    },
    {
     "name": "stdout",
     "output_type": "stream",
     "text": [
      "Epoch: 14, Loss: 1.42\n",
      "Class proportions {1: 0.7797356828193832, 0: 0.22026431718061673}\n"
     ]
    },
    {
     "name": "stderr",
     "output_type": "stream",
     "text": [
      "100%|███████████████████████████████████████████████████████████████████████████████████| 15/15 [00:00<00:00, 40.73it/s]\n"
     ]
    },
    {
     "name": "stdout",
     "output_type": "stream",
     "text": [
      "Epoch: 15, Loss: 1.37\n",
      "Class proportions {1: 0.7797356828193832, 0: 0.22026431718061673}\n"
     ]
    },
    {
     "name": "stderr",
     "output_type": "stream",
     "text": [
      "100%|███████████████████████████████████████████████████████████████████████████████████| 15/15 [00:00<00:00, 46.09it/s]\n"
     ]
    },
    {
     "name": "stdout",
     "output_type": "stream",
     "text": [
      "Epoch: 16, Loss: 1.45\n",
      "Class proportions {1: 0.7797356828193832, 0: 0.22026431718061673}\n"
     ]
    },
    {
     "name": "stderr",
     "output_type": "stream",
     "text": [
      "100%|███████████████████████████████████████████████████████████████████████████████████| 15/15 [00:00<00:00, 47.29it/s]\n"
     ]
    },
    {
     "name": "stdout",
     "output_type": "stream",
     "text": [
      "Epoch: 17, Loss: 1.40\n",
      "Class proportions {1: 0.7797356828193832, 0: 0.22026431718061673}\n"
     ]
    },
    {
     "name": "stderr",
     "output_type": "stream",
     "text": [
      "100%|███████████████████████████████████████████████████████████████████████████████████| 15/15 [00:00<00:00, 39.93it/s]\n"
     ]
    },
    {
     "name": "stdout",
     "output_type": "stream",
     "text": [
      "Epoch: 18, Loss: 1.41\n",
      "Class proportions {1: 0.7797356828193832, 0: 0.22026431718061673}\n"
     ]
    },
    {
     "name": "stderr",
     "output_type": "stream",
     "text": [
      "100%|███████████████████████████████████████████████████████████████████████████████████| 15/15 [00:00<00:00, 42.17it/s]\n"
     ]
    },
    {
     "name": "stdout",
     "output_type": "stream",
     "text": [
      "Epoch: 19, Loss: 1.40\n",
      "Class proportions {1: 0.7797356828193832, 0: 0.22026431718061673}\n"
     ]
    },
    {
     "name": "stderr",
     "output_type": "stream",
     "text": [
      "100%|███████████████████████████████████████████████████████████████████████████████████| 15/15 [00:00<00:00, 47.03it/s]\n"
     ]
    },
    {
     "name": "stdout",
     "output_type": "stream",
     "text": [
      "Epoch: 20, Loss: 1.39\n",
      "Class proportions {1: 0.7797356828193832, 0: 0.22026431718061673}\n"
     ]
    },
    {
     "name": "stderr",
     "output_type": "stream",
     "text": [
      "100%|███████████████████████████████████████████████████████████████████████████████████| 15/15 [00:00<00:00, 46.23it/s]\n"
     ]
    },
    {
     "name": "stdout",
     "output_type": "stream",
     "text": [
      "Epoch: 21, Loss: 1.41\n",
      "Class proportions {1: 0.7797356828193832, 0: 0.22026431718061673}\n"
     ]
    },
    {
     "name": "stderr",
     "output_type": "stream",
     "text": [
      "100%|███████████████████████████████████████████████████████████████████████████████████| 15/15 [00:00<00:00, 42.15it/s]\n"
     ]
    },
    {
     "name": "stdout",
     "output_type": "stream",
     "text": [
      "Epoch: 22, Loss: 1.39\n",
      "Class proportions {1: 0.7797356828193832, 0: 0.22026431718061673}\n"
     ]
    },
    {
     "name": "stderr",
     "output_type": "stream",
     "text": [
      "100%|███████████████████████████████████████████████████████████████████████████████████| 15/15 [00:00<00:00, 42.71it/s]\n"
     ]
    },
    {
     "name": "stdout",
     "output_type": "stream",
     "text": [
      "Epoch: 23, Loss: 1.36\n",
      "Class proportions {1: 0.7797356828193832, 0: 0.22026431718061673}\n"
     ]
    },
    {
     "name": "stderr",
     "output_type": "stream",
     "text": [
      "100%|███████████████████████████████████████████████████████████████████████████████████| 15/15 [00:00<00:00, 38.86it/s]\n"
     ]
    },
    {
     "name": "stdout",
     "output_type": "stream",
     "text": [
      "Epoch: 24, Loss: 1.40\n",
      "Class proportions {1: 0.7797356828193832, 0: 0.22026431718061673}\n"
     ]
    },
    {
     "name": "stderr",
     "output_type": "stream",
     "text": [
      "100%|███████████████████████████████████████████████████████████████████████████████████| 15/15 [00:00<00:00, 41.10it/s]\n"
     ]
    },
    {
     "name": "stdout",
     "output_type": "stream",
     "text": [
      "Epoch: 25, Loss: 1.37\n",
      "Class proportions {1: 0.7797356828193832, 0: 0.22026431718061673}\n"
     ]
    },
    {
     "name": "stderr",
     "output_type": "stream",
     "text": [
      "100%|███████████████████████████████████████████████████████████████████████████████████| 15/15 [00:00<00:00, 45.89it/s]\n"
     ]
    },
    {
     "name": "stdout",
     "output_type": "stream",
     "text": [
      "Epoch: 26, Loss: 1.37\n",
      "Class proportions {1: 0.7797356828193832, 0: 0.22026431718061673}\n"
     ]
    },
    {
     "name": "stderr",
     "output_type": "stream",
     "text": [
      "100%|███████████████████████████████████████████████████████████████████████████████████| 15/15 [00:00<00:00, 46.50it/s]\n"
     ]
    },
    {
     "name": "stdout",
     "output_type": "stream",
     "text": [
      "Epoch: 27, Loss: 1.36\n",
      "Class proportions {1: 0.7797356828193832, 0: 0.22026431718061673}\n"
     ]
    },
    {
     "name": "stderr",
     "output_type": "stream",
     "text": [
      "100%|███████████████████████████████████████████████████████████████████████████████████| 15/15 [00:00<00:00, 46.45it/s]\n"
     ]
    },
    {
     "name": "stdout",
     "output_type": "stream",
     "text": [
      "Epoch: 28, Loss: 1.41\n",
      "Class proportions {1: 0.7797356828193832, 0: 0.22026431718061673}\n"
     ]
    },
    {
     "name": "stderr",
     "output_type": "stream",
     "text": [
      "100%|███████████████████████████████████████████████████████████████████████████████████| 15/15 [00:00<00:00, 46.88it/s]\n"
     ]
    },
    {
     "name": "stdout",
     "output_type": "stream",
     "text": [
      "Epoch: 29, Loss: 1.41\n",
      "Class proportions {1: 0.7797356828193832, 0: 0.22026431718061673}\n"
     ]
    },
    {
     "name": "stderr",
     "output_type": "stream",
     "text": [
      "100%|███████████████████████████████████████████████████████████████████████████████████| 15/15 [00:00<00:00, 46.04it/s]\n"
     ]
    },
    {
     "name": "stdout",
     "output_type": "stream",
     "text": [
      "Epoch: 30, Loss: 1.41\n",
      "Class proportions {1: 0.7797356828193832, 0: 0.22026431718061673}\n"
     ]
    },
    {
     "name": "stderr",
     "output_type": "stream",
     "text": [
      "100%|███████████████████████████████████████████████████████████████████████████████████| 15/15 [00:00<00:00, 45.50it/s]\n"
     ]
    },
    {
     "name": "stdout",
     "output_type": "stream",
     "text": [
      "Epoch: 31, Loss: 1.40\n",
      "Class proportions {1: 0.7797356828193832, 0: 0.22026431718061673}\n"
     ]
    },
    {
     "name": "stderr",
     "output_type": "stream",
     "text": [
      "100%|███████████████████████████████████████████████████████████████████████████████████| 15/15 [00:00<00:00, 40.93it/s]\n"
     ]
    },
    {
     "name": "stdout",
     "output_type": "stream",
     "text": [
      "Epoch: 32, Loss: 1.37\n",
      "Class proportions {1: 0.7797356828193832, 0: 0.22026431718061673}\n"
     ]
    },
    {
     "name": "stderr",
     "output_type": "stream",
     "text": [
      "100%|███████████████████████████████████████████████████████████████████████████████████| 15/15 [00:00<00:00, 46.56it/s]\n"
     ]
    },
    {
     "name": "stdout",
     "output_type": "stream",
     "text": [
      "Epoch: 33, Loss: 1.40\n",
      "Class proportions {1: 0.7797356828193832, 0: 0.22026431718061673}\n"
     ]
    },
    {
     "name": "stderr",
     "output_type": "stream",
     "text": [
      "100%|███████████████████████████████████████████████████████████████████████████████████| 15/15 [00:00<00:00, 46.30it/s]\n"
     ]
    },
    {
     "name": "stdout",
     "output_type": "stream",
     "text": [
      "Epoch: 34, Loss: 1.39\n",
      "Class proportions {1: 0.7797356828193832, 0: 0.22026431718061673}\n"
     ]
    },
    {
     "name": "stderr",
     "output_type": "stream",
     "text": [
      "100%|███████████████████████████████████████████████████████████████████████████████████| 15/15 [00:00<00:00, 46.35it/s]\n"
     ]
    },
    {
     "name": "stdout",
     "output_type": "stream",
     "text": [
      "Epoch: 35, Loss: 1.37\n",
      "Class proportions {1: 0.7797356828193832, 0: 0.22026431718061673}\n"
     ]
    },
    {
     "name": "stderr",
     "output_type": "stream",
     "text": [
      "100%|███████████████████████████████████████████████████████████████████████████████████| 15/15 [00:00<00:00, 46.37it/s]\n"
     ]
    },
    {
     "name": "stdout",
     "output_type": "stream",
     "text": [
      "Epoch: 36, Loss: 1.37\n",
      "Class proportions {1: 0.7797356828193832, 0: 0.22026431718061673}\n"
     ]
    },
    {
     "name": "stderr",
     "output_type": "stream",
     "text": [
      "100%|███████████████████████████████████████████████████████████████████████████████████| 15/15 [00:00<00:00, 46.28it/s]\n"
     ]
    },
    {
     "name": "stdout",
     "output_type": "stream",
     "text": [
      "Epoch: 37, Loss: 1.40\n",
      "Class proportions {1: 0.7797356828193832, 0: 0.22026431718061673}\n"
     ]
    },
    {
     "name": "stderr",
     "output_type": "stream",
     "text": [
      "100%|███████████████████████████████████████████████████████████████████████████████████| 15/15 [00:00<00:00, 46.54it/s]\n"
     ]
    },
    {
     "name": "stdout",
     "output_type": "stream",
     "text": [
      "Epoch: 38, Loss: 1.37\n",
      "Class proportions {1: 0.7797356828193832, 0: 0.22026431718061673}\n"
     ]
    },
    {
     "name": "stderr",
     "output_type": "stream",
     "text": [
      "100%|███████████████████████████████████████████████████████████████████████████████████| 15/15 [00:00<00:00, 45.90it/s]\n"
     ]
    },
    {
     "name": "stdout",
     "output_type": "stream",
     "text": [
      "Epoch: 39, Loss: 1.36\n",
      "Class proportions {1: 0.7797356828193832, 0: 0.22026431718061673}\n"
     ]
    },
    {
     "name": "stderr",
     "output_type": "stream",
     "text": [
      "100%|███████████████████████████████████████████████████████████████████████████████████| 15/15 [00:00<00:00, 46.39it/s]\n"
     ]
    },
    {
     "name": "stdout",
     "output_type": "stream",
     "text": [
      "Epoch: 40, Loss: 1.37\n",
      "Class proportions {1: 0.7797356828193832, 0: 0.22026431718061673}\n"
     ]
    },
    {
     "name": "stderr",
     "output_type": "stream",
     "text": [
      "100%|███████████████████████████████████████████████████████████████████████████████████| 15/15 [00:00<00:00, 46.36it/s]\n"
     ]
    },
    {
     "name": "stdout",
     "output_type": "stream",
     "text": [
      "Epoch: 41, Loss: 1.38\n",
      "Class proportions {1: 0.7797356828193832, 0: 0.22026431718061673}\n"
     ]
    },
    {
     "name": "stderr",
     "output_type": "stream",
     "text": [
      "100%|███████████████████████████████████████████████████████████████████████████████████| 15/15 [00:00<00:00, 45.90it/s]\n"
     ]
    },
    {
     "name": "stdout",
     "output_type": "stream",
     "text": [
      "Epoch: 42, Loss: 1.44\n",
      "Class proportions {1: 0.7797356828193832, 0: 0.22026431718061673}\n"
     ]
    },
    {
     "name": "stderr",
     "output_type": "stream",
     "text": [
      "100%|███████████████████████████████████████████████████████████████████████████████████| 15/15 [00:00<00:00, 46.13it/s]\n"
     ]
    },
    {
     "name": "stdout",
     "output_type": "stream",
     "text": [
      "Epoch: 43, Loss: 1.41\n",
      "Class proportions {1: 0.7797356828193832, 0: 0.22026431718061673}\n"
     ]
    },
    {
     "name": "stderr",
     "output_type": "stream",
     "text": [
      "100%|███████████████████████████████████████████████████████████████████████████████████| 15/15 [00:00<00:00, 46.19it/s]\n"
     ]
    },
    {
     "name": "stdout",
     "output_type": "stream",
     "text": [
      "Epoch: 44, Loss: 1.36\n",
      "Class proportions {1: 0.7797356828193832, 0: 0.22026431718061673}\n"
     ]
    },
    {
     "name": "stderr",
     "output_type": "stream",
     "text": [
      "100%|███████████████████████████████████████████████████████████████████████████████████| 15/15 [00:00<00:00, 45.98it/s]\n"
     ]
    },
    {
     "name": "stdout",
     "output_type": "stream",
     "text": [
      "Epoch: 45, Loss: 1.42\n",
      "Class proportions {1: 0.7797356828193832, 0: 0.22026431718061673}\n"
     ]
    },
    {
     "name": "stderr",
     "output_type": "stream",
     "text": [
      "100%|███████████████████████████████████████████████████████████████████████████████████| 15/15 [00:00<00:00, 46.83it/s]\n"
     ]
    },
    {
     "name": "stdout",
     "output_type": "stream",
     "text": [
      "Epoch: 46, Loss: 1.37\n",
      "Class proportions {1: 0.7797356828193832, 0: 0.22026431718061673}\n"
     ]
    },
    {
     "name": "stderr",
     "output_type": "stream",
     "text": [
      "100%|███████████████████████████████████████████████████████████████████████████████████| 15/15 [00:00<00:00, 45.96it/s]\n"
     ]
    },
    {
     "name": "stdout",
     "output_type": "stream",
     "text": [
      "Epoch: 47, Loss: 1.40\n",
      "Class proportions {1: 0.7797356828193832, 0: 0.22026431718061673}\n"
     ]
    },
    {
     "name": "stderr",
     "output_type": "stream",
     "text": [
      "100%|███████████████████████████████████████████████████████████████████████████████████| 15/15 [00:00<00:00, 46.52it/s]\n"
     ]
    },
    {
     "name": "stdout",
     "output_type": "stream",
     "text": [
      "Epoch: 48, Loss: 1.37\n",
      "Class proportions {1: 0.7797356828193832, 0: 0.22026431718061673}\n"
     ]
    },
    {
     "name": "stderr",
     "output_type": "stream",
     "text": [
      "100%|███████████████████████████████████████████████████████████████████████████████████| 15/15 [00:00<00:00, 46.36it/s]\n"
     ]
    },
    {
     "name": "stdout",
     "output_type": "stream",
     "text": [
      "Epoch: 49, Loss: 1.40\n",
      "Class proportions {1: 0.7797356828193832, 0: 0.22026431718061673}\n"
     ]
    },
    {
     "name": "stderr",
     "output_type": "stream",
     "text": [
      "100%|███████████████████████████████████████████████████████████████████████████████████| 15/15 [00:00<00:00, 46.43it/s]\n"
     ]
    },
    {
     "name": "stdout",
     "output_type": "stream",
     "text": [
      "Epoch: 50, Loss: 1.37\n",
      "Class proportions {1: 0.7797356828193832, 0: 0.22026431718061673}\n"
     ]
    },
    {
     "name": "stderr",
     "output_type": "stream",
     "text": [
      "100%|███████████████████████████████████████████████████████████████████████████████████| 15/15 [00:00<00:00, 46.02it/s]\n"
     ]
    },
    {
     "name": "stdout",
     "output_type": "stream",
     "text": [
      "Epoch: 51, Loss: 1.37\n",
      "Class proportions {1: 0.7797356828193832, 0: 0.22026431718061673}\n"
     ]
    },
    {
     "name": "stderr",
     "output_type": "stream",
     "text": [
      "100%|███████████████████████████████████████████████████████████████████████████████████| 15/15 [00:00<00:00, 46.63it/s]\n"
     ]
    },
    {
     "name": "stdout",
     "output_type": "stream",
     "text": [
      "Epoch: 52, Loss: 1.46\n",
      "Class proportions {1: 0.7797356828193832, 0: 0.22026431718061673}\n"
     ]
    },
    {
     "name": "stderr",
     "output_type": "stream",
     "text": [
      "100%|███████████████████████████████████████████████████████████████████████████████████| 15/15 [00:00<00:00, 39.64it/s]\n"
     ]
    },
    {
     "name": "stdout",
     "output_type": "stream",
     "text": [
      "Epoch: 53, Loss: 1.42\n",
      "Class proportions {1: 0.7797356828193832, 0: 0.22026431718061673}\n"
     ]
    },
    {
     "name": "stderr",
     "output_type": "stream",
     "text": [
      "100%|███████████████████████████████████████████████████████████████████████████████████| 15/15 [00:00<00:00, 41.13it/s]\n"
     ]
    },
    {
     "name": "stdout",
     "output_type": "stream",
     "text": [
      "Epoch: 54, Loss: 1.37\n",
      "Class proportions {1: 0.7797356828193832, 0: 0.22026431718061673}\n"
     ]
    },
    {
     "name": "stderr",
     "output_type": "stream",
     "text": [
      "100%|███████████████████████████████████████████████████████████████████████████████████| 15/15 [00:00<00:00, 41.82it/s]\n"
     ]
    },
    {
     "name": "stdout",
     "output_type": "stream",
     "text": [
      "Epoch: 55, Loss: 1.38\n",
      "Class proportions {1: 0.7797356828193832, 0: 0.22026431718061673}\n"
     ]
    },
    {
     "name": "stderr",
     "output_type": "stream",
     "text": [
      "100%|███████████████████████████████████████████████████████████████████████████████████| 15/15 [00:00<00:00, 40.68it/s]\n"
     ]
    },
    {
     "name": "stdout",
     "output_type": "stream",
     "text": [
      "Epoch: 56, Loss: 1.37\n",
      "Class proportions {1: 0.7797356828193832, 0: 0.22026431718061673}\n"
     ]
    },
    {
     "name": "stderr",
     "output_type": "stream",
     "text": [
      "100%|███████████████████████████████████████████████████████████████████████████████████| 15/15 [00:00<00:00, 42.86it/s]\n"
     ]
    },
    {
     "name": "stdout",
     "output_type": "stream",
     "text": [
      "Epoch: 57, Loss: 1.37\n",
      "Class proportions {1: 0.7797356828193832, 0: 0.22026431718061673}\n"
     ]
    },
    {
     "name": "stderr",
     "output_type": "stream",
     "text": [
      "100%|███████████████████████████████████████████████████████████████████████████████████| 15/15 [00:00<00:00, 39.29it/s]\n"
     ]
    },
    {
     "name": "stdout",
     "output_type": "stream",
     "text": [
      "Epoch: 58, Loss: 1.41\n",
      "Class proportions {1: 0.7797356828193832, 0: 0.22026431718061673}\n"
     ]
    },
    {
     "name": "stderr",
     "output_type": "stream",
     "text": [
      "100%|███████████████████████████████████████████████████████████████████████████████████| 15/15 [00:00<00:00, 43.93it/s]\n"
     ]
    },
    {
     "name": "stdout",
     "output_type": "stream",
     "text": [
      "Epoch: 59, Loss: 1.38\n",
      "Class proportions {1: 0.7797356828193832, 0: 0.22026431718061673}\n"
     ]
    },
    {
     "name": "stderr",
     "output_type": "stream",
     "text": [
      "100%|███████████████████████████████████████████████████████████████████████████████████| 15/15 [00:00<00:00, 41.47it/s]\n"
     ]
    },
    {
     "name": "stdout",
     "output_type": "stream",
     "text": [
      "Epoch: 60, Loss: 1.36\n",
      "Class proportions {1: 0.7797356828193832, 0: 0.22026431718061673}\n"
     ]
    },
    {
     "name": "stderr",
     "output_type": "stream",
     "text": [
      "100%|███████████████████████████████████████████████████████████████████████████████████| 15/15 [00:00<00:00, 45.22it/s]\n"
     ]
    },
    {
     "name": "stdout",
     "output_type": "stream",
     "text": [
      "Epoch: 61, Loss: 1.37\n",
      "Class proportions {1: 0.7797356828193832, 0: 0.22026431718061673}\n"
     ]
    },
    {
     "name": "stderr",
     "output_type": "stream",
     "text": [
      "100%|███████████████████████████████████████████████████████████████████████████████████| 15/15 [00:00<00:00, 46.09it/s]\n"
     ]
    },
    {
     "name": "stdout",
     "output_type": "stream",
     "text": [
      "Epoch: 62, Loss: 1.37\n",
      "Class proportions {1: 0.7797356828193832, 0: 0.22026431718061673}\n"
     ]
    },
    {
     "name": "stderr",
     "output_type": "stream",
     "text": [
      "100%|███████████████████████████████████████████████████████████████████████████████████| 15/15 [00:00<00:00, 39.21it/s]\n"
     ]
    },
    {
     "name": "stdout",
     "output_type": "stream",
     "text": [
      "Epoch: 63, Loss: 1.38\n",
      "Class proportions {1: 0.7797356828193832, 0: 0.22026431718061673}\n"
     ]
    },
    {
     "name": "stderr",
     "output_type": "stream",
     "text": [
      "100%|███████████████████████████████████████████████████████████████████████████████████| 15/15 [00:00<00:00, 41.18it/s]\n"
     ]
    },
    {
     "name": "stdout",
     "output_type": "stream",
     "text": [
      "Epoch: 64, Loss: 1.36\n",
      "Class proportions {1: 0.7797356828193832, 0: 0.22026431718061673}\n"
     ]
    },
    {
     "name": "stderr",
     "output_type": "stream",
     "text": [
      "100%|███████████████████████████████████████████████████████████████████████████████████| 15/15 [00:00<00:00, 45.92it/s]\n"
     ]
    },
    {
     "name": "stdout",
     "output_type": "stream",
     "text": [
      "Epoch: 65, Loss: 1.40\n",
      "Class proportions {1: 0.7797356828193832, 0: 0.22026431718061673}\n"
     ]
    },
    {
     "name": "stderr",
     "output_type": "stream",
     "text": [
      "100%|███████████████████████████████████████████████████████████████████████████████████| 15/15 [00:00<00:00, 44.90it/s]\n"
     ]
    },
    {
     "name": "stdout",
     "output_type": "stream",
     "text": [
      "Epoch: 66, Loss: 1.37\n",
      "Class proportions {1: 0.7797356828193832, 0: 0.22026431718061673}\n"
     ]
    },
    {
     "name": "stderr",
     "output_type": "stream",
     "text": [
      "100%|███████████████████████████████████████████████████████████████████████████████████| 15/15 [00:00<00:00, 45.77it/s]\n"
     ]
    },
    {
     "name": "stdout",
     "output_type": "stream",
     "text": [
      "Epoch: 67, Loss: 1.38\n",
      "Class proportions {1: 0.7797356828193832, 0: 0.22026431718061673}\n"
     ]
    },
    {
     "name": "stderr",
     "output_type": "stream",
     "text": [
      "100%|███████████████████████████████████████████████████████████████████████████████████| 15/15 [00:00<00:00, 46.48it/s]\n"
     ]
    },
    {
     "name": "stdout",
     "output_type": "stream",
     "text": [
      "Epoch: 68, Loss: 1.40\n",
      "Class proportions {1: 0.7797356828193832, 0: 0.22026431718061673}\n"
     ]
    },
    {
     "name": "stderr",
     "output_type": "stream",
     "text": [
      "100%|███████████████████████████████████████████████████████████████████████████████████| 15/15 [00:00<00:00, 45.53it/s]\n"
     ]
    },
    {
     "name": "stdout",
     "output_type": "stream",
     "text": [
      "Epoch: 69, Loss: 1.36\n",
      "Class proportions {1: 0.7797356828193832, 0: 0.22026431718061673}\n"
     ]
    },
    {
     "name": "stderr",
     "output_type": "stream",
     "text": [
      "100%|███████████████████████████████████████████████████████████████████████████████████| 15/15 [00:00<00:00, 46.24it/s]\n"
     ]
    },
    {
     "name": "stdout",
     "output_type": "stream",
     "text": [
      "Epoch: 70, Loss: 1.37\n",
      "Class proportions {1: 0.7797356828193832, 0: 0.22026431718061673}\n"
     ]
    },
    {
     "name": "stderr",
     "output_type": "stream",
     "text": [
      "100%|███████████████████████████████████████████████████████████████████████████████████| 15/15 [00:00<00:00, 45.67it/s]\n"
     ]
    },
    {
     "name": "stdout",
     "output_type": "stream",
     "text": [
      "Epoch: 71, Loss: 1.40\n",
      "Class proportions {1: 0.7797356828193832, 0: 0.22026431718061673}\n"
     ]
    },
    {
     "name": "stderr",
     "output_type": "stream",
     "text": [
      "100%|███████████████████████████████████████████████████████████████████████████████████| 15/15 [00:00<00:00, 45.45it/s]\n"
     ]
    },
    {
     "name": "stdout",
     "output_type": "stream",
     "text": [
      "Epoch: 72, Loss: 1.41\n",
      "Class proportions {1: 0.7797356828193832, 0: 0.22026431718061673}\n"
     ]
    },
    {
     "name": "stderr",
     "output_type": "stream",
     "text": [
      "100%|███████████████████████████████████████████████████████████████████████████████████| 15/15 [00:00<00:00, 46.07it/s]\n"
     ]
    },
    {
     "name": "stdout",
     "output_type": "stream",
     "text": [
      "Epoch: 73, Loss: 1.42\n",
      "Class proportions {1: 0.7797356828193832, 0: 0.22026431718061673}\n"
     ]
    },
    {
     "name": "stderr",
     "output_type": "stream",
     "text": [
      "100%|███████████████████████████████████████████████████████████████████████████████████| 15/15 [00:00<00:00, 45.64it/s]\n"
     ]
    },
    {
     "name": "stdout",
     "output_type": "stream",
     "text": [
      "Epoch: 74, Loss: 1.40\n",
      "Class proportions {1: 0.7797356828193832, 0: 0.22026431718061673}\n"
     ]
    },
    {
     "name": "stderr",
     "output_type": "stream",
     "text": [
      "100%|███████████████████████████████████████████████████████████████████████████████████| 15/15 [00:00<00:00, 39.91it/s]\n"
     ]
    },
    {
     "name": "stdout",
     "output_type": "stream",
     "text": [
      "Epoch: 75, Loss: 1.39\n",
      "Class proportions {1: 0.7797356828193832, 0: 0.22026431718061673}\n"
     ]
    },
    {
     "name": "stderr",
     "output_type": "stream",
     "text": [
      "100%|███████████████████████████████████████████████████████████████████████████████████| 15/15 [00:00<00:00, 40.34it/s]\n"
     ]
    },
    {
     "name": "stdout",
     "output_type": "stream",
     "text": [
      "Epoch: 76, Loss: 1.44\n",
      "Class proportions {1: 0.7797356828193832, 0: 0.22026431718061673}\n"
     ]
    },
    {
     "name": "stderr",
     "output_type": "stream",
     "text": [
      "100%|███████████████████████████████████████████████████████████████████████████████████| 15/15 [00:00<00:00, 40.14it/s]\n"
     ]
    },
    {
     "name": "stdout",
     "output_type": "stream",
     "text": [
      "Epoch: 77, Loss: 1.40\n",
      "Class proportions {1: 0.7797356828193832, 0: 0.22026431718061673}\n"
     ]
    },
    {
     "name": "stderr",
     "output_type": "stream",
     "text": [
      "100%|███████████████████████████████████████████████████████████████████████████████████| 15/15 [00:00<00:00, 42.55it/s]\n"
     ]
    },
    {
     "name": "stdout",
     "output_type": "stream",
     "text": [
      "Epoch: 78, Loss: 1.39\n",
      "Class proportions {1: 0.7797356828193832, 0: 0.22026431718061673}\n"
     ]
    },
    {
     "name": "stderr",
     "output_type": "stream",
     "text": [
      "100%|███████████████████████████████████████████████████████████████████████████████████| 15/15 [00:00<00:00, 45.08it/s]\n"
     ]
    },
    {
     "name": "stdout",
     "output_type": "stream",
     "text": [
      "Epoch: 79, Loss: 1.37\n",
      "Class proportions {1: 0.7797356828193832, 0: 0.22026431718061673}\n"
     ]
    },
    {
     "name": "stderr",
     "output_type": "stream",
     "text": [
      "100%|███████████████████████████████████████████████████████████████████████████████████| 15/15 [00:00<00:00, 43.13it/s]\n"
     ]
    },
    {
     "name": "stdout",
     "output_type": "stream",
     "text": [
      "Epoch: 80, Loss: 1.36\n",
      "Class proportions {1: 0.7797356828193832, 0: 0.22026431718061673}\n"
     ]
    },
    {
     "name": "stderr",
     "output_type": "stream",
     "text": [
      "100%|███████████████████████████████████████████████████████████████████████████████████| 15/15 [00:00<00:00, 39.92it/s]\n"
     ]
    },
    {
     "name": "stdout",
     "output_type": "stream",
     "text": [
      "Epoch: 81, Loss: 1.41\n",
      "Class proportions {1: 0.7797356828193832, 0: 0.22026431718061673}\n"
     ]
    },
    {
     "name": "stderr",
     "output_type": "stream",
     "text": [
      "100%|███████████████████████████████████████████████████████████████████████████████████| 15/15 [00:00<00:00, 46.30it/s]\n"
     ]
    },
    {
     "name": "stdout",
     "output_type": "stream",
     "text": [
      "Epoch: 82, Loss: 1.40\n",
      "Class proportions {1: 0.7797356828193832, 0: 0.22026431718061673}\n"
     ]
    },
    {
     "name": "stderr",
     "output_type": "stream",
     "text": [
      "100%|███████████████████████████████████████████████████████████████████████████████████| 15/15 [00:00<00:00, 45.36it/s]\n"
     ]
    },
    {
     "name": "stdout",
     "output_type": "stream",
     "text": [
      "Epoch: 83, Loss: 1.40\n",
      "Class proportions {1: 0.7797356828193832, 0: 0.22026431718061673}\n"
     ]
    },
    {
     "name": "stderr",
     "output_type": "stream",
     "text": [
      "100%|███████████████████████████████████████████████████████████████████████████████████| 15/15 [00:00<00:00, 40.54it/s]\n"
     ]
    },
    {
     "name": "stdout",
     "output_type": "stream",
     "text": [
      "Epoch: 84, Loss: 1.39\n",
      "Class proportions {1: 0.7797356828193832, 0: 0.22026431718061673}\n"
     ]
    },
    {
     "name": "stderr",
     "output_type": "stream",
     "text": [
      "100%|███████████████████████████████████████████████████████████████████████████████████| 15/15 [00:00<00:00, 40.16it/s]\n"
     ]
    },
    {
     "name": "stdout",
     "output_type": "stream",
     "text": [
      "Epoch: 85, Loss: 1.39\n",
      "Class proportions {1: 0.7797356828193832, 0: 0.22026431718061673}\n"
     ]
    },
    {
     "name": "stderr",
     "output_type": "stream",
     "text": [
      "100%|███████████████████████████████████████████████████████████████████████████████████| 15/15 [00:00<00:00, 46.03it/s]\n"
     ]
    },
    {
     "name": "stdout",
     "output_type": "stream",
     "text": [
      "Epoch: 86, Loss: 1.37\n",
      "Class proportions {1: 0.7797356828193832, 0: 0.22026431718061673}\n"
     ]
    },
    {
     "name": "stderr",
     "output_type": "stream",
     "text": [
      "100%|███████████████████████████████████████████████████████████████████████████████████| 15/15 [00:00<00:00, 44.96it/s]\n"
     ]
    },
    {
     "name": "stdout",
     "output_type": "stream",
     "text": [
      "Epoch: 87, Loss: 1.38\n",
      "Class proportions {1: 0.7797356828193832, 0: 0.22026431718061673}\n"
     ]
    },
    {
     "name": "stderr",
     "output_type": "stream",
     "text": [
      "100%|███████████████████████████████████████████████████████████████████████████████████| 15/15 [00:00<00:00, 45.86it/s]\n"
     ]
    },
    {
     "name": "stdout",
     "output_type": "stream",
     "text": [
      "Epoch: 88, Loss: 1.37\n",
      "Class proportions {1: 0.7797356828193832, 0: 0.22026431718061673}\n"
     ]
    },
    {
     "name": "stderr",
     "output_type": "stream",
     "text": [
      "100%|███████████████████████████████████████████████████████████████████████████████████| 15/15 [00:00<00:00, 45.46it/s]\n"
     ]
    },
    {
     "name": "stdout",
     "output_type": "stream",
     "text": [
      "Epoch: 89, Loss: 1.41\n",
      "Class proportions {1: 0.7797356828193832, 0: 0.22026431718061673}\n"
     ]
    },
    {
     "name": "stderr",
     "output_type": "stream",
     "text": [
      "100%|███████████████████████████████████████████████████████████████████████████████████| 15/15 [00:00<00:00, 44.85it/s]\n"
     ]
    },
    {
     "name": "stdout",
     "output_type": "stream",
     "text": [
      "Epoch: 90, Loss: 1.41\n",
      "Class proportions {1: 0.7797356828193832, 0: 0.22026431718061673}\n"
     ]
    },
    {
     "name": "stderr",
     "output_type": "stream",
     "text": [
      "100%|███████████████████████████████████████████████████████████████████████████████████| 15/15 [00:00<00:00, 41.09it/s]\n"
     ]
    },
    {
     "name": "stdout",
     "output_type": "stream",
     "text": [
      "Epoch: 91, Loss: 1.41\n",
      "Class proportions {1: 0.7797356828193832, 0: 0.22026431718061673}\n"
     ]
    },
    {
     "name": "stderr",
     "output_type": "stream",
     "text": [
      "100%|███████████████████████████████████████████████████████████████████████████████████| 15/15 [00:00<00:00, 40.66it/s]\n"
     ]
    },
    {
     "name": "stdout",
     "output_type": "stream",
     "text": [
      "Epoch: 92, Loss: 1.40\n",
      "Class proportions {1: 0.7797356828193832, 0: 0.22026431718061673}\n"
     ]
    },
    {
     "name": "stderr",
     "output_type": "stream",
     "text": [
      "100%|███████████████████████████████████████████████████████████████████████████████████| 15/15 [00:00<00:00, 44.34it/s]\n"
     ]
    },
    {
     "name": "stdout",
     "output_type": "stream",
     "text": [
      "Epoch: 93, Loss: 1.37\n",
      "Class proportions {1: 0.7797356828193832, 0: 0.22026431718061673}\n"
     ]
    },
    {
     "name": "stderr",
     "output_type": "stream",
     "text": [
      "100%|███████████████████████████████████████████████████████████████████████████████████| 15/15 [00:00<00:00, 38.79it/s]\n"
     ]
    },
    {
     "name": "stdout",
     "output_type": "stream",
     "text": [
      "Epoch: 94, Loss: 1.37\n",
      "Class proportions {1: 0.7797356828193832, 0: 0.22026431718061673}\n"
     ]
    },
    {
     "name": "stderr",
     "output_type": "stream",
     "text": [
      "100%|███████████████████████████████████████████████████████████████████████████████████| 15/15 [00:00<00:00, 42.59it/s]\n"
     ]
    },
    {
     "name": "stdout",
     "output_type": "stream",
     "text": [
      "Epoch: 95, Loss: 1.37\n",
      "Class proportions {1: 0.7797356828193832, 0: 0.22026431718061673}\n"
     ]
    },
    {
     "name": "stderr",
     "output_type": "stream",
     "text": [
      "100%|███████████████████████████████████████████████████████████████████████████████████| 15/15 [00:00<00:00, 45.74it/s]\n"
     ]
    },
    {
     "name": "stdout",
     "output_type": "stream",
     "text": [
      "Epoch: 96, Loss: 1.37\n",
      "Class proportions {1: 0.7797356828193832, 0: 0.22026431718061673}\n"
     ]
    },
    {
     "name": "stderr",
     "output_type": "stream",
     "text": [
      "100%|███████████████████████████████████████████████████████████████████████████████████| 15/15 [00:00<00:00, 39.88it/s]\n"
     ]
    },
    {
     "name": "stdout",
     "output_type": "stream",
     "text": [
      "Epoch: 97, Loss: 1.40\n",
      "Class proportions {1: 0.7797356828193832, 0: 0.22026431718061673}\n"
     ]
    },
    {
     "name": "stderr",
     "output_type": "stream",
     "text": [
      "100%|███████████████████████████████████████████████████████████████████████████████████| 15/15 [00:00<00:00, 41.53it/s]\n"
     ]
    },
    {
     "name": "stdout",
     "output_type": "stream",
     "text": [
      "Epoch: 98, Loss: 1.37\n",
      "Class proportions {1: 0.7797356828193832, 0: 0.22026431718061673}\n"
     ]
    },
    {
     "name": "stderr",
     "output_type": "stream",
     "text": [
      "100%|███████████████████████████████████████████████████████████████████████████████████| 15/15 [00:00<00:00, 36.99it/s]"
     ]
    },
    {
     "name": "stdout",
     "output_type": "stream",
     "text": [
      "Epoch: 99, Loss: 1.40\n"
     ]
    },
    {
     "name": "stderr",
     "output_type": "stream",
     "text": [
      "\n"
     ]
    }
   ],
   "source": [
    "\n",
    "optimizer = torch.optim.Adam(model.parameters(), lr=0.01)\n",
    "\n",
    "\n",
    "\n",
    "def train_one_epoch(epoch, model, train_loader, optimizer, device, weighted_loss=True):\n",
    "    class_proportions = train_loader.dataset.class_proportions\n",
    "    print(\"Class proportions\", class_proportions)\n",
    "    # Enumerate over the data\n",
    "    all_preds = []\n",
    "    all_labels = []\n",
    "    running_loss = 0.0\n",
    "    step = 0\n",
    "    model.train()\n",
    "    model.to(device)\n",
    "    for batch_idx, batch in enumerate(tqdm(train_loader)):\n",
    "        # Use GPU\n",
    "        batch.to(device)\n",
    "        # Reset gradients\n",
    "        optimizer.zero_grad() \n",
    "        # Passing the node features and the connection info\n",
    "        # pred = model(batch.x.float(), \n",
    "        #                         batch.edge_attr.float(),\n",
    "        #                         batch.edge_index, \n",
    "        #                         batch.batch) \n",
    "        pred = torch.sigmoid(model(batch.x, batch.edge_index, batch.batch))\n",
    "        # Calculating the loss and gradients\n",
    "        if weighted_loss:\n",
    "            weights = batch.y.float().detach().clone()\n",
    "            counts = weights.unique(return_counts=True)\n",
    "            for idx in range(len(counts[0])):\n",
    "                idx = int(idx)\n",
    "                target = int(counts[0][idx].item())\n",
    "                class_weight = 1 / class_proportions[target]\n",
    "                # go through the classes in the batch\n",
    "                # for values in the target tensor which have class 0/1,\n",
    "                # replace with inverse proportion for that class\n",
    "                weights[weights == counts[0][idx]] = class_weight\n",
    "        else:\n",
    "            weights = None\n",
    "        loss =  F.binary_cross_entropy(pred.squeeze(), batch.y.float(), weight=weights)\n",
    "        loss.requires_grad = True\n",
    "        loss.backward()  \n",
    "        optimizer.step()  \n",
    "        # Update tracking\n",
    "        running_loss += loss.item()\n",
    "        # counting batches\n",
    "        step += 1\n",
    "    # loss average per epoch\n",
    "    return running_loss/step\n",
    "\n",
    "device = set_device_and_seed(GPU=False, seed=0)\n",
    "plotting_dict_train = {}\n",
    "plotting_dict_train['loss'] = []\n",
    "plot_every = 100\n",
    "num_epochs = 100\n",
    "for i in range(num_epochs):\n",
    "    loss = train_one_epoch(i, model, train_loader, optimizer, device, weighted_loss=True)\n",
    "    plotting_dict_train['loss'].append(loss)\n",
    "    print('Epoch: {}, Loss: {:.2f}'.format(i, loss))\n",
    "    if i % plot_every == 0:\n",
    "        plt.figure()\n",
    "        plt.plot(np.arange(len(plotting_dict_train['loss'])), plotting_dict_train['loss'])\n",
    "        plt.show()\n",
    "        "
   ]
  },
  {
   "cell_type": "code",
   "execution_count": 63,
   "id": "0663cb1e-22ee-42ac-949f-bc789fcda232",
   "metadata": {},
   "outputs": [
    {
     "data": {
      "text/plain": [
       "[<matplotlib.lines.Line2D at 0x7fb722532b80>]"
      ]
     },
     "execution_count": 63,
     "metadata": {},
     "output_type": "execute_result"
    },
    {
     "data": {
      "image/png": "[encoded data removed]",
      "text/plain": [
       "<Figure size 432x288 with 1 Axes>"
      ]
     },
     "metadata": {
      "needs_background": "light"
     },
     "output_type": "display_data"
    }
   ],
   "source": [
    "plt.figure()\n",
    "plt.plot(np.arange(len(plotting_dict_train['loss'])), plotting_dict_train['loss'])"
   ]
  }
 ],
 "metadata": {
  "kernelspec": {
   "display_name": "Python 3 (ipykernel)",
   "language": "python",
   "name": "python3"
  },
  "language_info": {
   "codemirror_mode": {
    "name": "ipython",
    "version": 3
   },
   "file_extension": ".py",
   "mimetype": "text/x-python",
   "name": "python",
   "nbconvert_exporter": "python",
   "pygments_lexer": "ipython3",
   "version": "3.8.13"
  }
 },
 "nbformat": 4,
 "nbformat_minor": 5
}
