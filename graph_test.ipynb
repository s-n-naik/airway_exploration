{
 "cells": [
  {
   "cell_type": "code",
   "execution_count": 2,
   "id": "ea069f35-53c3-44ef-aa08-716ff1eb7709",
   "metadata": {},
   "outputs": [
    {
     "name": "stdout",
     "output_type": "stream",
     "text": [
      "The autoreload extension is already loaded. To reload it, use:\n",
      "  %reload_ext autoreload\n"
     ]
    }
   ],
   "source": [
    "%load_ext autoreload\n",
    "%autoreload 2 \n",
    "# !apt-get install -y xvfb\n",
    "import time\n",
    "import torch\n",
    "from collections import Counter\n",
    "import torch.nn as nn\n",
    "from torch_geometric.data import Data\n",
    "from torch_geometric.nn import GATConv\n",
    "from torch_geometric.datasets import Planetoid\n",
    "import torch_geometric.transforms as T\n",
    "from torch_geometric.loader import DataLoader\n",
    "from torch_geometric.data import Dataset\n",
    "# https://www.youtube.com/watch?v=QLIkOtKS4os --> creating custom dataset in pytorch geometric\n",
    "from torch.utils.data import Dataset, random_split\n",
    "import torch_geometric\n",
    "from torch_geometric.data import Data, InMemoryDataset\n",
    "import torch_geometric\n",
    "from torch.nn import Linear\n",
    "import torch.nn.functional as F\n",
    "from torch_geometric.nn import GCNConv, GATConv\n",
    "from torch_geometric.nn import global_mean_pool\n",
    "import networkx as nx\n",
    "import pandas as pd\n",
    "import numpy as np\n",
    "import matplotlib as mpl\n",
    "import matplotlib.pyplot as plt\n",
    "import re\n",
    "import pickle\n",
    "import random\n",
    "import os\n",
    "\n",
    "from tqdm import tqdm\n",
    "from sklearn.preprocessing import StandardScaler\n",
    "from collections import Counter\n",
    "from sklearn.preprocessing import LabelEncoder"
   ]
  },
  {
   "cell_type": "markdown",
   "id": "67f6d731-8832-460c-9ab6-33d931ce4675",
   "metadata": {},
   "source": [
    "### Utility Functions"
   ]
  },
  {
   "cell_type": "code",
   "execution_count": 3,
   "id": "a4409c4d-e3b0-45ea-bd2e-3ae97e8408c4",
   "metadata": {},
   "outputs": [],
   "source": [
    "\n",
    "\n",
    "def set_device_and_seed(GPU=True, seed=0, gpu_name = \"cuda:0\"):\n",
    "    torch.cuda.is_available()\n",
    "    if GPU:\n",
    "        device = torch.device(gpu_name if torch.cuda.is_available() else 'cpu')\n",
    "    else:\n",
    "        device = torch.device(\"cpu\")\n",
    "    print(f'Using {device}')\n",
    "\n",
    "    if torch.cuda.is_available():\n",
    "        torch.backends.cudnn.deterministic = True\n",
    "        torch.cuda.manual_seed(seed)\n",
    "\n",
    "        \n",
    "    set_seed(seed)\n",
    "    \n",
    "    return device\n",
    "\n",
    "def set_seed(seed):\n",
    "    torch.manual_seed(seed)\n",
    "    np.random.seed(seed)\n",
    "    random.seed(seed)\n",
    "    print(f\"Setting torch, cuda, numpy and random seeds to {seed}\")\n",
    "\n",
    "\n",
    "def show(img):\n",
    "    npimg = img.cpu().numpy()\n",
    "    plt.imshow(np.transpose(npimg, (1,2,0)))\n",
    "\n",
    "    \n",
    "def visualize_graph(G, color):\n",
    "    plt.figure(figsize=(7,7))\n",
    "    plt.xticks([])\n",
    "    plt.yticks([])\n",
    "    nx.draw_networkx(G, pos=nx.spring_layout(G, seed=42), with_labels=False,\n",
    "                     node_color=color, cmap=\"Set2\")\n",
    "    plt.show()\n",
    "\n",
    "\n",
    "def visualize_embedding(h, color, epoch=None, loss=None):\n",
    "    plt.figure(figsize=(7,7))\n",
    "    plt.xticks([])\n",
    "    plt.yticks([])\n",
    "    h = h.detach().cpu().numpy()\n",
    "    plt.scatter(h[:, 0], h[:, 1], s=140, c=color, cmap=\"Set2\")\n",
    "    if epoch is not None and loss is not None:\n",
    "        plt.xlabel(f'Epoch: {epoch}, Loss: {loss.item():.4f}', fontsize=16)\n",
    "    plt.show()"
   ]
  },
  {
   "cell_type": "code",
   "execution_count": 4,
   "id": "db45b184-f90e-42a1-99ad-be9ca5c836a7",
   "metadata": {},
   "outputs": [
    {
     "name": "stdout",
     "output_type": "stream",
     "text": [
      "Using cpu\n",
      "Setting torch, cuda, numpy and random seeds to 0\n"
     ]
    }
   ],
   "source": [
    "# Setting random seed and device\n",
    "GPU = True # Choose whether to use GPU\n",
    "device =set_device_and_seed(GPU=False, seed=0, gpu_name='cuda:0')"
   ]
  },
  {
   "cell_type": "markdown",
   "id": "078e86c8-5063-436e-b3a5-05c2c58368c4",
   "metadata": {},
   "source": [
    "### Load Data\n"
   ]
  },
  {
   "cell_type": "code",
   "execution_count": 9,
   "id": "7ff3dc3a",
   "metadata": {},
   "outputs": [
    {
     "data": {
      "text/html": [
       "<div>\n",
       "<style scoped>\n",
       "    .dataframe tbody tr th:only-of-type {\n",
       "        vertical-align: middle;\n",
       "    }\n",
       "\n",
       "    .dataframe tbody tr th {\n",
       "        vertical-align: top;\n",
       "    }\n",
       "\n",
       "    .dataframe thead th {\n",
       "        text-align: right;\n",
       "    }\n",
       "</style>\n",
       "<table border=\"1\" class=\"dataframe\">\n",
       "  <thead>\n",
       "    <tr style=\"text-align: right;\">\n",
       "      <th></th>\n",
       "      <th>idno</th>\n",
       "      <th>centerlinelength</th>\n",
       "      <th>avginnerarea</th>\n",
       "      <th>lobe</th>\n",
       "      <th>sublobe</th>\n",
       "      <th>endbpid</th>\n",
       "      <th>startbpid</th>\n",
       "      <th>angle</th>\n",
       "      <th>dircosx</th>\n",
       "      <th>dircosy</th>\n",
       "      <th>...</th>\n",
       "      <th>sublobe_norm</th>\n",
       "      <th>x_norm</th>\n",
       "      <th>y_norm</th>\n",
       "      <th>z_norm</th>\n",
       "      <th>parent_loc_x_norm</th>\n",
       "      <th>parent_loc_y_norm</th>\n",
       "      <th>parent_loc_z_norm</th>\n",
       "      <th>dircosx_norm</th>\n",
       "      <th>dircosy_norm</th>\n",
       "      <th>dircosz_norm</th>\n",
       "    </tr>\n",
       "  </thead>\n",
       "  <tbody>\n",
       "    <tr>\n",
       "      <th>count</th>\n",
       "      <td>1.923480e+05</td>\n",
       "      <td>192348.000000</td>\n",
       "      <td>192348.000000</td>\n",
       "      <td>192348.000000</td>\n",
       "      <td>192348.000000</td>\n",
       "      <td>192348.000000</td>\n",
       "      <td>192348.000000</td>\n",
       "      <td>192348.000000</td>\n",
       "      <td>192348.000000</td>\n",
       "      <td>192348.000000</td>\n",
       "      <td>...</td>\n",
       "      <td>192348.000000</td>\n",
       "      <td>192348.000000</td>\n",
       "      <td>192348.000000</td>\n",
       "      <td>192348.000000</td>\n",
       "      <td>192348.000000</td>\n",
       "      <td>192348.000000</td>\n",
       "      <td>192348.000000</td>\n",
       "      <td>192348.000000</td>\n",
       "      <td>192348.000000</td>\n",
       "      <td>192348.000000</td>\n",
       "    </tr>\n",
       "    <tr>\n",
       "      <th>mean</th>\n",
       "      <td>5.468308e+06</td>\n",
       "      <td>14.054362</td>\n",
       "      <td>30.922819</td>\n",
       "      <td>2.687457</td>\n",
       "      <td>7.267437</td>\n",
       "      <td>91.770161</td>\n",
       "      <td>62.903961</td>\n",
       "      <td>145.613876</td>\n",
       "      <td>-0.063054</td>\n",
       "      <td>0.058984</td>\n",
       "      <td>...</td>\n",
       "      <td>0.382497</td>\n",
       "      <td>0.514556</td>\n",
       "      <td>0.557489</td>\n",
       "      <td>0.457754</td>\n",
       "      <td>0.467074</td>\n",
       "      <td>0.459076</td>\n",
       "      <td>0.491710</td>\n",
       "      <td>0.468473</td>\n",
       "      <td>0.529492</td>\n",
       "      <td>0.579373</td>\n",
       "    </tr>\n",
       "    <tr>\n",
       "      <th>std</th>\n",
       "      <td>1.750314e+06</td>\n",
       "      <td>13.617144</td>\n",
       "      <td>45.691963</td>\n",
       "      <td>1.633118</td>\n",
       "      <td>6.673135</td>\n",
       "      <td>93.405512</td>\n",
       "      <td>78.044675</td>\n",
       "      <td>25.089683</td>\n",
       "      <td>0.496838</td>\n",
       "      <td>0.481001</td>\n",
       "      <td>...</td>\n",
       "      <td>0.351218</td>\n",
       "      <td>0.202735</td>\n",
       "      <td>0.092820</td>\n",
       "      <td>0.137163</td>\n",
       "      <td>0.202791</td>\n",
       "      <td>0.109102</td>\n",
       "      <td>0.141752</td>\n",
       "      <td>0.248419</td>\n",
       "      <td>0.240500</td>\n",
       "      <td>0.349693</td>\n",
       "    </tr>\n",
       "    <tr>\n",
       "      <th>min</th>\n",
       "      <td>3.010007e+06</td>\n",
       "      <td>0.500000</td>\n",
       "      <td>-1.000000</td>\n",
       "      <td>0.000000</td>\n",
       "      <td>0.000000</td>\n",
       "      <td>1.000000</td>\n",
       "      <td>-1.000000</td>\n",
       "      <td>0.000000</td>\n",
       "      <td>-1.000000</td>\n",
       "      <td>-1.000000</td>\n",
       "      <td>...</td>\n",
       "      <td>0.000000</td>\n",
       "      <td>0.000000</td>\n",
       "      <td>0.000000</td>\n",
       "      <td>0.000000</td>\n",
       "      <td>0.000000</td>\n",
       "      <td>0.000000</td>\n",
       "      <td>0.000000</td>\n",
       "      <td>0.000000</td>\n",
       "      <td>0.000000</td>\n",
       "      <td>0.000000</td>\n",
       "    </tr>\n",
       "    <tr>\n",
       "      <th>25%</th>\n",
       "      <td>4.014707e+06</td>\n",
       "      <td>7.987815</td>\n",
       "      <td>7.956605</td>\n",
       "      <td>1.000000</td>\n",
       "      <td>0.000000</td>\n",
       "      <td>23.000000</td>\n",
       "      <td>11.000000</td>\n",
       "      <td>137.847000</td>\n",
       "      <td>-0.462468</td>\n",
       "      <td>-0.312348</td>\n",
       "      <td>...</td>\n",
       "      <td>0.000000</td>\n",
       "      <td>0.341036</td>\n",
       "      <td>0.498595</td>\n",
       "      <td>0.343589</td>\n",
       "      <td>0.288945</td>\n",
       "      <td>0.388047</td>\n",
       "      <td>0.388594</td>\n",
       "      <td>0.268766</td>\n",
       "      <td>0.343826</td>\n",
       "      <td>0.225924</td>\n",
       "    </tr>\n",
       "    <tr>\n",
       "      <th>50%</th>\n",
       "      <td>5.021758e+06</td>\n",
       "      <td>11.267850</td>\n",
       "      <td>16.114850</td>\n",
       "      <td>3.000000</td>\n",
       "      <td>9.000000</td>\n",
       "      <td>60.000000</td>\n",
       "      <td>33.000000</td>\n",
       "      <td>151.227000</td>\n",
       "      <td>-0.059549</td>\n",
       "      <td>0.099504</td>\n",
       "      <td>...</td>\n",
       "      <td>0.473684</td>\n",
       "      <td>0.407190</td>\n",
       "      <td>0.554323</td>\n",
       "      <td>0.464765</td>\n",
       "      <td>0.369258</td>\n",
       "      <td>0.455009</td>\n",
       "      <td>0.497080</td>\n",
       "      <td>0.470225</td>\n",
       "      <td>0.549752</td>\n",
       "      <td>0.693828</td>\n",
       "    </tr>\n",
       "    <tr>\n",
       "      <th>75%</th>\n",
       "      <td>7.016395e+06</td>\n",
       "      <td>15.571700</td>\n",
       "      <td>33.490475</td>\n",
       "      <td>4.000000</td>\n",
       "      <td>13.000000</td>\n",
       "      <td>132.000000</td>\n",
       "      <td>86.000000</td>\n",
       "      <td>160.265000</td>\n",
       "      <td>0.343982</td>\n",
       "      <td>0.408248</td>\n",
       "      <td>...</td>\n",
       "      <td>0.684211</td>\n",
       "      <td>0.729171</td>\n",
       "      <td>0.614242</td>\n",
       "      <td>0.560139</td>\n",
       "      <td>0.687667</td>\n",
       "      <td>0.526611</td>\n",
       "      <td>0.591823</td>\n",
       "      <td>0.671991</td>\n",
       "      <td>0.704124</td>\n",
       "      <td>0.904145</td>\n",
       "    </tr>\n",
       "    <tr>\n",
       "      <th>max</th>\n",
       "      <td>8.024995e+06</td>\n",
       "      <td>149.707000</td>\n",
       "      <td>2585.770000</td>\n",
       "      <td>5.000000</td>\n",
       "      <td>19.000000</td>\n",
       "      <td>1059.000000</td>\n",
       "      <td>1028.000000</td>\n",
       "      <td>180.000000</td>\n",
       "      <td>1.000000</td>\n",
       "      <td>1.000000</td>\n",
       "      <td>...</td>\n",
       "      <td>1.000000</td>\n",
       "      <td>1.000000</td>\n",
       "      <td>1.000000</td>\n",
       "      <td>1.000000</td>\n",
       "      <td>1.000000</td>\n",
       "      <td>1.000000</td>\n",
       "      <td>1.000000</td>\n",
       "      <td>1.000000</td>\n",
       "      <td>1.000000</td>\n",
       "      <td>1.000000</td>\n",
       "    </tr>\n",
       "  </tbody>\n",
       "</table>\n",
       "<p>8 rows × 40 columns</p>\n",
       "</div>"
      ],
      "text/plain": [
       "               idno  centerlinelength   avginnerarea           lobe  \\\n",
       "count  1.923480e+05     192348.000000  192348.000000  192348.000000   \n",
       "mean   5.468308e+06         14.054362      30.922819       2.687457   \n",
       "std    1.750314e+06         13.617144      45.691963       1.633118   \n",
       "min    3.010007e+06          0.500000      -1.000000       0.000000   \n",
       "25%    4.014707e+06          7.987815       7.956605       1.000000   \n",
       "50%    5.021758e+06         11.267850      16.114850       3.000000   \n",
       "75%    7.016395e+06         15.571700      33.490475       4.000000   \n",
       "max    8.024995e+06        149.707000    2585.770000       5.000000   \n",
       "\n",
       "             sublobe        endbpid      startbpid          angle  \\\n",
       "count  192348.000000  192348.000000  192348.000000  192348.000000   \n",
       "mean        7.267437      91.770161      62.903961     145.613876   \n",
       "std         6.673135      93.405512      78.044675      25.089683   \n",
       "min         0.000000       1.000000      -1.000000       0.000000   \n",
       "25%         0.000000      23.000000      11.000000     137.847000   \n",
       "50%         9.000000      60.000000      33.000000     151.227000   \n",
       "75%        13.000000     132.000000      86.000000     160.265000   \n",
       "max        19.000000    1059.000000    1028.000000     180.000000   \n",
       "\n",
       "             dircosx        dircosy  ...   sublobe_norm         x_norm  \\\n",
       "count  192348.000000  192348.000000  ...  192348.000000  192348.000000   \n",
       "mean       -0.063054       0.058984  ...       0.382497       0.514556   \n",
       "std         0.496838       0.481001  ...       0.351218       0.202735   \n",
       "min        -1.000000      -1.000000  ...       0.000000       0.000000   \n",
       "25%        -0.462468      -0.312348  ...       0.000000       0.341036   \n",
       "50%        -0.059549       0.099504  ...       0.473684       0.407190   \n",
       "75%         0.343982       0.408248  ...       0.684211       0.729171   \n",
       "max         1.000000       1.000000  ...       1.000000       1.000000   \n",
       "\n",
       "              y_norm         z_norm  parent_loc_x_norm  parent_loc_y_norm  \\\n",
       "count  192348.000000  192348.000000      192348.000000      192348.000000   \n",
       "mean        0.557489       0.457754           0.467074           0.459076   \n",
       "std         0.092820       0.137163           0.202791           0.109102   \n",
       "min         0.000000       0.000000           0.000000           0.000000   \n",
       "25%         0.498595       0.343589           0.288945           0.388047   \n",
       "50%         0.554323       0.464765           0.369258           0.455009   \n",
       "75%         0.614242       0.560139           0.687667           0.526611   \n",
       "max         1.000000       1.000000           1.000000           1.000000   \n",
       "\n",
       "       parent_loc_z_norm   dircosx_norm   dircosy_norm   dircosz_norm  \n",
       "count      192348.000000  192348.000000  192348.000000  192348.000000  \n",
       "mean            0.491710       0.468473       0.529492       0.579373  \n",
       "std             0.141752       0.248419       0.240500       0.349693  \n",
       "min             0.000000       0.000000       0.000000       0.000000  \n",
       "25%             0.388594       0.268766       0.343826       0.225924  \n",
       "50%             0.497080       0.470225       0.549752       0.693828  \n",
       "75%             0.591823       0.671991       0.704124       0.904145  \n",
       "max             1.000000       1.000000       1.000000       1.000000  \n",
       "\n",
       "[8 rows x 40 columns]"
      ]
     },
     "execution_count": 9,
     "metadata": {},
     "output_type": "execute_result"
    }
   ],
   "source": [
    "orig_df = pd.read_csv(os.path.abspath(\"/home/sneha/e5_cleaned_normalised.csv\"))\n",
    "orig_df.describe()"
   ]
  },
  {
   "cell_type": "code",
   "execution_count": 10,
   "id": "4e9c0254-4846-4ec8-bac2-9be2e8752167",
   "metadata": {},
   "outputs": [],
   "source": [
    "label_df = pd.read_csv(os.path.abspath(\"/home/sneha/MESA_Exam5_airway_variants.csv\"))"
   ]
  },
  {
   "cell_type": "markdown",
   "id": "1a744267-b6a9-43c9-a8b5-44a95b2b2c90",
   "metadata": {},
   "source": [
    "####  Class distribution of the labels "
   ]
  },
  {
   "cell_type": "code",
   "execution_count": 11,
   "id": "e3e2ff0a",
   "metadata": {},
   "outputs": [
    {
     "name": "stdout",
     "output_type": "stream",
     "text": [
      "192348 2909\n",
      "191383 2890\n"
     ]
    }
   ],
   "source": [
    "pilot_df_w_labels = orig_df.merge(label_df, on='idno', how='left')\n",
    "# drop nan labels\n",
    "print(len(pilot_df_w_labels), pilot_df_w_labels.idno.nunique())\n",
    "pilot_df_w_labels.dropna(subset='LL_1', inplace=True)\n",
    "\n",
    "print(len(pilot_df_w_labels), pilot_df_w_labels.idno.nunique())"
   ]
  },
  {
   "cell_type": "code",
   "execution_count": 12,
   "id": "a3790e90",
   "metadata": {},
   "outputs": [
    {
     "name": "stdout",
     "output_type": "stream",
     "text": [
      "Label frequency distribution\n"
     ]
    },
    {
     "data": {
      "text/html": [
       "<div>\n",
       "<style scoped>\n",
       "    .dataframe tbody tr th:only-of-type {\n",
       "        vertical-align: middle;\n",
       "    }\n",
       "\n",
       "    .dataframe tbody tr th {\n",
       "        vertical-align: top;\n",
       "    }\n",
       "\n",
       "    .dataframe thead th {\n",
       "        text-align: right;\n",
       "    }\n",
       "</style>\n",
       "<table border=\"1\" class=\"dataframe\">\n",
       "  <thead>\n",
       "    <tr style=\"text-align: right;\">\n",
       "      <th></th>\n",
       "      <th>idno</th>\n",
       "      <th>percent</th>\n",
       "    </tr>\n",
       "    <tr>\n",
       "      <th>LL_1</th>\n",
       "      <th></th>\n",
       "      <th></th>\n",
       "    </tr>\n",
       "  </thead>\n",
       "  <tbody>\n",
       "    <tr>\n",
       "      <th>Abs. RB7</th>\n",
       "      <td>163</td>\n",
       "      <td>5.64</td>\n",
       "    </tr>\n",
       "    <tr>\n",
       "      <th>Acc. B*</th>\n",
       "      <td>412</td>\n",
       "      <td>14.26</td>\n",
       "    </tr>\n",
       "    <tr>\n",
       "      <th>Acc. LB7</th>\n",
       "      <td>42</td>\n",
       "      <td>1.45</td>\n",
       "    </tr>\n",
       "    <tr>\n",
       "      <th>Standard</th>\n",
       "      <td>2101</td>\n",
       "      <td>72.70</td>\n",
       "    </tr>\n",
       "    <tr>\n",
       "      <th>Unclass.</th>\n",
       "      <td>172</td>\n",
       "      <td>5.95</td>\n",
       "    </tr>\n",
       "  </tbody>\n",
       "</table>\n",
       "</div>"
      ],
      "text/plain": [
       "          idno  percent\n",
       "LL_1                   \n",
       "Abs. RB7   163     5.64\n",
       "Acc. B*    412    14.26\n",
       "Acc. LB7    42     1.45\n",
       "Standard  2101    72.70\n",
       "Unclass.   172     5.95"
      ]
     },
     "execution_count": 12,
     "metadata": {},
     "output_type": "execute_result"
    }
   ],
   "source": [
    "print(\"Label frequency distribution\")\n",
    "label_freq = pilot_df_w_labels.groupby('LL_1').agg({'idno':lambda x:x.nunique()})\n",
    "total = label_freq.idno.sum()\n",
    "label_freq['percent'] = label_freq.idno.apply(lambda x:np.round(100*x/total, 2))\n",
    "label_freq.rename({'idno':'#participants'}, inplace=True)\n",
    "label_freq"
   ]
  },
  {
   "cell_type": "code",
   "execution_count": 14,
   "id": "f3211dd9-9e88-4964-99d5-7899bdcdf07b",
   "metadata": {},
   "outputs": [],
   "source": [
    "# drop unclassified from training data\n",
    "pilot_df_w_labels = pilot_df_w_labels.loc[~(pilot_df_w_labels.LL_1.str.lower().str.contains('unclass'))]\n"
   ]
  },
  {
   "cell_type": "code",
   "execution_count": 15,
   "id": "d96d9eb0",
   "metadata": {},
   "outputs": [
    {
     "data": {
      "text/html": [
       "<div>\n",
       "<style scoped>\n",
       "    .dataframe tbody tr th:only-of-type {\n",
       "        vertical-align: middle;\n",
       "    }\n",
       "\n",
       "    .dataframe tbody tr th {\n",
       "        vertical-align: top;\n",
       "    }\n",
       "\n",
       "    .dataframe thead th {\n",
       "        text-align: right;\n",
       "    }\n",
       "</style>\n",
       "<table border=\"1\" class=\"dataframe\">\n",
       "  <thead>\n",
       "    <tr style=\"text-align: right;\">\n",
       "      <th></th>\n",
       "      <th>idno</th>\n",
       "      <th>percent</th>\n",
       "    </tr>\n",
       "    <tr>\n",
       "      <th>binaryLL_1</th>\n",
       "      <th></th>\n",
       "      <th></th>\n",
       "    </tr>\n",
       "  </thead>\n",
       "  <tbody>\n",
       "    <tr>\n",
       "      <th>0</th>\n",
       "      <td>2101</td>\n",
       "      <td>77.3</td>\n",
       "    </tr>\n",
       "    <tr>\n",
       "      <th>1</th>\n",
       "      <td>617</td>\n",
       "      <td>22.7</td>\n",
       "    </tr>\n",
       "  </tbody>\n",
       "</table>\n",
       "</div>"
      ],
      "text/plain": [
       "            idno  percent\n",
       "binaryLL_1               \n",
       "0           2101     77.3\n",
       "1            617     22.7"
      ]
     },
     "execution_count": 15,
     "metadata": {},
     "output_type": "execute_result"
    }
   ],
   "source": [
    "# make labels binary\n",
    "binary_label = {\n",
    "    \n",
    "    'Abs. RB7': 1,\n",
    "'Acc. B*': 1,\n",
    "'Acc. LB7':1,\n",
    "'Standard':0\n",
    "    \n",
    "    \n",
    "}\n",
    "pilot_df_w_labels['binaryLL_1'] = pilot_df_w_labels.LL_1.apply(lambda x: binary_label[x])\n",
    "\n",
    "binary_label_freq = pilot_df_w_labels.groupby('binaryLL_1').agg({'idno':lambda x:x.nunique()})\n",
    "total = binary_label_freq.idno.sum()\n",
    "binary_label_freq['percent'] = binary_label_freq.idno.apply(lambda x:np.round(100*x/total, 2))\n",
    "binary_label_freq.rename({'idno':'#participants'}, inplace=True)\n",
    "binary_label_freq"
   ]
  },
  {
   "cell_type": "code",
   "execution_count": 16,
   "id": "427ad95d",
   "metadata": {},
   "outputs": [
    {
     "data": {
      "text/plain": [
       "Index(['idno', 'anatomicalname', 'centerlinelength', 'avginnerarea', 'lobe',\n",
       "       'sublobe', 'endbpid', 'startbpid', 'angle', 'dircosx', 'dircosy',\n",
       "       'dircosz', 'weibel_generation', 'QC', 'x', 'y', 'z', 'parent_loc_x',\n",
       "       'parent_loc_y', 'parent_loc_z', 'endbpid_nn_in_lobe', 'dist_nn_in_lobe',\n",
       "       'num_desc', 'max_path_length', 'centerlinelength_norm',\n",
       "       'avginnerarea_norm', 'dist_nn_in_lobe_norm', 'max_path_length_norm',\n",
       "       'angle_norm', 'weibel_generation_norm', 'num_desc_norm', 'lobe_norm',\n",
       "       'sublobe_norm', 'x_norm', 'y_norm', 'z_norm', 'parent_loc_x_norm',\n",
       "       'parent_loc_y_norm', 'parent_loc_z_norm', 'dircosx_norm',\n",
       "       'dircosy_norm', 'dircosz_norm', 'LL_1', 'Standard', 'Acc_B', 'Abs_RB7',\n",
       "       'Acc_LB7', 'Rare', 'Unclassified', 'binaryLL_1'],\n",
       "      dtype='object')"
      ]
     },
     "execution_count": 16,
     "metadata": {},
     "output_type": "execute_result"
    }
   ],
   "source": [
    "pilot_df_w_labels.columns"
   ]
  },
  {
   "cell_type": "code",
   "execution_count": 64,
   "id": "18b479d8",
   "metadata": {},
   "outputs": [],
   "source": [
    "# drop irrellevant cols\n",
    "pilot_df = pilot_df_w_labels.copy()\n",
    "binary_label_df = pilot_df[['idno', 'binaryLL_1']]"
   ]
  },
  {
   "cell_type": "code",
   "execution_count": 65,
   "id": "2980df76",
   "metadata": {},
   "outputs": [],
   "source": [
    "# SAVE PILOT DF for training\n",
    "pilot_df.to_csv('/home/sneha/e5_cleaned_normalised_w_labels.csv')\n",
    "binary_label_df.to_csv('/home/sneha/e5_binary_labels.csv')"
   ]
  },
  {
   "cell_type": "markdown",
   "id": "6c4dee94-15ef-41e7-b84d-1b57549eed88",
   "metadata": {},
   "source": [
    "## Make a graph sample & visualise in networkx"
   ]
  },
  {
   "cell_type": "code",
   "execution_count": 24,
   "id": "9ec6b457-7537-454c-b38e-8c5664412529",
   "metadata": {},
   "outputs": [
    {
     "name": "stderr",
     "output_type": "stream",
     "text": [
      "/tmp/ipykernel_28426/640908086.py:10: SettingWithCopyWarning: \n",
      "A value is trying to be set on a copy of a slice from a DataFrame.\n",
      "Try using .loc[row_indexer,col_indexer] = value instead\n",
      "\n",
      "See the caveats in the documentation: https://pandas.pydata.org/pandas-docs/stable/user_guide/indexing.html#returning-a-view-versus-a-copy\n",
      "  tree_w_coords['anatomicalname'] = tree_w_coords['anatomicalname'].apply(lambda x:\"\" if ('unnamed' in x) or (x == '-') else x)\n"
     ]
    },
    {
     "data": {
      "image/png": "[encoded data removed]",
      "text/plain": [
       "<Figure size 720x720 with 1 Axes>"
      ]
     },
     "metadata": {
      "needs_background": "light"
     },
     "output_type": "display_data"
    }
   ],
   "source": [
    "tree_w_coords = pilot_df[(pilot_df.idno ==3011950)]\n",
    "val_min = tree_w_coords.weibel_generation.min()\n",
    "val_max=tree_w_coords.weibel_generation.max()\n",
    "# cmap = mpl.cm.RdYlGn#.reversed()\n",
    "cmap = mpl.colormaps['spring'].reversed()\n",
    "norm = mpl.colors.Normalize(vmin=val_min, vmax=val_max)\n",
    "\n",
    "\n",
    "# simpliofy names\n",
    "tree_w_coords['anatomicalname'] = tree_w_coords['anatomicalname'].apply(lambda x:\"\" if ('unnamed' in x) or (x == '-') else x)\n",
    "\n",
    "row = tree_w_coords.iloc[0]\n",
    "# quick visualisation of tree\n",
    "\n",
    "fig=plt.figure(figsize=(10,10))\n",
    "ax = fig.add_subplot(projection='3d')\n",
    "\n",
    "for i in range(len(tree_w_coords)):\n",
    "    row = tree_w_coords.iloc[i]\n",
    "    ax.plot([row.parent_loc_x,row.x], [row.parent_loc_y,row.y], [row.parent_loc_z, row.z], linestyle='-',linewidth=3, color= cmap(norm(row.weibel_generation)), label=row.anatomicalname)\n",
    "ax.grid(False)\n",
    "ax.set_facecolor(color=(1,1,1))\n",
    "plt.show()"
   ]
  },
  {
   "cell_type": "code",
   "execution_count": 29,
   "id": "91fac0f8",
   "metadata": {},
   "outputs": [
    {
     "data": {
      "text/plain": [
       "Index(['idno', 'anatomicalname', 'centerlinelength', 'avginnerarea', 'lobe',\n",
       "       'sublobe', 'endbpid', 'startbpid', 'angle', 'dircosx', 'dircosy',\n",
       "       'dircosz', 'weibel_generation', 'QC', 'x', 'y', 'z', 'parent_loc_x',\n",
       "       'parent_loc_y', 'parent_loc_z', 'endbpid_nn_in_lobe', 'dist_nn_in_lobe',\n",
       "       'num_desc', 'max_path_length', 'centerlinelength_norm',\n",
       "       'avginnerarea_norm', 'dist_nn_in_lobe_norm', 'max_path_length_norm',\n",
       "       'angle_norm', 'weibel_generation_norm', 'num_desc_norm', 'lobe_norm',\n",
       "       'sublobe_norm', 'x_norm', 'y_norm', 'z_norm', 'parent_loc_x_norm',\n",
       "       'parent_loc_y_norm', 'parent_loc_z_norm', 'dircosx_norm',\n",
       "       'dircosy_norm', 'dircosz_norm', 'LL_1', 'Standard', 'Acc_B', 'Abs_RB7',\n",
       "       'Acc_LB7', 'Rare', 'Unclassified', 'binaryLL_1'],\n",
       "      dtype='object')"
      ]
     },
     "execution_count": 29,
     "metadata": {},
     "output_type": "execute_result"
    }
   ],
   "source": [
    "tree_w_coords.columns"
   ]
  },
  {
   "cell_type": "code",
   "execution_count": 30,
   "id": "5e5d698a",
   "metadata": {},
   "outputs": [
    {
     "data": {
      "text/html": [
       "<div>\n",
       "<style scoped>\n",
       "    .dataframe tbody tr th:only-of-type {\n",
       "        vertical-align: middle;\n",
       "    }\n",
       "\n",
       "    .dataframe tbody tr th {\n",
       "        vertical-align: top;\n",
       "    }\n",
       "\n",
       "    .dataframe thead th {\n",
       "        text-align: right;\n",
       "    }\n",
       "</style>\n",
       "<table border=\"1\" class=\"dataframe\">\n",
       "  <thead>\n",
       "    <tr style=\"text-align: right;\">\n",
       "      <th></th>\n",
       "      <th>x</th>\n",
       "      <th>y</th>\n",
       "      <th>z</th>\n",
       "      <th>parent_loc_x</th>\n",
       "      <th>parent_loc_y</th>\n",
       "      <th>parent_loc_z</th>\n",
       "      <th>x_norm</th>\n",
       "      <th>y_norm</th>\n",
       "      <th>z_norm</th>\n",
       "      <th>parent_loc_x_norm</th>\n",
       "      <th>parent_loc_y_norm</th>\n",
       "      <th>parent_loc_z_norm</th>\n",
       "    </tr>\n",
       "  </thead>\n",
       "  <tbody>\n",
       "    <tr>\n",
       "      <th>5459</th>\n",
       "      <td>-1.065691</td>\n",
       "      <td>15.985358</td>\n",
       "      <td>80.459797</td>\n",
       "      <td>0.000000</td>\n",
       "      <td>0.000000</td>\n",
       "      <td>0.000000</td>\n",
       "      <td>0.522398</td>\n",
       "      <td>0.487989</td>\n",
       "      <td>0.255950</td>\n",
       "      <td>0.478133</td>\n",
       "      <td>0.278739</td>\n",
       "      <td>0.000000</td>\n",
       "    </tr>\n",
       "    <tr>\n",
       "      <th>5460</th>\n",
       "      <td>-12.858437</td>\n",
       "      <td>12.616001</td>\n",
       "      <td>100.675958</td>\n",
       "      <td>-1.065691</td>\n",
       "      <td>15.985358</td>\n",
       "      <td>80.459797</td>\n",
       "      <td>0.469716</td>\n",
       "      <td>0.473892</td>\n",
       "      <td>0.322418</td>\n",
       "      <td>0.472851</td>\n",
       "      <td>0.369629</td>\n",
       "      <td>0.287465</td>\n",
       "    </tr>\n",
       "    <tr>\n",
       "      <th>5461</th>\n",
       "      <td>38.909595</td>\n",
       "      <td>18.483814</td>\n",
       "      <td>111.690518</td>\n",
       "      <td>-1.065691</td>\n",
       "      <td>15.985358</td>\n",
       "      <td>80.459797</td>\n",
       "      <td>0.700983</td>\n",
       "      <td>0.498442</td>\n",
       "      <td>0.358632</td>\n",
       "      <td>0.472851</td>\n",
       "      <td>0.369629</td>\n",
       "      <td>0.287465</td>\n",
       "    </tr>\n",
       "    <tr>\n",
       "      <th>5462</th>\n",
       "      <td>-18.010936</td>\n",
       "      <td>13.131251</td>\n",
       "      <td>119.740224</td>\n",
       "      <td>-12.858437</td>\n",
       "      <td>12.616001</td>\n",
       "      <td>100.675958</td>\n",
       "      <td>0.446697</td>\n",
       "      <td>0.476047</td>\n",
       "      <td>0.385098</td>\n",
       "      <td>0.414404</td>\n",
       "      <td>0.350471</td>\n",
       "      <td>0.359693</td>\n",
       "    </tr>\n",
       "    <tr>\n",
       "      <th>5463</th>\n",
       "      <td>-25.499410</td>\n",
       "      <td>9.954747</td>\n",
       "      <td>95.353449</td>\n",
       "      <td>-12.858437</td>\n",
       "      <td>12.616001</td>\n",
       "      <td>100.675958</td>\n",
       "      <td>0.413244</td>\n",
       "      <td>0.462757</td>\n",
       "      <td>0.304918</td>\n",
       "      <td>0.414404</td>\n",
       "      <td>0.350471</td>\n",
       "      <td>0.359693</td>\n",
       "    </tr>\n",
       "  </tbody>\n",
       "</table>\n",
       "</div>"
      ],
      "text/plain": [
       "              x          y           z  parent_loc_x  parent_loc_y  \\\n",
       "5459  -1.065691  15.985358   80.459797      0.000000      0.000000   \n",
       "5460 -12.858437  12.616001  100.675958     -1.065691     15.985358   \n",
       "5461  38.909595  18.483814  111.690518     -1.065691     15.985358   \n",
       "5462 -18.010936  13.131251  119.740224    -12.858437     12.616001   \n",
       "5463 -25.499410   9.954747   95.353449    -12.858437     12.616001   \n",
       "\n",
       "      parent_loc_z    x_norm    y_norm    z_norm  parent_loc_x_norm  \\\n",
       "5459      0.000000  0.522398  0.487989  0.255950           0.478133   \n",
       "5460     80.459797  0.469716  0.473892  0.322418           0.472851   \n",
       "5461     80.459797  0.700983  0.498442  0.358632           0.472851   \n",
       "5462    100.675958  0.446697  0.476047  0.385098           0.414404   \n",
       "5463    100.675958  0.413244  0.462757  0.304918           0.414404   \n",
       "\n",
       "      parent_loc_y_norm  parent_loc_z_norm  \n",
       "5459           0.278739           0.000000  \n",
       "5460           0.369629           0.287465  \n",
       "5461           0.369629           0.287465  \n",
       "5462           0.350471           0.359693  \n",
       "5463           0.350471           0.359693  "
      ]
     },
     "execution_count": 30,
     "metadata": {},
     "output_type": "execute_result"
    }
   ],
   "source": [
    "tree_w_coords.head()[[ 'x', 'y', 'z', 'parent_loc_x',\n",
    "       'parent_loc_y', 'parent_loc_z','x_norm', 'y_norm', 'z_norm', 'parent_loc_x_norm',\n",
    "       'parent_loc_y_norm', 'parent_loc_z_norm']]"
   ]
  },
  {
   "cell_type": "code",
   "execution_count": 55,
   "id": "49475a9e-50ff-4f50-a20e-877046b6e3bf",
   "metadata": {},
   "outputs": [],
   "source": [
    "# nodes and features (pos, direction,lobe + sublobe categorical, angle to parent, weibel gen, dist to nearest neighbor in lobe, max path length to leaf, num descendents of node)\n",
    "node_features = ['x_norm', 'y_norm', 'z_norm', 'dircosx_norm',\n",
    "       'dircosy_norm', 'dircosz_norm','lobe_norm',\n",
    "       'sublobe_norm','angle_norm', 'weibel_generation_norm','dist_nn_in_lobe_norm', 'num_desc_norm','max_path_length_norm']\n",
    "\n",
    "nodes = list(zip(tree_w_coords.endbpid, tree_w_coords[node_features].to_dict(orient='records')))\n",
    "trachea_dict = dict.fromkeys(node_features, 0)\n",
    "for i in ['x_norm', 'y_norm', 'z_norm']:\n",
    "    trachea_dict[i] = tree_w_coords.loc[tree_w_coords.startbpid==-1][str('parent_loc_'+i)].item()\n",
    "nodes =[(-1, trachea_dict)]+nodes\n",
    "# nodes\n",
    "list(trachea_dict.values())\n",
    "\n",
    "list_of_nodes = tree_w_coords[node_features].to_dict(orient='records')\n",
    "list_of_lists_nodes =[list(trachea_dict.values())]+ [list(node_feature.values()) for node_feature in list_of_nodes]\n",
    "len(list_of_lists_nodes), len(nodes)\n",
    "x = torch.tensor(list_of_lists_nodes, dtype=torch.float)"
   ]
  },
  {
   "cell_type": "code",
   "execution_count": 60,
   "id": "d52bf57f",
   "metadata": {},
   "outputs": [
    {
     "name": "stdout",
     "output_type": "stream",
     "text": [
      "{0: 1.0, 1: 6.0, 2: 7.0, 3: 19.0, 4: 18.0, 5: 11.0, 6: 10.0, 7: 15.0, 8: 14.0, 9: 17.0, 10: 16.0, 11: 22.0, 12: 23.0, 13: 25.0, 14: 24.0, 15: 26.0, 16: 27.0, 17: 28.0, 18: 29.0, 19: 30.0, 20: 31.0, 21: 37.0, 22: 36.0, 23: 45.0, 24: 44.0, 25: 49.0, 26: 48.0, 27: 53.0, 28: 52.0, 29: 54.0, 30: 55.0, 31: 62.0, 32: 63.0, 33: 74.0, 34: 75.0, 35: 81.0, 36: 80.0, 37: 91.0, 38: 90.0, 39: 95.0, 40: 94.0, 41: 103.0, 42: 102.0, 43: 104.0, 44: 105.0, 45: 111.0, 46: 110.0, 47: 112.0, 48: 113.0, 49: 120.0, 50: 121.0, 51: 123.0, 52: 122.0, 53: 141.0, 54: 140.0, 55: 142.0, 56: 143.0, 57: 151.0, 58: 150.0, 59: 206.0, 60: 245.0, 61: 246.0, 62: 267.0, 63: 268.0, 64: 282.0, 65: 281.0, 66: 283.0, 67: 284.0}\n"
     ]
    },
    {
     "data": {
      "text/plain": [
       "{1.0: 1,\n",
       " 6.0: 2,\n",
       " 7.0: 3,\n",
       " 19.0: 4,\n",
       " 18.0: 5,\n",
       " 11.0: 6,\n",
       " 10.0: 7,\n",
       " 15.0: 8,\n",
       " 14.0: 9,\n",
       " 17.0: 10,\n",
       " 16.0: 11,\n",
       " 22.0: 12,\n",
       " 23.0: 13,\n",
       " 25.0: 14,\n",
       " 24.0: 15,\n",
       " 26.0: 16,\n",
       " 27.0: 17,\n",
       " 28.0: 18,\n",
       " 29.0: 19,\n",
       " 30.0: 20,\n",
       " 31.0: 21,\n",
       " 37.0: 22,\n",
       " 36.0: 23,\n",
       " 45.0: 24,\n",
       " 44.0: 25,\n",
       " 49.0: 26,\n",
       " 48.0: 27,\n",
       " 53.0: 28,\n",
       " 52.0: 29,\n",
       " 54.0: 30,\n",
       " 55.0: 31,\n",
       " 62.0: 32,\n",
       " 63.0: 33,\n",
       " 74.0: 34,\n",
       " 75.0: 35,\n",
       " 81.0: 36,\n",
       " 80.0: 37,\n",
       " 91.0: 38,\n",
       " 90.0: 39,\n",
       " 95.0: 40,\n",
       " 94.0: 41,\n",
       " 103.0: 42,\n",
       " 102.0: 43,\n",
       " 104.0: 44,\n",
       " 105.0: 45,\n",
       " 111.0: 46,\n",
       " 110.0: 47,\n",
       " 112.0: 48,\n",
       " 113.0: 49,\n",
       " 120.0: 50,\n",
       " 121.0: 51,\n",
       " 123.0: 52,\n",
       " 122.0: 53,\n",
       " 141.0: 54,\n",
       " 140.0: 55,\n",
       " 142.0: 56,\n",
       " 143.0: 57,\n",
       " 151.0: 58,\n",
       " 150.0: 59,\n",
       " 206.0: 60,\n",
       " 245.0: 61,\n",
       " 246.0: 62,\n",
       " 267.0: 63,\n",
       " 268.0: 64,\n",
       " 282.0: 65,\n",
       " 281.0: 66,\n",
       " 283.0: 67,\n",
       " 284.0: 68}"
      ]
     },
     "execution_count": 60,
     "metadata": {},
     "output_type": "execute_result"
    }
   ],
   "source": [
    "print(tree_w_coords.reset_index().endbpid.to_dict())\n",
    "relabel_map = {v:k+1 for k,v in tree_w_coords.reset_index().endbpid.to_dict().items()}\n",
    "relabel_map\n",
    "# x_list_plus_trachea = [[0,0,0,-1]]+ df_w_coords.apply(lambda row:row[['x','y','z', 'weibel_generation']].to_list(), axis=1).to_list() # here only node features are pos and weibel gen\n",
    "# x = torch.tensor(x_list_plus_trachea, dtype=torch.float)"
   ]
  },
  {
   "cell_type": "code",
   "execution_count": 32,
   "id": "8866649e-0fda-4c0d-a523-5de3df8024df",
   "metadata": {},
   "outputs": [],
   "source": [
    "# edges and features: TODO include all features relevant + NORMALISE\n",
    "edge_features = ['centerlinelength_norm',\n",
    "       'avginnerarea_norm']\n",
    "\n",
    "edges = list(zip(tree_w_coords.startbpid, tree_w_coords.endbpid))\n",
    "edges_with_features = dict(zip(edges,tree_w_coords[edge_features].to_dict(orient='records')))\n"
   ]
  },
  {
   "cell_type": "code",
   "execution_count": 35,
   "id": "7af00693-8f52-46ee-aa5d-7afeea6027c2",
   "metadata": {},
   "outputs": [
    {
     "data": {
      "image/png": "[encoded data removed]",
      "text/plain": [
       "<Figure size 720x720 with 1 Axes>"
      ]
     },
     "metadata": {},
     "output_type": "display_data"
    }
   ],
   "source": [
    "\n",
    "\n",
    "g = nx.DiGraph()\n",
    "g.add_nodes_from(nodes)\n",
    "g.add_edges_from(edges)\n",
    "\n",
    "nx.set_edge_attributes(g,edges_with_features)\n",
    "# print(g.edges(data=True))\n",
    "# print(g.nodes(data=True))\n",
    "# 2D projection of tree (excluding the trachea itself)\n",
    "col = nx.betweenness_centrality(g)\n",
    "\n",
    "val_min = min(col.values())\n",
    "val_max=max(col.values())\n",
    "# cmap = mpl.cm.RdYlGn#.reversed()\n",
    "cmap = mpl.colormaps['spring'].reversed()\n",
    "norm = mpl.colors.Normalize(vmin=val_min, vmax=val_max)\n",
    "cmap_nodes = [cmap(norm(col[node])) for node in g.nodes()]\n",
    "\n",
    "# cmap_nodes = [cmap(norm(g.nodes[node]['weibel_generation']))for node in g.nodes() if not len(g.nodes[node])==0]\n",
    "# labels = {node:g.nodes[node]['anatomicalname'] for node in g.nodes() if (not len(g.nodes[node])==0) & (len(g.nodes[node]['anatomicalname']) > 1)}\n",
    "edge_labels = {edge:tree_w_coords.loc[tree_w_coords.endbpid == edge[1]]['anatomicalname'].item() for edge in g.edges() }\n",
    "# print('edge', edge_labels)\n",
    "pos = nx.planar_layout(g, scale=1, center=(0,0), dim=2)\n",
    "\n",
    "f, ax = plt.subplots(figsize=(10,10))\n",
    "cax = fig.add_axes([0.27, 0.8, 0.5, 0.05])\n",
    "nx.draw(g,pos=pos, with_labels=False,node_color=cmap_nodes, ax=ax)\n",
    "nx.draw_networkx_edge_labels(g, pos,\n",
    "                          edge_labels,\n",
    "                             font_color='k',\n",
    "                             font_size='10',\n",
    "                          label_pos=0.5,\n",
    "                          )\n",
    "plt.title(f'TRAINING GRAPH: {tree_w_coords.idno.unique()}')\n",
    "# plt.colorbar(cmap_nodes, cax=cax, orientation='vertical')\n",
    "plt.show()"
   ]
  },
  {
   "cell_type": "markdown",
   "id": "c167b805-997b-4035-b097-9a471aa5998f",
   "metadata": {},
   "source": [
    "## Pytorch Dataset for Geometric\n",
    "\n",
    "- TODO drop the unclassified examples\n",
    "- MAKE BINARY LABELS\n",
    "- WEIGHTED LOSS\n",
    "- SPLIT TRAIN TEST\n",
    "- LOOK INTO BETTER GCNS\n",
    "- FEATURE ENGINEERING AND NORMALISATION"
   ]
  },
  {
   "cell_type": "code",
   "execution_count": 37,
   "id": "3728de72-8825-4409-88d0-f2fb8b6e0294",
   "metadata": {
    "tags": []
   },
   "outputs": [],
   "source": [
    "\n",
    "# g = torch_geometric.utils.to_networkx(# torch dataset, to_undirected=False)\n",
    "# nx.draw_planar(g, with_labels=True)\n",
    "# g.edges()\n",
    "\n",
    "# WHAT IS RAW PATHS"
   ]
  },
  {
   "cell_type": "code",
   "execution_count": 36,
   "id": "fe294c3b-516c-47c3-b9d8-611a93af176e",
   "metadata": {},
   "outputs": [
    {
     "name": "stderr",
     "output_type": "stream",
     "text": [
      "Processing...\n"
     ]
    },
    {
     "name": "stdout",
     "output_type": "stream",
     "text": [
      "# Graphs 227 Label Frequency Counter({1: 177, 0: 50})\n",
      "{1: 0.7797356828193832, 0: 0.22026431718061673}\n"
     ]
    },
    {
     "name": "stderr",
     "output_type": "stream",
     "text": [
      "  0%|                                                                                           | 0/227 [00:00<?, ?it/s]\n"
     ]
    },
    {
     "ename": "NameError",
     "evalue": "name '_get_coords' is not defined",
     "output_type": "error",
     "traceback": [
      "\u001b[0;31m---------------------------------------------------------------------------\u001b[0m",
      "\u001b[0;31mNameError\u001b[0m                                 Traceback (most recent call last)",
      "Input \u001b[0;32mIn [36]\u001b[0m, in \u001b[0;36m<cell line: 129>\u001b[0;34m()\u001b[0m\n\u001b[1;32m    126\u001b[0m     \u001b[38;5;28;01mdef\u001b[39;00m \u001b[38;5;21m__repr__\u001b[39m(\u001b[38;5;28mself\u001b[39m):\n\u001b[1;32m    127\u001b[0m         \u001b[38;5;28;01mreturn\u001b[39;00m \u001b[38;5;124m'\u001b[39m\u001b[38;5;132;01m{}\u001b[39;00m\u001b[38;5;124m()\u001b[39m\u001b[38;5;124m'\u001b[39m\u001b[38;5;241m.\u001b[39mformat(\u001b[38;5;28mself\u001b[39m\u001b[38;5;241m.\u001b[39m\u001b[38;5;18m__class__\u001b[39m\u001b[38;5;241m.\u001b[39m\u001b[38;5;18m__name__\u001b[39m)\n\u001b[0;32m--> 129\u001b[0m my_data  \u001b[38;5;241m=\u001b[39m \u001b[43mCustomDataset\u001b[49m\u001b[43m(\u001b[49m\u001b[38;5;124;43m'\u001b[39;49m\u001b[38;5;124;43mdata/\u001b[39;49m\u001b[38;5;124;43m'\u001b[39;49m\u001b[43m,\u001b[49m\u001b[43m \u001b[49m\u001b[38;5;124;43m'\u001b[39;49m\u001b[38;5;124;43m/home/sneha/airway_tree_pilot_clean.csv\u001b[39;49m\u001b[38;5;124;43m'\u001b[39;49m\u001b[43m,\u001b[49m\u001b[38;5;124;43m\"\u001b[39;49m\u001b[38;5;124;43m/home/sneha/MESA_Exam5_airway_variants.csv\u001b[39;49m\u001b[38;5;124;43m\"\u001b[39;49m\u001b[43m)\u001b[49m\n",
      "Input \u001b[0;32mIn [36]\u001b[0m, in \u001b[0;36mCustomDataset.__init__\u001b[0;34m(self, root, filename_data, filename_labels, test, transform, pre_transform)\u001b[0m\n\u001b[1;32m      8\u001b[0m \u001b[38;5;28mself\u001b[39m\u001b[38;5;241m.\u001b[39mfilename_data \u001b[38;5;241m=\u001b[39m filename_data\n\u001b[1;32m      9\u001b[0m \u001b[38;5;28mself\u001b[39m\u001b[38;5;241m.\u001b[39mfilename_labels \u001b[38;5;241m=\u001b[39m filename_labels\n\u001b[0;32m---> 10\u001b[0m \u001b[38;5;28;43msuper\u001b[39;49m\u001b[43m(\u001b[49m\u001b[43mCustomDataset\u001b[49m\u001b[43m,\u001b[49m\u001b[43m \u001b[49m\u001b[38;5;28;43mself\u001b[39;49m\u001b[43m)\u001b[49m\u001b[38;5;241;43m.\u001b[39;49m\u001b[38;5;21;43m__init__\u001b[39;49m\u001b[43m(\u001b[49m\u001b[43mroot\u001b[49m\u001b[43m,\u001b[49m\u001b[43m \u001b[49m\u001b[43mtransform\u001b[49m\u001b[43m,\u001b[49m\u001b[43m \u001b[49m\u001b[43mpre_transform\u001b[49m\u001b[43m)\u001b[49m\n",
      "File \u001b[0;32m~/miniconda3/envs/my_env/lib/python3.8/site-packages/torch_geometric/data/dataset.py:87\u001b[0m, in \u001b[0;36mDataset.__init__\u001b[0;34m(self, root, transform, pre_transform, pre_filter)\u001b[0m\n\u001b[1;32m     84\u001b[0m     \u001b[38;5;28mself\u001b[39m\u001b[38;5;241m.\u001b[39m_download()\n\u001b[1;32m     86\u001b[0m \u001b[38;5;28;01mif\u001b[39;00m \u001b[38;5;124m'\u001b[39m\u001b[38;5;124mprocess\u001b[39m\u001b[38;5;124m'\u001b[39m \u001b[38;5;129;01min\u001b[39;00m \u001b[38;5;28mself\u001b[39m\u001b[38;5;241m.\u001b[39m\u001b[38;5;18m__class__\u001b[39m\u001b[38;5;241m.\u001b[39m\u001b[38;5;18m__dict__\u001b[39m:\n\u001b[0;32m---> 87\u001b[0m     \u001b[38;5;28;43mself\u001b[39;49m\u001b[38;5;241;43m.\u001b[39;49m\u001b[43m_process\u001b[49m\u001b[43m(\u001b[49m\u001b[43m)\u001b[49m\n",
      "File \u001b[0;32m~/miniconda3/envs/my_env/lib/python3.8/site-packages/torch_geometric/data/dataset.py:170\u001b[0m, in \u001b[0;36mDataset._process\u001b[0;34m(self)\u001b[0m\n\u001b[1;32m    167\u001b[0m \u001b[38;5;28mprint\u001b[39m(\u001b[38;5;124m'\u001b[39m\u001b[38;5;124mProcessing...\u001b[39m\u001b[38;5;124m'\u001b[39m, file\u001b[38;5;241m=\u001b[39msys\u001b[38;5;241m.\u001b[39mstderr)\n\u001b[1;32m    169\u001b[0m makedirs(\u001b[38;5;28mself\u001b[39m\u001b[38;5;241m.\u001b[39mprocessed_dir)\n\u001b[0;32m--> 170\u001b[0m \u001b[38;5;28;43mself\u001b[39;49m\u001b[38;5;241;43m.\u001b[39;49m\u001b[43mprocess\u001b[49m\u001b[43m(\u001b[49m\u001b[43m)\u001b[49m\n\u001b[1;32m    172\u001b[0m path \u001b[38;5;241m=\u001b[39m osp\u001b[38;5;241m.\u001b[39mjoin(\u001b[38;5;28mself\u001b[39m\u001b[38;5;241m.\u001b[39mprocessed_dir, \u001b[38;5;124m'\u001b[39m\u001b[38;5;124mpre_transform.pt\u001b[39m\u001b[38;5;124m'\u001b[39m)\n\u001b[1;32m    173\u001b[0m torch\u001b[38;5;241m.\u001b[39msave(_repr(\u001b[38;5;28mself\u001b[39m\u001b[38;5;241m.\u001b[39mpre_transform), path)\n",
      "Input \u001b[0;32mIn [36]\u001b[0m, in \u001b[0;36mCustomDataset.process\u001b[0;34m(self)\u001b[0m\n\u001b[1;32m     36\u001b[0m df \u001b[38;5;241m=\u001b[39m \u001b[38;5;28mself\u001b[39m\u001b[38;5;241m.\u001b[39mdata\u001b[38;5;241m.\u001b[39mloc[\u001b[38;5;28mself\u001b[39m\u001b[38;5;241m.\u001b[39mdata\u001b[38;5;241m.\u001b[39midno \u001b[38;5;241m==\u001b[39m idno]\u001b[38;5;241m.\u001b[39mcopy()\u001b[38;5;241m.\u001b[39mreset_index()\n\u001b[1;32m     37\u001b[0m \u001b[38;5;66;03m# build a graph out of the df with node features, edge_features and edge_adjacency\u001b[39;00m\n\u001b[0;32m---> 38\u001b[0m x \u001b[38;5;241m=\u001b[39m \u001b[38;5;28;43mself\u001b[39;49m\u001b[38;5;241;43m.\u001b[39;49m\u001b[43m_get_node_features\u001b[49m\u001b[43m(\u001b[49m\u001b[43mdf\u001b[49m\u001b[43m)\u001b[49m\n\u001b[1;32m     39\u001b[0m edge_adjacency \u001b[38;5;241m=\u001b[39m \u001b[38;5;28mself\u001b[39m\u001b[38;5;241m.\u001b[39m_get_edge_adjacency(df)\n\u001b[1;32m     40\u001b[0m edge_features \u001b[38;5;241m=\u001b[39m \u001b[38;5;28mself\u001b[39m\u001b[38;5;241m.\u001b[39m_get_edge_features(df)\n",
      "Input \u001b[0;32mIn [36]\u001b[0m, in \u001b[0;36mCustomDataset._get_node_features\u001b[0;34m(self, df)\u001b[0m\n\u001b[1;32m     85\u001b[0m \u001b[38;5;28;01mdef\u001b[39;00m \u001b[38;5;21m_get_node_features\u001b[39m(\u001b[38;5;28mself\u001b[39m,df):\n\u001b[0;32m---> 86\u001b[0m     df_w_coords \u001b[38;5;241m=\u001b[39m \u001b[43m_get_coords\u001b[49m(df)\n\u001b[1;32m     87\u001b[0m     \u001b[38;5;66;03m# add trachea to nodes\u001b[39;00m\n\u001b[1;32m     88\u001b[0m     \u001b[38;5;66;03m# currently usnig as features \u001b[39;00m\n\u001b[1;32m     89\u001b[0m     x_list_plus_trachea \u001b[38;5;241m=\u001b[39m [[\u001b[38;5;241m0\u001b[39m,\u001b[38;5;241m0\u001b[39m,\u001b[38;5;241m0\u001b[39m,\u001b[38;5;241m-\u001b[39m\u001b[38;5;241m1\u001b[39m]]\u001b[38;5;241m+\u001b[39m df_w_coords\u001b[38;5;241m.\u001b[39mapply(\u001b[38;5;28;01mlambda\u001b[39;00m row:row[[\u001b[38;5;124m'\u001b[39m\u001b[38;5;124mx\u001b[39m\u001b[38;5;124m'\u001b[39m,\u001b[38;5;124m'\u001b[39m\u001b[38;5;124my\u001b[39m\u001b[38;5;124m'\u001b[39m,\u001b[38;5;124m'\u001b[39m\u001b[38;5;124mz\u001b[39m\u001b[38;5;124m'\u001b[39m, \u001b[38;5;124m'\u001b[39m\u001b[38;5;124mweibel_generation\u001b[39m\u001b[38;5;124m'\u001b[39m]]\u001b[38;5;241m.\u001b[39mto_list(), axis\u001b[38;5;241m=\u001b[39m\u001b[38;5;241m1\u001b[39m)\u001b[38;5;241m.\u001b[39mto_list() \u001b[38;5;66;03m# here only node features are pos and weibel gen\u001b[39;00m\n",
      "\u001b[0;31mNameError\u001b[0m: name '_get_coords' is not defined"
     ]
    }
   ],
   "source": [
    "class CustomDataset(torch_geometric.data.Dataset):\n",
    "    def __init__(self,root, filename_data, filename_labels, test=False, transform=None, pre_transform=None):\n",
    "        '''\n",
    "        root = where dataset should be stored, folder is split into raw_dir and processed_dir\n",
    "        filename_data = contains X features for nodes + edges (csv)\n",
    "        filename_labels= contains Y labels for graphs (csv)\n",
    "        '''\n",
    "        # super(CustomDataset, self).__init__(root, transform, pre_transform)\n",
    "        self.test = test\n",
    "        self.filename_data = filename_data\n",
    "        self.filename_labels = filename_labels\n",
    "        super(CustomDataset, self).__init__(root, transform, pre_transform)\n",
    "        \n",
    "    @property\n",
    "    def raw_file_names(self):\n",
    "        return self.filename_data\n",
    "    \n",
    "    @property\n",
    "    def processed_file_names(self):\n",
    "        \"\"\" If these files are found in raw_dir, processing is skipped\"\"\"\n",
    "        self.data = pd.read_csv(self.raw_paths[0]).reset_index()\n",
    "\n",
    "        if self.test:\n",
    "            return [f'data_test_{i}.pt' for i in list(self.data.index)]\n",
    "        else:\n",
    "            return [f'data_{i}.pt' for i in list(self.data.index)]\n",
    "    \n",
    "    def _download(self):\n",
    "        pass\n",
    "    \n",
    "    def process(self):\n",
    "        self.data = pd.read_csv(os.path.abspath(self.raw_paths[0]))\n",
    "        label_df = self._process_labels()\n",
    "        graph_ids = self.data.idno.unique()\n",
    "        \n",
    "        for i, idno in tqdm(list(enumerate(graph_ids))):\n",
    "            # iterate through each patricipant (resetindex is important for node relabelling)\n",
    "            df = self.data.loc[self.data.idno == idno].copy().reset_index()\n",
    "            # build a graph out of the df with node features, edge_features and edge_adjacency\n",
    "            x = self._get_node_features(df)\n",
    "            edge_adjacency = self._get_edge_adjacency(df)\n",
    "            edge_features = self._get_edge_features(df)\n",
    "            y = self._get_label(idno, label_df)\n",
    "            data = Data(x=x,\n",
    "                        edge_index=edge_adjacency,\n",
    "                        edge_attr = edge_features,\n",
    "                        y = y\n",
    "                       )\n",
    "            if self.test:\n",
    "                torch.save(data, \n",
    "                            os.path.join(self.processed_dir, \n",
    "                                         f'data_test_{i}.pt'))\n",
    "            else:\n",
    "                 torch.save(data, \n",
    "                            os.path.join(self.processed_dir, \n",
    "                                         f'data_{i}.pt'))\n",
    "    \n",
    "    \n",
    "    def _process_labels(self):\n",
    "        '''\n",
    "        Reads label df - checks its binary 0,1 labels (REQUIRES COLUMN binaryLL_1) if not returns an error \n",
    "        Keeps only rows that match idnos in self.data_df which is processed first\n",
    "        measures class proportions and saves to self.class_proportions\n",
    "        returns a df which has a label per idno with label in col called 'y'\n",
    "        '''\n",
    "        #(NOTE THIS IS WRONG YOU NEED TO DROP UNALBELLED)\n",
    "        label_df = pd.read_csv(os.path.abspath(self.filename_labels))\n",
    "        # binarise \n",
    "        assert 'binaryLL_1' in label_df.columns, \"The column binaryLL_1 cannot be found\"\n",
    "        # drop unnecessary cols\n",
    "        \n",
    "        # drop rows not matching to data ids\n",
    "        data_df =  pd.read_csv(os.path.abspath(self.filename_data))\n",
    "        label_df_small = label_df.loc[label_df.idno.isin(data_df.idno.unique())]\n",
    "        \n",
    "        print(\"# Graphs\", len(label_df_small), \"Label Frequency\", Counter(label_df_small['binaryLL_1'].to_list()))\n",
    "        self.class_proportions = {k:v/len(label_df_small) for k,v in Counter(label_df_small['binaryLL_1'].to_list()).items()}\n",
    "        print(f\"Class proportions: {self.class_proportions}\")\n",
    "        return label_df_small\n",
    "    \n",
    "    def _get_edge_adjacency(self,df):\n",
    "        '''\n",
    "        NOTE pytorch requires nodes to start from 0 and go up in integers so need to remap start and end bpids from df\n",
    "        Turns endbpid 1 > 1, if the next one in the df is endbpid=6 it becomes 2 etc so that the endbpids are in order from 1 to max (index+1)\n",
    "        Adds trachea (node 0)\n",
    "        applyys relabelling to start and endbpid based on the dict \n",
    "        returns torch tensor in COO format which is a parallel list [[source_node_list], [corresponding_end_node_list]]\n",
    "        in this format, at list[0][2] and list[1][2] will be source-end node of the second edge in the list\n",
    "        '''\n",
    "        # reindex start / endbpids\n",
    "        relabel_map = {v:k+1 for k,v in df.endbpid.to_dict().items()}\n",
    "        # add trachea map (node 0)\n",
    "        relabel_map[-1] = 0\n",
    "        # apply relabelling to source and end nodes\n",
    "        source_nodes = df.startbpid.apply(lambda x: relabel_map[x]).to_list()\n",
    "        end_nodes = df.endbpid.apply(lambda x: relabel_map[x]).to_list()\n",
    "        # return in COO format\n",
    "        return torch.tensor([source_nodes, end_nodes], dtype=torch.long)\n",
    "\n",
    "    def _get_node_features(self,df):\n",
    "        '''\n",
    "        DF already contains normalised features\n",
    "        Feature names in node_features\n",
    "        Format to return is a tensor of shape num_nodes x node_feature_dim with dtype float \n",
    "        assumes ordered in ascending order with nodes 0 and up in integers (so node = index / row num)\n",
    "        '''\n",
    "        # nodes and features (pos, direction,lobe + sublobe categorical, angle to parent, weibel gen, dist to nearest neighbor in lobe, max path length to leaf, num descendents of node)\n",
    "        node_features = ['x_norm', 'y_norm', 'z_norm', 'dircosx_norm',\n",
    "               'dircosy_norm', 'dircosz_norm','lobe_norm',\n",
    "               'sublobe_norm','angle_norm', 'weibel_generation_norm','dist_nn_in_lobe_norm', 'num_desc_norm','max_path_length_norm']\n",
    "        # adding trachea info to top of list\n",
    "        trachea_dict = dict.fromkeys(node_features, 0)\n",
    "        for i in ['x_norm', 'y_norm', 'z_norm']:\n",
    "            trachea_dict[i] = tree_w_coords.loc[tree_w_coords.startbpid==-1][str('parent_loc_'+i)].item()\n",
    "        \n",
    "        # currently usnig as features \n",
    "        list_of_nodes = df[node_features].to_dict(orient='records')\n",
    "        # add trachea to nodes\n",
    "        list_of_lists_nodes =[list(trachea_dict.values())]+ [list(node_feature.values()) for node_feature in list_of_nodes]\n",
    "        x = torch.tensor(list_of_lists_nodes, dtype=torch.float)\n",
    "        print(\"Shape node features\", x.shape)\n",
    "        return x\n",
    "\n",
    "    def _get_edge_features(self,df):\n",
    "        '''\n",
    "        get matrix of shape [# edges, edge feature size] with type float\n",
    "        '''\n",
    "        edge_feature_names = ['centerlinelength_norm','avginnerarea_norm']\n",
    "        edge_norm = df[edge_feature_names].values\n",
    "        return torch.tensor(edge_norm, dtype=torch.float)\n",
    "\n",
    "    def _get_label(self, idno, label_df):\n",
    "        '''\n",
    "        for the selected idno, returns value in binaryLL_1 col as an integer\n",
    "        '''\n",
    "        return torch.tensor(label_df.loc[label_df.idno==idno,\n",
    "                 'binaryLL_1'].values, dtype=torch.int64)\n",
    "    \n",
    "    def len(self):\n",
    "        return int(self.data.idno.nunique())\n",
    "    \n",
    "    def get(self, idx):\n",
    "        '''\n",
    "        Equivalent to __getitem__ in pytorch\n",
    "        '''\n",
    "        if self.test:\n",
    "            data = torch.load(os.path.join(self.processed_dir, \n",
    "                                 f'data_test_{idx}.pt'))\n",
    "        else:\n",
    "            data = torch.load(os.path.join(self.processed_dir, \n",
    "                                 f'data_{idx}.pt'))   \n",
    "        return data\n",
    "            \n",
    "\n",
    "    def __repr__(self):\n",
    "        return '{}()'.format(self.__class__.__name__)\n",
    "\n",
    "\n",
    "my_data  = CustomDataset('data/', '/home/sneha/e5_cleaned_normalised_w_labels.csv',\"/home/sneha/e5_binary_labels.csv\")\n"
   ]
  },
  {
   "cell_type": "code",
   "execution_count": 56,
   "id": "2de30873-9589-4e8e-aedf-795417d96c61",
   "metadata": {},
   "outputs": [
    {
     "name": "stdout",
     "output_type": "stream",
     "text": [
      "{1: 0.7797356828193832, 0: 0.22026431718061673}\n"
     ]
    }
   ],
   "source": [
    "train_loader = DataLoader(my_data, batch_size=16, shuffle=True)\n",
    "print(train_loader.dataset.class_proportions)"
   ]
  },
  {
   "cell_type": "code",
   "execution_count": 19,
   "id": "9b007a10-05f8-402d-8384-fdd137ba0a85",
   "metadata": {
    "tags": []
   },
   "outputs": [
    {
     "name": "stdout",
     "output_type": "stream",
     "text": [
      "tensor([[ 1.5410, -0.2934, -2.1788],\n",
      "        [ 0.5684, -1.0845, -1.3986]])\n",
      "tensor([[0.8446, 0.1349, 0.0205],\n",
      "        [0.7511, 0.1438, 0.1051]])\n"
     ]
    },
    {
     "name": "stderr",
     "output_type": "stream",
     "text": [
      "/tmp/ipykernel_9786/4204858206.py:4: UserWarning: Implicit dimension choice for softmax has been deprecated. Change the call to include dim=X as an argument.\n",
      "  print(m(input))\n",
      "/tmp/ipykernel_9786/4204858206.py:5: UserWarning: Implicit dimension choice for softmax has been deprecated. Change the call to include dim=X as an argument.\n",
      "  m(input).argmax(dim=1)\n"
     ]
    },
    {
     "data": {
      "text/plain": [
       "tensor([0, 0])"
      ]
     },
     "execution_count": 19,
     "metadata": {},
     "output_type": "execute_result"
    }
   ],
   "source": [
    "m = nn.Softmax()\n",
    "input = torch.randn(2, 3)\n",
    "print(input)\n",
    "print(m(input))\n",
    "m(input).argmax(dim=1)"
   ]
  },
  {
   "cell_type": "markdown",
   "id": "e0463469",
   "metadata": {},
   "source": [
    "### MODELS"
   ]
  },
  {
   "cell_type": "code",
   "execution_count": null,
   "id": "6033cd4d",
   "metadata": {},
   "outputs": [],
   "source": [
    "\n",
    "class GAT(torch.nn.Module):\n",
    "    def __init__(self):\n",
    "        super(GAT, self).__init__()\n",
    "        self.hid = 8\n",
    "        self.in_head = 8\n",
    "        self.out_head = 1\n",
    "        \n",
    "        \n",
    "        self.conv1 = GATConv(dataset.num_features, self.hid, heads=self.in_head, dropout=0.6)\n",
    "        self.conv2 = GATConv(self.hid*self.in_head, dataset.num_classes, concat=False,\n",
    "                             heads=self.out_head, dropout=0.6)\n",
    "\n",
    "    def forward(self, data):\n",
    "        x, edge_index = data.x, data.edge_index\n",
    "                \n",
    "        x = F.dropout(x, p=0.6, training=self.training)\n",
    "        x = self.conv1(x, edge_index)\n",
    "        x = F.elu(x)\n",
    "        x = F.dropout(x, p=0.6, training=self.training)\n",
    "        x = self.conv2(x, edge_index)\n",
    "        \n",
    "        return F.log_softmax(x, dim=1)\n",
    "    \n",
    "    \n",
    "    \n",
    "device = torch.device('cuda' if torch.cuda.is_available() else 'cpu')\n",
    "device = \"cpu\"\n",
    "\n",
    "model = GAT().to(device)\n",
    "data = dataset[0].to(device)\n",
    "print(data)\n",
    "\n",
    "optimizer = torch.optim.Adam(model.parameters(), lr=0.005, weight_decay=5e-4)\n",
    "\n",
    "model.train()\n",
    "for epoch in range(1000):\n",
    "    model.train()\n",
    "    optimizer.zero_grad()\n",
    "    out = model(data)\n",
    "    print(out.shape)\n",
    "    loss = F.nll_loss(out[data.train_mask], data.y[data.train_mask])\n",
    "    \n",
    "    if epoch%200 == 0:\n",
    "        print(loss)\n",
    "    \n",
    "    loss.backward()\n",
    "    optimizer.step()\n",
    "    \n",
    "    "
   ]
  },
  {
   "cell_type": "code",
   "execution_count": 31,
   "id": "cfdbcdcb-ff2c-4659-9025-123ef2d41799",
   "metadata": {},
   "outputs": [
    {
     "name": "stdout",
     "output_type": "stream",
     "text": [
      "GCN(\n",
      "  (conv1): GCNConv(4, 8)\n",
      "  (conv2): GCNConv(8, 8)\n",
      "  (conv3): GCNConv(8, 8)\n",
      "  (lin): Linear(in_features=8, out_features=1, bias=True)\n",
      ")\n",
      "[Parameter containing:\n",
      "tensor([0., 0., 0., 0., 0., 0., 0., 0.], requires_grad=True), Parameter containing:\n",
      "tensor([[-0.2659, -0.1007, -0.3153, -0.0881],\n",
      "        [ 0.6361, -0.6798, -0.3345,  0.6009],\n",
      "        [-0.0372, -0.1469,  0.2378, -0.2987],\n",
      "        [ 0.2904, -0.4362, -0.2126,  0.5412],\n",
      "        [ 0.0693, -0.5593,  0.4248, -0.4699],\n",
      "        [-0.0456, -0.0020, -0.3116,  0.3165],\n",
      "        [-0.0699,  0.3861,  0.3593, -0.5530],\n",
      "        [ 0.5281,  0.0176,  0.5583,  0.4401]], requires_grad=True), Parameter containing:\n",
      "tensor([0., 0., 0., 0., 0., 0., 0., 0.], requires_grad=True), Parameter containing:\n",
      "tensor([[-0.3485,  0.2862, -0.5823, -0.2902,  0.2441,  0.5731,  0.3985,  0.2532],\n",
      "        [-0.4325,  0.1859, -0.2230,  0.0355, -0.0784,  0.5731,  0.3995,  0.0641],\n",
      "        [-0.5954,  0.4798,  0.4201,  0.2081, -0.6052, -0.4069,  0.3224, -0.5745],\n",
      "        [ 0.2614,  0.0707,  0.5597,  0.2097,  0.3235,  0.1978, -0.2891, -0.3327],\n",
      "        [-0.5938, -0.0956,  0.0091, -0.1978,  0.1691,  0.4295,  0.0498, -0.2379],\n",
      "        [-0.5336, -0.3147,  0.1886, -0.5703, -0.6084,  0.0333,  0.0157, -0.4815],\n",
      "        [ 0.1446,  0.2679, -0.4766, -0.0909,  0.3629,  0.5462, -0.4283, -0.3291],\n",
      "        [-0.3468, -0.3117, -0.3970,  0.4699, -0.0310, -0.4658, -0.4339, -0.5206]],\n",
      "       requires_grad=True), Parameter containing:\n",
      "tensor([0., 0., 0., 0., 0., 0., 0., 0.], requires_grad=True), Parameter containing:\n",
      "tensor([[ 0.5299,  0.3668, -0.1517, -0.2049,  0.5557, -0.3329,  0.1450,  0.3993],\n",
      "        [ 0.2879, -0.3447,  0.0471,  0.0763,  0.4063, -0.2911, -0.5219, -0.4318],\n",
      "        [ 0.4474,  0.3507,  0.2421, -0.4080, -0.5132,  0.0480, -0.2560, -0.5417],\n",
      "        [-0.5227, -0.1788, -0.1200, -0.4665, -0.2333, -0.1993,  0.5461, -0.2751],\n",
      "        [-0.1350,  0.5098, -0.3922, -0.0415, -0.2888,  0.2505,  0.3748,  0.1924],\n",
      "        [-0.3396,  0.1984, -0.2920, -0.5005,  0.5565,  0.4423, -0.2042,  0.3236],\n",
      "        [-0.0074,  0.2199, -0.0040,  0.4896,  0.4258, -0.0481,  0.0132,  0.5802],\n",
      "        [ 0.2815, -0.5953, -0.1077, -0.1772, -0.1508, -0.0154, -0.1901,  0.3304]],\n",
      "       requires_grad=True), Parameter containing:\n",
      "tensor([[-0.3486,  0.2580,  0.0407,  0.2382,  0.1038,  0.2437, -0.3482,  0.1842]],\n",
      "       requires_grad=True), Parameter containing:\n",
      "tensor([0.0709], requires_grad=True)]\n"
     ]
    }
   ],
   "source": [
    "\n",
    "\n",
    "class GCN(torch.nn.Module):\n",
    "    def __init__(self,in_channels, hidden_channels, out_channels):\n",
    "        super(GCN, self).__init__()\n",
    "        torch.manual_seed(12345)\n",
    "        self.conv1 = GCNConv(in_channels, hidden_channels)\n",
    "        self.conv2 = GCNConv(hidden_channels, hidden_channels)\n",
    "        self.conv3 = GCNConv(hidden_channels, hidden_channels)\n",
    "        self.lin = Linear(hidden_channels, out_channels)\n",
    "\n",
    "    def forward(self, x, edge_index, batch):\n",
    "        # 1. Obtain node embeddings\n",
    "        x = self.conv1(x, edge_index)\n",
    "        x = x.relu()\n",
    "        x = self.conv2(x, edge_index)\n",
    "        x = x.relu()\n",
    "        x = self.conv3(x, edge_index)\n",
    "        # 2. Readout layer\n",
    "        x = global_mean_pool(x, batch)  # [batch_size, hidden_channels]\n",
    "\n",
    "        # 3. Apply a final classifier\n",
    "        x = F.dropout(x, p=0.5, training=self.training)\n",
    "        x = self.lin(x)\n",
    "        \n",
    "        return torch.tensor(x)\n",
    "\n",
    "def _count_parameters(model):\n",
    "    return sum(p.numel() for p in model.parameters() if p.requires_grad == True)\n",
    "    \n",
    "model = GCN(in_channels=4, hidden_channels=8, out_channels=1)\n",
    "print(model)\n",
    "print(list(model.parameters()))"
   ]
  },
  {
   "cell_type": "code",
   "execution_count": 21,
   "id": "96d123f6-f4fe-44c7-be51-5e26ddf4eec9",
   "metadata": {},
   "outputs": [
    {
     "name": "stdout",
     "output_type": "stream",
     "text": [
      "tensor([[ 1.5410, -0.2934, -2.1788],\n",
      "        [ 0.5684, -1.0845, -1.3986]])\n",
      "tensor([0, 3, 2])\n"
     ]
    },
    {
     "data": {
      "text/plain": [
       "tensor(2.7728, grad_fn=<NllLossBackward0>)"
      ]
     },
     "execution_count": 21,
     "metadata": {},
     "output_type": "execute_result"
    }
   ],
   "source": [
    "loss = nn.CrossEntropyLoss()\n",
    "input_ = torch.randn(3, 5, requires_grad=True)\n",
    "target = torch.empty(3, dtype=torch.long).random_(5)\n",
    "print(input)\n",
    "print(target)\n",
    "loss(input_, target)"
   ]
  },
  {
   "cell_type": "code",
   "execution_count": 62,
   "id": "011746b0-4620-4858-a41b-7d3891f7c1e2",
   "metadata": {
    "tags": []
   },
   "outputs": [
    {
     "name": "stdout",
     "output_type": "stream",
     "text": [
      "Using cpu\n",
      "Setting torch, cuda, numpy and random seeds to 0\n",
      "Class proportions {1: 0.7797356828193832, 0: 0.22026431718061673}\n"
     ]
    },
    {
     "name": "stderr",
     "output_type": "stream",
     "text": [
      "  0%|                                                                                            | 0/15 [00:00<?, ?it/s]/tmp/ipykernel_9786/2828724317.py:24: UserWarning: To copy construct from a tensor, it is recommended to use sourceTensor.clone().detach() or sourceTensor.clone().detach().requires_grad_(True), rather than torch.tensor(sourceTensor).\n",
      "  return torch.tensor(x)\n",
      "100%|███████████████████████████████████████████████████████████████████████████████████| 15/15 [00:00<00:00, 44.55it/s]\n"
     ]
    },
    {
     "name": "stdout",
     "output_type": "stream",
     "text": [
      "Epoch: 0, Loss: 1.39\n"
     ]
    },
    {
     "data": {
      "image/png": "[encoded data removed]",
      "text/plain": [
       "<Figure size 432x288 with 1 Axes>"
      ]
     },
     "metadata": {
      "needs_background": "light"
     },
     "output_type": "display_data"
    },
    {
     "name": "stdout",
     "output_type": "stream",
     "text": [
      "Class proportions {1: 0.7797356828193832, 0: 0.22026431718061673}\n"
     ]
    },
    {
     "name": "stderr",
     "output_type": "stream",
     "text": [
      "  0%|                                                                                            | 0/15 [00:00<?, ?it/s]/tmp/ipykernel_9786/2828724317.py:24: UserWarning: To copy construct from a tensor, it is recommended to use sourceTensor.clone().detach() or sourceTensor.clone().detach().requires_grad_(True), rather than torch.tensor(sourceTensor).\n",
      "  return torch.tensor(x)\n",
      "100%|███████████████████████████████████████████████████████████████████████████████████| 15/15 [00:00<00:00, 45.83it/s]\n"
     ]
    },
    {
     "name": "stdout",
     "output_type": "stream",
     "text": [
      "Epoch: 1, Loss: 1.37\n",
      "Class proportions {1: 0.7797356828193832, 0: 0.22026431718061673}\n"
     ]
    },
    {
     "name": "stderr",
     "output_type": "stream",
     "text": [
      "100%|███████████████████████████████████████████████████████████████████████████████████| 15/15 [00:00<00:00, 44.30it/s]\n"
     ]
    },
    {
     "name": "stdout",
     "output_type": "stream",
     "text": [
      "Epoch: 2, Loss: 1.42\n",
      "Class proportions {1: 0.7797356828193832, 0: 0.22026431718061673}\n"
     ]
    },
    {
     "name": "stderr",
     "output_type": "stream",
     "text": [
      "100%|███████████████████████████████████████████████████████████████████████████████████| 15/15 [00:00<00:00, 41.85it/s]\n"
     ]
    },
    {
     "name": "stdout",
     "output_type": "stream",
     "text": [
      "Epoch: 3, Loss: 1.38\n",
      "Class proportions {1: 0.7797356828193832, 0: 0.22026431718061673}\n"
     ]
    },
    {
     "name": "stderr",
     "output_type": "stream",
     "text": [
      "100%|███████████████████████████████████████████████████████████████████████████████████| 15/15 [00:00<00:00, 41.36it/s]\n"
     ]
    },
    {
     "name": "stdout",
     "output_type": "stream",
     "text": [
      "Epoch: 4, Loss: 1.37\n",
      "Class proportions {1: 0.7797356828193832, 0: 0.22026431718061673}\n"
     ]
    },
    {
     "name": "stderr",
     "output_type": "stream",
     "text": [
      "100%|███████████████████████████████████████████████████████████████████████████████████| 15/15 [00:00<00:00, 45.19it/s]\n"
     ]
    },
    {
     "name": "stdout",
     "output_type": "stream",
     "text": [
      "Epoch: 5, Loss: 1.38\n",
      "Class proportions {1: 0.7797356828193832, 0: 0.22026431718061673}\n"
     ]
    },
    {
     "name": "stderr",
     "output_type": "stream",
     "text": [
      "100%|███████████████████████████████████████████████████████████████████████████████████| 15/15 [00:00<00:00, 45.15it/s]\n"
     ]
    },
    {
     "name": "stdout",
     "output_type": "stream",
     "text": [
      "Epoch: 6, Loss: 1.44\n",
      "Class proportions {1: 0.7797356828193832, 0: 0.22026431718061673}\n"
     ]
    },
    {
     "name": "stderr",
     "output_type": "stream",
     "text": [
      "100%|███████████████████████████████████████████████████████████████████████████████████| 15/15 [00:00<00:00, 45.12it/s]\n"
     ]
    },
    {
     "name": "stdout",
     "output_type": "stream",
     "text": [
      "Epoch: 7, Loss: 1.36\n",
      "Class proportions {1: 0.7797356828193832, 0: 0.22026431718061673}\n"
     ]
    },
    {
     "name": "stderr",
     "output_type": "stream",
     "text": [
      "100%|███████████████████████████████████████████████████████████████████████████████████| 15/15 [00:00<00:00, 45.73it/s]\n"
     ]
    },
    {
     "name": "stdout",
     "output_type": "stream",
     "text": [
      "Epoch: 8, Loss: 1.37\n",
      "Class proportions {1: 0.7797356828193832, 0: 0.22026431718061673}\n"
     ]
    },
    {
     "name": "stderr",
     "output_type": "stream",
     "text": [
      "100%|███████████████████████████████████████████████████████████████████████████████████| 15/15 [00:00<00:00, 46.21it/s]\n"
     ]
    },
    {
     "name": "stdout",
     "output_type": "stream",
     "text": [
      "Epoch: 9, Loss: 1.39\n",
      "Class proportions {1: 0.7797356828193832, 0: 0.22026431718061673}\n"
     ]
    },
    {
     "name": "stderr",
     "output_type": "stream",
     "text": [
      "100%|███████████████████████████████████████████████████████████████████████████████████| 15/15 [00:00<00:00, 45.33it/s]\n"
     ]
    },
    {
     "name": "stdout",
     "output_type": "stream",
     "text": [
      "Epoch: 10, Loss: 1.40\n",
      "Class proportions {1: 0.7797356828193832, 0: 0.22026431718061673}\n"
     ]
    },
    {
     "name": "stderr",
     "output_type": "stream",
     "text": [
      "100%|███████████████████████████████████████████████████████████████████████████████████| 15/15 [00:00<00:00, 45.25it/s]\n"
     ]
    },
    {
     "name": "stdout",
     "output_type": "stream",
     "text": [
      "Epoch: 11, Loss: 1.36\n",
      "Class proportions {1: 0.7797356828193832, 0: 0.22026431718061673}\n"
     ]
    },
    {
     "name": "stderr",
     "output_type": "stream",
     "text": [
      "100%|███████████████████████████████████████████████████████████████████████████████████| 15/15 [00:00<00:00, 46.45it/s]\n"
     ]
    },
    {
     "name": "stdout",
     "output_type": "stream",
     "text": [
      "Epoch: 12, Loss: 1.38\n",
      "Class proportions {1: 0.7797356828193832, 0: 0.22026431718061673}\n"
     ]
    },
    {
     "name": "stderr",
     "output_type": "stream",
     "text": [
      "100%|███████████████████████████████████████████████████████████████████████████████████| 15/15 [00:00<00:00, 45.62it/s]\n"
     ]
    },
    {
     "name": "stdout",
     "output_type": "stream",
     "text": [
      "Epoch: 13, Loss: 1.45\n",
      "Class proportions {1: 0.7797356828193832, 0: 0.22026431718061673}\n"
     ]
    },
    {
     "name": "stderr",
     "output_type": "stream",
     "text": [
      "100%|███████████████████████████████████████████████████████████████████████████████████| 15/15 [00:00<00:00, 45.40it/s]\n"
     ]
    },
    {
     "name": "stdout",
     "output_type": "stream",
     "text": [
      "Epoch: 14, Loss: 1.42\n",
      "Class proportions {1: 0.7797356828193832, 0: 0.22026431718061673}\n"
     ]
    },
    {
     "name": "stderr",
     "output_type": "stream",
     "text": [
      "100%|███████████████████████████████████████████████████████████████████████████████████| 15/15 [00:00<00:00, 40.73it/s]\n"
     ]
    },
    {
     "name": "stdout",
     "output_type": "stream",
     "text": [
      "Epoch: 15, Loss: 1.37\n",
      "Class proportions {1: 0.7797356828193832, 0: 0.22026431718061673}\n"
     ]
    },
    {
     "name": "stderr",
     "output_type": "stream",
     "text": [
      "100%|███████████████████████████████████████████████████████████████████████████████████| 15/15 [00:00<00:00, 46.09it/s]\n"
     ]
    },
    {
     "name": "stdout",
     "output_type": "stream",
     "text": [
      "Epoch: 16, Loss: 1.45\n",
      "Class proportions {1: 0.7797356828193832, 0: 0.22026431718061673}\n"
     ]
    },
    {
     "name": "stderr",
     "output_type": "stream",
     "text": [
      "100%|███████████████████████████████████████████████████████████████████████████████████| 15/15 [00:00<00:00, 47.29it/s]\n"
     ]
    },
    {
     "name": "stdout",
     "output_type": "stream",
     "text": [
      "Epoch: 17, Loss: 1.40\n",
      "Class proportions {1: 0.7797356828193832, 0: 0.22026431718061673}\n"
     ]
    },
    {
     "name": "stderr",
     "output_type": "stream",
     "text": [
      "100%|███████████████████████████████████████████████████████████████████████████████████| 15/15 [00:00<00:00, 39.93it/s]\n"
     ]
    },
    {
     "name": "stdout",
     "output_type": "stream",
     "text": [
      "Epoch: 18, Loss: 1.41\n",
      "Class proportions {1: 0.7797356828193832, 0: 0.22026431718061673}\n"
     ]
    },
    {
     "name": "stderr",
     "output_type": "stream",
     "text": [
      "100%|███████████████████████████████████████████████████████████████████████████████████| 15/15 [00:00<00:00, 42.17it/s]\n"
     ]
    },
    {
     "name": "stdout",
     "output_type": "stream",
     "text": [
      "Epoch: 19, Loss: 1.40\n",
      "Class proportions {1: 0.7797356828193832, 0: 0.22026431718061673}\n"
     ]
    },
    {
     "name": "stderr",
     "output_type": "stream",
     "text": [
      "100%|███████████████████████████████████████████████████████████████████████████████████| 15/15 [00:00<00:00, 47.03it/s]\n"
     ]
    },
    {
     "name": "stdout",
     "output_type": "stream",
     "text": [
      "Epoch: 20, Loss: 1.39\n",
      "Class proportions {1: 0.7797356828193832, 0: 0.22026431718061673}\n"
     ]
    },
    {
     "name": "stderr",
     "output_type": "stream",
     "text": [
      "100%|███████████████████████████████████████████████████████████████████████████████████| 15/15 [00:00<00:00, 46.23it/s]\n"
     ]
    },
    {
     "name": "stdout",
     "output_type": "stream",
     "text": [
      "Epoch: 21, Loss: 1.41\n",
      "Class proportions {1: 0.7797356828193832, 0: 0.22026431718061673}\n"
     ]
    },
    {
     "name": "stderr",
     "output_type": "stream",
     "text": [
      "100%|███████████████████████████████████████████████████████████████████████████████████| 15/15 [00:00<00:00, 42.15it/s]\n"
     ]
    },
    {
     "name": "stdout",
     "output_type": "stream",
     "text": [
      "Epoch: 22, Loss: 1.39\n",
      "Class proportions {1: 0.7797356828193832, 0: 0.22026431718061673}\n"
     ]
    },
    {
     "name": "stderr",
     "output_type": "stream",
     "text": [
      "100%|███████████████████████████████████████████████████████████████████████████████████| 15/15 [00:00<00:00, 42.71it/s]\n"
     ]
    },
    {
     "name": "stdout",
     "output_type": "stream",
     "text": [
      "Epoch: 23, Loss: 1.36\n",
      "Class proportions {1: 0.7797356828193832, 0: 0.22026431718061673}\n"
     ]
    },
    {
     "name": "stderr",
     "output_type": "stream",
     "text": [
      "100%|███████████████████████████████████████████████████████████████████████████████████| 15/15 [00:00<00:00, 38.86it/s]\n"
     ]
    },
    {
     "name": "stdout",
     "output_type": "stream",
     "text": [
      "Epoch: 24, Loss: 1.40\n",
      "Class proportions {1: 0.7797356828193832, 0: 0.22026431718061673}\n"
     ]
    },
    {
     "name": "stderr",
     "output_type": "stream",
     "text": [
      "100%|███████████████████████████████████████████████████████████████████████████████████| 15/15 [00:00<00:00, 41.10it/s]\n"
     ]
    },
    {
     "name": "stdout",
     "output_type": "stream",
     "text": [
      "Epoch: 25, Loss: 1.37\n",
      "Class proportions {1: 0.7797356828193832, 0: 0.22026431718061673}\n"
     ]
    },
    {
     "name": "stderr",
     "output_type": "stream",
     "text": [
      "100%|███████████████████████████████████████████████████████████████████████████████████| 15/15 [00:00<00:00, 45.89it/s]\n"
     ]
    },
    {
     "name": "stdout",
     "output_type": "stream",
     "text": [
      "Epoch: 26, Loss: 1.37\n",
      "Class proportions {1: 0.7797356828193832, 0: 0.22026431718061673}\n"
     ]
    },
    {
     "name": "stderr",
     "output_type": "stream",
     "text": [
      "100%|███████████████████████████████████████████████████████████████████████████████████| 15/15 [00:00<00:00, 46.50it/s]\n"
     ]
    },
    {
     "name": "stdout",
     "output_type": "stream",
     "text": [
      "Epoch: 27, Loss: 1.36\n",
      "Class proportions {1: 0.7797356828193832, 0: 0.22026431718061673}\n"
     ]
    },
    {
     "name": "stderr",
     "output_type": "stream",
     "text": [
      "100%|███████████████████████████████████████████████████████████████████████████████████| 15/15 [00:00<00:00, 46.45it/s]\n"
     ]
    },
    {
     "name": "stdout",
     "output_type": "stream",
     "text": [
      "Epoch: 28, Loss: 1.41\n",
      "Class proportions {1: 0.7797356828193832, 0: 0.22026431718061673}\n"
     ]
    },
    {
     "name": "stderr",
     "output_type": "stream",
     "text": [
      "100%|███████████████████████████████████████████████████████████████████████████████████| 15/15 [00:00<00:00, 46.88it/s]\n"
     ]
    },
    {
     "name": "stdout",
     "output_type": "stream",
     "text": [
      "Epoch: 29, Loss: 1.41\n",
      "Class proportions {1: 0.7797356828193832, 0: 0.22026431718061673}\n"
     ]
    },
    {
     "name": "stderr",
     "output_type": "stream",
     "text": [
      "100%|███████████████████████████████████████████████████████████████████████████████████| 15/15 [00:00<00:00, 46.04it/s]\n"
     ]
    },
    {
     "name": "stdout",
     "output_type": "stream",
     "text": [
      "Epoch: 30, Loss: 1.41\n",
      "Class proportions {1: 0.7797356828193832, 0: 0.22026431718061673}\n"
     ]
    },
    {
     "name": "stderr",
     "output_type": "stream",
     "text": [
      "100%|███████████████████████████████████████████████████████████████████████████████████| 15/15 [00:00<00:00, 45.50it/s]\n"
     ]
    },
    {
     "name": "stdout",
     "output_type": "stream",
     "text": [
      "Epoch: 31, Loss: 1.40\n",
      "Class proportions {1: 0.7797356828193832, 0: 0.22026431718061673}\n"
     ]
    },
    {
     "name": "stderr",
     "output_type": "stream",
     "text": [
      "100%|███████████████████████████████████████████████████████████████████████████████████| 15/15 [00:00<00:00, 40.93it/s]\n"
     ]
    },
    {
     "name": "stdout",
     "output_type": "stream",
     "text": [
      "Epoch: 32, Loss: 1.37\n",
      "Class proportions {1: 0.7797356828193832, 0: 0.22026431718061673}\n"
     ]
    },
    {
     "name": "stderr",
     "output_type": "stream",
     "text": [
      "100%|███████████████████████████████████████████████████████████████████████████████████| 15/15 [00:00<00:00, 46.56it/s]\n"
     ]
    },
    {
     "name": "stdout",
     "output_type": "stream",
     "text": [
      "Epoch: 33, Loss: 1.40\n",
      "Class proportions {1: 0.7797356828193832, 0: 0.22026431718061673}\n"
     ]
    },
    {
     "name": "stderr",
     "output_type": "stream",
     "text": [
      "100%|███████████████████████████████████████████████████████████████████████████████████| 15/15 [00:00<00:00, 46.30it/s]\n"
     ]
    },
    {
     "name": "stdout",
     "output_type": "stream",
     "text": [
      "Epoch: 34, Loss: 1.39\n",
      "Class proportions {1: 0.7797356828193832, 0: 0.22026431718061673}\n"
     ]
    },
    {
     "name": "stderr",
     "output_type": "stream",
     "text": [
      "100%|███████████████████████████████████████████████████████████████████████████████████| 15/15 [00:00<00:00, 46.35it/s]\n"
     ]
    },
    {
     "name": "stdout",
     "output_type": "stream",
     "text": [
      "Epoch: 35, Loss: 1.37\n",
      "Class proportions {1: 0.7797356828193832, 0: 0.22026431718061673}\n"
     ]
    },
    {
     "name": "stderr",
     "output_type": "stream",
     "text": [
      "100%|███████████████████████████████████████████████████████████████████████████████████| 15/15 [00:00<00:00, 46.37it/s]\n"
     ]
    },
    {
     "name": "stdout",
     "output_type": "stream",
     "text": [
      "Epoch: 36, Loss: 1.37\n",
      "Class proportions {1: 0.7797356828193832, 0: 0.22026431718061673}\n"
     ]
    },
    {
     "name": "stderr",
     "output_type": "stream",
     "text": [
      "100%|███████████████████████████████████████████████████████████████████████████████████| 15/15 [00:00<00:00, 46.28it/s]\n"
     ]
    },
    {
     "name": "stdout",
     "output_type": "stream",
     "text": [
      "Epoch: 37, Loss: 1.40\n",
      "Class proportions {1: 0.7797356828193832, 0: 0.22026431718061673}\n"
     ]
    },
    {
     "name": "stderr",
     "output_type": "stream",
     "text": [
      "100%|███████████████████████████████████████████████████████████████████████████████████| 15/15 [00:00<00:00, 46.54it/s]\n"
     ]
    },
    {
     "name": "stdout",
     "output_type": "stream",
     "text": [
      "Epoch: 38, Loss: 1.37\n",
      "Class proportions {1: 0.7797356828193832, 0: 0.22026431718061673}\n"
     ]
    },
    {
     "name": "stderr",
     "output_type": "stream",
     "text": [
      "100%|███████████████████████████████████████████████████████████████████████████████████| 15/15 [00:00<00:00, 45.90it/s]\n"
     ]
    },
    {
     "name": "stdout",
     "output_type": "stream",
     "text": [
      "Epoch: 39, Loss: 1.36\n",
      "Class proportions {1: 0.7797356828193832, 0: 0.22026431718061673}\n"
     ]
    },
    {
     "name": "stderr",
     "output_type": "stream",
     "text": [
      "100%|███████████████████████████████████████████████████████████████████████████████████| 15/15 [00:00<00:00, 46.39it/s]\n"
     ]
    },
    {
     "name": "stdout",
     "output_type": "stream",
     "text": [
      "Epoch: 40, Loss: 1.37\n",
      "Class proportions {1: 0.7797356828193832, 0: 0.22026431718061673}\n"
     ]
    },
    {
     "name": "stderr",
     "output_type": "stream",
     "text": [
      "100%|███████████████████████████████████████████████████████████████████████████████████| 15/15 [00:00<00:00, 46.36it/s]\n"
     ]
    },
    {
     "name": "stdout",
     "output_type": "stream",
     "text": [
      "Epoch: 41, Loss: 1.38\n",
      "Class proportions {1: 0.7797356828193832, 0: 0.22026431718061673}\n"
     ]
    },
    {
     "name": "stderr",
     "output_type": "stream",
     "text": [
      "100%|███████████████████████████████████████████████████████████████████████████████████| 15/15 [00:00<00:00, 45.90it/s]\n"
     ]
    },
    {
     "name": "stdout",
     "output_type": "stream",
     "text": [
      "Epoch: 42, Loss: 1.44\n",
      "Class proportions {1: 0.7797356828193832, 0: 0.22026431718061673}\n"
     ]
    },
    {
     "name": "stderr",
     "output_type": "stream",
     "text": [
      "100%|███████████████████████████████████████████████████████████████████████████████████| 15/15 [00:00<00:00, 46.13it/s]\n"
     ]
    },
    {
     "name": "stdout",
     "output_type": "stream",
     "text": [
      "Epoch: 43, Loss: 1.41\n",
      "Class proportions {1: 0.7797356828193832, 0: 0.22026431718061673}\n"
     ]
    },
    {
     "name": "stderr",
     "output_type": "stream",
     "text": [
      "100%|███████████████████████████████████████████████████████████████████████████████████| 15/15 [00:00<00:00, 46.19it/s]\n"
     ]
    },
    {
     "name": "stdout",
     "output_type": "stream",
     "text": [
      "Epoch: 44, Loss: 1.36\n",
      "Class proportions {1: 0.7797356828193832, 0: 0.22026431718061673}\n"
     ]
    },
    {
     "name": "stderr",
     "output_type": "stream",
     "text": [
      "100%|███████████████████████████████████████████████████████████████████████████████████| 15/15 [00:00<00:00, 45.98it/s]\n"
     ]
    },
    {
     "name": "stdout",
     "output_type": "stream",
     "text": [
      "Epoch: 45, Loss: 1.42\n",
      "Class proportions {1: 0.7797356828193832, 0: 0.22026431718061673}\n"
     ]
    },
    {
     "name": "stderr",
     "output_type": "stream",
     "text": [
      "100%|███████████████████████████████████████████████████████████████████████████████████| 15/15 [00:00<00:00, 46.83it/s]\n"
     ]
    },
    {
     "name": "stdout",
     "output_type": "stream",
     "text": [
      "Epoch: 46, Loss: 1.37\n",
      "Class proportions {1: 0.7797356828193832, 0: 0.22026431718061673}\n"
     ]
    },
    {
     "name": "stderr",
     "output_type": "stream",
     "text": [
      "100%|███████████████████████████████████████████████████████████████████████████████████| 15/15 [00:00<00:00, 45.96it/s]\n"
     ]
    },
    {
     "name": "stdout",
     "output_type": "stream",
     "text": [
      "Epoch: 47, Loss: 1.40\n",
      "Class proportions {1: 0.7797356828193832, 0: 0.22026431718061673}\n"
     ]
    },
    {
     "name": "stderr",
     "output_type": "stream",
     "text": [
      "100%|███████████████████████████████████████████████████████████████████████████████████| 15/15 [00:00<00:00, 46.52it/s]\n"
     ]
    },
    {
     "name": "stdout",
     "output_type": "stream",
     "text": [
      "Epoch: 48, Loss: 1.37\n",
      "Class proportions {1: 0.7797356828193832, 0: 0.22026431718061673}\n"
     ]
    },
    {
     "name": "stderr",
     "output_type": "stream",
     "text": [
      "100%|███████████████████████████████████████████████████████████████████████████████████| 15/15 [00:00<00:00, 46.36it/s]\n"
     ]
    },
    {
     "name": "stdout",
     "output_type": "stream",
     "text": [
      "Epoch: 49, Loss: 1.40\n",
      "Class proportions {1: 0.7797356828193832, 0: 0.22026431718061673}\n"
     ]
    },
    {
     "name": "stderr",
     "output_type": "stream",
     "text": [
      "100%|███████████████████████████████████████████████████████████████████████████████████| 15/15 [00:00<00:00, 46.43it/s]\n"
     ]
    },
    {
     "name": "stdout",
     "output_type": "stream",
     "text": [
      "Epoch: 50, Loss: 1.37\n",
      "Class proportions {1: 0.7797356828193832, 0: 0.22026431718061673}\n"
     ]
    },
    {
     "name": "stderr",
     "output_type": "stream",
     "text": [
      "100%|███████████████████████████████████████████████████████████████████████████████████| 15/15 [00:00<00:00, 46.02it/s]\n"
     ]
    },
    {
     "name": "stdout",
     "output_type": "stream",
     "text": [
      "Epoch: 51, Loss: 1.37\n",
      "Class proportions {1: 0.7797356828193832, 0: 0.22026431718061673}\n"
     ]
    },
    {
     "name": "stderr",
     "output_type": "stream",
     "text": [
      "100%|███████████████████████████████████████████████████████████████████████████████████| 15/15 [00:00<00:00, 46.63it/s]\n"
     ]
    },
    {
     "name": "stdout",
     "output_type": "stream",
     "text": [
      "Epoch: 52, Loss: 1.46\n",
      "Class proportions {1: 0.7797356828193832, 0: 0.22026431718061673}\n"
     ]
    },
    {
     "name": "stderr",
     "output_type": "stream",
     "text": [
      "100%|███████████████████████████████████████████████████████████████████████████████████| 15/15 [00:00<00:00, 39.64it/s]\n"
     ]
    },
    {
     "name": "stdout",
     "output_type": "stream",
     "text": [
      "Epoch: 53, Loss: 1.42\n",
      "Class proportions {1: 0.7797356828193832, 0: 0.22026431718061673}\n"
     ]
    },
    {
     "name": "stderr",
     "output_type": "stream",
     "text": [
      "100%|███████████████████████████████████████████████████████████████████████████████████| 15/15 [00:00<00:00, 41.13it/s]\n"
     ]
    },
    {
     "name": "stdout",
     "output_type": "stream",
     "text": [
      "Epoch: 54, Loss: 1.37\n",
      "Class proportions {1: 0.7797356828193832, 0: 0.22026431718061673}\n"
     ]
    },
    {
     "name": "stderr",
     "output_type": "stream",
     "text": [
      "100%|███████████████████████████████████████████████████████████████████████████████████| 15/15 [00:00<00:00, 41.82it/s]\n"
     ]
    },
    {
     "name": "stdout",
     "output_type": "stream",
     "text": [
      "Epoch: 55, Loss: 1.38\n",
      "Class proportions {1: 0.7797356828193832, 0: 0.22026431718061673}\n"
     ]
    },
    {
     "name": "stderr",
     "output_type": "stream",
     "text": [
      "100%|███████████████████████████████████████████████████████████████████████████████████| 15/15 [00:00<00:00, 40.68it/s]\n"
     ]
    },
    {
     "name": "stdout",
     "output_type": "stream",
     "text": [
      "Epoch: 56, Loss: 1.37\n",
      "Class proportions {1: 0.7797356828193832, 0: 0.22026431718061673}\n"
     ]
    },
    {
     "name": "stderr",
     "output_type": "stream",
     "text": [
      "100%|███████████████████████████████████████████████████████████████████████████████████| 15/15 [00:00<00:00, 42.86it/s]\n"
     ]
    },
    {
     "name": "stdout",
     "output_type": "stream",
     "text": [
      "Epoch: 57, Loss: 1.37\n",
      "Class proportions {1: 0.7797356828193832, 0: 0.22026431718061673}\n"
     ]
    },
    {
     "name": "stderr",
     "output_type": "stream",
     "text": [
      "100%|███████████████████████████████████████████████████████████████████████████████████| 15/15 [00:00<00:00, 39.29it/s]\n"
     ]
    },
    {
     "name": "stdout",
     "output_type": "stream",
     "text": [
      "Epoch: 58, Loss: 1.41\n",
      "Class proportions {1: 0.7797356828193832, 0: 0.22026431718061673}\n"
     ]
    },
    {
     "name": "stderr",
     "output_type": "stream",
     "text": [
      "100%|███████████████████████████████████████████████████████████████████████████████████| 15/15 [00:00<00:00, 43.93it/s]\n"
     ]
    },
    {
     "name": "stdout",
     "output_type": "stream",
     "text": [
      "Epoch: 59, Loss: 1.38\n",
      "Class proportions {1: 0.7797356828193832, 0: 0.22026431718061673}\n"
     ]
    },
    {
     "name": "stderr",
     "output_type": "stream",
     "text": [
      "100%|███████████████████████████████████████████████████████████████████████████████████| 15/15 [00:00<00:00, 41.47it/s]\n"
     ]
    },
    {
     "name": "stdout",
     "output_type": "stream",
     "text": [
      "Epoch: 60, Loss: 1.36\n",
      "Class proportions {1: 0.7797356828193832, 0: 0.22026431718061673}\n"
     ]
    },
    {
     "name": "stderr",
     "output_type": "stream",
     "text": [
      "100%|███████████████████████████████████████████████████████████████████████████████████| 15/15 [00:00<00:00, 45.22it/s]\n"
     ]
    },
    {
     "name": "stdout",
     "output_type": "stream",
     "text": [
      "Epoch: 61, Loss: 1.37\n",
      "Class proportions {1: 0.7797356828193832, 0: 0.22026431718061673}\n"
     ]
    },
    {
     "name": "stderr",
     "output_type": "stream",
     "text": [
      "100%|███████████████████████████████████████████████████████████████████████████████████| 15/15 [00:00<00:00, 46.09it/s]\n"
     ]
    },
    {
     "name": "stdout",
     "output_type": "stream",
     "text": [
      "Epoch: 62, Loss: 1.37\n",
      "Class proportions {1: 0.7797356828193832, 0: 0.22026431718061673}\n"
     ]
    },
    {
     "name": "stderr",
     "output_type": "stream",
     "text": [
      "100%|███████████████████████████████████████████████████████████████████████████████████| 15/15 [00:00<00:00, 39.21it/s]\n"
     ]
    },
    {
     "name": "stdout",
     "output_type": "stream",
     "text": [
      "Epoch: 63, Loss: 1.38\n",
      "Class proportions {1: 0.7797356828193832, 0: 0.22026431718061673}\n"
     ]
    },
    {
     "name": "stderr",
     "output_type": "stream",
     "text": [
      "100%|███████████████████████████████████████████████████████████████████████████████████| 15/15 [00:00<00:00, 41.18it/s]\n"
     ]
    },
    {
     "name": "stdout",
     "output_type": "stream",
     "text": [
      "Epoch: 64, Loss: 1.36\n",
      "Class proportions {1: 0.7797356828193832, 0: 0.22026431718061673}\n"
     ]
    },
    {
     "name": "stderr",
     "output_type": "stream",
     "text": [
      "100%|███████████████████████████████████████████████████████████████████████████████████| 15/15 [00:00<00:00, 45.92it/s]\n"
     ]
    },
    {
     "name": "stdout",
     "output_type": "stream",
     "text": [
      "Epoch: 65, Loss: 1.40\n",
      "Class proportions {1: 0.7797356828193832, 0: 0.22026431718061673}\n"
     ]
    },
    {
     "name": "stderr",
     "output_type": "stream",
     "text": [
      "100%|███████████████████████████████████████████████████████████████████████████████████| 15/15 [00:00<00:00, 44.90it/s]\n"
     ]
    },
    {
     "name": "stdout",
     "output_type": "stream",
     "text": [
      "Epoch: 66, Loss: 1.37\n",
      "Class proportions {1: 0.7797356828193832, 0: 0.22026431718061673}\n"
     ]
    },
    {
     "name": "stderr",
     "output_type": "stream",
     "text": [
      "100%|███████████████████████████████████████████████████████████████████████████████████| 15/15 [00:00<00:00, 45.77it/s]\n"
     ]
    },
    {
     "name": "stdout",
     "output_type": "stream",
     "text": [
      "Epoch: 67, Loss: 1.38\n",
      "Class proportions {1: 0.7797356828193832, 0: 0.22026431718061673}\n"
     ]
    },
    {
     "name": "stderr",
     "output_type": "stream",
     "text": [
      "100%|███████████████████████████████████████████████████████████████████████████████████| 15/15 [00:00<00:00, 46.48it/s]\n"
     ]
    },
    {
     "name": "stdout",
     "output_type": "stream",
     "text": [
      "Epoch: 68, Loss: 1.40\n",
      "Class proportions {1: 0.7797356828193832, 0: 0.22026431718061673}\n"
     ]
    },
    {
     "name": "stderr",
     "output_type": "stream",
     "text": [
      "100%|███████████████████████████████████████████████████████████████████████████████████| 15/15 [00:00<00:00, 45.53it/s]\n"
     ]
    },
    {
     "name": "stdout",
     "output_type": "stream",
     "text": [
      "Epoch: 69, Loss: 1.36\n",
      "Class proportions {1: 0.7797356828193832, 0: 0.22026431718061673}\n"
     ]
    },
    {
     "name": "stderr",
     "output_type": "stream",
     "text": [
      "100%|███████████████████████████████████████████████████████████████████████████████████| 15/15 [00:00<00:00, 46.24it/s]\n"
     ]
    },
    {
     "name": "stdout",
     "output_type": "stream",
     "text": [
      "Epoch: 70, Loss: 1.37\n",
      "Class proportions {1: 0.7797356828193832, 0: 0.22026431718061673}\n"
     ]
    },
    {
     "name": "stderr",
     "output_type": "stream",
     "text": [
      "100%|███████████████████████████████████████████████████████████████████████████████████| 15/15 [00:00<00:00, 45.67it/s]\n"
     ]
    },
    {
     "name": "stdout",
     "output_type": "stream",
     "text": [
      "Epoch: 71, Loss: 1.40\n",
      "Class proportions {1: 0.7797356828193832, 0: 0.22026431718061673}\n"
     ]
    },
    {
     "name": "stderr",
     "output_type": "stream",
     "text": [
      "100%|███████████████████████████████████████████████████████████████████████████████████| 15/15 [00:00<00:00, 45.45it/s]\n"
     ]
    },
    {
     "name": "stdout",
     "output_type": "stream",
     "text": [
      "Epoch: 72, Loss: 1.41\n",
      "Class proportions {1: 0.7797356828193832, 0: 0.22026431718061673}\n"
     ]
    },
    {
     "name": "stderr",
     "output_type": "stream",
     "text": [
      "100%|███████████████████████████████████████████████████████████████████████████████████| 15/15 [00:00<00:00, 46.07it/s]\n"
     ]
    },
    {
     "name": "stdout",
     "output_type": "stream",
     "text": [
      "Epoch: 73, Loss: 1.42\n",
      "Class proportions {1: 0.7797356828193832, 0: 0.22026431718061673}\n"
     ]
    },
    {
     "name": "stderr",
     "output_type": "stream",
     "text": [
      "100%|███████████████████████████████████████████████████████████████████████████████████| 15/15 [00:00<00:00, 45.64it/s]\n"
     ]
    },
    {
     "name": "stdout",
     "output_type": "stream",
     "text": [
      "Epoch: 74, Loss: 1.40\n",
      "Class proportions {1: 0.7797356828193832, 0: 0.22026431718061673}\n"
     ]
    },
    {
     "name": "stderr",
     "output_type": "stream",
     "text": [
      "100%|███████████████████████████████████████████████████████████████████████████████████| 15/15 [00:00<00:00, 39.91it/s]\n"
     ]
    },
    {
     "name": "stdout",
     "output_type": "stream",
     "text": [
      "Epoch: 75, Loss: 1.39\n",
      "Class proportions {1: 0.7797356828193832, 0: 0.22026431718061673}\n"
     ]
    },
    {
     "name": "stderr",
     "output_type": "stream",
     "text": [
      "100%|███████████████████████████████████████████████████████████████████████████████████| 15/15 [00:00<00:00, 40.34it/s]\n"
     ]
    },
    {
     "name": "stdout",
     "output_type": "stream",
     "text": [
      "Epoch: 76, Loss: 1.44\n",
      "Class proportions {1: 0.7797356828193832, 0: 0.22026431718061673}\n"
     ]
    },
    {
     "name": "stderr",
     "output_type": "stream",
     "text": [
      "100%|███████████████████████████████████████████████████████████████████████████████████| 15/15 [00:00<00:00, 40.14it/s]\n"
     ]
    },
    {
     "name": "stdout",
     "output_type": "stream",
     "text": [
      "Epoch: 77, Loss: 1.40\n",
      "Class proportions {1: 0.7797356828193832, 0: 0.22026431718061673}\n"
     ]
    },
    {
     "name": "stderr",
     "output_type": "stream",
     "text": [
      "100%|███████████████████████████████████████████████████████████████████████████████████| 15/15 [00:00<00:00, 42.55it/s]\n"
     ]
    },
    {
     "name": "stdout",
     "output_type": "stream",
     "text": [
      "Epoch: 78, Loss: 1.39\n",
      "Class proportions {1: 0.7797356828193832, 0: 0.22026431718061673}\n"
     ]
    },
    {
     "name": "stderr",
     "output_type": "stream",
     "text": [
      "100%|███████████████████████████████████████████████████████████████████████████████████| 15/15 [00:00<00:00, 45.08it/s]\n"
     ]
    },
    {
     "name": "stdout",
     "output_type": "stream",
     "text": [
      "Epoch: 79, Loss: 1.37\n",
      "Class proportions {1: 0.7797356828193832, 0: 0.22026431718061673}\n"
     ]
    },
    {
     "name": "stderr",
     "output_type": "stream",
     "text": [
      "100%|███████████████████████████████████████████████████████████████████████████████████| 15/15 [00:00<00:00, 43.13it/s]\n"
     ]
    },
    {
     "name": "stdout",
     "output_type": "stream",
     "text": [
      "Epoch: 80, Loss: 1.36\n",
      "Class proportions {1: 0.7797356828193832, 0: 0.22026431718061673}\n"
     ]
    },
    {
     "name": "stderr",
     "output_type": "stream",
     "text": [
      "100%|███████████████████████████████████████████████████████████████████████████████████| 15/15 [00:00<00:00, 39.92it/s]\n"
     ]
    },
    {
     "name": "stdout",
     "output_type": "stream",
     "text": [
      "Epoch: 81, Loss: 1.41\n",
      "Class proportions {1: 0.7797356828193832, 0: 0.22026431718061673}\n"
     ]
    },
    {
     "name": "stderr",
     "output_type": "stream",
     "text": [
      "100%|███████████████████████████████████████████████████████████████████████████████████| 15/15 [00:00<00:00, 46.30it/s]\n"
     ]
    },
    {
     "name": "stdout",
     "output_type": "stream",
     "text": [
      "Epoch: 82, Loss: 1.40\n",
      "Class proportions {1: 0.7797356828193832, 0: 0.22026431718061673}\n"
     ]
    },
    {
     "name": "stderr",
     "output_type": "stream",
     "text": [
      "100%|███████████████████████████████████████████████████████████████████████████████████| 15/15 [00:00<00:00, 45.36it/s]\n"
     ]
    },
    {
     "name": "stdout",
     "output_type": "stream",
     "text": [
      "Epoch: 83, Loss: 1.40\n",
      "Class proportions {1: 0.7797356828193832, 0: 0.22026431718061673}\n"
     ]
    },
    {
     "name": "stderr",
     "output_type": "stream",
     "text": [
      "100%|███████████████████████████████████████████████████████████████████████████████████| 15/15 [00:00<00:00, 40.54it/s]\n"
     ]
    },
    {
     "name": "stdout",
     "output_type": "stream",
     "text": [
      "Epoch: 84, Loss: 1.39\n",
      "Class proportions {1: 0.7797356828193832, 0: 0.22026431718061673}\n"
     ]
    },
    {
     "name": "stderr",
     "output_type": "stream",
     "text": [
      "100%|███████████████████████████████████████████████████████████████████████████████████| 15/15 [00:00<00:00, 40.16it/s]\n"
     ]
    },
    {
     "name": "stdout",
     "output_type": "stream",
     "text": [
      "Epoch: 85, Loss: 1.39\n",
      "Class proportions {1: 0.7797356828193832, 0: 0.22026431718061673}\n"
     ]
    },
    {
     "name": "stderr",
     "output_type": "stream",
     "text": [
      "100%|███████████████████████████████████████████████████████████████████████████████████| 15/15 [00:00<00:00, 46.03it/s]\n"
     ]
    },
    {
     "name": "stdout",
     "output_type": "stream",
     "text": [
      "Epoch: 86, Loss: 1.37\n",
      "Class proportions {1: 0.7797356828193832, 0: 0.22026431718061673}\n"
     ]
    },
    {
     "name": "stderr",
     "output_type": "stream",
     "text": [
      "100%|███████████████████████████████████████████████████████████████████████████████████| 15/15 [00:00<00:00, 44.96it/s]\n"
     ]
    },
    {
     "name": "stdout",
     "output_type": "stream",
     "text": [
      "Epoch: 87, Loss: 1.38\n",
      "Class proportions {1: 0.7797356828193832, 0: 0.22026431718061673}\n"
     ]
    },
    {
     "name": "stderr",
     "output_type": "stream",
     "text": [
      "100%|███████████████████████████████████████████████████████████████████████████████████| 15/15 [00:00<00:00, 45.86it/s]\n"
     ]
    },
    {
     "name": "stdout",
     "output_type": "stream",
     "text": [
      "Epoch: 88, Loss: 1.37\n",
      "Class proportions {1: 0.7797356828193832, 0: 0.22026431718061673}\n"
     ]
    },
    {
     "name": "stderr",
     "output_type": "stream",
     "text": [
      "100%|███████████████████████████████████████████████████████████████████████████████████| 15/15 [00:00<00:00, 45.46it/s]\n"
     ]
    },
    {
     "name": "stdout",
     "output_type": "stream",
     "text": [
      "Epoch: 89, Loss: 1.41\n",
      "Class proportions {1: 0.7797356828193832, 0: 0.22026431718061673}\n"
     ]
    },
    {
     "name": "stderr",
     "output_type": "stream",
     "text": [
      "100%|███████████████████████████████████████████████████████████████████████████████████| 15/15 [00:00<00:00, 44.85it/s]\n"
     ]
    },
    {
     "name": "stdout",
     "output_type": "stream",
     "text": [
      "Epoch: 90, Loss: 1.41\n",
      "Class proportions {1: 0.7797356828193832, 0: 0.22026431718061673}\n"
     ]
    },
    {
     "name": "stderr",
     "output_type": "stream",
     "text": [
      "100%|███████████████████████████████████████████████████████████████████████████████████| 15/15 [00:00<00:00, 41.09it/s]\n"
     ]
    },
    {
     "name": "stdout",
     "output_type": "stream",
     "text": [
      "Epoch: 91, Loss: 1.41\n",
      "Class proportions {1: 0.7797356828193832, 0: 0.22026431718061673}\n"
     ]
    },
    {
     "name": "stderr",
     "output_type": "stream",
     "text": [
      "100%|███████████████████████████████████████████████████████████████████████████████████| 15/15 [00:00<00:00, 40.66it/s]\n"
     ]
    },
    {
     "name": "stdout",
     "output_type": "stream",
     "text": [
      "Epoch: 92, Loss: 1.40\n",
      "Class proportions {1: 0.7797356828193832, 0: 0.22026431718061673}\n"
     ]
    },
    {
     "name": "stderr",
     "output_type": "stream",
     "text": [
      "100%|███████████████████████████████████████████████████████████████████████████████████| 15/15 [00:00<00:00, 44.34it/s]\n"
     ]
    },
    {
     "name": "stdout",
     "output_type": "stream",
     "text": [
      "Epoch: 93, Loss: 1.37\n",
      "Class proportions {1: 0.7797356828193832, 0: 0.22026431718061673}\n"
     ]
    },
    {
     "name": "stderr",
     "output_type": "stream",
     "text": [
      "100%|███████████████████████████████████████████████████████████████████████████████████| 15/15 [00:00<00:00, 38.79it/s]\n"
     ]
    },
    {
     "name": "stdout",
     "output_type": "stream",
     "text": [
      "Epoch: 94, Loss: 1.37\n",
      "Class proportions {1: 0.7797356828193832, 0: 0.22026431718061673}\n"
     ]
    },
    {
     "name": "stderr",
     "output_type": "stream",
     "text": [
      "100%|███████████████████████████████████████████████████████████████████████████████████| 15/15 [00:00<00:00, 42.59it/s]\n"
     ]
    },
    {
     "name": "stdout",
     "output_type": "stream",
     "text": [
      "Epoch: 95, Loss: 1.37\n",
      "Class proportions {1: 0.7797356828193832, 0: 0.22026431718061673}\n"
     ]
    },
    {
     "name": "stderr",
     "output_type": "stream",
     "text": [
      "100%|███████████████████████████████████████████████████████████████████████████████████| 15/15 [00:00<00:00, 45.74it/s]\n"
     ]
    },
    {
     "name": "stdout",
     "output_type": "stream",
     "text": [
      "Epoch: 96, Loss: 1.37\n",
      "Class proportions {1: 0.7797356828193832, 0: 0.22026431718061673}\n"
     ]
    },
    {
     "name": "stderr",
     "output_type": "stream",
     "text": [
      "100%|███████████████████████████████████████████████████████████████████████████████████| 15/15 [00:00<00:00, 39.88it/s]\n"
     ]
    },
    {
     "name": "stdout",
     "output_type": "stream",
     "text": [
      "Epoch: 97, Loss: 1.40\n",
      "Class proportions {1: 0.7797356828193832, 0: 0.22026431718061673}\n"
     ]
    },
    {
     "name": "stderr",
     "output_type": "stream",
     "text": [
      "100%|███████████████████████████████████████████████████████████████████████████████████| 15/15 [00:00<00:00, 41.53it/s]\n"
     ]
    },
    {
     "name": "stdout",
     "output_type": "stream",
     "text": [
      "Epoch: 98, Loss: 1.37\n",
      "Class proportions {1: 0.7797356828193832, 0: 0.22026431718061673}\n"
     ]
    },
    {
     "name": "stderr",
     "output_type": "stream",
     "text": [
      "100%|███████████████████████████████████████████████████████████████████████████████████| 15/15 [00:00<00:00, 36.99it/s]"
     ]
    },
    {
     "name": "stdout",
     "output_type": "stream",
     "text": [
      "Epoch: 99, Loss: 1.40\n"
     ]
    },
    {
     "name": "stderr",
     "output_type": "stream",
     "text": [
      "\n"
     ]
    }
   ],
   "source": [
    "\n",
    "optimizer = torch.optim.Adam(model.parameters(), lr=0.01)\n",
    "\n",
    "\n",
    "\n",
    "def train_one_epoch(epoch, model, train_loader, optimizer, device, weighted_loss=True):\n",
    "    class_proportions = train_loader.dataset.class_proportions\n",
    "    print(\"Class proportions\", class_proportions)\n",
    "    # Enumerate over the data\n",
    "    all_preds = []\n",
    "    all_labels = []\n",
    "    running_loss = 0.0\n",
    "    step = 0\n",
    "    model.train()\n",
    "    model.to(device)\n",
    "    for batch_idx, batch in enumerate(tqdm(train_loader)):\n",
    "        # Use GPU\n",
    "        batch.to(device)\n",
    "        # Reset gradients\n",
    "        optimizer.zero_grad() \n",
    "        # Passing the node features and the connection info\n",
    "        # pred = model(batch.x.float(), \n",
    "        #                         batch.edge_attr.float(),\n",
    "        #                         batch.edge_index, \n",
    "        #                         batch.batch) \n",
    "        pred = torch.sigmoid(model(batch.x, batch.edge_index, batch.batch))\n",
    "        # Calculating the loss and gradients\n",
    "        if weighted_loss:\n",
    "            weights = batch.y.float().detach().clone()\n",
    "            counts = weights.unique(return_counts=True)\n",
    "            for idx in range(len(counts[0])):\n",
    "                idx = int(idx)\n",
    "                target = int(counts[0][idx].item())\n",
    "                class_weight = 1 / class_proportions[target]\n",
    "                # go through the classes in the batch\n",
    "                # for values in the target tensor which have class 0/1,\n",
    "                # replace with inverse proportion for that class\n",
    "                weights[weights == counts[0][idx]] = class_weight\n",
    "        else:\n",
    "            weights = None\n",
    "        loss =  F.binary_cross_entropy(pred.squeeze(), batch.y.float(), weight=weights)\n",
    "        loss.requires_grad = True\n",
    "        loss.backward()  \n",
    "        optimizer.step()  \n",
    "        # Update tracking\n",
    "        running_loss += loss.item()\n",
    "        # counting batches\n",
    "        step += 1\n",
    "    # loss average per epoch\n",
    "    return running_loss/step\n",
    "\n",
    "device = set_device_and_seed(GPU=False, seed=0)\n",
    "plotting_dict_train = {}\n",
    "plotting_dict_train['loss'] = []\n",
    "plot_every = 100\n",
    "num_epochs = 100\n",
    "for i in range(num_epochs):\n",
    "    loss = train_one_epoch(i, model, train_loader, optimizer, device, weighted_loss=True)\n",
    "    plotting_dict_train['loss'].append(loss)\n",
    "    print('Epoch: {}, Loss: {:.2f}'.format(i, loss))\n",
    "    if i % plot_every == 0:\n",
    "        plt.figure()\n",
    "        plt.plot(np.arange(len(plotting_dict_train['loss'])), plotting_dict_train['loss'])\n",
    "        plt.show()\n",
    "        "
   ]
  },
  {
   "cell_type": "code",
   "execution_count": 63,
   "id": "0663cb1e-22ee-42ac-949f-bc789fcda232",
   "metadata": {},
   "outputs": [
    {
     "data": {
      "text/plain": [
       "[<matplotlib.lines.Line2D at 0x7fb722532b80>]"
      ]
     },
     "execution_count": 63,
     "metadata": {},
     "output_type": "execute_result"
    },
    {
     "data": {
      "image/png": "[encoded data removed]",
      "text/plain": [
       "<Figure size 432x288 with 1 Axes>"
      ]
     },
     "metadata": {
      "needs_background": "light"
     },
     "output_type": "display_data"
    }
   ],
   "source": [
    "plt.figure()\n",
    "plt.plot(np.arange(len(plotting_dict_train['loss'])), plotting_dict_train['loss'])"
   ]
  }
 ],
 "metadata": {
  "kernelspec": {
   "display_name": "Python 3 (ipykernel)",
   "language": "python",
   "name": "python3"
  },
  "language_info": {
   "codemirror_mode": {
    "name": "ipython",
    "version": 3
   },
   "file_extension": ".py",
   "mimetype": "text/x-python",
   "name": "python",
   "nbconvert_exporter": "python",
   "pygments_lexer": "ipython3",
   "version": "3.8.13"
  }
 },
 "nbformat": 4,
 "nbformat_minor": 5
}
