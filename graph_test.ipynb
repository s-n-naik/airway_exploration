{
 "cells": [
  {
   "cell_type": "code",
   "execution_count": 260,
   "id": "ea069f35-53c3-44ef-aa08-716ff1eb7709",
   "metadata": {},
   "outputs": [
    {
     "name": "stdout",
     "output_type": "stream",
     "text": [
      "The autoreload extension is already loaded. To reload it, use:\n",
      "  %reload_ext autoreload\n"
     ]
    }
   ],
   "source": [
    "%load_ext autoreload\n",
    "%autoreload 2 \n",
    "# !apt-get install -y xvfb\n",
    "import time\n",
    "import torch\n",
    "import torch.nn as nn\n",
    "from torch.utils.data import Dataset, random_split\n",
    "from torch_geometric.data import Data, InMemoryDataset\n",
    "from torch.nn import Linear\n",
    "import torch.nn.functional as F\n",
    "from torch_geometric.nn import GCNConv\n",
    "from torch_geometric.nn import global_mean_pool\n",
    "import networkx as nx\n",
    "import pandas as pd\n",
    "import numpy as np\n",
    "import matplotlib.pyplot as plt\n",
    "import re\n",
    "import pickle\n",
    "import random\n",
    "import os"
   ]
  },
  {
   "cell_type": "code",
   "execution_count": 239,
   "id": "a4409c4d-e3b0-45ea-bd2e-3ae97e8408c4",
   "metadata": {},
   "outputs": [],
   "source": [
    "\n",
    "\n",
    "def set_device_and_seed(GPU=True, seed=0, gpu_name = \"cuda:0\"):\n",
    "    torch.cuda.is_available()\n",
    "    if GPU:\n",
    "        device = torch.device(gpu_name if torch.cuda.is_available() else 'cpu')\n",
    "    else:\n",
    "        device = torch.device(\"cpu\")\n",
    "    print(f'Using {device}')\n",
    "\n",
    "    if torch.cuda.is_available():\n",
    "        torch.backends.cudnn.deterministic = True\n",
    "        \n",
    "    set_seed(seed)\n",
    "    \n",
    "    return device\n",
    "\n",
    "def set_seed(seed):\n",
    "    torch.manual_seed(seed)\n",
    "    np.random.seed(seed)\n",
    "    torch.cuda.manual_seed(seed)\n",
    "    random.seed(seed)\n",
    "    print(f\"Setting torch, cuda, numpy and random seeds to {seed}\")\n",
    "\n",
    "\n",
    "def show(img):\n",
    "    npimg = img.cpu().numpy()\n",
    "    plt.imshow(np.transpose(npimg, (1,2,0)))\n",
    "\n",
    "    \n",
    "def visualize_graph(G, color):\n",
    "    plt.figure(figsize=(7,7))\n",
    "    plt.xticks([])\n",
    "    plt.yticks([])\n",
    "    nx.draw_networkx(G, pos=nx.spring_layout(G, seed=42), with_labels=False,\n",
    "                     node_color=color, cmap=\"Set2\")\n",
    "    plt.show()\n",
    "\n",
    "\n",
    "def visualize_embedding(h, color, epoch=None, loss=None):\n",
    "    plt.figure(figsize=(7,7))\n",
    "    plt.xticks([])\n",
    "    plt.yticks([])\n",
    "    h = h.detach().cpu().numpy()\n",
    "    plt.scatter(h[:, 0], h[:, 1], s=140, c=color, cmap=\"Set2\")\n",
    "    if epoch is not None and loss is not None:\n",
    "        plt.xlabel(f'Epoch: {epoch}, Loss: {loss.item():.4f}', fontsize=16)\n",
    "    plt.show()"
   ]
  },
  {
   "cell_type": "code",
   "execution_count": 11,
   "id": "db45b184-f90e-42a1-99ad-be9ca5c836a7",
   "metadata": {},
   "outputs": [
    {
     "name": "stdout",
     "output_type": "stream",
     "text": [
      "Using cuda\n",
      "Setting torch, cuda, numpy and random seeds to 0\n"
     ]
    },
    {
     "data": {
      "text/plain": [
       "device(type='cuda')"
      ]
     },
     "execution_count": 11,
     "metadata": {},
     "output_type": "execute_result"
    }
   ],
   "source": [
    "# Setting random seed and device\n",
    "GPU = True # Choose whether to use GPU\n",
    "set_device_and_seed(GPU=True, seed=0, gpu_name='cuda')"
   ]
  },
  {
   "cell_type": "markdown",
   "id": "078e86c8-5063-436e-b3a5-05c2c58368c4",
   "metadata": {},
   "source": [
    "### Load Data\n"
   ]
  },
  {
   "cell_type": "code",
   "execution_count": 23,
   "id": "dca64ebf-39ab-4791-858b-b9240327f536",
   "metadata": {},
   "outputs": [],
   "source": [
    "pilot_df = pd.read_excel(os.path.abspath(\"/home/sneha/airway_tree_pilot.xlsx\"), sheet_name=0)\n",
    "pilot_df.drop(columns = [\"manufacturer\", \"model\"], inplace=True)"
   ]
  },
  {
   "cell_type": "code",
   "execution_count": 24,
   "id": "4e9c0254-4846-4ec8-bac2-9be2e8752167",
   "metadata": {},
   "outputs": [],
   "source": [
    "label_df = pd.read_csv(os.path.abspath(\"/home/sneha/MESA_Exam5_airway_variants.csv\"))"
   ]
  },
  {
   "cell_type": "code",
   "execution_count": 25,
   "id": "306c9814-d055-40ff-a107-44303f722fbe",
   "metadata": {},
   "outputs": [
    {
     "data": {
      "text/plain": [
       "idno                                                  17397820297\n",
       "LL_1            StandardStandardStandardStandardStandardAcc. B...\n",
       "Standard                                                     2304\n",
       "Acc_B                                                         455\n",
       "Abs_RB7                                                       175\n",
       "Acc_LB7                                                        53\n",
       "Rare                                                            2\n",
       "Unclassified                                                  185\n",
       "dtype: object"
      ]
     },
     "execution_count": 25,
     "metadata": {},
     "output_type": "execute_result"
    }
   ],
   "source": [
    "label_df.sum()"
   ]
  },
  {
   "cell_type": "code",
   "execution_count": 22,
   "id": "d9d52534-03d4-43fb-8caa-f1c1c86099e6",
   "metadata": {},
   "outputs": [
    {
     "name": "stdout",
     "output_type": "stream",
     "text": [
      "<class 'pandas.core.frame.DataFrame'>\n",
      "RangeIndex: 77683 entries, 0 to 77682\n",
      "Data columns (total 15 columns):\n",
      " #   Column             Non-Null Count  Dtype  \n",
      "---  ------             --------------  -----  \n",
      " 0   idno               77683 non-null  int64  \n",
      " 1   anatomicalname     77683 non-null  object \n",
      " 2   startbpid          77683 non-null  int64  \n",
      " 3   endbpid            77683 non-null  int64  \n",
      " 4   centerlinelength   77683 non-null  float64\n",
      " 5   angle              77454 non-null  float64\n",
      " 6   dircosx            77683 non-null  float64\n",
      " 7   dircosy            77683 non-null  float64\n",
      " 8   dircosz            77683 non-null  float64\n",
      " 9   avginnerarea       77683 non-null  float64\n",
      " 10  lobes              77683 non-null  object \n",
      " 11  generation         77683 non-null  int64  \n",
      " 12  weibel_generation  77683 non-null  int64  \n",
      " 13  manufacturer       77683 non-null  object \n",
      " 14  model              77683 non-null  object \n",
      "dtypes: float64(6), int64(5), object(4)\n",
      "memory usage: 8.9+ MB\n"
     ]
    }
   ],
   "source": [
    "pilot_df.info()"
   ]
  },
  {
   "cell_type": "markdown",
   "id": "6c4dee94-15ef-41e7-b84d-1b57549eed88",
   "metadata": {},
   "source": [
    "## Make a tiny graph sample & visualise in networkx"
   ]
  },
  {
   "cell_type": "code",
   "execution_count": 347,
   "id": "41080a12-3dec-46e1-b7e0-3150bf704c4d",
   "metadata": {},
   "outputs": [],
   "source": [
    "single_test = pilot_df[(pilot_df.idno ==3011950) & (pilot_df.weibel_generation <= 3)].copy().reset_index().drop(columns='index')\n",
    "single_test.fillna(0, inplace=True)\n"
   ]
  },
  {
   "cell_type": "code",
   "execution_count": 348,
   "id": "60da1f26-0b6f-47d5-a8b0-27ecb79e6c8f",
   "metadata": {},
   "outputs": [
    {
     "data": {
      "text/html": [
       "<div>\n",
       "<style scoped>\n",
       "    .dataframe tbody tr th:only-of-type {\n",
       "        vertical-align: middle;\n",
       "    }\n",
       "\n",
       "    .dataframe tbody tr th {\n",
       "        vertical-align: top;\n",
       "    }\n",
       "\n",
       "    .dataframe thead th {\n",
       "        text-align: right;\n",
       "    }\n",
       "</style>\n",
       "<table border=\"1\" class=\"dataframe\">\n",
       "  <thead>\n",
       "    <tr style=\"text-align: right;\">\n",
       "      <th></th>\n",
       "      <th>idno</th>\n",
       "      <th>anatomicalname</th>\n",
       "      <th>startbpid</th>\n",
       "      <th>endbpid</th>\n",
       "      <th>centerlinelength</th>\n",
       "      <th>angle</th>\n",
       "      <th>dircosx</th>\n",
       "      <th>dircosy</th>\n",
       "      <th>dircosz</th>\n",
       "      <th>avginnerarea</th>\n",
       "      <th>lobes</th>\n",
       "      <th>generation</th>\n",
       "      <th>weibel_generation</th>\n",
       "      <th>x_diff</th>\n",
       "      <th>y_diff</th>\n",
       "      <th>z_diff</th>\n",
       "    </tr>\n",
       "  </thead>\n",
       "  <tbody>\n",
       "    <tr>\n",
       "      <th>0</th>\n",
       "      <td>3011950</td>\n",
       "      <td>Trachea</td>\n",
       "      <td>-1</td>\n",
       "      <td>1</td>\n",
       "      <td>82.03930</td>\n",
       "      <td>0.0000</td>\n",
       "      <td>-0.012990</td>\n",
       "      <td>0.194850</td>\n",
       "      <td>0.980747</td>\n",
       "      <td>237.7040</td>\n",
       "      <td>CEN</td>\n",
       "      <td>0</td>\n",
       "      <td>0</td>\n",
       "      <td>-1.065691</td>\n",
       "      <td>15.985358</td>\n",
       "      <td>80.459797</td>\n",
       "    </tr>\n",
       "    <tr>\n",
       "      <th>1</th>\n",
       "      <td>3011950</td>\n",
       "      <td>RMB</td>\n",
       "      <td>1</td>\n",
       "      <td>6</td>\n",
       "      <td>23.64560</td>\n",
       "      <td>144.8070</td>\n",
       "      <td>-0.498729</td>\n",
       "      <td>-0.142494</td>\n",
       "      <td>0.854965</td>\n",
       "      <td>140.5670</td>\n",
       "      <td>CEN</td>\n",
       "      <td>1</td>\n",
       "      <td>1</td>\n",
       "      <td>-11.792746</td>\n",
       "      <td>-3.369356</td>\n",
       "      <td>20.216160</td>\n",
       "    </tr>\n",
       "    <tr>\n",
       "      <th>2</th>\n",
       "      <td>3011950</td>\n",
       "      <td>LMB</td>\n",
       "      <td>1</td>\n",
       "      <td>7</td>\n",
       "      <td>50.79000</td>\n",
       "      <td>127.0430</td>\n",
       "      <td>0.787070</td>\n",
       "      <td>0.049192</td>\n",
       "      <td>0.614899</td>\n",
       "      <td>97.7085</td>\n",
       "      <td>CEN</td>\n",
       "      <td>1</td>\n",
       "      <td>1</td>\n",
       "      <td>39.975285</td>\n",
       "      <td>2.498457</td>\n",
       "      <td>31.230720</td>\n",
       "    </tr>\n",
       "    <tr>\n",
       "      <th>3</th>\n",
       "      <td>3011950</td>\n",
       "      <td>BronInt</td>\n",
       "      <td>6</td>\n",
       "      <td>19</td>\n",
       "      <td>19.75500</td>\n",
       "      <td>162.0700</td>\n",
       "      <td>-0.260820</td>\n",
       "      <td>0.026082</td>\n",
       "      <td>0.965035</td>\n",
       "      <td>108.4940</td>\n",
       "      <td>CEN</td>\n",
       "      <td>2</td>\n",
       "      <td>2</td>\n",
       "      <td>-5.152499</td>\n",
       "      <td>0.515250</td>\n",
       "      <td>19.064266</td>\n",
       "    </tr>\n",
       "    <tr>\n",
       "      <th>4</th>\n",
       "      <td>3011950</td>\n",
       "      <td>RUL</td>\n",
       "      <td>6</td>\n",
       "      <td>18</td>\n",
       "      <td>13.97160</td>\n",
       "      <td>98.7818</td>\n",
       "      <td>-0.904762</td>\n",
       "      <td>-0.190476</td>\n",
       "      <td>-0.380952</td>\n",
       "      <td>60.5322</td>\n",
       "      <td>RUL</td>\n",
       "      <td>2</td>\n",
       "      <td>2</td>\n",
       "      <td>-12.640973</td>\n",
       "      <td>-2.661254</td>\n",
       "      <td>-5.322509</td>\n",
       "    </tr>\n",
       "    <tr>\n",
       "      <th>5</th>\n",
       "      <td>3011950</td>\n",
       "      <td>LUL</td>\n",
       "      <td>7</td>\n",
       "      <td>11</td>\n",
       "      <td>12.09850</td>\n",
       "      <td>115.3660</td>\n",
       "      <td>0.832050</td>\n",
       "      <td>-0.443760</td>\n",
       "      <td>-0.332820</td>\n",
       "      <td>60.5433</td>\n",
       "      <td>LUL</td>\n",
       "      <td>2</td>\n",
       "      <td>2</td>\n",
       "      <td>10.066557</td>\n",
       "      <td>-5.368830</td>\n",
       "      <td>-4.026623</td>\n",
       "    </tr>\n",
       "    <tr>\n",
       "      <th>6</th>\n",
       "      <td>3011950</td>\n",
       "      <td>LLB6</td>\n",
       "      <td>7</td>\n",
       "      <td>10</td>\n",
       "      <td>8.43446</td>\n",
       "      <td>165.4590</td>\n",
       "      <td>0.745356</td>\n",
       "      <td>0.298142</td>\n",
       "      <td>0.596285</td>\n",
       "      <td>146.8000</td>\n",
       "      <td>LLL</td>\n",
       "      <td>2</td>\n",
       "      <td>2</td>\n",
       "      <td>6.286675</td>\n",
       "      <td>2.514667</td>\n",
       "      <td>5.029342</td>\n",
       "    </tr>\n",
       "    <tr>\n",
       "      <th>7</th>\n",
       "      <td>3011950</td>\n",
       "      <td>LLB</td>\n",
       "      <td>10</td>\n",
       "      <td>15</td>\n",
       "      <td>9.92149</td>\n",
       "      <td>161.2140</td>\n",
       "      <td>0.577350</td>\n",
       "      <td>0.115470</td>\n",
       "      <td>0.808290</td>\n",
       "      <td>40.2393</td>\n",
       "      <td>LLL</td>\n",
       "      <td>3</td>\n",
       "      <td>3</td>\n",
       "      <td>5.728172</td>\n",
       "      <td>1.145634</td>\n",
       "      <td>8.019441</td>\n",
       "    </tr>\n",
       "    <tr>\n",
       "      <th>8</th>\n",
       "      <td>3011950</td>\n",
       "      <td>LB6</td>\n",
       "      <td>10</td>\n",
       "      <td>14</td>\n",
       "      <td>8.46466</td>\n",
       "      <td>114.7760</td>\n",
       "      <td>0.401610</td>\n",
       "      <td>0.883541</td>\n",
       "      <td>-0.240966</td>\n",
       "      <td>24.9217</td>\n",
       "      <td>LLL</td>\n",
       "      <td>3</td>\n",
       "      <td>3</td>\n",
       "      <td>3.399492</td>\n",
       "      <td>7.478874</td>\n",
       "      <td>-2.039695</td>\n",
       "    </tr>\n",
       "    <tr>\n",
       "      <th>9</th>\n",
       "      <td>3011950</td>\n",
       "      <td>-</td>\n",
       "      <td>11</td>\n",
       "      <td>17</td>\n",
       "      <td>10.52590</td>\n",
       "      <td>147.6560</td>\n",
       "      <td>0.498464</td>\n",
       "      <td>-0.387694</td>\n",
       "      <td>-0.775388</td>\n",
       "      <td>38.2976</td>\n",
       "      <td>LUL</td>\n",
       "      <td>3</td>\n",
       "      <td>3</td>\n",
       "      <td>5.246782</td>\n",
       "      <td>-4.080828</td>\n",
       "      <td>-8.161657</td>\n",
       "    </tr>\n",
       "    <tr>\n",
       "      <th>10</th>\n",
       "      <td>3011950</td>\n",
       "      <td>LB4+5</td>\n",
       "      <td>11</td>\n",
       "      <td>16</td>\n",
       "      <td>11.12990</td>\n",
       "      <td>129.1950</td>\n",
       "      <td>0.751809</td>\n",
       "      <td>-0.404820</td>\n",
       "      <td>0.520483</td>\n",
       "      <td>28.5548</td>\n",
       "      <td>LUL</td>\n",
       "      <td>3</td>\n",
       "      <td>3</td>\n",
       "      <td>8.367559</td>\n",
       "      <td>-4.505606</td>\n",
       "      <td>5.792924</td>\n",
       "    </tr>\n",
       "    <tr>\n",
       "      <th>11</th>\n",
       "      <td>3011950</td>\n",
       "      <td>-</td>\n",
       "      <td>18</td>\n",
       "      <td>28</td>\n",
       "      <td>7.33379</td>\n",
       "      <td>142.3920</td>\n",
       "      <td>-0.536656</td>\n",
       "      <td>-0.715542</td>\n",
       "      <td>-0.447214</td>\n",
       "      <td>42.1697</td>\n",
       "      <td>RUL</td>\n",
       "      <td>3</td>\n",
       "      <td>3</td>\n",
       "      <td>-3.935722</td>\n",
       "      <td>-5.247635</td>\n",
       "      <td>-3.279774</td>\n",
       "    </tr>\n",
       "    <tr>\n",
       "      <th>12</th>\n",
       "      <td>3011950</td>\n",
       "      <td>RB2</td>\n",
       "      <td>18</td>\n",
       "      <td>29</td>\n",
       "      <td>6.53103</td>\n",
       "      <td>130.7860</td>\n",
       "      <td>-0.721995</td>\n",
       "      <td>0.618853</td>\n",
       "      <td>-0.309426</td>\n",
       "      <td>36.1330</td>\n",
       "      <td>RUL</td>\n",
       "      <td>3</td>\n",
       "      <td>3</td>\n",
       "      <td>-4.715371</td>\n",
       "      <td>4.041748</td>\n",
       "      <td>-2.020870</td>\n",
       "    </tr>\n",
       "    <tr>\n",
       "      <th>13</th>\n",
       "      <td>3011950</td>\n",
       "      <td>RB4+5</td>\n",
       "      <td>19</td>\n",
       "      <td>30</td>\n",
       "      <td>18.01940</td>\n",
       "      <td>128.1670</td>\n",
       "      <td>-0.574367</td>\n",
       "      <td>-0.646162</td>\n",
       "      <td>0.502571</td>\n",
       "      <td>34.9124</td>\n",
       "      <td>RML</td>\n",
       "      <td>3</td>\n",
       "      <td>3</td>\n",
       "      <td>-10.349749</td>\n",
       "      <td>-11.643452</td>\n",
       "      <td>9.056028</td>\n",
       "    </tr>\n",
       "    <tr>\n",
       "      <th>14</th>\n",
       "      <td>3011950</td>\n",
       "      <td>-</td>\n",
       "      <td>19</td>\n",
       "      <td>31</td>\n",
       "      <td>6.16410</td>\n",
       "      <td>137.4090</td>\n",
       "      <td>-0.507673</td>\n",
       "      <td>0.609208</td>\n",
       "      <td>0.609208</td>\n",
       "      <td>77.5104</td>\n",
       "      <td>CEN</td>\n",
       "      <td>3</td>\n",
       "      <td>3</td>\n",
       "      <td>-3.129347</td>\n",
       "      <td>3.755219</td>\n",
       "      <td>3.755219</td>\n",
       "    </tr>\n",
       "  </tbody>\n",
       "</table>\n",
       "</div>"
      ],
      "text/plain": [
       "       idno anatomicalname  startbpid  endbpid  centerlinelength     angle  \\\n",
       "0   3011950        Trachea         -1        1          82.03930    0.0000   \n",
       "1   3011950            RMB          1        6          23.64560  144.8070   \n",
       "2   3011950            LMB          1        7          50.79000  127.0430   \n",
       "3   3011950        BronInt          6       19          19.75500  162.0700   \n",
       "4   3011950            RUL          6       18          13.97160   98.7818   \n",
       "5   3011950            LUL          7       11          12.09850  115.3660   \n",
       "6   3011950           LLB6          7       10           8.43446  165.4590   \n",
       "7   3011950            LLB         10       15           9.92149  161.2140   \n",
       "8   3011950            LB6         10       14           8.46466  114.7760   \n",
       "9   3011950              -         11       17          10.52590  147.6560   \n",
       "10  3011950          LB4+5         11       16          11.12990  129.1950   \n",
       "11  3011950              -         18       28           7.33379  142.3920   \n",
       "12  3011950            RB2         18       29           6.53103  130.7860   \n",
       "13  3011950          RB4+5         19       30          18.01940  128.1670   \n",
       "14  3011950              -         19       31           6.16410  137.4090   \n",
       "\n",
       "     dircosx   dircosy   dircosz  avginnerarea lobes  generation  \\\n",
       "0  -0.012990  0.194850  0.980747      237.7040   CEN           0   \n",
       "1  -0.498729 -0.142494  0.854965      140.5670   CEN           1   \n",
       "2   0.787070  0.049192  0.614899       97.7085   CEN           1   \n",
       "3  -0.260820  0.026082  0.965035      108.4940   CEN           2   \n",
       "4  -0.904762 -0.190476 -0.380952       60.5322   RUL           2   \n",
       "5   0.832050 -0.443760 -0.332820       60.5433   LUL           2   \n",
       "6   0.745356  0.298142  0.596285      146.8000   LLL           2   \n",
       "7   0.577350  0.115470  0.808290       40.2393   LLL           3   \n",
       "8   0.401610  0.883541 -0.240966       24.9217   LLL           3   \n",
       "9   0.498464 -0.387694 -0.775388       38.2976   LUL           3   \n",
       "10  0.751809 -0.404820  0.520483       28.5548   LUL           3   \n",
       "11 -0.536656 -0.715542 -0.447214       42.1697   RUL           3   \n",
       "12 -0.721995  0.618853 -0.309426       36.1330   RUL           3   \n",
       "13 -0.574367 -0.646162  0.502571       34.9124   RML           3   \n",
       "14 -0.507673  0.609208  0.609208       77.5104   CEN           3   \n",
       "\n",
       "    weibel_generation     x_diff     y_diff     z_diff  \n",
       "0                   0  -1.065691  15.985358  80.459797  \n",
       "1                   1 -11.792746  -3.369356  20.216160  \n",
       "2                   1  39.975285   2.498457  31.230720  \n",
       "3                   2  -5.152499   0.515250  19.064266  \n",
       "4                   2 -12.640973  -2.661254  -5.322509  \n",
       "5                   2  10.066557  -5.368830  -4.026623  \n",
       "6                   2   6.286675   2.514667   5.029342  \n",
       "7                   3   5.728172   1.145634   8.019441  \n",
       "8                   3   3.399492   7.478874  -2.039695  \n",
       "9                   3   5.246782  -4.080828  -8.161657  \n",
       "10                  3   8.367559  -4.505606   5.792924  \n",
       "11                  3  -3.935722  -5.247635  -3.279774  \n",
       "12                  3  -4.715371   4.041748  -2.020870  \n",
       "13                  3 -10.349749 -11.643452   9.056028  \n",
       "14                  3  -3.129347   3.755219   3.755219  "
      ]
     },
     "execution_count": 348,
     "metadata": {},
     "output_type": "execute_result"
    }
   ],
   "source": [
    "# NODE FEATURES ARE WRONG!!!\n",
    "single_test['x_diff'] = (single_test.centerlinelength*single_test.dircosx)\n",
    "single_test['y_diff'] = (single_test.centerlinelength*single_test.dircosy)\n",
    "single_test['z_diff'] = (single_test.centerlinelength*single_test.dircosz)\n",
    "\n",
    "single_test"
   ]
  },
  {
   "cell_type": "code",
   "execution_count": 148,
   "id": "49475a9e-50ff-4f50-a20e-877046b6e3bf",
   "metadata": {},
   "outputs": [],
   "source": [
    "# nodes and features: TODO include all features relevant + NORMALISE\n",
    "nodes = list(zip(single_test.endbpid, single_test[['x', 'y', 'z','weibel_generation', 'angle']].to_dict(orient='records')))\n",
    "nodes =[(-1,\n",
    "  {'x': 0,\n",
    "   'y': 0,\n",
    "   'z': 0,\n",
    "   'weibel_generation': -1,\n",
    "   'angle': 0.0})]+nodes"
   ]
  },
  {
   "cell_type": "code",
   "execution_count": 149,
   "id": "8866649e-0fda-4c0d-a523-5de3df8024df",
   "metadata": {},
   "outputs": [
    {
     "data": {
      "text/plain": [
       "{(-1, 1): {'centerlinelength': 82.0393, 'avginnerarea': 237.704},\n",
       " (1, 6): {'centerlinelength': 23.6456, 'avginnerarea': 140.567},\n",
       " (1, 7): {'centerlinelength': 50.79, 'avginnerarea': 97.7085},\n",
       " (6, 19): {'centerlinelength': 19.755, 'avginnerarea': 108.494},\n",
       " (6, 18): {'centerlinelength': 13.9716, 'avginnerarea': 60.5322},\n",
       " (7, 11): {'centerlinelength': 12.0985, 'avginnerarea': 60.5433},\n",
       " (7, 10): {'centerlinelength': 8.43446, 'avginnerarea': 146.8},\n",
       " (10, 15): {'centerlinelength': 9.92149, 'avginnerarea': 40.2393},\n",
       " (10, 14): {'centerlinelength': 8.46466, 'avginnerarea': 24.9217},\n",
       " (11, 17): {'centerlinelength': 10.5259, 'avginnerarea': 38.2976},\n",
       " (11, 16): {'centerlinelength': 11.1299, 'avginnerarea': 28.5548},\n",
       " (18, 28): {'centerlinelength': 7.33379, 'avginnerarea': 42.1697},\n",
       " (18, 29): {'centerlinelength': 6.53103, 'avginnerarea': 36.133},\n",
       " (19, 30): {'centerlinelength': 18.0194, 'avginnerarea': 34.9124},\n",
       " (19, 31): {'centerlinelength': 6.1641, 'avginnerarea': 77.5104}}"
      ]
     },
     "execution_count": 149,
     "metadata": {},
     "output_type": "execute_result"
    }
   ],
   "source": [
    "# edges and features: TODO include all features relevant + NORMALISE\n",
    "edges = list(zip(single_test.startbpid, single_test.endbpid))\n",
    "edges_with_features = dict(zip(edges,single_test[['centerlinelength', 'avginnerarea']].to_dict(orient='records')))\n",
    "edges_with_features"
   ]
  },
  {
   "cell_type": "code",
   "execution_count": 150,
   "id": "7af00693-8f52-46ee-aa5d-7afeea6027c2",
   "metadata": {},
   "outputs": [
    {
     "name": "stdout",
     "output_type": "stream",
     "text": [
      "[(-1, 1, {'centerlinelength': 82.0393, 'avginnerarea': 237.704}), (1, 6, {'centerlinelength': 23.6456, 'avginnerarea': 140.567}), (1, 7, {'centerlinelength': 50.79, 'avginnerarea': 97.7085}), (6, 19, {'centerlinelength': 19.755, 'avginnerarea': 108.494}), (6, 18, {'centerlinelength': 13.9716, 'avginnerarea': 60.5322}), (7, 11, {'centerlinelength': 12.0985, 'avginnerarea': 60.5433}), (7, 10, {'centerlinelength': 8.43446, 'avginnerarea': 146.8}), (19, 30, {'centerlinelength': 18.0194, 'avginnerarea': 34.9124}), (19, 31, {'centerlinelength': 6.1641, 'avginnerarea': 77.5104}), (18, 28, {'centerlinelength': 7.33379, 'avginnerarea': 42.1697}), (18, 29, {'centerlinelength': 6.53103, 'avginnerarea': 36.133}), (11, 17, {'centerlinelength': 10.5259, 'avginnerarea': 38.2976}), (11, 16, {'centerlinelength': 11.1299, 'avginnerarea': 28.5548}), (10, 15, {'centerlinelength': 9.92149, 'avginnerarea': 40.2393}), (10, 14, {'centerlinelength': 8.46466, 'avginnerarea': 24.9217})]\n",
      "[(-1, {'x': 0, 'y': 0, 'z': 0, 'weibel_generation': -1, 'angle': 0.0}), (1, {'x': -1.065690507, 'y': 15.985357604999999, 'z': 80.4597973571, 'weibel_generation': 0, 'angle': 0.0}), (6, {'x': -12.8584369494, 'y': 12.616001478599998, 'z': 100.6759577611, 'weibel_generation': 1, 'angle': 144.807}), (7, {'x': 27.1168483506, 'y': 15.114458079599999, 'z': 131.90667797109998, 'weibel_generation': 1, 'angle': 127.043}), (19, {'x': 21.9643492506, 'y': 15.629707989599998, 'z': 150.97094439609998, 'weibel_generation': 2, 'angle': 162.07}), (18, {'x': 9.323376491400001, 'y': 12.968453507999998, 'z': 145.6484354329, 'weibel_generation': 2, 'angle': 98.7818}), (11, {'x': 19.389933416399998, 'y': 7.599623147999998, 'z': 141.6218126629, 'weibel_generation': 2, 'angle': 115.366}), (10, {'x': 25.67660878416, 'y': 10.114289921319997, 'z': 146.651154644, 'weibel_generation': 2, 'angle': 165.459}), (15, {'x': 31.40478103566, 'y': 11.259924371619997, 'z': 154.6705957961, 'weibel_generation': 3, 'angle': 161.214}), (14, {'x': 34.80427313826, 'y': 18.738798532679997, 'z': 152.63090053454, 'weibel_generation': 3, 'angle': 114.776}), (17, {'x': 40.05105535586, 'y': 14.657970258079997, 'z': 144.46924398534, 'weibel_generation': 3, 'angle': 147.656}), (16, {'x': 48.41861434496, 'y': 10.152364140079996, 'z': 150.26216772704, 'weibel_generation': 3, 'angle': 129.195}), (28, {'x': 44.48289193872, 'y': 4.904729375899996, 'z': 146.98239416598, 'weibel_generation': 3, 'angle': 142.392}), (29, {'x': 39.76752093387, 'y': 8.946476884489996, 'z': 144.9615236772, 'weibel_generation': 3, 'angle': 130.786}), (30, {'x': 29.417772214070006, 'y': -2.6969746583100047, 'z': 154.0175515546, 'weibel_generation': 3, 'angle': 128.167}), (31, {'x': 26.288425074770004, 'y': 1.0582443744899952, 'z': 157.7727705874, 'weibel_generation': 3, 'angle': 137.409})]\n"
     ]
    },
    {
     "data": {
      "image/png": "[encoded data removed]",
      "text/plain": [
       "<Figure size 432x288 with 1 Axes>"
      ]
     },
     "metadata": {},
     "output_type": "display_data"
    }
   ],
   "source": [
    "g = nx.DiGraph()\n",
    "g.add_nodes_from(nodes)\n",
    "g.add_edges_from(edges)\n",
    "nx.set_edge_attributes(g,edges_with_features)\n",
    "print(g.edges(data=True))\n",
    "print(g.nodes(data=True))\n",
    "# 2D projection of tree (excluding the trachea itself)\n",
    "nx.draw_planar(g,with_labels=True)"
   ]
  },
  {
   "cell_type": "markdown",
   "id": "c167b805-997b-4035-b097-9a471aa5998f",
   "metadata": {},
   "source": [
    "## Pytorch Dataset for Geometric"
   ]
  },
  {
   "cell_type": "code",
   "execution_count": 224,
   "id": "3c560b19-e5ba-4a3f-8d0f-e96f044b91cd",
   "metadata": {},
   "outputs": [
    {
     "data": {
      "text/plain": [
       "torch.Size([16, 4])"
      ]
     },
     "execution_count": 224,
     "metadata": {},
     "output_type": "execute_result"
    }
   ],
   "source": [
    "x_list_plus_trachea = [[0,0,0,-1]]+ single_test.apply(lambda row:row[['x','y','z', 'weibel_generation']].to_list(), axis=1).to_list() # here only node features are pos and weibel gen\n",
    "x = torch.tensor(x_list_plus_trachea, dtype=torch.float)\n",
    "x.shape"
   ]
  },
  {
   "cell_type": "code",
   "execution_count": 219,
   "id": "3612b140-3cd1-4a0a-b690-a960ba06428e",
   "metadata": {},
   "outputs": [
    {
     "data": {
      "text/plain": [
       "([0, 1, 1, 2, 2, 3, 3, 7, 7, 6, 6, 5, 5, 4, 4],\n",
       " [1, 2, 3, 4, 5, 6, 7, 8, 9, 10, 11, 12, 13, 14, 15])"
      ]
     },
     "execution_count": 219,
     "metadata": {},
     "output_type": "execute_result"
    }
   ],
   "source": [
    "# edges\n",
    "# relabel_map = dict(zip(single_test.endbpid,np.arange(1,len(single_test))))\n",
    "relabel_map = {v:k+1 for k,v in single_test.endbpid.to_dict().items()}\n",
    "# single_test.startbpid.apply(lambda x: if x== -1 relabel_map[x])\n",
    "relabel_map[-1] = 0\n",
    "relabel_map\n",
    "source_nodes = single_test.startbpid.apply(lambda x: relabel_map[x]).to_list()\n",
    "end_nodes = single_test.endbpid.apply(lambda x: relabel_map[x]).to_list()\n",
    "source_nodes, end_nodes"
   ]
  },
  {
   "cell_type": "code",
   "execution_count": 225,
   "id": "80c33636-60b3-4a15-ad82-5f3291b9c4ac",
   "metadata": {},
   "outputs": [
    {
     "data": {
      "text/plain": [
       "torch.Size([2, 15])"
      ]
     },
     "execution_count": 225,
     "metadata": {},
     "output_type": "execute_result"
    }
   ],
   "source": [
    "edge_index = torch.tensor([source_nodes, end_nodes], dtype=torch.long)\n",
    "edge_index.shape"
   ]
  },
  {
   "cell_type": "code",
   "execution_count": 285,
   "id": "f451fd2d-e699-4886-a2ff-e5b7a2cb1642",
   "metadata": {},
   "outputs": [],
   "source": [
    "data = Data(x=x, y=torch.FloatTensor([0]),edge_index=edge_index)"
   ]
  },
  {
   "cell_type": "code",
   "execution_count": 281,
   "id": "694570a7-4496-4e20-b509-f9f76c3d48c6",
   "metadata": {},
   "outputs": [
    {
     "data": {
      "text/plain": [
       "Data(x=[16, 4], edge_index=[2, 15], y=0)"
      ]
     },
     "execution_count": 281,
     "metadata": {},
     "output_type": "execute_result"
    }
   ],
   "source": [
    "data"
   ]
  },
  {
   "cell_type": "code",
   "execution_count": 282,
   "id": "f29c7249-2217-4f4b-80cd-17640c82f011",
   "metadata": {},
   "outputs": [
    {
     "ename": "TypeError",
     "evalue": "can only concatenate list (not \"Tensor\") to list",
     "output_type": "error",
     "traceback": [
      "\u001b[0;31m---------------------------------------------------------------------------\u001b[0m",
      "\u001b[0;31mTypeError\u001b[0m                                 Traceback (most recent call last)",
      "Input \u001b[0;32mIn [282]\u001b[0m, in \u001b[0;36m<cell line: 1>\u001b[0;34m()\u001b[0m\n\u001b[0;32m----> 1\u001b[0m nodes \u001b[38;5;241m=\u001b[39m torch\u001b[38;5;241m.\u001b[39mtensor(\u001b[43m[\u001b[49m\u001b[38;5;241;43m0\u001b[39;49m\u001b[43m,\u001b[49m\u001b[38;5;241;43m0\u001b[39;49m\u001b[43m,\u001b[49m\u001b[38;5;241;43m0\u001b[39;49m\u001b[43m,\u001b[49m\u001b[38;5;241;43m-\u001b[39;49m\u001b[38;5;241;43m1\u001b[39;49m\u001b[43m]\u001b[49m\u001b[38;5;241;43m+\u001b[39;49m\u001b[43m \u001b[49m\u001b[43mx\u001b[49m )\n",
      "\u001b[0;31mTypeError\u001b[0m: can only concatenate list (not \"Tensor\") to list"
     ]
    }
   ],
   "source": [
    "nodes = torch.tensor([0,0,0,-1]+ x )"
   ]
  },
  {
   "cell_type": "code",
   "execution_count": 283,
   "id": "3728de72-8825-4409-88d0-f2fb8b6e0294",
   "metadata": {},
   "outputs": [
    {
     "data": {
      "text/plain": [
       "OutEdgeView([(0, 1), (1, 2), (1, 3), (2, 4), (2, 5), (3, 6), (3, 7), (4, 14), (4, 15), (5, 12), (5, 13), (6, 10), (6, 11), (7, 8), (7, 9)])"
      ]
     },
     "execution_count": 283,
     "metadata": {},
     "output_type": "execute_result"
    },
    {
     "data": {
      "image/png": "[encoded data removed]",
      "text/plain": [
       "<Figure size 432x288 with 1 Axes>"
      ]
     },
     "metadata": {},
     "output_type": "display_data"
    }
   ],
   "source": [
    "import torch_geometric\n",
    "g = torch_geometric.utils.to_networkx(data, to_undirected=False)\n",
    "nx.draw_planar(g, with_labels=True)\n",
    "g.edges()\n"
   ]
  },
  {
   "cell_type": "code",
   "execution_count": 345,
   "id": "fe294c3b-516c-47c3-b9d8-611a93af176e",
   "metadata": {},
   "outputs": [
    {
     "name": "stdout",
     "output_type": "stream",
     "text": [
      "tensor([0, 1, 0, 1])\n",
      "DataDataBatch(x=[256, 4], edge_index=[2, 240], y=[16], batch=[256]) defaultdict(<class 'dict'>, {'x': tensor([  0,  64, 128, 192, 256]), 'edge_index': tensor([  0,  60, 120, 180, 240]), 'y': tensor([ 0,  4,  8, 12, 16]), 'batch': tensor([  0,  64, 128, 192, 256])})\n",
      "FIRST 60\n"
     ]
    },
    {
     "data": {
      "text/plain": [
       "(0,\n",
       " [DataBatch(x=[256, 4], edge_index=[2, 240], y=[16], batch=[256]),\n",
       "  tensor([0, 1, 0, 1])])"
      ]
     },
     "execution_count": 345,
     "metadata": {},
     "output_type": "execute_result"
    },
    {
     "data": {
      "image/png": "[encoded data removed]",
      "text/plain": [
       "<Figure size 432x288 with 1 Axes>"
      ]
     },
     "metadata": {},
     "output_type": "display_data"
    }
   ],
   "source": [
    "from torch_geometric.loader import DataLoader\n",
    "# https://www.youtube.com/watch?v=QLIkOtKS4os --> creating custom dataset in pytorch geometric\n",
    "\n",
    "\n",
    "class CustomDataset(InMemoryDataset):\n",
    "    def __init__(self,data_in,label_in, transform=None):\n",
    "        self.data_list = data_in\n",
    "        self.labels = torch.tensor(label_in)\n",
    "        print(self.labels)\n",
    "        self.data, self.slices = self.collate(data_in)\n",
    "        print(self.data, self.slices)\n",
    "    \n",
    "    def __len__(self):\n",
    "        return len(self.data_list)\n",
    "    \n",
    "    def __getitem__(self, index):\n",
    "        return self.data_list[index], self.labels[index]\n",
    "    \n",
    "    def _download(self):\n",
    "        return\n",
    "\n",
    "    def _process(self):\n",
    "        return\n",
    "\n",
    "    def __repr__(self):\n",
    "        return '{}()'.format(self.__class__.__name__)\n",
    "        \n",
    "my_data  = CustomDataset(data_in=[data, data, data,data], label_in=[0,1,0,1])\n",
    "first = my_data[0]\n",
    "print(\"FIRST\",first[0].num_edges)\n",
    "g = torch_geometric.utils.to_networkx(first[0], to_undirected=False)\n",
    "nx.draw(g)\n",
    "loader = DataLoader(my_data, batch_size=20)\n",
    "next(enumerate(loader))"
   ]
  },
  {
   "cell_type": "code",
   "execution_count": 333,
   "id": "cfdbcdcb-ff2c-4659-9025-123ef2d41799",
   "metadata": {},
   "outputs": [
    {
     "name": "stdout",
     "output_type": "stream",
     "text": [
      "GCN(\n",
      "  (conv1): GCNConv(4, 2)\n",
      "  (conv2): GCNConv(2, 2)\n",
      "  (conv3): GCNConv(2, 2)\n",
      "  (lin): Linear(in_features=2, out_features=1, bias=True)\n",
      ")\n"
     ]
    }
   ],
   "source": [
    "\n",
    "\n",
    "class GCN(torch.nn.Module):\n",
    "    def __init__(self,in_channels, hidden_channels, out_channels):\n",
    "        super(GCN, self).__init__()\n",
    "        torch.manual_seed(12345)\n",
    "        self.conv1 = GCNConv(in_channels, hidden_channels)\n",
    "        self.conv2 = GCNConv(hidden_channels, hidden_channels)\n",
    "        self.conv3 = GCNConv(hidden_channels, hidden_channels)\n",
    "        self.lin = Linear(hidden_channels, out_channels)\n",
    "\n",
    "    def forward(self, x, edge_index, batch):\n",
    "        # 1. Obtain node embeddings\n",
    "        print(x.shape)\n",
    "        x = self.conv1(x, edge_index)\n",
    "        print(x.shape)\n",
    "        x = x.relu()\n",
    "        x = self.conv2(x, edge_index)\n",
    "        print(x.shape)\n",
    "        x = x.relu()\n",
    "        x = self.conv3(x, edge_index)\n",
    "        print(x.shape)\n",
    "        # 2. Readout layer\n",
    "        x = global_mean_pool(x, batch)  # [batch_size, hidden_channels]\n",
    "\n",
    "        # 3. Apply a final classifier\n",
    "        x = F.dropout(x, p=0.5, training=self.training)\n",
    "        x = self.lin(x)\n",
    "        \n",
    "        return x\n",
    "\n",
    "model = GCN(in_channels=4, hidden_channels=2, out_channels=1)\n",
    "print(model)"
   ]
  },
  {
   "cell_type": "code",
   "execution_count": 336,
   "id": "011746b0-4620-4858-a41b-7d3891f7c1e2",
   "metadata": {},
   "outputs": [
    {
     "name": "stdout",
     "output_type": "stream",
     "text": [
      "DataBatch(x=[64, 4], edge_index=[2, 60], y=[4], batch=[64]) tensor([0, 1])\n",
      "torch.Size([64, 4])\n",
      "torch.Size([64, 2])\n",
      "torch.Size([64, 2])\n",
      "torch.Size([64, 2])\n",
      "HERE torch.Size([4, 1]) tensor([[0.4218],\n",
      "        [0.4214],\n",
      "        [0.4214],\n",
      "        [0.4214]], grad_fn=<SigmoidBackward0>)\n",
      "label tensor([0., 0., 0., 0.])\n",
      "loss tensor(-0., grad_fn=<DivBackward1>)\n",
      "DataBatch(x=[64, 4], edge_index=[2, 60], y=[4], batch=[64]) tensor([0, 1])\n",
      "torch.Size([64, 4])\n",
      "torch.Size([64, 2])\n",
      "torch.Size([64, 2])\n",
      "torch.Size([64, 2])\n",
      "HERE torch.Size([4, 1]) tensor([[0.4218],\n",
      "        [0.4218],\n",
      "        [0.4214],\n",
      "        [0.4214]], grad_fn=<SigmoidBackward0>)\n",
      "label tensor([0., 0., 0., 0.])\n",
      "loss tensor(-0., grad_fn=<DivBackward1>)\n"
     ]
    }
   ],
   "source": [
    "optimizer = torch.optim.Adam(model.parameters(), lr=0.01)\n",
    "criterion = torch.nn.CrossEntropyLoss()\n",
    " \n",
    "for batch_idx, (data, label) in list(enumerate(loader)):\n",
    "    print(data, label)\n",
    "    x = model(data.x, data.edge_index,data.batch)\n",
    "    print(\"HERE\", x.shape, torch.sigmoid(x))\n",
    "    print(\"label\", data.y)\n",
    "    loss =criterion(torch.sigmoid(x), data.y.unsqueeze(-1))\n",
    "    print(\"loss\", loss)\n",
    "    loss.backward()"
   ]
  }
 ],
 "metadata": {
  "kernelspec": {
   "display_name": "Python 3 (ipykernel)",
   "language": "python",
   "name": "python3"
  },
  "language_info": {
   "codemirror_mode": {
    "name": "ipython",
    "version": 3
   },
   "file_extension": ".py",
   "mimetype": "text/x-python",
   "name": "python",
   "nbconvert_exporter": "python",
   "pygments_lexer": "ipython3",
   "version": "3.8.13"
  }
 },
 "nbformat": 4,
 "nbformat_minor": 5
}
