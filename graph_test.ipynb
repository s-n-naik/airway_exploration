{
 "cells": [
  {
   "cell_type": "code",
   "execution_count": 260,
   "id": "ea069f35-53c3-44ef-aa08-716ff1eb7709",
   "metadata": {},
   "outputs": [
    {
     "name": "stdout",
     "output_type": "stream",
     "text": [
      "The autoreload extension is already loaded. To reload it, use:\n",
      "  %reload_ext autoreload\n"
     ]
    }
   ],
   "source": [
    "%load_ext autoreload\n",
    "%autoreload 2 \n",
    "# !apt-get install -y xvfb\n",
    "import time\n",
    "import torch\n",
    "import torch.nn as nn\n",
    "from torch.utils.data import Dataset, random_split\n",
    "from torch_geometric.data import Data, InMemoryDataset\n",
    "from torch.nn import Linear\n",
    "import torch.nn.functional as F\n",
    "from torch_geometric.nn import GCNConv\n",
    "from torch_geometric.nn import global_mean_pool\n",
    "import networkx as nx\n",
    "import pandas as pd\n",
    "import numpy as np\n",
    "import matplotlib.pyplot as plt\n",
    "import re\n",
    "import pickle\n",
    "import random\n",
    "import os"
   ]
  },
  {
   "cell_type": "code",
   "execution_count": 239,
   "id": "a4409c4d-e3b0-45ea-bd2e-3ae97e8408c4",
   "metadata": {},
   "outputs": [],
   "source": [
    "\n",
    "\n",
    "def set_device_and_seed(GPU=True, seed=0, gpu_name = \"cuda:0\"):\n",
    "    torch.cuda.is_available()\n",
    "    if GPU:\n",
    "        device = torch.device(gpu_name if torch.cuda.is_available() else 'cpu')\n",
    "    else:\n",
    "        device = torch.device(\"cpu\")\n",
    "    print(f'Using {device}')\n",
    "\n",
    "    if torch.cuda.is_available():\n",
    "        torch.backends.cudnn.deterministic = True\n",
    "        \n",
    "    set_seed(seed)\n",
    "    \n",
    "    return device\n",
    "\n",
    "def set_seed(seed):\n",
    "    torch.manual_seed(seed)\n",
    "    np.random.seed(seed)\n",
    "    torch.cuda.manual_seed(seed)\n",
    "    random.seed(seed)\n",
    "    print(f\"Setting torch, cuda, numpy and random seeds to {seed}\")\n",
    "\n",
    "\n",
    "def show(img):\n",
    "    npimg = img.cpu().numpy()\n",
    "    plt.imshow(np.transpose(npimg, (1,2,0)))\n",
    "\n",
    "    \n",
    "def visualize_graph(G, color):\n",
    "    plt.figure(figsize=(7,7))\n",
    "    plt.xticks([])\n",
    "    plt.yticks([])\n",
    "    nx.draw_networkx(G, pos=nx.spring_layout(G, seed=42), with_labels=False,\n",
    "                     node_color=color, cmap=\"Set2\")\n",
    "    plt.show()\n",
    "\n",
    "\n",
    "def visualize_embedding(h, color, epoch=None, loss=None):\n",
    "    plt.figure(figsize=(7,7))\n",
    "    plt.xticks([])\n",
    "    plt.yticks([])\n",
    "    h = h.detach().cpu().numpy()\n",
    "    plt.scatter(h[:, 0], h[:, 1], s=140, c=color, cmap=\"Set2\")\n",
    "    if epoch is not None and loss is not None:\n",
    "        plt.xlabel(f'Epoch: {epoch}, Loss: {loss.item():.4f}', fontsize=16)\n",
    "    plt.show()"
   ]
  },
  {
   "cell_type": "code",
   "execution_count": 11,
   "id": "db45b184-f90e-42a1-99ad-be9ca5c836a7",
   "metadata": {},
   "outputs": [
    {
     "name": "stdout",
     "output_type": "stream",
     "text": [
      "Using cuda\n",
      "Setting torch, cuda, numpy and random seeds to 0\n"
     ]
    },
    {
     "data": {
      "text/plain": [
       "device(type='cuda')"
      ]
     },
     "execution_count": 11,
     "metadata": {},
     "output_type": "execute_result"
    }
   ],
   "source": [
    "# Setting random seed and device\n",
    "GPU = True # Choose whether to use GPU\n",
    "set_device_and_seed(GPU=True, seed=0, gpu_name='cuda')"
   ]
  },
  {
   "cell_type": "markdown",
   "id": "078e86c8-5063-436e-b3a5-05c2c58368c4",
   "metadata": {},
   "source": [
    "### Load Data\n"
   ]
  },
  {
   "cell_type": "code",
   "execution_count": 23,
   "id": "dca64ebf-39ab-4791-858b-b9240327f536",
   "metadata": {},
   "outputs": [],
   "source": [
    "pilot_df = pd.read_excel(os.path.abspath(\"/home/sneha/airway_tree_pilot.xlsx\"), sheet_name=0)\n",
    "pilot_df.drop(columns = [\"manufacturer\", \"model\"], inplace=True)"
   ]
  },
  {
   "cell_type": "code",
   "execution_count": 24,
   "id": "4e9c0254-4846-4ec8-bac2-9be2e8752167",
   "metadata": {},
   "outputs": [],
   "source": [
    "label_df = pd.read_csv(os.path.abspath(\"/home/sneha/MESA_Exam5_airway_variants.csv\"))"
   ]
  },
  {
   "cell_type": "code",
   "execution_count": 25,
   "id": "306c9814-d055-40ff-a107-44303f722fbe",
   "metadata": {},
   "outputs": [
    {
     "data": {
      "text/plain": [
       "idno                                                  17397820297\n",
       "LL_1            StandardStandardStandardStandardStandardAcc. B...\n",
       "Standard                                                     2304\n",
       "Acc_B                                                         455\n",
       "Abs_RB7                                                       175\n",
       "Acc_LB7                                                        53\n",
       "Rare                                                            2\n",
       "Unclassified                                                  185\n",
       "dtype: object"
      ]
     },
     "execution_count": 25,
     "metadata": {},
     "output_type": "execute_result"
    }
   ],
   "source": [
    "label_df.sum()"
   ]
  },
  {
   "cell_type": "code",
   "execution_count": 22,
   "id": "d9d52534-03d4-43fb-8caa-f1c1c86099e6",
   "metadata": {},
   "outputs": [
    {
     "name": "stdout",
     "output_type": "stream",
     "text": [
      "<class 'pandas.core.frame.DataFrame'>\n",
      "RangeIndex: 77683 entries, 0 to 77682\n",
      "Data columns (total 15 columns):\n",
      " #   Column             Non-Null Count  Dtype  \n",
      "---  ------             --------------  -----  \n",
      " 0   idno               77683 non-null  int64  \n",
      " 1   anatomicalname     77683 non-null  object \n",
      " 2   startbpid          77683 non-null  int64  \n",
      " 3   endbpid            77683 non-null  int64  \n",
      " 4   centerlinelength   77683 non-null  float64\n",
      " 5   angle              77454 non-null  float64\n",
      " 6   dircosx            77683 non-null  float64\n",
      " 7   dircosy            77683 non-null  float64\n",
      " 8   dircosz            77683 non-null  float64\n",
      " 9   avginnerarea       77683 non-null  float64\n",
      " 10  lobes              77683 non-null  object \n",
      " 11  generation         77683 non-null  int64  \n",
      " 12  weibel_generation  77683 non-null  int64  \n",
      " 13  manufacturer       77683 non-null  object \n",
      " 14  model              77683 non-null  object \n",
      "dtypes: float64(6), int64(5), object(4)\n",
      "memory usage: 8.9+ MB\n"
     ]
    }
   ],
   "source": [
    "pilot_df.info()"
   ]
  },
  {
   "cell_type": "markdown",
   "id": "6c4dee94-15ef-41e7-b84d-1b57549eed88",
   "metadata": {},
   "source": [
    "## Make a tiny graph sample & visualise in networkx"
   ]
  },
  {
   "cell_type": "code",
   "execution_count": 207,
   "id": "41080a12-3dec-46e1-b7e0-3150bf704c4d",
   "metadata": {},
   "outputs": [],
   "source": [
    "single_test = pilot_df[(pilot_df.idno ==3011950) & (pilot_df.weibel_generation <= 3)].copy().reset_index().drop(columns='index')\n",
    "single_test.fillna(0, inplace=True)\n"
   ]
  },
  {
   "cell_type": "code",
   "execution_count": 208,
   "id": "60da1f26-0b6f-47d5-a8b0-27ecb79e6c8f",
   "metadata": {},
   "outputs": [],
   "source": [
    "single_test['x'] = (single_test.centerlinelength*single_test.dircosx).cumsum()\n",
    "single_test['y'] = (single_test.centerlinelength*single_test.dircosy).cumsum()\n",
    "single_test['z'] = (single_test.centerlinelength*single_test.dircosz).cumsum()"
   ]
  },
  {
   "cell_type": "code",
   "execution_count": 148,
   "id": "49475a9e-50ff-4f50-a20e-877046b6e3bf",
   "metadata": {},
   "outputs": [],
   "source": [
    "# nodes and features: TODO include all features relevant + NORMALISE\n",
    "nodes = list(zip(single_test.endbpid, single_test[['x', 'y', 'z','weibel_generation', 'angle']].to_dict(orient='records')))\n",
    "nodes =[(-1,\n",
    "  {'x': 0,\n",
    "   'y': 0,\n",
    "   'z': 0,\n",
    "   'weibel_generation': -1,\n",
    "   'angle': 0.0})]+nodes"
   ]
  },
  {
   "cell_type": "code",
   "execution_count": 149,
   "id": "8866649e-0fda-4c0d-a523-5de3df8024df",
   "metadata": {},
   "outputs": [
    {
     "data": {
      "text/plain": [
       "{(-1, 1): {'centerlinelength': 82.0393, 'avginnerarea': 237.704},\n",
       " (1, 6): {'centerlinelength': 23.6456, 'avginnerarea': 140.567},\n",
       " (1, 7): {'centerlinelength': 50.79, 'avginnerarea': 97.7085},\n",
       " (6, 19): {'centerlinelength': 19.755, 'avginnerarea': 108.494},\n",
       " (6, 18): {'centerlinelength': 13.9716, 'avginnerarea': 60.5322},\n",
       " (7, 11): {'centerlinelength': 12.0985, 'avginnerarea': 60.5433},\n",
       " (7, 10): {'centerlinelength': 8.43446, 'avginnerarea': 146.8},\n",
       " (10, 15): {'centerlinelength': 9.92149, 'avginnerarea': 40.2393},\n",
       " (10, 14): {'centerlinelength': 8.46466, 'avginnerarea': 24.9217},\n",
       " (11, 17): {'centerlinelength': 10.5259, 'avginnerarea': 38.2976},\n",
       " (11, 16): {'centerlinelength': 11.1299, 'avginnerarea': 28.5548},\n",
       " (18, 28): {'centerlinelength': 7.33379, 'avginnerarea': 42.1697},\n",
       " (18, 29): {'centerlinelength': 6.53103, 'avginnerarea': 36.133},\n",
       " (19, 30): {'centerlinelength': 18.0194, 'avginnerarea': 34.9124},\n",
       " (19, 31): {'centerlinelength': 6.1641, 'avginnerarea': 77.5104}}"
      ]
     },
     "execution_count": 149,
     "metadata": {},
     "output_type": "execute_result"
    }
   ],
   "source": [
    "# edges and features: TODO include all features relevant + NORMALISE\n",
    "edges = list(zip(single_test.startbpid, single_test.endbpid))\n",
    "edges_with_features = dict(zip(edges,single_test[['centerlinelength', 'avginnerarea']].to_dict(orient='records')))\n",
    "edges_with_features"
   ]
  },
  {
   "cell_type": "code",
   "execution_count": 150,
   "id": "7af00693-8f52-46ee-aa5d-7afeea6027c2",
   "metadata": {},
   "outputs": [
    {
     "name": "stdout",
     "output_type": "stream",
     "text": [
      "[(-1, 1, {'centerlinelength': 82.0393, 'avginnerarea': 237.704}), (1, 6, {'centerlinelength': 23.6456, 'avginnerarea': 140.567}), (1, 7, {'centerlinelength': 50.79, 'avginnerarea': 97.7085}), (6, 19, {'centerlinelength': 19.755, 'avginnerarea': 108.494}), (6, 18, {'centerlinelength': 13.9716, 'avginnerarea': 60.5322}), (7, 11, {'centerlinelength': 12.0985, 'avginnerarea': 60.5433}), (7, 10, {'centerlinelength': 8.43446, 'avginnerarea': 146.8}), (19, 30, {'centerlinelength': 18.0194, 'avginnerarea': 34.9124}), (19, 31, {'centerlinelength': 6.1641, 'avginnerarea': 77.5104}), (18, 28, {'centerlinelength': 7.33379, 'avginnerarea': 42.1697}), (18, 29, {'centerlinelength': 6.53103, 'avginnerarea': 36.133}), (11, 17, {'centerlinelength': 10.5259, 'avginnerarea': 38.2976}), (11, 16, {'centerlinelength': 11.1299, 'avginnerarea': 28.5548}), (10, 15, {'centerlinelength': 9.92149, 'avginnerarea': 40.2393}), (10, 14, {'centerlinelength': 8.46466, 'avginnerarea': 24.9217})]\n",
      "[(-1, {'x': 0, 'y': 0, 'z': 0, 'weibel_generation': -1, 'angle': 0.0}), (1, {'x': -1.065690507, 'y': 15.985357604999999, 'z': 80.4597973571, 'weibel_generation': 0, 'angle': 0.0}), (6, {'x': -12.8584369494, 'y': 12.616001478599998, 'z': 100.6759577611, 'weibel_generation': 1, 'angle': 144.807}), (7, {'x': 27.1168483506, 'y': 15.114458079599999, 'z': 131.90667797109998, 'weibel_generation': 1, 'angle': 127.043}), (19, {'x': 21.9643492506, 'y': 15.629707989599998, 'z': 150.97094439609998, 'weibel_generation': 2, 'angle': 162.07}), (18, {'x': 9.323376491400001, 'y': 12.968453507999998, 'z': 145.6484354329, 'weibel_generation': 2, 'angle': 98.7818}), (11, {'x': 19.389933416399998, 'y': 7.599623147999998, 'z': 141.6218126629, 'weibel_generation': 2, 'angle': 115.366}), (10, {'x': 25.67660878416, 'y': 10.114289921319997, 'z': 146.651154644, 'weibel_generation': 2, 'angle': 165.459}), (15, {'x': 31.40478103566, 'y': 11.259924371619997, 'z': 154.6705957961, 'weibel_generation': 3, 'angle': 161.214}), (14, {'x': 34.80427313826, 'y': 18.738798532679997, 'z': 152.63090053454, 'weibel_generation': 3, 'angle': 114.776}), (17, {'x': 40.05105535586, 'y': 14.657970258079997, 'z': 144.46924398534, 'weibel_generation': 3, 'angle': 147.656}), (16, {'x': 48.41861434496, 'y': 10.152364140079996, 'z': 150.26216772704, 'weibel_generation': 3, 'angle': 129.195}), (28, {'x': 44.48289193872, 'y': 4.904729375899996, 'z': 146.98239416598, 'weibel_generation': 3, 'angle': 142.392}), (29, {'x': 39.76752093387, 'y': 8.946476884489996, 'z': 144.9615236772, 'weibel_generation': 3, 'angle': 130.786}), (30, {'x': 29.417772214070006, 'y': -2.6969746583100047, 'z': 154.0175515546, 'weibel_generation': 3, 'angle': 128.167}), (31, {'x': 26.288425074770004, 'y': 1.0582443744899952, 'z': 157.7727705874, 'weibel_generation': 3, 'angle': 137.409})]\n"
     ]
    },
    {
     "data": {
      "image/png": "[encoded data removed]",
      "text/plain": [
       "<Figure size 432x288 with 1 Axes>"
      ]
     },
     "metadata": {},
     "output_type": "display_data"
    }
   ],
   "source": [
    "g = nx.DiGraph()\n",
    "g.add_nodes_from(nodes)\n",
    "g.add_edges_from(edges)\n",
    "nx.set_edge_attributes(g,edges_with_features)\n",
    "print(g.edges(data=True))\n",
    "print(g.nodes(data=True))\n",
    "# 2D projection of tree (excluding the trachea itself)\n",
    "nx.draw_planar(g,with_labels=True)"
   ]
  },
  {
   "cell_type": "markdown",
   "id": "c167b805-997b-4035-b097-9a471aa5998f",
   "metadata": {},
   "source": [
    "## Pytorch Dataset for Geometric"
   ]
  },
  {
   "cell_type": "code",
   "execution_count": 224,
   "id": "3c560b19-e5ba-4a3f-8d0f-e96f044b91cd",
   "metadata": {},
   "outputs": [
    {
     "data": {
      "text/plain": [
       "torch.Size([16, 4])"
      ]
     },
     "execution_count": 224,
     "metadata": {},
     "output_type": "execute_result"
    }
   ],
   "source": [
    "x_list_plus_trachea = [[0,0,0,-1]]+ single_test.apply(lambda row:row[['x','y','z', 'weibel_generation']].to_list(), axis=1).to_list() # here only node features are pos and weibel gen\n",
    "x = torch.tensor(x_list_plus_trachea, dtype=torch.float)\n",
    "x.shape"
   ]
  },
  {
   "cell_type": "code",
   "execution_count": 219,
   "id": "3612b140-3cd1-4a0a-b690-a960ba06428e",
   "metadata": {},
   "outputs": [
    {
     "data": {
      "text/plain": [
       "([0, 1, 1, 2, 2, 3, 3, 7, 7, 6, 6, 5, 5, 4, 4],\n",
       " [1, 2, 3, 4, 5, 6, 7, 8, 9, 10, 11, 12, 13, 14, 15])"
      ]
     },
     "execution_count": 219,
     "metadata": {},
     "output_type": "execute_result"
    }
   ],
   "source": [
    "# edges\n",
    "# relabel_map = dict(zip(single_test.endbpid,np.arange(1,len(single_test))))\n",
    "relabel_map = {v:k+1 for k,v in single_test.endbpid.to_dict().items()}\n",
    "# single_test.startbpid.apply(lambda x: if x== -1 relabel_map[x])\n",
    "relabel_map[-1] = 0\n",
    "relabel_map\n",
    "source_nodes = single_test.startbpid.apply(lambda x: relabel_map[x]).to_list()\n",
    "end_nodes = single_test.endbpid.apply(lambda x: relabel_map[x]).to_list()\n",
    "source_nodes, end_nodes"
   ]
  },
  {
   "cell_type": "code",
   "execution_count": 225,
   "id": "80c33636-60b3-4a15-ad82-5f3291b9c4ac",
   "metadata": {},
   "outputs": [
    {
     "data": {
      "text/plain": [
       "torch.Size([2, 15])"
      ]
     },
     "execution_count": 225,
     "metadata": {},
     "output_type": "execute_result"
    }
   ],
   "source": [
    "edge_index = torch.tensor([source_nodes, end_nodes], dtype=torch.long)\n",
    "edge_index.shape"
   ]
  },
  {
   "cell_type": "code",
   "execution_count": 285,
   "id": "f451fd2d-e699-4886-a2ff-e5b7a2cb1642",
   "metadata": {},
   "outputs": [],
   "source": [
    "data = Data(x=x, y=torch.FloatTensor([0]),edge_index=edge_index)"
   ]
  },
  {
   "cell_type": "code",
   "execution_count": 281,
   "id": "694570a7-4496-4e20-b509-f9f76c3d48c6",
   "metadata": {},
   "outputs": [
    {
     "data": {
      "text/plain": [
       "Data(x=[16, 4], edge_index=[2, 15], y=0)"
      ]
     },
     "execution_count": 281,
     "metadata": {},
     "output_type": "execute_result"
    }
   ],
   "source": [
    "data"
   ]
  },
  {
   "cell_type": "code",
   "execution_count": 282,
   "id": "f29c7249-2217-4f4b-80cd-17640c82f011",
   "metadata": {},
   "outputs": [
    {
     "ename": "TypeError",
     "evalue": "can only concatenate list (not \"Tensor\") to list",
     "output_type": "error",
     "traceback": [
      "\u001b[0;31m---------------------------------------------------------------------------\u001b[0m",
      "\u001b[0;31mTypeError\u001b[0m                                 Traceback (most recent call last)",
      "Input \u001b[0;32mIn [282]\u001b[0m, in \u001b[0;36m<cell line: 1>\u001b[0;34m()\u001b[0m\n\u001b[0;32m----> 1\u001b[0m nodes \u001b[38;5;241m=\u001b[39m torch\u001b[38;5;241m.\u001b[39mtensor(\u001b[43m[\u001b[49m\u001b[38;5;241;43m0\u001b[39;49m\u001b[43m,\u001b[49m\u001b[38;5;241;43m0\u001b[39;49m\u001b[43m,\u001b[49m\u001b[38;5;241;43m0\u001b[39;49m\u001b[43m,\u001b[49m\u001b[38;5;241;43m-\u001b[39;49m\u001b[38;5;241;43m1\u001b[39;49m\u001b[43m]\u001b[49m\u001b[38;5;241;43m+\u001b[39;49m\u001b[43m \u001b[49m\u001b[43mx\u001b[49m )\n",
      "\u001b[0;31mTypeError\u001b[0m: can only concatenate list (not \"Tensor\") to list"
     ]
    }
   ],
   "source": [
    "nodes = torch.tensor([0,0,0,-1]+ x )"
   ]
  },
  {
   "cell_type": "code",
   "execution_count": 283,
   "id": "3728de72-8825-4409-88d0-f2fb8b6e0294",
   "metadata": {},
   "outputs": [
    {
     "data": {
      "text/plain": [
       "OutEdgeView([(0, 1), (1, 2), (1, 3), (2, 4), (2, 5), (3, 6), (3, 7), (4, 14), (4, 15), (5, 12), (5, 13), (6, 10), (6, 11), (7, 8), (7, 9)])"
      ]
     },
     "execution_count": 283,
     "metadata": {},
     "output_type": "execute_result"
    },
    {
     "data": {
      "image/png": "[encoded data removed]",
      "text/plain": [
       "<Figure size 432x288 with 1 Axes>"
      ]
     },
     "metadata": {},
     "output_type": "display_data"
    }
   ],
   "source": [
    "import torch_geometric\n",
    "g = torch_geometric.utils.to_networkx(data, to_undirected=False)\n",
    "nx.draw_planar(g, with_labels=True)\n",
    "g.edges()\n"
   ]
  },
  {
   "cell_type": "code",
   "execution_count": 306,
   "id": "fe294c3b-516c-47c3-b9d8-611a93af176e",
   "metadata": {},
   "outputs": [
    {
     "name": "stdout",
     "output_type": "stream",
     "text": [
      "DataDataBatch(x=[64, 4], edge_index=[2, 60], y=[4], batch=[64]) defaultdict(<class 'dict'>, {'x': tensor([ 0, 16, 32, 48, 64]), 'edge_index': tensor([ 0, 15, 30, 45, 60]), 'y': tensor([0, 1, 2, 3, 4]), 'batch': tensor([ 0, 16, 32, 48, 64])})\n"
     ]
    },
    {
     "data": {
      "text/plain": [
       "(0,\n",
       " [DataBatch(x=[32, 4], edge_index=[2, 30], y=[2], batch=[32]), tensor([0, 1])])"
      ]
     },
     "execution_count": 306,
     "metadata": {},
     "output_type": "execute_result"
    }
   ],
   "source": [
    "from torch_geometric.loader import DataLoader\n",
    "\n",
    "\n",
    "class CustomDataset(InMemoryDataset):\n",
    "    def __init__(self,data_in,label_in, transform=None):\n",
    "        self.data_list = data_in\n",
    "        self.labels = torch.tensor(label_in)\n",
    "        self.data, self.slices = self.collate(data_in)\n",
    "        print(self.data, self.slices)\n",
    "    \n",
    "    def __len__(self):\n",
    "        return len(self.data_list)\n",
    "    \n",
    "    def __getitem__(self, index):\n",
    "        return self.data_list[index], self.labels[index]\n",
    "    \n",
    "    def _download(self):\n",
    "        return\n",
    "\n",
    "    def _process(self):\n",
    "        return\n",
    "\n",
    "    def __repr__(self):\n",
    "        return '{}()'.format(self.__class__.__name__)\n",
    "        \n",
    "my_data  = CustomDataset(data_in=[data, data, data,data], label_in=[0,1,0,1])\n",
    "loader = DataLoader(my_data, batch_size=2)\n",
    "next(enumerate(loader))"
   ]
  },
  {
   "cell_type": "code",
   "execution_count": 300,
   "id": "cfdbcdcb-ff2c-4659-9025-123ef2d41799",
   "metadata": {},
   "outputs": [
    {
     "name": "stdout",
     "output_type": "stream",
     "text": [
      "GCN(\n",
      "  (conv1): GCNConv(4, 2)\n",
      "  (conv2): GCNConv(2, 2)\n",
      "  (conv3): GCNConv(2, 2)\n",
      "  (lin): Linear(in_features=2, out_features=1, bias=True)\n",
      ")\n"
     ]
    }
   ],
   "source": [
    "\n",
    "\n",
    "class GCN(torch.nn.Module):\n",
    "    def __init__(self,in_channels, hidden_channels, out_channels):\n",
    "        super(GCN, self).__init__()\n",
    "        torch.manual_seed(12345)\n",
    "        self.conv1 = GCNConv(in_channels, hidden_channels)\n",
    "        self.conv2 = GCNConv(hidden_channels, hidden_channels)\n",
    "        self.conv3 = GCNConv(hidden_channels, hidden_channels)\n",
    "        self.lin = Linear(hidden_channels, out_channels)\n",
    "\n",
    "    def forward(self, x, edge_index, batch):\n",
    "        # 1. Obtain node embeddings\n",
    "        print(x.shape)\n",
    "        x = self.conv1(x, edge_index)\n",
    "        print(x.shape)\n",
    "        x = x.relu()\n",
    "        x = self.conv2(x, edge_index)\n",
    "        print(x.shape)\n",
    "        x = x.relu()\n",
    "        x = self.conv3(x, edge_index)\n",
    "        print(x.shape)\n",
    "        # 2. Readout layer\n",
    "        x = global_mean_pool(x, batch)  # [batch_size, hidden_channels]\n",
    "\n",
    "        # 3. Apply a final classifier\n",
    "        x = F.dropout(x, p=0.5, training=self.training)\n",
    "        x = self.lin(x)\n",
    "        \n",
    "        return x\n",
    "\n",
    "model = GCN(in_channels=4, hidden_channels=2, out_channels=1)\n",
    "print(model)"
   ]
  },
  {
   "cell_type": "code",
   "execution_count": 315,
   "id": "011746b0-4620-4858-a41b-7d3891f7c1e2",
   "metadata": {},
   "outputs": [
    {
     "name": "stdout",
     "output_type": "stream",
     "text": [
      "DataBatch(x=[32, 4], edge_index=[2, 30], y=[2], batch=[32])\n",
      "torch.Size([32, 4])\n",
      "torch.Size([32, 2])\n",
      "torch.Size([32, 2])\n",
      "torch.Size([32, 2])\n",
      "HERE torch.Size([2, 1]) tensor([[0.4218],\n",
      "        [0.4218]], grad_fn=<SigmoidBackward0>)\n",
      "DataBatch(x=[32, 4], edge_index=[2, 30], y=[2], batch=[32])\n",
      "torch.Size([32, 4])\n",
      "torch.Size([32, 2])\n",
      "torch.Size([32, 2])\n",
      "torch.Size([32, 2])\n",
      "HERE torch.Size([2, 1]) tensor([[0.4214],\n",
      "        [0.4218]], grad_fn=<SigmoidBackward0>)\n"
     ]
    }
   ],
   "source": [
    "for batch_idx, (data, label) in list(enumerate(loader)):\n",
    "    print(data)\n",
    "    x = model(data.x, data.edge_index,data.batch)\n",
    "    print(\"HERE\", x.shape, torch.sigmoid(x))"
   ]
  }
 ],
 "metadata": {
  "kernelspec": {
   "display_name": "Python 3 (ipykernel)",
   "language": "python",
   "name": "python3"
  },
  "language_info": {
   "codemirror_mode": {
    "name": "ipython",
    "version": 3
   },
   "file_extension": ".py",
   "mimetype": "text/x-python",
   "name": "python",
   "nbconvert_exporter": "python",
   "pygments_lexer": "ipython3",
   "version": "3.8.13"
  }
 },
 "nbformat": 4,
 "nbformat_minor": 5
}
