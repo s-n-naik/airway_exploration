{
 "cells": [
  {
   "cell_type": "code",
   "execution_count": 1,
   "id": "d05c5120-2476-477e-9a25-dab5a60eea48",
   "metadata": {},
   "outputs": [],
   "source": [
    "%load_ext autoreload\n",
    "%autoreload 2 \n",
    "# !apt-get install -y xvfb"
   ]
  },
  {
   "cell_type": "code",
   "execution_count": 124,
   "id": "766d0ee8-cb3f-4552-925f-d13118acffe7",
   "metadata": {},
   "outputs": [],
   "source": [
    "import pandas as pd\n",
    "import numpy as np\n",
    "import os\n",
    "import matplotlib.pyplot as plt\n"
   ]
  },
  {
   "cell_type": "markdown",
   "id": "36acff89-f7c5-4f91-8095-249f6198e83f",
   "metadata": {},
   "source": [
    "## Data Loading"
   ]
  },
  {
   "cell_type": "code",
   "execution_count": 4,
   "id": "ca0bb344-d089-4a70-9e6b-305217fcd9ee",
   "metadata": {},
   "outputs": [],
   "source": [
    "df = pd.read_excel(os.path.abspath(\"/home/sneha/airway_tree_pilot.xlsx\"), sheet_name=0)"
   ]
  },
  {
   "cell_type": "code",
   "execution_count": 6,
   "id": "afca30b1-c441-4899-b526-1a2e3271cb66",
   "metadata": {},
   "outputs": [],
   "source": [
    "df.drop(columns = [\"manufacturer\", \"model\"], inplace=True)"
   ]
  },
  {
   "cell_type": "code",
   "execution_count": 7,
   "id": "f29853d2-1188-4cf9-b51e-cf09202519f4",
   "metadata": {},
   "outputs": [
    {
     "data": {
      "text/html": [
       "<div>\n",
       "<style scoped>\n",
       "    .dataframe tbody tr th:only-of-type {\n",
       "        vertical-align: middle;\n",
       "    }\n",
       "\n",
       "    .dataframe tbody tr th {\n",
       "        vertical-align: top;\n",
       "    }\n",
       "\n",
       "    .dataframe thead th {\n",
       "        text-align: right;\n",
       "    }\n",
       "</style>\n",
       "<table border=\"1\" class=\"dataframe\">\n",
       "  <thead>\n",
       "    <tr style=\"text-align: right;\">\n",
       "      <th></th>\n",
       "      <th>idno</th>\n",
       "      <th>startbpid</th>\n",
       "      <th>endbpid</th>\n",
       "      <th>centerlinelength</th>\n",
       "      <th>angle</th>\n",
       "      <th>dircosx</th>\n",
       "      <th>dircosy</th>\n",
       "      <th>dircosz</th>\n",
       "      <th>avginnerarea</th>\n",
       "      <th>generation</th>\n",
       "      <th>weibel_generation</th>\n",
       "    </tr>\n",
       "  </thead>\n",
       "  <tbody>\n",
       "    <tr>\n",
       "      <th>count</th>\n",
       "      <td>7.768300e+04</td>\n",
       "      <td>77683.000000</td>\n",
       "      <td>77683.000000</td>\n",
       "      <td>77683.000000</td>\n",
       "      <td>77454.000000</td>\n",
       "      <td>77683.000000</td>\n",
       "      <td>77683.000000</td>\n",
       "      <td>77683.000000</td>\n",
       "      <td>77683.000000</td>\n",
       "      <td>77683.000000</td>\n",
       "      <td>77683.000000</td>\n",
       "    </tr>\n",
       "    <tr>\n",
       "      <th>mean</th>\n",
       "      <td>5.986778e+06</td>\n",
       "      <td>149.658226</td>\n",
       "      <td>197.128509</td>\n",
       "      <td>10.614453</td>\n",
       "      <td>143.201617</td>\n",
       "      <td>-0.021328</td>\n",
       "      <td>0.056368</td>\n",
       "      <td>0.138202</td>\n",
       "      <td>11.161638</td>\n",
       "      <td>6.539384</td>\n",
       "      <td>7.338839</td>\n",
       "    </tr>\n",
       "    <tr>\n",
       "      <th>std</th>\n",
       "      <td>1.832951e+06</td>\n",
       "      <td>121.756964</td>\n",
       "      <td>130.566550</td>\n",
       "      <td>9.629416</td>\n",
       "      <td>24.407202</td>\n",
       "      <td>0.552013</td>\n",
       "      <td>0.542999</td>\n",
       "      <td>0.614584</td>\n",
       "      <td>25.017431</td>\n",
       "      <td>1.918851</td>\n",
       "      <td>2.273523</td>\n",
       "    </tr>\n",
       "    <tr>\n",
       "      <th>min</th>\n",
       "      <td>3.011950e+06</td>\n",
       "      <td>-1.000000</td>\n",
       "      <td>1.000000</td>\n",
       "      <td>0.498047</td>\n",
       "      <td>4.410540</td>\n",
       "      <td>-1.000000</td>\n",
       "      <td>-1.000000</td>\n",
       "      <td>-1.000000</td>\n",
       "      <td>-1.000000</td>\n",
       "      <td>0.000000</td>\n",
       "      <td>0.000000</td>\n",
       "    </tr>\n",
       "    <tr>\n",
       "      <th>25%</th>\n",
       "      <td>4.017080e+06</td>\n",
       "      <td>51.000000</td>\n",
       "      <td>92.000000</td>\n",
       "      <td>4.138575</td>\n",
       "      <td>132.688500</td>\n",
       "      <td>-0.476731</td>\n",
       "      <td>-0.381630</td>\n",
       "      <td>-0.392263</td>\n",
       "      <td>4.149160</td>\n",
       "      <td>5.000000</td>\n",
       "      <td>6.000000</td>\n",
       "    </tr>\n",
       "    <tr>\n",
       "      <th>50%</th>\n",
       "      <td>7.012039e+06</td>\n",
       "      <td>120.000000</td>\n",
       "      <td>180.000000</td>\n",
       "      <td>8.742300</td>\n",
       "      <td>149.928000</td>\n",
       "      <td>0.000000</td>\n",
       "      <td>0.061056</td>\n",
       "      <td>0.229416</td>\n",
       "      <td>6.168230</td>\n",
       "      <td>7.000000</td>\n",
       "      <td>7.000000</td>\n",
       "    </tr>\n",
       "    <tr>\n",
       "      <th>75%</th>\n",
       "      <td>8.010528e+06</td>\n",
       "      <td>220.000000</td>\n",
       "      <td>280.000000</td>\n",
       "      <td>14.169850</td>\n",
       "      <td>160.462500</td>\n",
       "      <td>0.436436</td>\n",
       "      <td>0.497468</td>\n",
       "      <td>0.704271</td>\n",
       "      <td>10.071250</td>\n",
       "      <td>8.000000</td>\n",
       "      <td>9.000000</td>\n",
       "    </tr>\n",
       "    <tr>\n",
       "      <th>max</th>\n",
       "      <td>8.023336e+06</td>\n",
       "      <td>744.000000</td>\n",
       "      <td>747.000000</td>\n",
       "      <td>128.734000</td>\n",
       "      <td>180.000000</td>\n",
       "      <td>1.000000</td>\n",
       "      <td>1.000000</td>\n",
       "      <td>1.000000</td>\n",
       "      <td>2343.240000</td>\n",
       "      <td>16.000000</td>\n",
       "      <td>17.000000</td>\n",
       "    </tr>\n",
       "  </tbody>\n",
       "</table>\n",
       "</div>"
      ],
      "text/plain": [
       "               idno     startbpid       endbpid  centerlinelength  \\\n",
       "count  7.768300e+04  77683.000000  77683.000000      77683.000000   \n",
       "mean   5.986778e+06    149.658226    197.128509         10.614453   \n",
       "std    1.832951e+06    121.756964    130.566550          9.629416   \n",
       "min    3.011950e+06     -1.000000      1.000000          0.498047   \n",
       "25%    4.017080e+06     51.000000     92.000000          4.138575   \n",
       "50%    7.012039e+06    120.000000    180.000000          8.742300   \n",
       "75%    8.010528e+06    220.000000    280.000000         14.169850   \n",
       "max    8.023336e+06    744.000000    747.000000        128.734000   \n",
       "\n",
       "              angle       dircosx       dircosy       dircosz  avginnerarea  \\\n",
       "count  77454.000000  77683.000000  77683.000000  77683.000000  77683.000000   \n",
       "mean     143.201617     -0.021328      0.056368      0.138202     11.161638   \n",
       "std       24.407202      0.552013      0.542999      0.614584     25.017431   \n",
       "min        4.410540     -1.000000     -1.000000     -1.000000     -1.000000   \n",
       "25%      132.688500     -0.476731     -0.381630     -0.392263      4.149160   \n",
       "50%      149.928000      0.000000      0.061056      0.229416      6.168230   \n",
       "75%      160.462500      0.436436      0.497468      0.704271     10.071250   \n",
       "max      180.000000      1.000000      1.000000      1.000000   2343.240000   \n",
       "\n",
       "         generation  weibel_generation  \n",
       "count  77683.000000       77683.000000  \n",
       "mean       6.539384           7.338839  \n",
       "std        1.918851           2.273523  \n",
       "min        0.000000           0.000000  \n",
       "25%        5.000000           6.000000  \n",
       "50%        7.000000           7.000000  \n",
       "75%        8.000000           9.000000  \n",
       "max       16.000000          17.000000  "
      ]
     },
     "execution_count": 7,
     "metadata": {},
     "output_type": "execute_result"
    }
   ],
   "source": [
    "df.describe()\n"
   ]
  },
  {
   "cell_type": "markdown",
   "id": "36b5df17-a9c4-46cd-bf1a-ed677397b3c8",
   "metadata": {
    "jp-MarkdownHeadingCollapsed": true,
    "tags": []
   },
   "source": [
    "### GENERATE AND SAVE SOME TEST DATA\n"
   ]
  },
  {
   "cell_type": "code",
   "execution_count": 19,
   "id": "5ad846c4-2ed8-483c-80f4-b51071996092",
   "metadata": {
    "jupyter": {
     "source_hidden": true
    },
    "tags": []
   },
   "outputs": [],
   "source": [
    "mini_df = df.loc[df.idno == 3011950]\n"
   ]
  },
  {
   "cell_type": "code",
   "execution_count": 54,
   "id": "addab283-c604-467f-b60a-b9b3464c9f99",
   "metadata": {
    "jupyter": {
     "source_hidden": true
    },
    "tags": []
   },
   "outputs": [],
   "source": [
    "mini_df.sort_values(by=[ \"endbpid\"]).to_csv(\"visualisation_test_3011950.csv\")"
   ]
  },
  {
   "cell_type": "code",
   "execution_count": 55,
   "id": "f42a4e36-9056-46b6-adf1-7e05c2bb392d",
   "metadata": {
    "collapsed": true,
    "jupyter": {
     "outputs_hidden": true,
     "source_hidden": true
    },
    "tags": []
   },
   "outputs": [
    {
     "data": {
      "text/html": [
       "<div>\n",
       "<style scoped>\n",
       "    .dataframe tbody tr th:only-of-type {\n",
       "        vertical-align: middle;\n",
       "    }\n",
       "\n",
       "    .dataframe tbody tr th {\n",
       "        vertical-align: top;\n",
       "    }\n",
       "\n",
       "    .dataframe thead th {\n",
       "        text-align: right;\n",
       "    }\n",
       "</style>\n",
       "<table border=\"1\" class=\"dataframe\">\n",
       "  <thead>\n",
       "    <tr style=\"text-align: right;\">\n",
       "      <th></th>\n",
       "      <th>Unnamed: 0</th>\n",
       "      <th>idno</th>\n",
       "      <th>anatomicalname</th>\n",
       "      <th>startbpid</th>\n",
       "      <th>endbpid</th>\n",
       "      <th>centerlinelength</th>\n",
       "      <th>angle</th>\n",
       "      <th>dircosx</th>\n",
       "      <th>dircosy</th>\n",
       "      <th>dircosz</th>\n",
       "      <th>avginnerarea</th>\n",
       "      <th>lobes</th>\n",
       "      <th>generation</th>\n",
       "      <th>weibel_generation</th>\n",
       "    </tr>\n",
       "  </thead>\n",
       "  <tbody>\n",
       "    <tr>\n",
       "      <th>0</th>\n",
       "      <td>0</td>\n",
       "      <td>3011950</td>\n",
       "      <td>Trachea</td>\n",
       "      <td>-1</td>\n",
       "      <td>1</td>\n",
       "      <td>82.03930</td>\n",
       "      <td>NaN</td>\n",
       "      <td>-0.012990</td>\n",
       "      <td>0.194850</td>\n",
       "      <td>0.980747</td>\n",
       "      <td>237.70400</td>\n",
       "      <td>CEN</td>\n",
       "      <td>0</td>\n",
       "      <td>0</td>\n",
       "    </tr>\n",
       "    <tr>\n",
       "      <th>1</th>\n",
       "      <td>1</td>\n",
       "      <td>3011950</td>\n",
       "      <td>RMB</td>\n",
       "      <td>1</td>\n",
       "      <td>6</td>\n",
       "      <td>23.64560</td>\n",
       "      <td>144.807</td>\n",
       "      <td>-0.498729</td>\n",
       "      <td>-0.142494</td>\n",
       "      <td>0.854965</td>\n",
       "      <td>140.56700</td>\n",
       "      <td>CEN</td>\n",
       "      <td>1</td>\n",
       "      <td>1</td>\n",
       "    </tr>\n",
       "    <tr>\n",
       "      <th>2</th>\n",
       "      <td>2</td>\n",
       "      <td>3011950</td>\n",
       "      <td>LMB</td>\n",
       "      <td>1</td>\n",
       "      <td>7</td>\n",
       "      <td>50.79000</td>\n",
       "      <td>127.043</td>\n",
       "      <td>0.787070</td>\n",
       "      <td>0.049192</td>\n",
       "      <td>0.614899</td>\n",
       "      <td>97.70850</td>\n",
       "      <td>CEN</td>\n",
       "      <td>1</td>\n",
       "      <td>1</td>\n",
       "    </tr>\n",
       "    <tr>\n",
       "      <th>3</th>\n",
       "      <td>6</td>\n",
       "      <td>3011950</td>\n",
       "      <td>LLB6</td>\n",
       "      <td>7</td>\n",
       "      <td>10</td>\n",
       "      <td>8.43446</td>\n",
       "      <td>165.459</td>\n",
       "      <td>0.745356</td>\n",
       "      <td>0.298142</td>\n",
       "      <td>0.596285</td>\n",
       "      <td>146.80000</td>\n",
       "      <td>LLL</td>\n",
       "      <td>2</td>\n",
       "      <td>2</td>\n",
       "    </tr>\n",
       "    <tr>\n",
       "      <th>4</th>\n",
       "      <td>5</td>\n",
       "      <td>3011950</td>\n",
       "      <td>LUL</td>\n",
       "      <td>7</td>\n",
       "      <td>11</td>\n",
       "      <td>12.09850</td>\n",
       "      <td>115.366</td>\n",
       "      <td>0.832050</td>\n",
       "      <td>-0.443760</td>\n",
       "      <td>-0.332820</td>\n",
       "      <td>60.54330</td>\n",
       "      <td>LUL</td>\n",
       "      <td>2</td>\n",
       "      <td>2</td>\n",
       "    </tr>\n",
       "    <tr>\n",
       "      <th>...</th>\n",
       "      <td>...</td>\n",
       "      <td>...</td>\n",
       "      <td>...</td>\n",
       "      <td>...</td>\n",
       "      <td>...</td>\n",
       "      <td>...</td>\n",
       "      <td>...</td>\n",
       "      <td>...</td>\n",
       "      <td>...</td>\n",
       "      <td>...</td>\n",
       "      <td>...</td>\n",
       "      <td>...</td>\n",
       "      <td>...</td>\n",
       "      <td>...</td>\n",
       "    </tr>\n",
       "    <tr>\n",
       "      <th>280</th>\n",
       "      <td>280</td>\n",
       "      <td>3011950</td>\n",
       "      <td>-</td>\n",
       "      <td>284</td>\n",
       "      <td>289</td>\n",
       "      <td>18.72950</td>\n",
       "      <td>149.123</td>\n",
       "      <td>0.306741</td>\n",
       "      <td>-0.083657</td>\n",
       "      <td>0.948109</td>\n",
       "      <td>4.42925</td>\n",
       "      <td>RLL</td>\n",
       "      <td>8</td>\n",
       "      <td>11</td>\n",
       "    </tr>\n",
       "    <tr>\n",
       "      <th>281</th>\n",
       "      <td>281</td>\n",
       "      <td>3011950</td>\n",
       "      <td>-</td>\n",
       "      <td>287</td>\n",
       "      <td>290</td>\n",
       "      <td>17.36870</td>\n",
       "      <td>155.481</td>\n",
       "      <td>-0.145479</td>\n",
       "      <td>0.800132</td>\n",
       "      <td>0.581914</td>\n",
       "      <td>4.77264</td>\n",
       "      <td>RLL</td>\n",
       "      <td>9</td>\n",
       "      <td>12</td>\n",
       "    </tr>\n",
       "    <tr>\n",
       "      <th>282</th>\n",
       "      <td>282</td>\n",
       "      <td>3011950</td>\n",
       "      <td>-</td>\n",
       "      <td>287</td>\n",
       "      <td>291</td>\n",
       "      <td>14.62450</td>\n",
       "      <td>170.705</td>\n",
       "      <td>0.272681</td>\n",
       "      <td>0.506408</td>\n",
       "      <td>0.818044</td>\n",
       "      <td>7.91250</td>\n",
       "      <td>RLL</td>\n",
       "      <td>9</td>\n",
       "      <td>12</td>\n",
       "    </tr>\n",
       "    <tr>\n",
       "      <th>283</th>\n",
       "      <td>283</td>\n",
       "      <td>3011950</td>\n",
       "      <td>-</td>\n",
       "      <td>288</td>\n",
       "      <td>292</td>\n",
       "      <td>15.79030</td>\n",
       "      <td>170.621</td>\n",
       "      <td>-0.172005</td>\n",
       "      <td>0.412813</td>\n",
       "      <td>0.894427</td>\n",
       "      <td>7.19732</td>\n",
       "      <td>RLL</td>\n",
       "      <td>9</td>\n",
       "      <td>12</td>\n",
       "    </tr>\n",
       "    <tr>\n",
       "      <th>284</th>\n",
       "      <td>284</td>\n",
       "      <td>3011950</td>\n",
       "      <td>-</td>\n",
       "      <td>288</td>\n",
       "      <td>293</td>\n",
       "      <td>14.02340</td>\n",
       "      <td>161.540</td>\n",
       "      <td>0.262705</td>\n",
       "      <td>0.225176</td>\n",
       "      <td>0.938233</td>\n",
       "      <td>8.20937</td>\n",
       "      <td>RLL</td>\n",
       "      <td>9</td>\n",
       "      <td>12</td>\n",
       "    </tr>\n",
       "  </tbody>\n",
       "</table>\n",
       "<p>285 rows × 14 columns</p>\n",
       "</div>"
      ],
      "text/plain": [
       "     Unnamed: 0     idno anatomicalname  startbpid  endbpid  centerlinelength  \\\n",
       "0             0  3011950        Trachea         -1        1          82.03930   \n",
       "1             1  3011950            RMB          1        6          23.64560   \n",
       "2             2  3011950            LMB          1        7          50.79000   \n",
       "3             6  3011950           LLB6          7       10           8.43446   \n",
       "4             5  3011950            LUL          7       11          12.09850   \n",
       "..          ...      ...            ...        ...      ...               ...   \n",
       "280         280  3011950              -        284      289          18.72950   \n",
       "281         281  3011950              -        287      290          17.36870   \n",
       "282         282  3011950              -        287      291          14.62450   \n",
       "283         283  3011950              -        288      292          15.79030   \n",
       "284         284  3011950              -        288      293          14.02340   \n",
       "\n",
       "       angle   dircosx   dircosy   dircosz  avginnerarea lobes  generation  \\\n",
       "0        NaN -0.012990  0.194850  0.980747     237.70400   CEN           0   \n",
       "1    144.807 -0.498729 -0.142494  0.854965     140.56700   CEN           1   \n",
       "2    127.043  0.787070  0.049192  0.614899      97.70850   CEN           1   \n",
       "3    165.459  0.745356  0.298142  0.596285     146.80000   LLL           2   \n",
       "4    115.366  0.832050 -0.443760 -0.332820      60.54330   LUL           2   \n",
       "..       ...       ...       ...       ...           ...   ...         ...   \n",
       "280  149.123  0.306741 -0.083657  0.948109       4.42925   RLL           8   \n",
       "281  155.481 -0.145479  0.800132  0.581914       4.77264   RLL           9   \n",
       "282  170.705  0.272681  0.506408  0.818044       7.91250   RLL           9   \n",
       "283  170.621 -0.172005  0.412813  0.894427       7.19732   RLL           9   \n",
       "284  161.540  0.262705  0.225176  0.938233       8.20937   RLL           9   \n",
       "\n",
       "     weibel_generation  \n",
       "0                    0  \n",
       "1                    1  \n",
       "2                    1  \n",
       "3                    2  \n",
       "4                    2  \n",
       "..                 ...  \n",
       "280                 11  \n",
       "281                 12  \n",
       "282                 12  \n",
       "283                 12  \n",
       "284                 12  \n",
       "\n",
       "[285 rows x 14 columns]"
      ]
     },
     "metadata": {},
     "output_type": "display_data"
    }
   ],
   "source": [
    "# testing for lpy\n",
    "test_df = pd.read_csv(\"visualisation_test_3011950.csv\")\n",
    "display(test_df)"
   ]
  },
  {
   "cell_type": "code",
   "execution_count": 42,
   "id": "7a80f2ce-7891-45fe-b47d-842e1c4da042",
   "metadata": {
    "collapsed": true,
    "jupyter": {
     "outputs_hidden": true
    },
    "tags": []
   },
   "outputs": [
    {
     "name": "stdout",
     "output_type": "stream",
     "text": [
      "For parent -1, there are 1 child branches\n",
      "[-0.01299 0.19485 0.980747] 82.0393 8.698478785709131\n",
      "For parent 1, there are 2 child branches\n",
      "[-0.498729 -0.142494 0.854965] 23.6456 6.689085570628986\n",
      "[0.78707 0.0491919 0.614899] 50.79 5.576879191285115\n",
      "For parent 6, there are 2 child branches\n",
      "[-0.904762 -0.190476 -0.380952] 13.9716 4.389532741927602\n",
      "[-0.26082 0.026082 0.965035] 19.755 5.876624268372463\n",
      "For parent 7, there are 2 child branches\n",
      "[0.745356 0.298142 0.596285] 8.43446 6.83578022553245\n",
      "[0.83205 -0.44376 -0.33282] 12.0985 4.389935185420292\n",
      "For parent 10, there are 2 child branches\n",
      "[0.40161 0.883541 -0.240966] 8.46466 2.8165268488879307\n",
      "[0.57735 0.11547 0.80829] 9.92149 3.57890583881658\n",
      "For parent 11, there are 2 child branches\n",
      "[0.751809 -0.40482 0.520483] 11.1299 3.0148424731652077\n",
      "[0.498464 -0.387694 -0.775388] 10.5259 3.4914903260803034\n",
      "For parent 14, there are 2 child branches\n",
      "[0.596285 0.745356 -0.298142] 4.5265 3.101262437138961\n",
      "[-0.457496 0.762493 -0.457496] 4.29089 3.2825217139060032\n",
      "For parent 15, there are 2 child branches\n",
      "[0.31427 0.392837 0.864242] 7.0526 3.3140651735991478\n",
      "[0.646762 -0.404226 0.646762] 7.63582 2.515140457921498\n",
      "For parent 16, there are 2 child branches\n",
      "[0.909398 -0.324785 0.259828] 10.4428 1.9919887575432036\n",
      "[0.485662 -0.618115 0.618115] 14.131 1.9048647945654529\n",
      "For parent 17, there are 2 child branches\n",
      "[0.348743 0.116248 -0.929981] 4.5556 2.9702907174794766\n",
      "[0.38236 -0.841191 -0.38236] 8.69773 2.7892028920956853\n",
      "For parent 18, there are 1 child branches\n",
      "[-0.536656 -0.715542 -0.447214] 7.33379 3.663745679957139\n"
     ]
    }
   ],
   "source": [
    "# convert to numpy\n",
    "for i in sorted(list(test_df.startbpid.unique())):\n",
    "    n = (test_df.startbpid == i).sum()\n",
    "    print(f\"For parent {i}, there are {n} child branches\")\n",
    "    children = test_df[test_df.startbpid == i]\n",
    "    for j in range(len(children)):\n",
    "        child_vector = children.iloc[j][[\"dircosx\", \"dircosy\", \"dircosz\"]].values\n",
    "        child_l = children.iloc[j][\"centerlinelength\"]\n",
    "        child_r = np.sqrt(children.iloc[j][\"avginnerarea\"]/np.pi)\n",
    "        print(child_vector, child_l, child_r)\n",
    "    "
   ]
  },
  {
   "cell_type": "code",
   "execution_count": 51,
   "id": "22729062-c2c7-41b1-b9cc-65240bd013ee",
   "metadata": {
    "collapsed": true,
    "jupyter": {
     "outputs_hidden": true,
     "source_hidden": true
    },
    "tags": []
   },
   "outputs": [
    {
     "name": "stdout",
     "output_type": "stream",
     "text": [
      "(2, [array([-0.498729, -0.142494, 0.854965], dtype=object), array([0.78707, 0.0491919, 0.614899], dtype=object)], [23.6456, 50.79], [6.689085570628986, 5.576879191285115], [6, 7])\n",
      "1\n"
     ]
    }
   ],
   "source": [
    "start_id = 1\n",
    "\n",
    "def get_child_info(start_id):\n",
    "    try:\n",
    "        children = test_df[test_df.startbpid == start_id]\n",
    "        nb_axes = len(children)\n",
    "        child_vectors = []\n",
    "        child_lengths = []\n",
    "        child_radii = []\n",
    "        child_endids = []\n",
    "        for j in range(nb_axes):\n",
    "            child_end = children.iloc[j][\"endbpid\"]\n",
    "            child_vector = children.iloc[j][[\"dircosx\", \"dircosy\", \"dircosz\"]].values\n",
    "            child_l = children.iloc[j][\"centerlinelength\"]\n",
    "            child_r = np.sqrt(children.iloc[j][\"avginnerarea\"]/np.pi)\n",
    "            child_vectors.append(child_vector)\n",
    "            child_lengths.append(child_l)\n",
    "            child_radii.append(child_r)\n",
    "            child_endids.append(child_end)\n",
    "        \n",
    "    except:\n",
    "        print(f\"There is no start branch id {start_id}\")\n",
    "    return nb_axes, child_vectors, child_lengths, child_radii, child_endids\n",
    "\n",
    "\n",
    "\n",
    "print(get_child_info(1))\n",
    "print(start_id)"
   ]
  },
  {
   "cell_type": "code",
   "execution_count": null,
   "id": "a91208c6-1ad7-4d7e-864d-1fd375837dd4",
   "metadata": {
    "jupyter": {
     "source_hidden": true
    },
    "tags": []
   },
   "outputs": [],
   "source": [
    "A(id)"
   ]
  },
  {
   "cell_type": "code",
   "execution_count": 56,
   "id": "e4d5fda5-b201-48ad-8bf8-574b68457782",
   "metadata": {
    "jupyter": {
     "source_hidden": true
    },
    "tags": []
   },
   "outputs": [],
   "source": [
    "nbiter = test_df.startbpid.nunique()"
   ]
  },
  {
   "cell_type": "code",
   "execution_count": 70,
   "id": "c1aa4cd4-7977-4b4f-a708-95d3da30af80",
   "metadata": {},
   "outputs": [
    {
     "data": {
      "text/plain": [
       "21"
      ]
     },
     "execution_count": 70,
     "metadata": {},
     "output_type": "execute_result"
    }
   ],
   "source": [
    "test_df.weibel_generation.min()\n",
    "\n",
    "colour_scale_per_gen = 255/(test_df.weibel_generation.max()-test_df.weibel_generation.min())\n",
    "round(colour_scale_per_gen)"
   ]
  },
  {
   "cell_type": "code",
   "execution_count": null,
   "id": "cc9f301d-7c99-41bb-aa71-baeb1104c151",
   "metadata": {},
   "outputs": [],
   "source": [
    "cmap = {\n",
    "    0: (0,0,0),\n",
    "    1: (1, 37, 111),\n",
    "    2: (180, 60, 164),\n",
    "    3: (247, 156, 238),\n",
    "    4: (23, 149, 91),\n",
    "    5: (131, 224, 193)\n",
    "}"
   ]
  },
  {
   "cell_type": "markdown",
   "id": "3b8f7a3e-04bf-4692-9f09-35ab016c677f",
   "metadata": {},
   "source": [
    "## Data Exploration "
   ]
  },
  {
   "cell_type": "markdown",
   "id": "eaacdd0e-b134-4bfc-b482-49e7f51e4945",
   "metadata": {},
   "source": [
    "### Segment Analysis"
   ]
  },
  {
   "cell_type": "code",
   "execution_count": 8,
   "id": "80bfed85-1c0c-4999-8a92-475043063761",
   "metadata": {},
   "outputs": [
    {
     "name": "stdout",
     "output_type": "stream",
     "text": [
      "There are 227 participants, each participant has on average 342 \\pm 110 branch segments\n"
     ]
    },
    {
     "data": {
      "text/html": [
       "<div>\n",
       "<style scoped>\n",
       "    .dataframe tbody tr th:only-of-type {\n",
       "        vertical-align: middle;\n",
       "    }\n",
       "\n",
       "    .dataframe tbody tr th {\n",
       "        vertical-align: top;\n",
       "    }\n",
       "\n",
       "    .dataframe thead th {\n",
       "        text-align: right;\n",
       "    }\n",
       "</style>\n",
       "<table border=\"1\" class=\"dataframe\">\n",
       "  <thead>\n",
       "    <tr style=\"text-align: right;\">\n",
       "      <th></th>\n",
       "      <th>num_branch_segments</th>\n",
       "    </tr>\n",
       "  </thead>\n",
       "  <tbody>\n",
       "    <tr>\n",
       "      <th>count</th>\n",
       "      <td>227</td>\n",
       "    </tr>\n",
       "    <tr>\n",
       "      <th>mean</th>\n",
       "      <td>342</td>\n",
       "    </tr>\n",
       "    <tr>\n",
       "      <th>std</th>\n",
       "      <td>110</td>\n",
       "    </tr>\n",
       "    <tr>\n",
       "      <th>min</th>\n",
       "      <td>98</td>\n",
       "    </tr>\n",
       "    <tr>\n",
       "      <th>25%</th>\n",
       "      <td>264</td>\n",
       "    </tr>\n",
       "    <tr>\n",
       "      <th>50%</th>\n",
       "      <td>331</td>\n",
       "    </tr>\n",
       "    <tr>\n",
       "      <th>75%</th>\n",
       "      <td>408</td>\n",
       "    </tr>\n",
       "    <tr>\n",
       "      <th>max</th>\n",
       "      <td>744</td>\n",
       "    </tr>\n",
       "  </tbody>\n",
       "</table>\n",
       "</div>"
      ],
      "text/plain": [
       "       num_branch_segments\n",
       "count                  227\n",
       "mean                   342\n",
       "std                    110\n",
       "min                     98\n",
       "25%                    264\n",
       "50%                    331\n",
       "75%                    408\n",
       "max                    744"
      ]
     },
     "execution_count": 8,
     "metadata": {},
     "output_type": "execute_result"
    }
   ],
   "source": [
    "print(\"There are 227 participants, each participant has on average 342 \\pm 110 branch segments\")\n",
    "\n",
    "df.groupby(\"idno\").agg(\n",
    "    {\n",
    "        \"anatomicalname\":\"count\"\n",
    "    }\n",
    ").rename(\n",
    "    columns = {\n",
    "        \"anatomicalname\":\"num_branch_segments\"\n",
    "    }\n",
    ").sort_values(\n",
    "    by=\"num_branch_segments\",\n",
    "    ascending=False\n",
    ").describe().round(0).astype(int)\n",
    "\n"
   ]
  },
  {
   "cell_type": "code",
   "execution_count": 46,
   "id": "0bcbd0d4-9465-4023-a329-2d344aa5237b",
   "metadata": {},
   "outputs": [
    {
     "name": "stdout",
     "output_type": "stream",
     "text": [
      "100.0% of segments have valid parents! (0.0% orphans)\n"
     ]
    }
   ],
   "source": [
    "# Looking for orphan branches (check every branch has a parent)\n",
    "# check if every startbpid (parent) is in the list of endbpids for that idno --> ie. the parent of the branch is in the tree. \n",
    "#If the parent is not in the list of segments (endbpid) then the branch is an orphan.\n",
    "orphan_check = pd.concat([df[[\"idno\"]].copy(), df.apply(\n",
    "    lambda x: x.startbpid in df[df.idno == x.idno]['endbpid'].values,\n",
    "axis=1)], axis=1)\n",
    "\n",
    "# concatenate\n",
    "orphan_check.rename({0:\"has_parent\"}, axis=1, inplace=True)\n",
    "\n",
    "# groupby id number and check how branches have parents vs number of branches per idno\n",
    "per_id = orphan_check.groupby(\"idno\").agg({\"has_parent\":lambda x:sum(x) + 1, \"idno\":\"count\"})\n",
    "\n",
    "check = (per_id.has_parent == per_id.idno)\n",
    "\n",
    "print(f\"{100*check.sum()/len(check)}% of segments have valid parents! ({100-100*check.sum()/len(check)}% orphans)\")"
   ]
  },
  {
   "cell_type": "markdown",
   "id": "4befb5e7-a0ab-4205-abb3-2a7e4924a7b2",
   "metadata": {},
   "source": [
    "### Generation Analysis"
   ]
  },
  {
   "cell_type": "code",
   "execution_count": 7,
   "id": "40d95b60-4c16-4f87-88ca-c3d48bdb939c",
   "metadata": {},
   "outputs": [
    {
     "name": "stdout",
     "output_type": "stream",
     "text": [
      "Number of weibel generations per participant\n"
     ]
    },
    {
     "data": {
      "text/html": [
       "<div>\n",
       "<style scoped>\n",
       "    .dataframe tbody tr th:only-of-type {\n",
       "        vertical-align: middle;\n",
       "    }\n",
       "\n",
       "    .dataframe tbody tr th {\n",
       "        vertical-align: top;\n",
       "    }\n",
       "\n",
       "    .dataframe thead th {\n",
       "        text-align: right;\n",
       "    }\n",
       "</style>\n",
       "<table border=\"1\" class=\"dataframe\">\n",
       "  <thead>\n",
       "    <tr style=\"text-align: right;\">\n",
       "      <th></th>\n",
       "      <th>weibel_generation_max</th>\n",
       "      <th>weibel_generation_mean</th>\n",
       "    </tr>\n",
       "  </thead>\n",
       "  <tbody>\n",
       "    <tr>\n",
       "      <th>count</th>\n",
       "      <td>227</td>\n",
       "      <td>227</td>\n",
       "    </tr>\n",
       "    <tr>\n",
       "      <th>mean</th>\n",
       "      <td>13</td>\n",
       "      <td>7</td>\n",
       "    </tr>\n",
       "    <tr>\n",
       "      <th>std</th>\n",
       "      <td>1</td>\n",
       "      <td>1</td>\n",
       "    </tr>\n",
       "    <tr>\n",
       "      <th>min</th>\n",
       "      <td>9</td>\n",
       "      <td>5</td>\n",
       "    </tr>\n",
       "    <tr>\n",
       "      <th>25%</th>\n",
       "      <td>12</td>\n",
       "      <td>7</td>\n",
       "    </tr>\n",
       "    <tr>\n",
       "      <th>50%</th>\n",
       "      <td>13</td>\n",
       "      <td>7</td>\n",
       "    </tr>\n",
       "    <tr>\n",
       "      <th>75%</th>\n",
       "      <td>14</td>\n",
       "      <td>8</td>\n",
       "    </tr>\n",
       "    <tr>\n",
       "      <th>max</th>\n",
       "      <td>17</td>\n",
       "      <td>9</td>\n",
       "    </tr>\n",
       "  </tbody>\n",
       "</table>\n",
       "</div>"
      ],
      "text/plain": [
       "       weibel_generation_max  weibel_generation_mean\n",
       "count                    227                     227\n",
       "mean                      13                       7\n",
       "std                        1                       1\n",
       "min                        9                       5\n",
       "25%                       12                       7\n",
       "50%                       13                       7\n",
       "75%                       14                       8\n",
       "max                       17                       9"
      ]
     },
     "execution_count": 7,
     "metadata": {},
     "output_type": "execute_result"
    }
   ],
   "source": [
    "print(\"Number of weibel generations per participant\")\n",
    "\n",
    "weibel = df.groupby(\"idno\").agg(\n",
    "    {\n",
    "        \"weibel_generation\":[\"max\", \"mean\"]\n",
    "    }\n",
    ")\n",
    "\n",
    "\n",
    "\n",
    "\n",
    "\n",
    "\n",
    "new_cols = [first+\"_\"+second for (first, second) in weibel.columns]\n",
    "weibel.columns = new_cols\n",
    "weibel.describe().round().astype(int)"
   ]
  },
  {
   "cell_type": "code",
   "execution_count": 53,
   "id": "6b1773da-cad7-4d48-903a-265277843443",
   "metadata": {},
   "outputs": [
    {
     "name": "stdout",
     "output_type": "stream",
     "text": [
      "Discrepancy between the vida labelled generation vs the weibel_generation given in the df.\n",
      "VIDA: 6.54 \\pm 1.92\n",
      "WEIBEL:7.34 \\pm 2.27  \n"
     ]
    },
    {
     "data": {
      "text/plain": [
       "<AxesSubplot:xlabel='generation', ylabel='weibel_generation'>"
      ]
     },
     "execution_count": 53,
     "metadata": {},
     "output_type": "execute_result"
    },
    {
     "data": {
      "image/png": "[encoded data removed]",
      "text/plain": [
       "<Figure size 432x288 with 1 Axes>"
      ]
     },
     "metadata": {
      "needs_background": "light"
     },
     "output_type": "display_data"
    }
   ],
   "source": [
    "# weibel gen vs gen labelled by vida --> ASK what this is??? \n",
    "print(f\"Discrepancy between the vida labelled generation vs the weibel_generation given in the df.\\nVIDA: {df.generation.mean():.2f} \\pm {df.generation.std():.2f}\\nWEIBEL:{df.weibel_generation.mean():.2f} \\pm {df.weibel_generation.std():.2f}  \")\n",
    "df.plot.scatter(x=\"generation\", y=\"weibel_generation\")"
   ]
  },
  {
   "cell_type": "markdown",
   "id": "4394d6de-6927-4612-8970-d4cab7bd7372",
   "metadata": {},
   "source": [
    "### Label Analysis"
   ]
  },
  {
   "cell_type": "code",
   "execution_count": 133,
   "id": "c16c786b-d2b9-482b-92b9-9141cd50c9e8",
   "metadata": {},
   "outputs": [
    {
     "name": "stdout",
     "output_type": "stream",
     "text": [
      "69737 branch segments have empty entries in anatomicalname\n",
      "770 branch segments have the word 'unnamed' in their anatomicalname entry (261 unique types of 'unnamed-X')\n",
      "76913 branch segments have a proper (not unnamed) anatomicalname entry (33 unique types of valid label)\n"
     ]
    },
    {
     "data": {
      "text/plain": [
       "Text(0, 0.5, '# segments')"
      ]
     },
     "execution_count": 133,
     "metadata": {},
     "output_type": "execute_result"
    },
    {
     "data": {
      "image/png": "[encoded data removed]",
      "text/plain": [
       "<Figure size 432x288 with 1 Axes>"
      ]
     },
     "metadata": {
      "needs_background": "light"
     },
     "output_type": "display_data"
    }
   ],
   "source": [
    "print(f\"{(df['anatomicalname']=='-').sum()} branch segments have empty entries in anatomicalname\")\n",
    "print(f\"{(df['anatomicalname'].apply(lambda x: 'unnamed' in x.lower())).sum()} branch segments have the word 'unnamed' in their anatomicalname entry ({df[df['anatomicalname'].str.contains('unnamed')].anatomicalname.nunique()} unique types of 'unnamed-X')\")\n",
    "print(f\"{(df['anatomicalname'].apply(lambda x: 'unnamed' not in x.lower())).sum()} branch segments have a proper (not unnamed) anatomicalname entry ({df[~df['anatomicalname'].str.contains('unnamed')].anatomicalname.nunique()} unique types of valid label)\") \n",
    "label_freq = df.groupby('anatomicalname').agg({'idno':'nunique'}).sort_values(by='idno', ascending=False).rename({\"idno\":\"# segments\"}, axis=1).reset_index()\n",
    "label_freq[\"grouped_anatomicalname\"] = label_freq.anatomicalname.apply(lambda x: x if 'unnamed' not in x else 'unnamed-X')\n",
    "f, ax = plt.subplots()\n",
    "label_freq[[\"grouped_anatomicalname\",\"# segments\"]].groupby(\"grouped_anatomicalname\").agg(\"sum\").reset_index().sort_values(by=\"# segments\", ascending=False).plot.bar(x=\"grouped_anatomicalname\", y=\"# segments\", ax=ax)\n",
    "plt.title(\"Plot of branch segment frequency in dataset per anatomical name\")\n",
    "plt.ylabel(\"# segments\")\n",
    "# what is unnamed vs just empty entry in the csv?"
   ]
  },
  {
   "cell_type": "code",
   "execution_count": 134,
   "id": "488dafe1-3c33-4734-befd-b169983a5fab",
   "metadata": {},
   "outputs": [
    {
     "name": "stdout",
     "output_type": "stream",
     "text": [
      "All branches start at trachea and end on segment number 350\\pm 113\n"
     ]
    },
    {
     "data": {
      "text/html": [
       "<div>\n",
       "<style scoped>\n",
       "    .dataframe tbody tr th:only-of-type {\n",
       "        vertical-align: middle;\n",
       "    }\n",
       "\n",
       "    .dataframe tbody tr th {\n",
       "        vertical-align: top;\n",
       "    }\n",
       "\n",
       "    .dataframe thead th {\n",
       "        text-align: right;\n",
       "    }\n",
       "</style>\n",
       "<table border=\"1\" class=\"dataframe\">\n",
       "  <thead>\n",
       "    <tr style=\"text-align: right;\">\n",
       "      <th></th>\n",
       "      <th>startbpid</th>\n",
       "      <th>endbpid</th>\n",
       "    </tr>\n",
       "  </thead>\n",
       "  <tbody>\n",
       "    <tr>\n",
       "      <th>count</th>\n",
       "      <td>227.0</td>\n",
       "      <td>227.0</td>\n",
       "    </tr>\n",
       "    <tr>\n",
       "      <th>mean</th>\n",
       "      <td>-1.0</td>\n",
       "      <td>350.0</td>\n",
       "    </tr>\n",
       "    <tr>\n",
       "      <th>std</th>\n",
       "      <td>0.0</td>\n",
       "      <td>113.0</td>\n",
       "    </tr>\n",
       "    <tr>\n",
       "      <th>min</th>\n",
       "      <td>-1.0</td>\n",
       "      <td>101.0</td>\n",
       "    </tr>\n",
       "    <tr>\n",
       "      <th>25%</th>\n",
       "      <td>-1.0</td>\n",
       "      <td>270.0</td>\n",
       "    </tr>\n",
       "    <tr>\n",
       "      <th>50%</th>\n",
       "      <td>-1.0</td>\n",
       "      <td>335.0</td>\n",
       "    </tr>\n",
       "    <tr>\n",
       "      <th>75%</th>\n",
       "      <td>-1.0</td>\n",
       "      <td>414.0</td>\n",
       "    </tr>\n",
       "    <tr>\n",
       "      <th>max</th>\n",
       "      <td>-1.0</td>\n",
       "      <td>747.0</td>\n",
       "    </tr>\n",
       "  </tbody>\n",
       "</table>\n",
       "</div>"
      ],
      "text/plain": [
       "       startbpid  endbpid\n",
       "count      227.0    227.0\n",
       "mean        -1.0    350.0\n",
       "std          0.0    113.0\n",
       "min         -1.0    101.0\n",
       "25%         -1.0    270.0\n",
       "50%         -1.0    335.0\n",
       "75%         -1.0    414.0\n",
       "max         -1.0    747.0"
      ]
     },
     "execution_count": 134,
     "metadata": {},
     "output_type": "execute_result"
    }
   ],
   "source": [
    "print(\"All branches start at trachea and end on segment number 350\\pm 113\")\n",
    "df.groupby(\"idno\").agg({\"startbpid\":\"min\", \"endbpid\":max}).describe().round()"
   ]
  },
  {
   "cell_type": "code",
   "execution_count": 10,
   "id": "35df96f0-0cb2-4b86-9c70-0fa2b850049d",
   "metadata": {},
   "outputs": [
    {
     "data": {
      "text/plain": [
       "count    69251.000000\n",
       "mean        12.642439\n",
       "std         26.112776\n",
       "min          1.297890\n",
       "25%          4.787525\n",
       "50%          6.711200\n",
       "75%         10.898450\n",
       "max       2343.240000\n",
       "Name: avginnerarea, dtype: float64"
      ]
     },
     "metadata": {},
     "output_type": "display_data"
    },
    {
     "name": "stderr",
     "output_type": "stream",
     "text": [
      "/tmp/ipykernel_3376/2874537006.py:5: SettingWithCopyWarning: \n",
      "A value is trying to be set on a copy of a slice from a DataFrame.\n",
      "Try using .loc[row_indexer,col_indexer] = value instead\n",
      "\n",
      "See the caveats in the documentation: https://pandas.pydata.org/pandas-docs/stable/user_guide/indexing.html#returning-a-view-versus-a-copy\n",
      "  df_no_outlier[\"log_diameter\"] = np.log(2*np.sqrt(df_no_outlier[\"avginnerarea\"]/np.pi))\n"
     ]
    },
    {
     "data": {
      "text/plain": [
       "<AxesSubplot:xlabel='weibel_generation'>"
      ]
     },
     "execution_count": 10,
     "metadata": {},
     "output_type": "execute_result"
    },
    {
     "data": {
      "image/png": "[encoded data removed]",
      "text/plain": [
       "<Figure size 432x288 with 1 Axes>"
      ]
     },
     "metadata": {
      "needs_background": "light"
     },
     "output_type": "display_data"
    }
   ],
   "source": [
    "display(df[df.avginnerarea > 0].avginnerarea.describe())\n",
    "# group by weibel dim then plot the histogram\n",
    "# excluding 3 outliers above 500 CSA --> Question error?\n",
    "df_no_outlier = df[(df.avginnerarea > 0) & (df.avginnerarea < 500)]\n",
    "df_no_outlier[\"log_diameter\"] = np.log(2*np.sqrt(df_no_outlier[\"avginnerarea\"]/np.pi))\n",
    "df_no_outlier.plot(y=\"log_diameter\", x=\"weibel_generation\", style=\"x\")"
   ]
  },
  {
   "cell_type": "code",
   "execution_count": 11,
   "id": "79eff971-5bdd-4b64-abf7-b3813caab280",
   "metadata": {},
   "outputs": [
    {
     "data": {
      "text/plain": [
       "array([-0.09263583,  1.82570835])"
      ]
     },
     "execution_count": 11,
     "metadata": {},
     "output_type": "execute_result"
    }
   ],
   "source": [
    "np.polyfit(x=df_no_outlier.weibel_generation.values, y= df_no_outlier.log_diameter.values, deg=1) # outputs coeff of HIGHEST degree first\n",
    "# not really woking --> could group by person, take avg per person per generation and tyr there maybe less noise?\n",
    "# generate plots on the line\n",
    "\n",
    "\n",
    "# regression = ols(x=df_no_outlier.weibel_generation, y=df_no_outlier.log_diameter)\n",
    "# display(regression.summary) # slicing to only use last 30 points\n",
    "# data = pd.DataFrame(index=x, data={'y': y, 'trend': trend})\n",
    "# data.plot()\n",
    "\n",
    "# df_no_outlier.plot(y=\"log_diameter\", x=\"weibel_generation\", style=\"x\")\n"
   ]
  },
  {
   "cell_type": "code",
   "execution_count": null,
   "id": "7ffa93f9-1875-49a4-9632-1756dbdfb879",
   "metadata": {},
   "outputs": [],
   "source": []
  }
 ],
 "metadata": {
  "kernelspec": {
   "display_name": "Python 3 (ipykernel)",
   "language": "python",
   "name": "python3"
  },
  "language_info": {
   "codemirror_mode": {
    "name": "ipython",
    "version": 3
   },
   "file_extension": ".py",
   "mimetype": "text/x-python",
   "name": "python",
   "nbconvert_exporter": "python",
   "pygments_lexer": "ipython3",
   "version": "3.9.12"
  }
 },
 "nbformat": 4,
 "nbformat_minor": 5
}
