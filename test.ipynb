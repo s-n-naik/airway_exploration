{
 "cells": [
  {
   "cell_type": "code",
   "execution_count": 1,
   "id": "d05c5120-2476-477e-9a25-dab5a60eea48",
   "metadata": {},
   "outputs": [],
   "source": [
    "%load_ext autoreload\n",
    "%autoreload 2 \n",
    "# !apt-get install -y xvfb"
   ]
  },
  {
   "cell_type": "code",
   "execution_count": 12,
   "id": "766d0ee8-cb3f-4552-925f-d13118acffe7",
   "metadata": {},
   "outputs": [
    {
     "data": {
      "text/plain": [
       "'/home/sneha'"
      ]
     },
     "execution_count": 12,
     "metadata": {},
     "output_type": "execute_result"
    }
   ],
   "source": [
    "import pandas as pd\n",
    "import numpy as np\n",
    "import os\n"
   ]
  },
  {
   "cell_type": "markdown",
   "id": "36acff89-f7c5-4f91-8095-249f6198e83f",
   "metadata": {},
   "source": [
    "## Data Loading"
   ]
  },
  {
   "cell_type": "code",
   "execution_count": 13,
   "id": "ca0bb344-d089-4a70-9e6b-305217fcd9ee",
   "metadata": {},
   "outputs": [],
   "source": [
    "df = pd.read_excel(os.path.abspath(\"/home/sneha/airway_tree_pilot.xlsx\"), sheet_name=0)"
   ]
  },
  {
   "cell_type": "code",
   "execution_count": 14,
   "id": "afca30b1-c441-4899-b526-1a2e3271cb66",
   "metadata": {},
   "outputs": [],
   "source": [
    "df.drop(columns = [\"manufacturer\", \"model\"], inplace=True)"
   ]
  },
  {
   "cell_type": "code",
   "execution_count": 15,
   "id": "f29853d2-1188-4cf9-b51e-cf09202519f4",
   "metadata": {},
   "outputs": [
    {
     "data": {
      "text/html": [
       "<div>\n",
       "<style scoped>\n",
       "    .dataframe tbody tr th:only-of-type {\n",
       "        vertical-align: middle;\n",
       "    }\n",
       "\n",
       "    .dataframe tbody tr th {\n",
       "        vertical-align: top;\n",
       "    }\n",
       "\n",
       "    .dataframe thead th {\n",
       "        text-align: right;\n",
       "    }\n",
       "</style>\n",
       "<table border=\"1\" class=\"dataframe\">\n",
       "  <thead>\n",
       "    <tr style=\"text-align: right;\">\n",
       "      <th></th>\n",
       "      <th>idno</th>\n",
       "      <th>startbpid</th>\n",
       "      <th>endbpid</th>\n",
       "      <th>centerlinelength</th>\n",
       "      <th>angle</th>\n",
       "      <th>dircosx</th>\n",
       "      <th>dircosy</th>\n",
       "      <th>dircosz</th>\n",
       "      <th>avginnerarea</th>\n",
       "      <th>generation</th>\n",
       "      <th>weibel_generation</th>\n",
       "    </tr>\n",
       "  </thead>\n",
       "  <tbody>\n",
       "    <tr>\n",
       "      <th>count</th>\n",
       "      <td>7.768300e+04</td>\n",
       "      <td>77683.000000</td>\n",
       "      <td>77683.000000</td>\n",
       "      <td>77683.000000</td>\n",
       "      <td>77454.000000</td>\n",
       "      <td>77683.000000</td>\n",
       "      <td>77683.000000</td>\n",
       "      <td>77683.000000</td>\n",
       "      <td>77683.000000</td>\n",
       "      <td>77683.000000</td>\n",
       "      <td>77683.000000</td>\n",
       "    </tr>\n",
       "    <tr>\n",
       "      <th>mean</th>\n",
       "      <td>5.986778e+06</td>\n",
       "      <td>149.658226</td>\n",
       "      <td>197.128509</td>\n",
       "      <td>10.614453</td>\n",
       "      <td>143.201617</td>\n",
       "      <td>-0.021328</td>\n",
       "      <td>0.056368</td>\n",
       "      <td>0.138202</td>\n",
       "      <td>11.161638</td>\n",
       "      <td>6.539384</td>\n",
       "      <td>7.338839</td>\n",
       "    </tr>\n",
       "    <tr>\n",
       "      <th>std</th>\n",
       "      <td>1.832951e+06</td>\n",
       "      <td>121.756964</td>\n",
       "      <td>130.566550</td>\n",
       "      <td>9.629416</td>\n",
       "      <td>24.407202</td>\n",
       "      <td>0.552013</td>\n",
       "      <td>0.542999</td>\n",
       "      <td>0.614584</td>\n",
       "      <td>25.017431</td>\n",
       "      <td>1.918851</td>\n",
       "      <td>2.273523</td>\n",
       "    </tr>\n",
       "    <tr>\n",
       "      <th>min</th>\n",
       "      <td>3.011950e+06</td>\n",
       "      <td>-1.000000</td>\n",
       "      <td>1.000000</td>\n",
       "      <td>0.498047</td>\n",
       "      <td>4.410540</td>\n",
       "      <td>-1.000000</td>\n",
       "      <td>-1.000000</td>\n",
       "      <td>-1.000000</td>\n",
       "      <td>-1.000000</td>\n",
       "      <td>0.000000</td>\n",
       "      <td>0.000000</td>\n",
       "    </tr>\n",
       "    <tr>\n",
       "      <th>25%</th>\n",
       "      <td>4.017080e+06</td>\n",
       "      <td>51.000000</td>\n",
       "      <td>92.000000</td>\n",
       "      <td>4.138575</td>\n",
       "      <td>132.688500</td>\n",
       "      <td>-0.476731</td>\n",
       "      <td>-0.381630</td>\n",
       "      <td>-0.392263</td>\n",
       "      <td>4.149160</td>\n",
       "      <td>5.000000</td>\n",
       "      <td>6.000000</td>\n",
       "    </tr>\n",
       "    <tr>\n",
       "      <th>50%</th>\n",
       "      <td>7.012039e+06</td>\n",
       "      <td>120.000000</td>\n",
       "      <td>180.000000</td>\n",
       "      <td>8.742300</td>\n",
       "      <td>149.928000</td>\n",
       "      <td>0.000000</td>\n",
       "      <td>0.061056</td>\n",
       "      <td>0.229416</td>\n",
       "      <td>6.168230</td>\n",
       "      <td>7.000000</td>\n",
       "      <td>7.000000</td>\n",
       "    </tr>\n",
       "    <tr>\n",
       "      <th>75%</th>\n",
       "      <td>8.010528e+06</td>\n",
       "      <td>220.000000</td>\n",
       "      <td>280.000000</td>\n",
       "      <td>14.169850</td>\n",
       "      <td>160.462500</td>\n",
       "      <td>0.436436</td>\n",
       "      <td>0.497468</td>\n",
       "      <td>0.704271</td>\n",
       "      <td>10.071250</td>\n",
       "      <td>8.000000</td>\n",
       "      <td>9.000000</td>\n",
       "    </tr>\n",
       "    <tr>\n",
       "      <th>max</th>\n",
       "      <td>8.023336e+06</td>\n",
       "      <td>744.000000</td>\n",
       "      <td>747.000000</td>\n",
       "      <td>128.734000</td>\n",
       "      <td>180.000000</td>\n",
       "      <td>1.000000</td>\n",
       "      <td>1.000000</td>\n",
       "      <td>1.000000</td>\n",
       "      <td>2343.240000</td>\n",
       "      <td>16.000000</td>\n",
       "      <td>17.000000</td>\n",
       "    </tr>\n",
       "  </tbody>\n",
       "</table>\n",
       "</div>"
      ],
      "text/plain": [
       "               idno     startbpid       endbpid  centerlinelength  \\\n",
       "count  7.768300e+04  77683.000000  77683.000000      77683.000000   \n",
       "mean   5.986778e+06    149.658226    197.128509         10.614453   \n",
       "std    1.832951e+06    121.756964    130.566550          9.629416   \n",
       "min    3.011950e+06     -1.000000      1.000000          0.498047   \n",
       "25%    4.017080e+06     51.000000     92.000000          4.138575   \n",
       "50%    7.012039e+06    120.000000    180.000000          8.742300   \n",
       "75%    8.010528e+06    220.000000    280.000000         14.169850   \n",
       "max    8.023336e+06    744.000000    747.000000        128.734000   \n",
       "\n",
       "              angle       dircosx       dircosy       dircosz  avginnerarea  \\\n",
       "count  77454.000000  77683.000000  77683.000000  77683.000000  77683.000000   \n",
       "mean     143.201617     -0.021328      0.056368      0.138202     11.161638   \n",
       "std       24.407202      0.552013      0.542999      0.614584     25.017431   \n",
       "min        4.410540     -1.000000     -1.000000     -1.000000     -1.000000   \n",
       "25%      132.688500     -0.476731     -0.381630     -0.392263      4.149160   \n",
       "50%      149.928000      0.000000      0.061056      0.229416      6.168230   \n",
       "75%      160.462500      0.436436      0.497468      0.704271     10.071250   \n",
       "max      180.000000      1.000000      1.000000      1.000000   2343.240000   \n",
       "\n",
       "         generation  weibel_generation  \n",
       "count  77683.000000       77683.000000  \n",
       "mean       6.539384           7.338839  \n",
       "std        1.918851           2.273523  \n",
       "min        0.000000           0.000000  \n",
       "25%        5.000000           6.000000  \n",
       "50%        7.000000           7.000000  \n",
       "75%        8.000000           9.000000  \n",
       "max       16.000000          17.000000  "
      ]
     },
     "execution_count": 15,
     "metadata": {},
     "output_type": "execute_result"
    }
   ],
   "source": [
    "df.describe()\n"
   ]
  },
  {
   "cell_type": "markdown",
   "id": "3b8f7a3e-04bf-4692-9f09-35ab016c677f",
   "metadata": {},
   "source": [
    "## Data Exploration - Initial Stats "
   ]
  },
  {
   "cell_type": "code",
   "execution_count": 6,
   "id": "80bfed85-1c0c-4999-8a92-475043063761",
   "metadata": {},
   "outputs": [
    {
     "name": "stdout",
     "output_type": "stream",
     "text": [
      "There are 227 participants, each participant has on average 342 \\pm 110 branch segments\n"
     ]
    },
    {
     "data": {
      "text/html": [
       "<div>\n",
       "<style scoped>\n",
       "    .dataframe tbody tr th:only-of-type {\n",
       "        vertical-align: middle;\n",
       "    }\n",
       "\n",
       "    .dataframe tbody tr th {\n",
       "        vertical-align: top;\n",
       "    }\n",
       "\n",
       "    .dataframe thead th {\n",
       "        text-align: right;\n",
       "    }\n",
       "</style>\n",
       "<table border=\"1\" class=\"dataframe\">\n",
       "  <thead>\n",
       "    <tr style=\"text-align: right;\">\n",
       "      <th></th>\n",
       "      <th>num_branch_segments</th>\n",
       "    </tr>\n",
       "  </thead>\n",
       "  <tbody>\n",
       "    <tr>\n",
       "      <th>count</th>\n",
       "      <td>227</td>\n",
       "    </tr>\n",
       "    <tr>\n",
       "      <th>mean</th>\n",
       "      <td>342</td>\n",
       "    </tr>\n",
       "    <tr>\n",
       "      <th>std</th>\n",
       "      <td>110</td>\n",
       "    </tr>\n",
       "    <tr>\n",
       "      <th>min</th>\n",
       "      <td>98</td>\n",
       "    </tr>\n",
       "    <tr>\n",
       "      <th>25%</th>\n",
       "      <td>264</td>\n",
       "    </tr>\n",
       "    <tr>\n",
       "      <th>50%</th>\n",
       "      <td>331</td>\n",
       "    </tr>\n",
       "    <tr>\n",
       "      <th>75%</th>\n",
       "      <td>408</td>\n",
       "    </tr>\n",
       "    <tr>\n",
       "      <th>max</th>\n",
       "      <td>744</td>\n",
       "    </tr>\n",
       "  </tbody>\n",
       "</table>\n",
       "</div>"
      ],
      "text/plain": [
       "       num_branch_segments\n",
       "count                  227\n",
       "mean                   342\n",
       "std                    110\n",
       "min                     98\n",
       "25%                    264\n",
       "50%                    331\n",
       "75%                    408\n",
       "max                    744"
      ]
     },
     "execution_count": 6,
     "metadata": {},
     "output_type": "execute_result"
    }
   ],
   "source": [
    "print(\"There are 227 participants, each participant has on average 342 \\pm 110 branch segments\")\n",
    "\n",
    "df.groupby(\"idno\").agg(\n",
    "    {\n",
    "        \"anatomicalname\":\"count\"\n",
    "    }\n",
    ").rename(\n",
    "    columns = {\n",
    "        \"anatomicalname\":\"num_branch_segments\"\n",
    "    }\n",
    ").sort_values(\n",
    "    by=\"num_branch_segments\",\n",
    "    ascending=False\n",
    ").describe().round(0).astype(int)\n",
    "\n"
   ]
  },
  {
   "cell_type": "code",
   "execution_count": 7,
   "id": "40d95b60-4c16-4f87-88ca-c3d48bdb939c",
   "metadata": {},
   "outputs": [
    {
     "name": "stdout",
     "output_type": "stream",
     "text": [
      "Number of weibel generations per participant\n"
     ]
    },
    {
     "data": {
      "text/html": [
       "<div>\n",
       "<style scoped>\n",
       "    .dataframe tbody tr th:only-of-type {\n",
       "        vertical-align: middle;\n",
       "    }\n",
       "\n",
       "    .dataframe tbody tr th {\n",
       "        vertical-align: top;\n",
       "    }\n",
       "\n",
       "    .dataframe thead th {\n",
       "        text-align: right;\n",
       "    }\n",
       "</style>\n",
       "<table border=\"1\" class=\"dataframe\">\n",
       "  <thead>\n",
       "    <tr style=\"text-align: right;\">\n",
       "      <th></th>\n",
       "      <th>weibel_generation_max</th>\n",
       "      <th>weibel_generation_mean</th>\n",
       "    </tr>\n",
       "  </thead>\n",
       "  <tbody>\n",
       "    <tr>\n",
       "      <th>count</th>\n",
       "      <td>227</td>\n",
       "      <td>227</td>\n",
       "    </tr>\n",
       "    <tr>\n",
       "      <th>mean</th>\n",
       "      <td>13</td>\n",
       "      <td>7</td>\n",
       "    </tr>\n",
       "    <tr>\n",
       "      <th>std</th>\n",
       "      <td>1</td>\n",
       "      <td>1</td>\n",
       "    </tr>\n",
       "    <tr>\n",
       "      <th>min</th>\n",
       "      <td>9</td>\n",
       "      <td>5</td>\n",
       "    </tr>\n",
       "    <tr>\n",
       "      <th>25%</th>\n",
       "      <td>12</td>\n",
       "      <td>7</td>\n",
       "    </tr>\n",
       "    <tr>\n",
       "      <th>50%</th>\n",
       "      <td>13</td>\n",
       "      <td>7</td>\n",
       "    </tr>\n",
       "    <tr>\n",
       "      <th>75%</th>\n",
       "      <td>14</td>\n",
       "      <td>8</td>\n",
       "    </tr>\n",
       "    <tr>\n",
       "      <th>max</th>\n",
       "      <td>17</td>\n",
       "      <td>9</td>\n",
       "    </tr>\n",
       "  </tbody>\n",
       "</table>\n",
       "</div>"
      ],
      "text/plain": [
       "       weibel_generation_max  weibel_generation_mean\n",
       "count                    227                     227\n",
       "mean                      13                       7\n",
       "std                        1                       1\n",
       "min                        9                       5\n",
       "25%                       12                       7\n",
       "50%                       13                       7\n",
       "75%                       14                       8\n",
       "max                       17                       9"
      ]
     },
     "execution_count": 7,
     "metadata": {},
     "output_type": "execute_result"
    }
   ],
   "source": [
    "print(\"Number of weibel generations per participant\")\n",
    "\n",
    "weibel = df.groupby(\"idno\").agg(\n",
    "    {\n",
    "        \"weibel_generation\":[\"max\", \"mean\"]\n",
    "    }\n",
    ")\n",
    "\n",
    "\n",
    "\n",
    "\n",
    "\n",
    "\n",
    "new_cols = [first+\"_\"+second for (first, second) in weibel.columns]\n",
    "weibel.columns = new_cols\n",
    "weibel.describe().round().astype(int)"
   ]
  },
  {
   "cell_type": "code",
   "execution_count": 8,
   "id": "c16c786b-d2b9-482b-92b9-9141cd50c9e8",
   "metadata": {},
   "outputs": [
    {
     "name": "stdout",
     "output_type": "stream",
     "text": [
      "89.77% of branch segments dont have anatomical names\n"
     ]
    },
    {
     "data": {
      "text/html": [
       "<div>\n",
       "<style scoped>\n",
       "    .dataframe tbody tr th:only-of-type {\n",
       "        vertical-align: middle;\n",
       "    }\n",
       "\n",
       "    .dataframe tbody tr th {\n",
       "        vertical-align: top;\n",
       "    }\n",
       "\n",
       "    .dataframe thead th {\n",
       "        text-align: right;\n",
       "    }\n",
       "</style>\n",
       "<table border=\"1\" class=\"dataframe\">\n",
       "  <thead>\n",
       "    <tr style=\"text-align: right;\">\n",
       "      <th></th>\n",
       "      <th>idno</th>\n",
       "    </tr>\n",
       "    <tr>\n",
       "      <th>anatomicalname</th>\n",
       "      <th></th>\n",
       "    </tr>\n",
       "  </thead>\n",
       "  <tbody>\n",
       "    <tr>\n",
       "      <th>-</th>\n",
       "      <td>69737</td>\n",
       "    </tr>\n",
       "    <tr>\n",
       "      <th>LUL</th>\n",
       "      <td>227</td>\n",
       "    </tr>\n",
       "    <tr>\n",
       "      <th>Trachea</th>\n",
       "      <td>227</td>\n",
       "    </tr>\n",
       "    <tr>\n",
       "      <th>RUL</th>\n",
       "      <td>227</td>\n",
       "    </tr>\n",
       "    <tr>\n",
       "      <th>RMB</th>\n",
       "      <td>227</td>\n",
       "    </tr>\n",
       "    <tr>\n",
       "      <th>...</th>\n",
       "      <td>...</td>\n",
       "    </tr>\n",
       "    <tr>\n",
       "      <th>unnamed-169</th>\n",
       "      <td>1</td>\n",
       "    </tr>\n",
       "    <tr>\n",
       "      <th>unnamed-4</th>\n",
       "      <td>1</td>\n",
       "    </tr>\n",
       "    <tr>\n",
       "      <th>unnamed-395</th>\n",
       "      <td>1</td>\n",
       "    </tr>\n",
       "    <tr>\n",
       "      <th>unnamed-394</th>\n",
       "      <td>1</td>\n",
       "    </tr>\n",
       "    <tr>\n",
       "      <th>unnamed-207</th>\n",
       "      <td>1</td>\n",
       "    </tr>\n",
       "  </tbody>\n",
       "</table>\n",
       "<p>294 rows × 1 columns</p>\n",
       "</div>"
      ],
      "text/plain": [
       "                 idno\n",
       "anatomicalname       \n",
       "-               69737\n",
       "LUL               227\n",
       "Trachea           227\n",
       "RUL               227\n",
       "RMB               227\n",
       "...               ...\n",
       "unnamed-169         1\n",
       "unnamed-4           1\n",
       "unnamed-395         1\n",
       "unnamed-394         1\n",
       "unnamed-207         1\n",
       "\n",
       "[294 rows x 1 columns]"
      ]
     },
     "execution_count": 8,
     "metadata": {},
     "output_type": "execute_result"
    }
   ],
   "source": [
    "print(f\"{(df['anatomicalname']=='-').sum()/len(df)*100:.2f}% of branch segments dont have anatomical names\")\n",
    "\n",
    "df.groupby(\"anatomicalname\").agg({\"idno\":\"count\"}).sort_values(by=\"idno\", ascending=False)\n",
    "\n",
    "# what is unnamed?"
   ]
  },
  {
   "cell_type": "code",
   "execution_count": 9,
   "id": "488dafe1-3c33-4734-befd-b169983a5fab",
   "metadata": {},
   "outputs": [
    {
     "name": "stdout",
     "output_type": "stream",
     "text": [
      "All branches start at trachea and end on segment number 350\\pm 113\n"
     ]
    },
    {
     "data": {
      "text/html": [
       "<div>\n",
       "<style scoped>\n",
       "    .dataframe tbody tr th:only-of-type {\n",
       "        vertical-align: middle;\n",
       "    }\n",
       "\n",
       "    .dataframe tbody tr th {\n",
       "        vertical-align: top;\n",
       "    }\n",
       "\n",
       "    .dataframe thead th {\n",
       "        text-align: right;\n",
       "    }\n",
       "</style>\n",
       "<table border=\"1\" class=\"dataframe\">\n",
       "  <thead>\n",
       "    <tr style=\"text-align: right;\">\n",
       "      <th></th>\n",
       "      <th>startbpid</th>\n",
       "      <th>endbpid</th>\n",
       "    </tr>\n",
       "  </thead>\n",
       "  <tbody>\n",
       "    <tr>\n",
       "      <th>count</th>\n",
       "      <td>227.0</td>\n",
       "      <td>227.0</td>\n",
       "    </tr>\n",
       "    <tr>\n",
       "      <th>mean</th>\n",
       "      <td>-1.0</td>\n",
       "      <td>350.0</td>\n",
       "    </tr>\n",
       "    <tr>\n",
       "      <th>std</th>\n",
       "      <td>0.0</td>\n",
       "      <td>113.0</td>\n",
       "    </tr>\n",
       "    <tr>\n",
       "      <th>min</th>\n",
       "      <td>-1.0</td>\n",
       "      <td>101.0</td>\n",
       "    </tr>\n",
       "    <tr>\n",
       "      <th>25%</th>\n",
       "      <td>-1.0</td>\n",
       "      <td>270.0</td>\n",
       "    </tr>\n",
       "    <tr>\n",
       "      <th>50%</th>\n",
       "      <td>-1.0</td>\n",
       "      <td>335.0</td>\n",
       "    </tr>\n",
       "    <tr>\n",
       "      <th>75%</th>\n",
       "      <td>-1.0</td>\n",
       "      <td>414.0</td>\n",
       "    </tr>\n",
       "    <tr>\n",
       "      <th>max</th>\n",
       "      <td>-1.0</td>\n",
       "      <td>747.0</td>\n",
       "    </tr>\n",
       "  </tbody>\n",
       "</table>\n",
       "</div>"
      ],
      "text/plain": [
       "       startbpid  endbpid\n",
       "count      227.0    227.0\n",
       "mean        -1.0    350.0\n",
       "std          0.0    113.0\n",
       "min         -1.0    101.0\n",
       "25%         -1.0    270.0\n",
       "50%         -1.0    335.0\n",
       "75%         -1.0    414.0\n",
       "max         -1.0    747.0"
      ]
     },
     "execution_count": 9,
     "metadata": {},
     "output_type": "execute_result"
    }
   ],
   "source": [
    "print(\"All branches start at trachea and end on segment number 350\\pm 113\")\n",
    "df.groupby(\"idno\").agg({\"startbpid\":\"min\", \"endbpid\":max}).describe().round()"
   ]
  },
  {
   "cell_type": "code",
   "execution_count": 57,
   "id": "35df96f0-0cb2-4b86-9c70-0fa2b850049d",
   "metadata": {},
   "outputs": [
    {
     "data": {
      "text/plain": [
       "count    69251.000000\n",
       "mean        12.642439\n",
       "std         26.112776\n",
       "min          1.297890\n",
       "25%          4.787525\n",
       "50%          6.711200\n",
       "75%         10.898450\n",
       "max       2343.240000\n",
       "Name: avginnerarea, dtype: float64"
      ]
     },
     "metadata": {},
     "output_type": "display_data"
    },
    {
     "name": "stderr",
     "output_type": "stream",
     "text": [
      "/tmp/ipykernel_7986/2874537006.py:5: SettingWithCopyWarning: \n",
      "A value is trying to be set on a copy of a slice from a DataFrame.\n",
      "Try using .loc[row_indexer,col_indexer] = value instead\n",
      "\n",
      "See the caveats in the documentation: https://pandas.pydata.org/pandas-docs/stable/user_guide/indexing.html#returning-a-view-versus-a-copy\n",
      "  df_no_outlier[\"log_diameter\"] = np.log(2*np.sqrt(df_no_outlier[\"avginnerarea\"]/np.pi))\n"
     ]
    },
    {
     "data": {
      "text/plain": [
       "<AxesSubplot:xlabel='weibel_generation'>"
      ]
     },
     "execution_count": 57,
     "metadata": {},
     "output_type": "execute_result"
    },
    {
     "data": {
      "image/png": "[encoded data removed]",
      "text/plain": [
       "<Figure size 432x288 with 1 Axes>"
      ]
     },
     "metadata": {
      "needs_background": "light"
     },
     "output_type": "display_data"
    }
   ],
   "source": [
    "display(df[df.avginnerarea > 0].avginnerarea.describe())\n",
    "# group by weibel dim then plot the histogram\n",
    "# excluding 3 outliers above 500 CSA --> Question error?\n",
    "df_no_outlier = df[(df.avginnerarea > 0) & (df.avginnerarea < 500)]\n",
    "df_no_outlier[\"log_diameter\"] = np.log(2*np.sqrt(df_no_outlier[\"avginnerarea\"]/np.pi))\n",
    "df_no_outlier.plot(y=\"log_diameter\", x=\"weibel_generation\", style=\"x\")"
   ]
  },
  {
   "cell_type": "code",
   "execution_count": 60,
   "id": "79eff971-5bdd-4b64-abf7-b3813caab280",
   "metadata": {},
   "outputs": [
    {
     "data": {
      "text/plain": [
       "array([-0.09263583,  1.82570835])"
      ]
     },
     "execution_count": 60,
     "metadata": {},
     "output_type": "execute_result"
    }
   ],
   "source": [
    "np.polyfit(x=df_no_outlier.weibel_generation.values, y= df_no_outlier.log_diameter.values, deg=1) # outputs coeff of HIGHEST degree first\n",
    "# not really woking --> could group by person, take avg per person per generation and tyr there maybe less noise?\n",
    "# generate plots on the line\n",
    "\n",
    "\n",
    "# regression = ols(x=df_no_outlier.weibel_generation, y=df_no_outlier.log_diameter)\n",
    "# display(regression.summary) # slicing to only use last 30 points\n",
    "# data = pd.DataFrame(index=x, data={'y': y, 'trend': trend})\n",
    "# data.plot()\n",
    "\n",
    "# df_no_outlier.plot(y=\"log_diameter\", x=\"weibel_generation\", style=\"x\")\n"
   ]
  },
  {
   "cell_type": "code",
   "execution_count": 35,
   "id": "7ffa93f9-1875-49a4-9632-1756dbdfb879",
   "metadata": {},
   "outputs": [
    {
     "data": {
      "text/plain": [
       "0.675823539255693"
      ]
     },
     "execution_count": 35,
     "metadata": {},
     "output_type": "execute_result"
    }
   ],
   "source": []
  }
 ],
 "metadata": {
  "kernelspec": {
   "display_name": "Python 3 (ipykernel)",
   "language": "python",
   "name": "python3"
  },
  "language_info": {
   "codemirror_mode": {
    "name": "ipython",
    "version": 3
   },
   "file_extension": ".py",
   "mimetype": "text/x-python",
   "name": "python",
   "nbconvert_exporter": "python",
   "pygments_lexer": "ipython3",
   "version": "3.9.12"
  }
 },
 "nbformat": 4,
 "nbformat_minor": 5
}
