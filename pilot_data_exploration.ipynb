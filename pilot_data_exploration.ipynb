{
 "cells": [
  {
   "cell_type": "code",
   "execution_count": 1,
   "id": "d05c5120-2476-477e-9a25-dab5a60eea48",
   "metadata": {},
   "outputs": [],
   "source": [
    "%load_ext autoreload\n",
    "%autoreload 2 \n",
    "# !apt-get install -y xvfb"
   ]
  },
  {
   "cell_type": "code",
   "execution_count": 2,
   "id": "766d0ee8-cb3f-4552-925f-d13118acffe7",
   "metadata": {},
   "outputs": [],
   "source": [
    "import pandas as pd\n",
    "import numpy as np\n",
    "import os\n",
    "import matplotlib.pyplot as plt\n",
    "import torch\n",
    "from tqdm.notebook import tqdm"
   ]
  },
  {
   "cell_type": "markdown",
   "id": "36acff89-f7c5-4f91-8095-249f6198e83f",
   "metadata": {
    "tags": []
   },
   "source": [
    "## Data Loading"
   ]
  },
  {
   "cell_type": "code",
   "execution_count": 3,
   "id": "ca0bb344-d089-4a70-9e6b-305217fcd9ee",
   "metadata": {},
   "outputs": [],
   "source": [
    "df = pd.read_csv(os.path.abspath(\"/home/sneha/airway_exploration/e5_cleaned_v1.csv\"))"
   ]
  },
  {
   "cell_type": "code",
   "execution_count": 11,
   "id": "a252fd7c",
   "metadata": {},
   "outputs": [
    {
     "data": {
      "text/html": [
       "<div>\n",
       "<style scoped>\n",
       "    .dataframe tbody tr th:only-of-type {\n",
       "        vertical-align: middle;\n",
       "    }\n",
       "\n",
       "    .dataframe tbody tr th {\n",
       "        vertical-align: top;\n",
       "    }\n",
       "\n",
       "    .dataframe thead th {\n",
       "        text-align: right;\n",
       "    }\n",
       "</style>\n",
       "<table border=\"1\" class=\"dataframe\">\n",
       "  <thead>\n",
       "    <tr style=\"text-align: right;\">\n",
       "      <th></th>\n",
       "      <th>idno</th>\n",
       "      <th>anatomicalname</th>\n",
       "      <th>centerlinelength</th>\n",
       "      <th>avginnerarea</th>\n",
       "      <th>lobe</th>\n",
       "      <th>sublobe</th>\n",
       "      <th>endbpid</th>\n",
       "      <th>startbpid</th>\n",
       "      <th>angle</th>\n",
       "      <th>dircosx</th>\n",
       "      <th>dircosy</th>\n",
       "      <th>dircosz</th>\n",
       "      <th>weibel_generation</th>\n",
       "      <th>v_</th>\n",
       "    </tr>\n",
       "  </thead>\n",
       "  <tbody>\n",
       "    <tr>\n",
       "      <th>0</th>\n",
       "      <td>3010007</td>\n",
       "      <td>Trachea</td>\n",
       "      <td>104.96200</td>\n",
       "      <td>351.51300</td>\n",
       "      <td>0.0</td>\n",
       "      <td>0.0</td>\n",
       "      <td>1.0</td>\n",
       "      <td>-1.0</td>\n",
       "      <td>NaN</td>\n",
       "      <td>-0.024446</td>\n",
       "      <td>0.229788</td>\n",
       "      <td>0.972934</td>\n",
       "      <td>0</td>\n",
       "      <td>[-0.0244456, 0.229788, 0.972934]</td>\n",
       "    </tr>\n",
       "    <tr>\n",
       "      <th>1</th>\n",
       "      <td>3010007</td>\n",
       "      <td>LMB</td>\n",
       "      <td>51.01420</td>\n",
       "      <td>148.68100</td>\n",
       "      <td>0.0</td>\n",
       "      <td>0.0</td>\n",
       "      <td>3.0</td>\n",
       "      <td>1.0</td>\n",
       "      <td>140.0360</td>\n",
       "      <td>0.608512</td>\n",
       "      <td>0.045926</td>\n",
       "      <td>0.792214</td>\n",
       "      <td>1</td>\n",
       "      <td>[0.608512, 0.0459255, 0.792214]</td>\n",
       "    </tr>\n",
       "    <tr>\n",
       "      <th>2</th>\n",
       "      <td>3010007</td>\n",
       "      <td>RMB</td>\n",
       "      <td>25.44420</td>\n",
       "      <td>215.56900</td>\n",
       "      <td>0.0</td>\n",
       "      <td>0.0</td>\n",
       "      <td>2.0</td>\n",
       "      <td>1.0</td>\n",
       "      <td>134.8050</td>\n",
       "      <td>-0.694225</td>\n",
       "      <td>-0.047878</td>\n",
       "      <td>0.718164</td>\n",
       "      <td>1</td>\n",
       "      <td>[-0.694225, -0.0478776, 0.718164]</td>\n",
       "    </tr>\n",
       "    <tr>\n",
       "      <th>3</th>\n",
       "      <td>3010007</td>\n",
       "      <td>BronInt</td>\n",
       "      <td>29.83190</td>\n",
       "      <td>111.98300</td>\n",
       "      <td>0.0</td>\n",
       "      <td>0.0</td>\n",
       "      <td>4.0</td>\n",
       "      <td>2.0</td>\n",
       "      <td>160.3120</td>\n",
       "      <td>-0.417837</td>\n",
       "      <td>0.018167</td>\n",
       "      <td>0.908341</td>\n",
       "      <td>2</td>\n",
       "      <td>[-0.417837, 0.0181668, 0.908341]</td>\n",
       "    </tr>\n",
       "    <tr>\n",
       "      <th>4</th>\n",
       "      <td>3010007</td>\n",
       "      <td>RUL</td>\n",
       "      <td>16.64940</td>\n",
       "      <td>75.69660</td>\n",
       "      <td>3.0</td>\n",
       "      <td>0.0</td>\n",
       "      <td>5.0</td>\n",
       "      <td>2.0</td>\n",
       "      <td>98.5825</td>\n",
       "      <td>-0.813123</td>\n",
       "      <td>-0.038720</td>\n",
       "      <td>-0.580802</td>\n",
       "      <td>2</td>\n",
       "      <td>[-0.813123, -0.0387202, -0.580802]</td>\n",
       "    </tr>\n",
       "    <tr>\n",
       "      <th>...</th>\n",
       "      <td>...</td>\n",
       "      <td>...</td>\n",
       "      <td>...</td>\n",
       "      <td>...</td>\n",
       "      <td>...</td>\n",
       "      <td>...</td>\n",
       "      <td>...</td>\n",
       "      <td>...</td>\n",
       "      <td>...</td>\n",
       "      <td>...</td>\n",
       "      <td>...</td>\n",
       "      <td>...</td>\n",
       "      <td>...</td>\n",
       "      <td>...</td>\n",
       "    </tr>\n",
       "    <tr>\n",
       "      <th>964662</th>\n",
       "      <td>8024995</td>\n",
       "      <td>-</td>\n",
       "      <td>6.14524</td>\n",
       "      <td>6.48287</td>\n",
       "      <td>5.0</td>\n",
       "      <td>16.0</td>\n",
       "      <td>334.0</td>\n",
       "      <td>314.0</td>\n",
       "      <td>165.1320</td>\n",
       "      <td>0.164399</td>\n",
       "      <td>0.000000</td>\n",
       "      <td>0.986394</td>\n",
       "      <td>12</td>\n",
       "      <td>[0.164399, 0.0, 0.986394]</td>\n",
       "    </tr>\n",
       "    <tr>\n",
       "      <th>964663</th>\n",
       "      <td>8024995</td>\n",
       "      <td>-</td>\n",
       "      <td>15.64100</td>\n",
       "      <td>6.87548</td>\n",
       "      <td>5.0</td>\n",
       "      <td>19.0</td>\n",
       "      <td>335.0</td>\n",
       "      <td>317.0</td>\n",
       "      <td>156.6690</td>\n",
       "      <td>0.074125</td>\n",
       "      <td>0.667124</td>\n",
       "      <td>0.741249</td>\n",
       "      <td>12</td>\n",
       "      <td>[0.0741249, 0.667124, 0.741249]</td>\n",
       "    </tr>\n",
       "    <tr>\n",
       "      <th>964664</th>\n",
       "      <td>8024995</td>\n",
       "      <td>-</td>\n",
       "      <td>7.54570</td>\n",
       "      <td>6.98296</td>\n",
       "      <td>5.0</td>\n",
       "      <td>19.0</td>\n",
       "      <td>336.0</td>\n",
       "      <td>317.0</td>\n",
       "      <td>161.6230</td>\n",
       "      <td>0.205076</td>\n",
       "      <td>0.205076</td>\n",
       "      <td>0.957020</td>\n",
       "      <td>12</td>\n",
       "      <td>[0.205076, 0.205076, 0.95702]</td>\n",
       "    </tr>\n",
       "    <tr>\n",
       "      <th>964665</th>\n",
       "      <td>8024995</td>\n",
       "      <td>-</td>\n",
       "      <td>3.32710</td>\n",
       "      <td>5.57702</td>\n",
       "      <td>2.0</td>\n",
       "      <td>9.0</td>\n",
       "      <td>337.0</td>\n",
       "      <td>327.0</td>\n",
       "      <td>143.1220</td>\n",
       "      <td>-0.742781</td>\n",
       "      <td>-0.371391</td>\n",
       "      <td>0.557086</td>\n",
       "      <td>12</td>\n",
       "      <td>[-0.742781, -0.371391, 0.557086]</td>\n",
       "    </tr>\n",
       "    <tr>\n",
       "      <th>964666</th>\n",
       "      <td>8024995</td>\n",
       "      <td>-</td>\n",
       "      <td>4.96586</td>\n",
       "      <td>11.33890</td>\n",
       "      <td>2.0</td>\n",
       "      <td>9.0</td>\n",
       "      <td>338.0</td>\n",
       "      <td>327.0</td>\n",
       "      <td>146.1570</td>\n",
       "      <td>0.104828</td>\n",
       "      <td>0.314485</td>\n",
       "      <td>0.943456</td>\n",
       "      <td>12</td>\n",
       "      <td>[0.104828, 0.314485, 0.943456]</td>\n",
       "    </tr>\n",
       "  </tbody>\n",
       "</table>\n",
       "<p>964667 rows × 14 columns</p>\n",
       "</div>"
      ],
      "text/plain": [
       "           idno anatomicalname  centerlinelength  avginnerarea  lobe  sublobe  \\\n",
       "0       3010007        Trachea         104.96200     351.51300   0.0      0.0   \n",
       "1       3010007            LMB          51.01420     148.68100   0.0      0.0   \n",
       "2       3010007            RMB          25.44420     215.56900   0.0      0.0   \n",
       "3       3010007        BronInt          29.83190     111.98300   0.0      0.0   \n",
       "4       3010007            RUL          16.64940      75.69660   3.0      0.0   \n",
       "...         ...            ...               ...           ...   ...      ...   \n",
       "964662  8024995              -           6.14524       6.48287   5.0     16.0   \n",
       "964663  8024995              -          15.64100       6.87548   5.0     19.0   \n",
       "964664  8024995              -           7.54570       6.98296   5.0     19.0   \n",
       "964665  8024995              -           3.32710       5.57702   2.0      9.0   \n",
       "964666  8024995              -           4.96586      11.33890   2.0      9.0   \n",
       "\n",
       "        endbpid  startbpid     angle   dircosx   dircosy   dircosz  \\\n",
       "0           1.0       -1.0       NaN -0.024446  0.229788  0.972934   \n",
       "1           3.0        1.0  140.0360  0.608512  0.045926  0.792214   \n",
       "2           2.0        1.0  134.8050 -0.694225 -0.047878  0.718164   \n",
       "3           4.0        2.0  160.3120 -0.417837  0.018167  0.908341   \n",
       "4           5.0        2.0   98.5825 -0.813123 -0.038720 -0.580802   \n",
       "...         ...        ...       ...       ...       ...       ...   \n",
       "964662    334.0      314.0  165.1320  0.164399  0.000000  0.986394   \n",
       "964663    335.0      317.0  156.6690  0.074125  0.667124  0.741249   \n",
       "964664    336.0      317.0  161.6230  0.205076  0.205076  0.957020   \n",
       "964665    337.0      327.0  143.1220 -0.742781 -0.371391  0.557086   \n",
       "964666    338.0      327.0  146.1570  0.104828  0.314485  0.943456   \n",
       "\n",
       "        weibel_generation                                  v_  \n",
       "0                       0    [-0.0244456, 0.229788, 0.972934]  \n",
       "1                       1     [0.608512, 0.0459255, 0.792214]  \n",
       "2                       1   [-0.694225, -0.0478776, 0.718164]  \n",
       "3                       2    [-0.417837, 0.0181668, 0.908341]  \n",
       "4                       2  [-0.813123, -0.0387202, -0.580802]  \n",
       "...                   ...                                 ...  \n",
       "964662                 12           [0.164399, 0.0, 0.986394]  \n",
       "964663                 12     [0.0741249, 0.667124, 0.741249]  \n",
       "964664                 12       [0.205076, 0.205076, 0.95702]  \n",
       "964665                 12    [-0.742781, -0.371391, 0.557086]  \n",
       "964666                 12      [0.104828, 0.314485, 0.943456]  \n",
       "\n",
       "[964667 rows x 14 columns]"
      ]
     },
     "execution_count": 11,
     "metadata": {},
     "output_type": "execute_result"
    }
   ],
   "source": [
    "df['v_'] = pd.Series(df[['dircosx', 'dircosy', 'dircosz']].values.tolist())\n",
    "\n",
    "df"
   ]
  },
  {
   "cell_type": "markdown",
   "id": "51f8eb11",
   "metadata": {},
   "source": [
    "### TESTING"
   ]
  },
  {
   "cell_type": "code",
   "execution_count": null,
   "id": "d0008134",
   "metadata": {},
   "outputs": [],
   "source": [
    "df_pilot = pd.read_csv(os.path.abspath(\"/home/sneha/airway_tree_pilot_clean.csv\"))"
   ]
  },
  {
   "cell_type": "code",
   "execution_count": null,
   "id": "71675ecc",
   "metadata": {},
   "outputs": [],
   "source": [
    "df_full_pilot_filter = df.loc[df.idno.isin(df_pilot.idno.unique())][['idno', 'startbpid', 'endbpid', 'generation', 'segmentalgeneration']]"
   ]
  },
  {
   "cell_type": "code",
   "execution_count": null,
   "id": "953a4834",
   "metadata": {},
   "outputs": [],
   "source": [
    "df_pilot_rel = df_pilot.copy()[['idno', 'startbpid', 'endbpid', 'generation', 'weibel_generation']]"
   ]
  },
  {
   "cell_type": "code",
   "execution_count": null,
   "id": "5280fb1c",
   "metadata": {},
   "outputs": [],
   "source": [
    "test_merge = df_pilot_rel.merge(df_full_pilot_filter, on=['idno', 'startbpid', 'endbpid'], how='left')\n",
    "test_merge"
   ]
  },
  {
   "cell_type": "code",
   "execution_count": null,
   "id": "36edc82a",
   "metadata": {},
   "outputs": [],
   "source": [
    "def _get_weibel_gen(participant_df):\n",
    "    # groupby idno\n",
    "    participant_df['new_weibel_gen'] =0\n",
    "    groups = participant_df.groupby('idno')\n",
    "    for name, group in tqdm(groups, desc='Iterating ids'):\n",
    "#         print(name, group)\n",
    "        start_end =  group[['startbpid', 'endbpid']].values\n",
    "        keys_ = np.unique(start_end, return_counts=False)\n",
    "        weibel_gen = dict.fromkeys(keys_, 0)\n",
    "        weibel_gen[-1]=-1\n",
    "    #     print(weibel_gen)\n",
    "        for i in range(len(keys_)):\n",
    "            key_test=keys_[i]\n",
    "#             print('looking at key', key_test)\n",
    "            # find children of this key\n",
    "            children = group.loc[participant_df.startbpid==key_test]['endbpid'].values\n",
    "#             print('children of key', children)\n",
    "            for child in children:\n",
    "                weibel_gen[child] = weibel_gen[key_test]+1\n",
    "        participant_df.loc[participant_df.idno == name, 'new_weibel_gen'] = participant_df.loc[participant_df.idno == name, 'endbpid'].copy().map(weibel_gen)\n",
    "    return participant_df\n",
    "df_w_new = _get_weibel_gen(df.copy())"
   ]
  },
  {
   "cell_type": "code",
   "execution_count": null,
   "id": "1eb8458e",
   "metadata": {},
   "outputs": [],
   "source": [
    "df_w_new.rename(columns={'new_weibel_gen':'weibel_generation'}, inplace=True)\n",
    "\n",
    "df_w_new.to_csv(os.path.abspath('/home/sneha/e5lungairwaysvida_20140211_weibel.csv'))"
   ]
  },
  {
   "cell_type": "code",
   "execution_count": null,
   "id": "dadc64f2",
   "metadata": {},
   "outputs": [],
   "source": []
  },
  {
   "cell_type": "code",
   "execution_count": null,
   "id": "9cc2a5c0",
   "metadata": {},
   "outputs": [],
   "source": [
    "(df_w_new.weibel_generation == df_w_new.new_weibel_gen).sum()/len(df_w_new)"
   ]
  },
  {
   "cell_type": "markdown",
   "id": "f64fdbfc",
   "metadata": {},
   "source": [
    "### END TESTING\n"
   ]
  },
  {
   "cell_type": "code",
   "execution_count": null,
   "id": "afca30b1-c441-4899-b526-1a2e3271cb66",
   "metadata": {},
   "outputs": [],
   "source": [
    "df.drop(columns = [\"manufacturer\", \"model\"], inplace=True)"
   ]
  },
  {
   "cell_type": "code",
   "execution_count": null,
   "id": "f29853d2-1188-4cf9-b51e-cf09202519f4",
   "metadata": {},
   "outputs": [],
   "source": [
    "print(len(df))\n",
    "df.dropna(subset=['startbpid', 'endbpid', 'idno', 'dircosx', 'dircosy', 'dircosz', 'centerlinelength', 'segmentalgeneration' ], inplace=True)\n",
    "print(len(df))"
   ]
  },
  {
   "cell_type": "markdown",
   "id": "3b8f7a3e-04bf-4692-9f09-35ab016c677f",
   "metadata": {},
   "source": [
    "## Data Exploration "
   ]
  },
  {
   "cell_type": "markdown",
   "id": "eaacdd0e-b134-4bfc-b482-49e7f51e4945",
   "metadata": {
    "jp-MarkdownHeadingCollapsed": true,
    "tags": []
   },
   "source": [
    "### Segment Analysis"
   ]
  },
  {
   "cell_type": "code",
   "execution_count": null,
   "id": "80bfed85-1c0c-4999-8a92-475043063761",
   "metadata": {},
   "outputs": [],
   "source": [
    "\n",
    "\n",
    "summary = df.groupby(\"idno\").agg(\n",
    "    {\n",
    "        \"anatomicalname\":\"count\"\n",
    "    }\n",
    ").rename(\n",
    "    columns = {\n",
    "        \"anatomicalname\":\"num_branch_segments\"\n",
    "    }\n",
    ").sort_values(\n",
    "    by=\"num_branch_segments\",\n",
    "    ascending=False\n",
    ").describe().round(0).astype(int)\n",
    "display(summary)\n",
    "print(f\"There are {summary.loc[summary.index=='count']['num_branch_segments'].item()} participants, each participant has on average {summary.loc[summary.index=='mean']['num_branch_segments'].item()} \\pm {summary.loc[summary.index=='std']['num_branch_segments'].item()} branch segments\")"
   ]
  },
  {
   "cell_type": "code",
   "execution_count": null,
   "id": "0bcbd0d4-9465-4023-a329-2d344aa5237b",
   "metadata": {},
   "outputs": [],
   "source": [
    "# # Looking for orphan branches (check every branch has a parent)\n",
    "# # check if every startbpid (parent) is in the list of endbpids for that idno --> ie. the parent of the branch is in the tree. \n",
    "# #If the parent is not in the list of segments (endbpid) then the branch is an orphan.\n",
    "# orphan_check = pd.concat([df[[\"idno\"]].copy(), df.apply(\n",
    "#     lambda x: x.startbpid in df[df.idno == x.idno]['endbpid'].values,\n",
    "# axis=1)], axis=1)\n",
    "\n",
    "# # concatenate\n",
    "# orphan_check.rename({0:\"has_parent\"}, axis=1, inplace=True)\n"
   ]
  },
  {
   "cell_type": "code",
   "execution_count": null,
   "id": "4b84b75e",
   "metadata": {},
   "outputs": [],
   "source": [
    "df.loc[df.startbpid == -1]"
   ]
  },
  {
   "cell_type": "code",
   "execution_count": null,
   "id": "564a0f93",
   "metadata": {},
   "outputs": [],
   "source": [
    "# drop trachea which never has a parent\n",
    "# groupby id number and check how branches have parents vs number of branches per idno\n",
    "print(len(df))\n",
    "without_trachea = orphan_check.loc[df.startbpid != -1]\n",
    "print(\"removing trachea\", len(without_trachea))\n",
    "per_id = without_trachea.groupby(\"idno\").agg({\"has_parent\":lambda x:sum(x), \"idno\":\"count\"}) \n",
    "# display(per_id)\n",
    "check = (per_id.has_parent == per_id.idno) # match count of segments per person vs count of segments with parents\n",
    "# display(check)\n",
    "print(f'There are {(per_id.idno-per_id.has_parent).sum()} orphan segments (excluding trachea) ({100*(~without_trachea.has_parent).sum()/len(orphan_check):.2f}% of all segments)')\n",
    "print(f\"Orphan segments are present in {100*check.sum()/len(check)}% of participants data\")\n"
   ]
  },
  {
   "cell_type": "code",
   "execution_count": null,
   "id": "5091f7f8",
   "metadata": {},
   "outputs": [],
   "source": [
    "# illustrative example orphan\n",
    "df.loc[(df.idno==4021010) & ((df.startbpid == 593) | (df.endbpid == 593))][['idno', 'startbpid', 'endbpid', 'dircosx', 'centerlinelength']]"
   ]
  },
  {
   "cell_type": "markdown",
   "id": "4befb5e7-a0ab-4205-abb3-2a7e4924a7b2",
   "metadata": {
    "tags": []
   },
   "source": [
    "### Generation Analysis"
   ]
  },
  {
   "cell_type": "code",
   "execution_count": null,
   "id": "a6f039ed",
   "metadata": {},
   "outputs": [],
   "source": [
    "df.columns.to_list()"
   ]
  },
  {
   "cell_type": "code",
   "execution_count": null,
   "id": "40d95b60-4c16-4f87-88ca-c3d48bdb939c",
   "metadata": {},
   "outputs": [],
   "source": [
    "print(\"Number of weibel generations per participant\")\n",
    "\n",
    "weibel = df.groupby(\"idno\").agg(\n",
    "    {\n",
    "        \"weibel_generation\":[\"max\", \"mean\"]\n",
    "    }\n",
    ")\n",
    "\n",
    "\n",
    "\n",
    "\n",
    "\n",
    "\n",
    "new_cols = [first+\"_\"+second for (first, second) in weibel.columns]\n",
    "weibel.columns = new_cols\n",
    "weibel.describe().round().astype(int)"
   ]
  },
  {
   "cell_type": "code",
   "execution_count": null,
   "id": "6b1773da-cad7-4d48-903a-265277843443",
   "metadata": {},
   "outputs": [],
   "source": [
    "# weibel gen vs gen labelled by vida --> from data dictionary Generation: This is not a useful variable, but is output by VIDA. It is a rough count of airway generation (trachea = 0), but it forces some anatomic airways to have specific values.\n",
    "\n",
    "print(f\"Discrepancy between the vida labelled generation vs the weibel_generation given in the df.\\nVIDA: {df.generation.mean():.2f} \\pm {df.generation.std():.2f}\\nWEIBEL:{df.segmentalgeneration.mean():.2f} \\pm {df.segmentalgeneration.std():.2f}  \")\n",
    "df.plot.scatter(x=\"generation\", y=\"segmentalgeneration\")\n",
    "plt.show()"
   ]
  },
  {
   "cell_type": "code",
   "execution_count": null,
   "id": "c9cdb988",
   "metadata": {},
   "outputs": [],
   "source": [
    "df.loc[df.segmentalgeneration == -1][['segmentalgeneration', 'generation']]"
   ]
  },
  {
   "cell_type": "code",
   "execution_count": null,
   "id": "8845d1fe",
   "metadata": {},
   "outputs": [],
   "source": [
    "# test for segmental generation vs weibel (load pilot data)\n",
    "pilot = pd.read_csv('../airway_tree_pilot_clean.csv')\n",
    "plt.scatter(pilot.generation, pilot.weibel_generation)"
   ]
  },
  {
   "cell_type": "code",
   "execution_count": null,
   "id": "7f9117f9",
   "metadata": {},
   "outputs": [],
   "source": [
    "pilot_ids = pilot.idno.unique()\n",
    "\n",
    "filtered_df[['startbpid', 'endbpid', 'idno', 'dircosx', 'dircosy', 'dircosz', 'centerlinelength','segmentalgeneration']].head(), pilot.head()"
   ]
  },
  {
   "cell_type": "markdown",
   "id": "4394d6de-6927-4612-8970-d4cab7bd7372",
   "metadata": {
    "tags": []
   },
   "source": [
    "### Label Analysis"
   ]
  },
  {
   "cell_type": "code",
   "execution_count": null,
   "id": "9a2db6b3",
   "metadata": {},
   "outputs": [],
   "source": []
  },
  {
   "cell_type": "code",
   "execution_count": null,
   "id": "c16c786b-d2b9-482b-92b9-9141cd50c9e8",
   "metadata": {},
   "outputs": [],
   "source": [
    "# what is unnamed vs just empty entry in the csv? is it checked vs unchecked?\n",
    "print(f\"{(df['anatomicalname']=='-').sum()} branch segments have empty entries in anatomicalname\")\n",
    "values, counts = np.unique(df.anatomicalname.dropna().astype(str), return_counts=True)\n",
    "frequ_dict = dict(zip(values, counts))\n",
    "unnamed = [v for k, v in frequ_dict.items() if 'unnamed' in k.lower()]\n",
    "not_unnamed = [k for k in frequ_dict.keys() if (not 'unnamed' in k.lower()) and (k != '-')]\n",
    "print(f\"{sum(unnamed)} branch segments have the word 'unnamed' in their anatomicalname entry\")\n",
    "print(f\"There are {len(not_unnamed)} unique, valid anatomical names: {not_unnamed}\")\n",
    "# ({df[~df['anatomicalname'].str.contains('unnamed')].anatomicalname.nunique()} unique types of valid label)\") \n",
    "label_freq = df.groupby('anatomicalname').agg({'idno':'nunique'}).sort_values(by='idno', ascending=False).rename({\"idno\":\"# segments\"}, axis=1).reset_index()\n",
    "label_freq[\"grouped_anatomicalname\"] = label_freq.anatomicalname.apply(lambda x: x if 'unnamed' not in x else 'unnamed-X')\n",
    "f, ax = plt.subplots()\n",
    "label_freq[[\"grouped_anatomicalname\",\"# segments\"]].groupby(\"grouped_anatomicalname\").agg(\"sum\").reset_index().sort_values(by=\"# segments\", ascending=False).plot.bar(x=\"grouped_anatomicalname\", y=\"# segments\", ax=ax)\n",
    "plt.title(\"Plot of branch segment frequency in dataset per anatomical name\")\n",
    "plt.ylabel(\"# segments\")\n"
   ]
  },
  {
   "cell_type": "code",
   "execution_count": null,
   "id": "5933652f-8259-4ef8-b71c-a1051732bc38",
   "metadata": {},
   "outputs": [],
   "source": [
    "# for each named branch what % of patients have that branch\n",
    "((df[\n",
    "    ~(\n",
    "        (df[\"anatomicalname\"].str.lower().str.contains(\"unnamed\"))| # filter dataframe to only look at normal labels\n",
    "        (df[\"anatomicalname\"]==\"-\")\n",
    "    )\n",
    "].groupby(\"anatomicalname\").agg(\n",
    "    {\"idno\":\"count\"} # check number of ids per name\n",
    ")/df.idno.nunique())*100\n",
    ").sort_values(\n",
    "    by=\"idno\",\n",
    "    ascending=True\n",
    ").reset_index().rename(\n",
    "    {\"idno\":\"% of patients that have this branch label\"}, \n",
    "    axis=1\n",
    ").round(2)"
   ]
  },
  {
   "cell_type": "code",
   "execution_count": null,
   "id": "488dafe1-3c33-4734-befd-b169983a5fab",
   "metadata": {},
   "outputs": [],
   "source": [
    "print(\"All branches start at trachea and end on segment number 340\\pm 132\")\n",
    "df.groupby(\"idno\").agg({\"startbpid\":\"min\", \"endbpid\":max}).describe().round()"
   ]
  },
  {
   "cell_type": "markdown",
   "id": "79f251d2-9efc-4b4e-a5b8-1d63f9de5925",
   "metadata": {},
   "source": [
    "### Lobe Analysis"
   ]
  },
  {
   "cell_type": "code",
   "execution_count": null,
   "id": "927d5b4c",
   "metadata": {},
   "outputs": [],
   "source": [
    "df.columns.to_list()"
   ]
  },
  {
   "cell_type": "code",
   "execution_count": null,
   "id": "7a8a399a-ba86-4298-a396-bbd977e128ed",
   "metadata": {},
   "outputs": [],
   "source": [
    "# branches per lobe, are there more labelled branches for some lobes?\n",
    "def real_name(x):\n",
    "    if x == \"-\":\n",
    "        return \"none\"\n",
    "    elif \"unnamed-\" in x:\n",
    "        return \"unnamed-X\"\n",
    "    else: \n",
    "        return \"anatomical_label\"\n",
    "\n",
    "branches_per_lobe_df = df.copy().dropna()\n",
    "branches_per_lobe_df[\"check_anatomicalname\"] = branches_per_lobe_df[\"anatomicalname\"].apply(lambda x: real_name(x))\n",
    "\n",
    "# branches_per_lobe_df[\"realanatomicalname\"] =0\n",
    "# branches_per_lobe_df[ ~(\n",
    "#         (branches_per_lobe_df[\"anatomicalname\"].str.lower().str.contains(\"unnamed\"))| # filter dataframe to only look at normal labels\n",
    "#         (branches_per_lobe_df[\"anatomicalname\"]==\"-\")\n",
    "#     )][\"realanatomicalname\"] = 1\n",
    "# branches_per_lobe_df.sort_values(by=\"realanatomicalname\")\n",
    "per_lobe_analysis = branches_per_lobe_df.groupby(\n",
    "    [\n",
    "        pd.Grouper(\"lobe\"),\n",
    "        pd.Grouper(\"check_anatomicalname\")\n",
    "    ]\n",
    ").agg(\n",
    "    {\n",
    "        \"idno\":\"count\", \n",
    "        \"angle\": \"mean\",\n",
    "        \"centerlinelength\":\"mean\",\n",
    "        \"segmentalgeneration\":\"max\"\n",
    "    })\n",
    "per_lobe_analysis.rename(\n",
    "    {\n",
    "        \"idno\":\"num_segments\",\n",
    "        \"angle\":\"mean_branch_angle\",\n",
    "        \"centerlinelength\":\"mean_branch_length\",\n",
    "        \"segmentalgeneration\":\"max_weibel_generation\"\n",
    "    }, axis=1, inplace=True)\n",
    "print(\"Looking at each lobe and splitting out whether the branch is labelled, has no label or is labeled unnamed-X\")\n",
    "display(per_lobe_analysis)\n",
    "print(\"Aggregating at lobel level\")\n",
    "display(per_lobe_analysis.reset_index().groupby(\"lobe\").agg({\n",
    "    \"num_segments\":\"sum\", \n",
    "    \"max_weibel_generation\":\"max\",\n",
    "\"mean_branch_angle\": [\"mean\", \"std\"],\n",
    "\"mean_branch_length\":  [\"mean\", \"std\"]}).reset_index().sort_values(by=(\"num_segments\", \"sum\"), ascending=True)\n",
    "       )"
   ]
  },
  {
   "cell_type": "markdown",
   "id": "8872ecb5-2b49-42de-9cf6-c4eb899be0f7",
   "metadata": {},
   "source": [
    "### Branch Length Analysis"
   ]
  },
  {
   "cell_type": "code",
   "execution_count": null,
   "id": "089f5206-9e0c-4963-b38e-42f64d798bd0",
   "metadata": {},
   "outputs": [],
   "source": [
    "branch_length_df = df[[\"idno\", \"segmentalgeneration\", \"centerlinelength\"]].copy().groupby(\"segmentalgeneration\").agg({\"centerlinelength\":\"mean\",\n",
    "                                                                                       \"idno\":\"nunique\"}).rename({\"idno\":\"num_patients\", \"centerlinelength\":\"mean_branch_length\"}, axis=1)\n",
    "f, ax= plt.subplots()\n",
    "branch_length_df.reset_index().plot(x=\"segmentalgeneration\", y=\"mean_branch_length\", ax=ax)\n",
    "plt.title(\"Variation in mean branch length with weibel generation\") # NOTE NOT SURE ON UNITS"
   ]
  },
  {
   "cell_type": "code",
   "execution_count": null,
   "id": "cfbc232e-aeed-4230-8070-3f5f3716c2a2",
   "metadata": {},
   "outputs": [],
   "source": [
    "# does this change lobe by lobe?\n",
    "\n",
    "branch_length_per_lobe = df[[\"idno\", \"segmentalgeneration\", \"centerlinelength\", \"lobe\"]].copy().groupby(\n",
    "[\n",
    "    pd.Grouper(\"lobe\"),\n",
    "    pd.Grouper(\"segmentalgeneration\")\n",
    "]).agg({\"centerlinelength\":[\"mean\", \"std\"]}).reset_index()\n",
    "\n",
    "display(branch_length_per_lobe)\n",
    "colours = {\"0\":\"blue\",\n",
    "          \"1\":\"red\",\n",
    "          \"2\": \"green\",\n",
    "          \"3\":\"orange\",\n",
    "          \"4\": \"purple\",\n",
    "          \"5\":\"brown\"}\n",
    "\n",
    "fig,ax = plt.subplots()\n",
    "\n",
    "for name in branch_length_per_lobe.lobe.unique():\n",
    "    ax.errorbar(branch_length_per_lobe[branch_length_per_lobe.lobe==name][\"segmentalgeneration\"],\n",
    "            branch_length_per_lobe[branch_length_per_lobe.lobe==name][(\"centerlinelength\",\"mean\")],\n",
    "            label=name, \n",
    "            yerr=branch_length_per_lobe[branch_length_per_lobe.lobe==name][(\"centerlinelength\",\"std\")],\n",
    "            capsize=3,\n",
    "               elinewidth=1,\n",
    "               color=colours[str(int(name))])\n",
    "\n",
    "ax.set_xlabel(\"segmentalgeneration\")\n",
    "ax.set_ylabel(\"mean_centerlinelength\")\n",
    "ax.legend(loc='best')\n",
    "\n",
    "\n",
    "fig,ax = plt.subplots()\n",
    "\n",
    "for name in [x for x in branch_length_per_lobe.lobe.unique() if x != 0]:\n",
    "    ax.errorbar(branch_length_per_lobe[branch_length_per_lobe.lobe==name][\"segmentalgeneration\"],\n",
    "            branch_length_per_lobe[branch_length_per_lobe.lobe==name][(\"centerlinelength\",\"mean\")],\n",
    "            label=name, \n",
    "            yerr=branch_length_per_lobe[branch_length_per_lobe.lobe==name][(\"centerlinelength\",\"std\")],\n",
    "            capsize=3,\n",
    "            elinewidth=1,\n",
    "            color=colours[str(int(name))]\n",
    "            )\n",
    "\n",
    "ax.set_xlabel(\"weibel_generation\")\n",
    "ax.set_ylabel(\"mean_centerlinelength\")\n",
    "ax.legend(loc='best')\n",
    "ax.set_title(\"Removing the CEN 'lobe'\")"
   ]
  },
  {
   "cell_type": "markdown",
   "id": "95182e8f-9791-4378-811e-0b96ec548f4e",
   "metadata": {},
   "source": [
    "### Angle Analysis"
   ]
  },
  {
   "cell_type": "code",
   "execution_count": null,
   "id": "d56b11b9",
   "metadata": {},
   "outputs": [],
   "source": [
    "# plot major vs minor branching angle, coloured by generation\n",
    "\n",
    "per_bp = df.groupby([pd.Grouper('idno'),pd.Grouper('startbpid')]).agg({\n",
    "    \"angle\":[min, max],\n",
    "    \"generation\": min\n",
    "}).reset_index().dropna()\n",
    "\n",
    "per_bp.columns = ['idno', 'startbpid', 'min_angle', 'max_angle', 'generation']\n",
    "per_bp = per_bp[per_bp.generation <= 13]\n",
    "\n",
    "plt.figure()\n",
    "plt.scatter(per_bp.min_angle, per_bp.max_angle, c=per_bp.generation,cmap='plasma', alpha=1)\n",
    "plt.colorbar(label=\"generation\", orientation=\"horizontal\")\n",
    "plt.xlabel(\"minor branching angle\")\n",
    "plt.ylabel(\"major branching angle\")\n",
    "\n",
    "plt.show()\n",
    "\n",
    "# major-minor angle ratio\n",
    "ratio = per_bp.max_angle / per_bp.min_angle\n",
    "plt.figure()\n",
    "plt.hist(ratio, bins=1000) # removing an outlier w ratio 35\n",
    "plt.xlim(1,5)\n",
    "plt.show()"
   ]
  },
  {
   "cell_type": "code",
   "execution_count": null,
   "id": "5b6fa7ab",
   "metadata": {},
   "outputs": [],
   "source": [
    "theta_ = np.arccos(df.dircosx.values)*180/np.pi\n",
    "phi_ = np.arccos(df.dircosz.values)*180/np.pi\n",
    "\n",
    "gen = df.generation.values\n",
    "angle_df = pd.DataFrame({\"gen\":gen,\"theta\":theta_, \"phi\":phi_})\n",
    "# angle_df.plot(x='gen', y='theta',linestyle='None', marker='o')\n",
    "# plt.show()"
   ]
  },
  {
   "cell_type": "code",
   "execution_count": null,
   "id": "18edd0ec",
   "metadata": {},
   "outputs": [],
   "source": [
    "max_theta = np.max(theta_)\n",
    "min_theta = np.min(theta_)\n",
    "nbins = 20\n",
    "bins = list(range(int(min_theta), int(max_theta)+1, nbins))\n",
    "bins"
   ]
  },
  {
   "cell_type": "code",
   "execution_count": null,
   "id": "ad0e1a2d",
   "metadata": {},
   "outputs": [],
   "source": [
    "num_subplots = int(angle_df.gen.max())\n",
    "f, axs = plt.subplots(int(num_subplots),2, figsize=(20,80))\n",
    "for i in range(num_subplots):\n",
    "    gen = i\n",
    "    print(f\"Num segments in generation {gen}: {len(angle_df.loc[angle_df.gen == gen])}\")\n",
    "    if gen == -1:\n",
    "        print(\"Skipping Gen -1\")\n",
    "        continue\n",
    "    ax = axs[i][0]\n",
    "    ax.hist(angle_df.loc[angle_df.gen == gen].theta, bins=bins)\n",
    "    ax.set_xlabel(f'Generation {gen}')\n",
    "    ax.set_ylabel(f\"Theta\")\n",
    "    ax.set_ylim(0,50000)\n",
    "    ax2 = axs[i][1]\n",
    "    ax2.hist(angle_df.loc[angle_df.gen == gen].phi, bins=bins)\n",
    "    ax2.set_xlabel(f'Generation {gen}')\n",
    "    ax2.set_ylabel(f\"Phi\")\n",
    "    ax2.set_ylim(0,50000)\n"
   ]
  },
  {
   "cell_type": "code",
   "execution_count": null,
   "id": "3926faeb",
   "metadata": {},
   "outputs": [],
   "source": [
    "# min branching angle vs max branching angle\n",
    "df['theta_'] = np.arccos(df.dircosx.values)*180/np.pi\n",
    "df['phi_'] = np.arccos(df.dircosz.values)*180/np.pi\n",
    "\n",
    "gen = df.generation.values\n",
    "angle_df = pd.DataFrame({'idno': df.idno.values,\n",
    "                         \"gen\":gen,\n",
    "                         \"theta\":theta_,\n",
    "                         \"phi\":phi_, \n",
    "                        \"angle\": df.angle.values,\n",
    "                        \"startbpid\": df.startbpid.values,\n",
    "                        'endbpid': df.endbpid.values\n",
    "                        })\n",
    "\n",
    "per_branch_pt = angle_df.loc[(angle_df.startbpid != -1)&(angle_df.gen != -1)].groupby([pd.Grouper('idno'), pd.Grouper('startbpid')]).agg(['min', 'max']).reset_index()"
   ]
  },
  {
   "cell_type": "code",
   "execution_count": null,
   "id": "0832c970",
   "metadata": {},
   "outputs": [],
   "source": [
    "per_branch_pt.columns = [str(a)+\"_\"+str(b) for a,b in per_branch_pt.columns]\n"
   ]
  },
  {
   "cell_type": "code",
   "execution_count": null,
   "id": "dae667e7",
   "metadata": {},
   "outputs": [],
   "source": [
    "per_branch_pt"
   ]
  },
  {
   "cell_type": "code",
   "execution_count": null,
   "id": "29aaa4f8",
   "metadata": {},
   "outputs": [],
   "source": [
    "removing_mismatches = per_branch_pt[~(per_branch_pt.gen_min != per_branch_pt.gen_max)]"
   ]
  },
  {
   "cell_type": "code",
   "execution_count": null,
   "id": "db7372a0",
   "metadata": {},
   "outputs": [],
   "source": [
    "removing_mismatches[\"ratio_theta\"] = removing_mismatches.theta_min/removing_mismatches.theta_max\n",
    "removing_mismatches[\"ratio_phi\"] = removing_mismatches.phi_min/removing_mismatches.phi_max\n",
    "f, axes = plt.subplots(15,1, figsize=(20,100))\n",
    "for i in range(15):\n",
    "    ax = axes[i]\n",
    "    removing_mismatches.loc[removing_mismatches.gen_min == i].hist('ratio_theta', ax=ax)\n",
    "    plt.show()"
   ]
  },
  {
   "cell_type": "code",
   "execution_count": null,
   "id": "1a342220",
   "metadata": {},
   "outputs": [],
   "source": [
    "f, axes = plt.subplots(15,2, figsize=(20,100))\n",
    "for i in range(15):\n",
    "    ax = axes[i][0]\n",
    "    curr_gen = per_branch_pt.loc[per_branch_pt[('gen','min')] == i]\n",
    "    ratio = curr_gen[('theta', 'max')]/curr_gen[('theta', 'min')]\n",
    "    ax.hist(ratio.values)"
   ]
  },
  {
   "cell_type": "markdown",
   "id": "034daead-ac26-4f6b-bab1-f53d613b769a",
   "metadata": {},
   "source": [
    "### Caliber Analysis"
   ]
  },
  {
   "cell_type": "code",
   "execution_count": null,
   "id": "35df96f0-0cb2-4b86-9c70-0fa2b850049d",
   "metadata": {},
   "outputs": [],
   "source": [
    "display(df[df.avginnerarea > 0].avginnerarea.describe())\n",
    "# group by weibel dim then plot the histogram\n",
    "# excluding 3 outliers above 500 CSA --> Question error?\n",
    "df_no_outlier = df[(df.avginnerarea > 0) & (df.avginnerarea < 500)]\n",
    "df_no_outlier[\"log_diameter\"] = np.log(2*np.sqrt(df_no_outlier[\"avginnerarea\"]/np.pi))\n",
    "df_no_outlier.plot(y=\"log_diameter\", x=\"segmentalgeneration\", style=\"x\")"
   ]
  },
  {
   "cell_type": "code",
   "execution_count": null,
   "id": "79eff971-5bdd-4b64-abf7-b3813caab280",
   "metadata": {},
   "outputs": [],
   "source": [
    "np.polyfit(x=df_no_outlier.segmentalgeneration.values, y= df_no_outlier.log_diameter.values, deg=1) # outputs coeff of HIGHEST degree first\n",
    "# not really woking --> could group by person, take avg per person per generation and tyr there maybe less noise?\n",
    "# generate plots on the line\n",
    "\n",
    "\n",
    "# regression = ols(x=df_no_outlier.weibel_generation, y=df_no_outlier.log_diameter)\n",
    "# display(regression.summary) # slicing to only use last 30 points\n",
    "# data = pd.DataFrame(index=x, data={'y': y, 'trend': trend})\n",
    "# data.plot()\n",
    "\n",
    "# df_no_outlier.plot(y=\"log_diameter\", x=\"weibel_generation\", style=\"x\")\n"
   ]
  }
 ],
 "metadata": {
  "kernelspec": {
   "display_name": "Python 3 (ipykernel)",
   "language": "python",
   "name": "python3"
  },
  "language_info": {
   "codemirror_mode": {
    "name": "ipython",
    "version": 3
   },
   "file_extension": ".py",
   "mimetype": "text/x-python",
   "name": "python",
   "nbconvert_exporter": "python",
   "pygments_lexer": "ipython3",
   "version": "3.8.13"
  }
 },
 "nbformat": 4,
 "nbformat_minor": 5
}
