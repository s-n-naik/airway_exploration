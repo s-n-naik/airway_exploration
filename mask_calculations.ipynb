{
 "cells": [
  {
   "cell_type": "code",
   "execution_count": 284,
   "id": "ca295a32",
   "metadata": {},
   "outputs": [],
   "source": [
    "import os\n",
    "import SimpleITK as sitk\n",
    "# ! pip install SimpleITK==1.2.4\n",
    "import matplotlib.pyplot as plt\n",
    "import matplotlib\n",
    "import numpy as np\n",
    "import cv2\n",
    "import pandas as pd\n",
    "from PIL import Image\n",
    "from ipywidgets import interact, fixed\n",
    "from IPython.display import display\n",
    "import scipy\n",
    "import scipy.linalg\n",
    "import numpy as np\n",
    "# import nibabel as nib\n",
    "from mpl_toolkits.mplot3d import Axes3D\n",
    "%matplotlib inline"
   ]
  },
  {
   "cell_type": "markdown",
   "id": "ca69c0d4",
   "metadata": {},
   "source": [
    "### Helper functions (display / intensity) + DF"
   ]
  },
  {
   "cell_type": "code",
   "execution_count": 91,
   "id": "8c0f6e83",
   "metadata": {},
   "outputs": [],
   "source": [
    "def wl_to_lh(window, level):\n",
    "    low = level - window/2\n",
    "    high = level + window/2\n",
    "    return low,high\n",
    "\n",
    "def display_image(img, x=None, y=None, z=None, window=None, level=None):\n",
    "    # Convert SimpleITK image to NumPy array\n",
    "    img_array = sitk.GetArrayFromImage(img)\n",
    "    \n",
    "    # Get image dimensions in millimetres\n",
    "    size = img.GetSize()\n",
    "    spacing = img.GetSpacing()\n",
    "    width  = size[0] * spacing[0]\n",
    "    height = size[1] * spacing[1]\n",
    "    depth  = size[2] * spacing[2]\n",
    "    \n",
    "    if x is None:\n",
    "        x = np.floor(size[0]/2).astype(int)\n",
    "    if y is None:\n",
    "        y = np.floor(size[1]/2).astype(int)\n",
    "    if z is None:\n",
    "        z = np.floor(size[2]/2).astype(int)\n",
    "    \n",
    "    if window is None:\n",
    "        window = np.max(img_array) - np.min(img_array)\n",
    "    \n",
    "    if level is None:\n",
    "        level = window / 2 + np.min(img_array)\n",
    "    \n",
    "    low,high = wl_to_lh(window,level)\n",
    "\n",
    "    # Display the orthogonal slices\n",
    "    fig, (ax1, ax2, ax3) = plt.subplots(1, 3, figsize=(10, 4))\n",
    "\n",
    "    ax1.imshow(img_array[z,:,:], cmap='gray', clim=(low, high), extent=(0, width, height, 0))\n",
    "    ax2.imshow(img_array[:,y,:], origin='lower', cmap='gray', clim=(low, high), extent=(0, width,  0, depth))\n",
    "    ax3.imshow(img_array[:,:,x], origin='lower', cmap='gray', clim=(low, high), extent=(0, height, 0, depth))\n",
    "\n",
    "    # Additionally display crosshairs\n",
    "    ax1.axhline(y * spacing[1], lw=1)\n",
    "    ax1.axvline(x * spacing[0], lw=1)\n",
    "    \n",
    "    ax2.axhline(z * spacing[2], lw=1)\n",
    "    ax2.axvline(x * spacing[0], lw=1)\n",
    "    \n",
    "    ax3.axhline(z * spacing[2], lw=1)\n",
    "    ax3.axvline(y * spacing[1], lw=1)\n",
    "\n",
    "    plt.show()\n",
    "    \n",
    "\n",
    "\n",
    "def interactive_view(img):\n",
    "    size = img.GetSize()\n",
    "    img_array = sitk.GetArrayFromImage(img)\n",
    "    interact(display_image,img=fixed(img),\n",
    "             x=(0, size[0] - 1),\n",
    "             y=(0, size[1] - 1),\n",
    "             z=(0, size[2] - 1),\n",
    "             window=(0,np.max(img_array) - np.min(img_array)),\n",
    "             level=(np.min(img_array),np.max(img_array)))\n",
    "    \n",
    "    \n",
    "def label_overlay(img, seg):\n",
    "    minmax = sitk.MinimumMaximumImageFilter()\n",
    "    minmax.Execute(img)\n",
    "    low, high = minmax.GetMinimum(), minmax.GetMaximum()\n",
    "    img_norm = (img - low) / (high - low)\n",
    "    img_uint8 = sitk.Cast(256 * img_norm, sitk.sitkUInt8)\n",
    "    return sitk.LabelOverlay(img_uint8, seg)\n",
    "\n",
    "def display_overlay(img, seg, *args, **kwargs):\n",
    "    display_image(label_overlay(img, seg), *args, **kwargs)"
   ]
  },
  {
   "cell_type": "code",
   "execution_count": 95,
   "id": "d7f4c2d0",
   "metadata": {},
   "outputs": [],
   "source": [
    "# DATAFRAME HELPER\n",
    "def _get_coords(single_test, start_x=0, start_y=0,start_z=0):\n",
    "    # gets coords of ENDBPID\n",
    "    x_diff= (single_test.centerlinelength*single_test.dircosx).values\n",
    "    y_diff = (single_test.centerlinelength*single_test.dircosy).values\n",
    "    z_diff = (single_test.centerlinelength*single_test.dircosz).values\n",
    "    endbpid = single_test.endbpid.values\n",
    "    startbpid = single_test.startbpid.values\n",
    "    x = np.zeros_like(x_diff)\n",
    "    y = np.zeros_like(x_diff)\n",
    "    z = np.zeros_like(x_diff)\n",
    "    for i in range(len(x_diff)):\n",
    "        if startbpid[i] == -1:\n",
    "            x[i] = x_diff[i] + start_x\n",
    "            y[i] = y_diff[i] + start_y\n",
    "            z[i] = z_diff[i] + start_z\n",
    "        else:\n",
    "            # find parent id\n",
    "            parent = np.where(endbpid == startbpid[i])\n",
    "            x[i] = x_diff[i] + x[parent] \n",
    "            y[i] = y_diff[i] + y[parent] \n",
    "            z[i] = z_diff[i] + z[parent] \n",
    "    # put into dataframe\n",
    "    coords_df = pd.DataFrame({\"x\": x, \"y\": y, \"z\":z})\n",
    "    \n",
    "    return single_test.join(coords_df, how=\"left\")\n"
   ]
  },
  {
   "cell_type": "markdown",
   "id": "23bcb786",
   "metadata": {},
   "source": [
    "### Test data"
   ]
  },
  {
   "cell_type": "code",
   "execution_count": 192,
   "id": "76315e7b",
   "metadata": {},
   "outputs": [],
   "source": [
    "aw_test = \"/DATA/data_MESA/MESA_FL_Ex5_Nifty/AW/3010007_AW.nii.gz\"\n",
    "img_test = \"/DATA/data_MESA/MESA_FL_Ex5_Nifty/IMG/3010007_IMG.nii.gz\"\n",
    "lung_test = \"/DATA/data_MESA/MESA_FL_Ex5_Nifty/LUNG/3010007_LUNG.nii.gz\""
   ]
  },
  {
   "cell_type": "code",
   "execution_count": 193,
   "id": "8c15f063",
   "metadata": {},
   "outputs": [],
   "source": [
    "aw_img = sitk.ReadImage(aw_test)\n",
    "lung_img = sitk.ReadImage(lung_test)\n",
    "img = sitk.ReadImage(img_test)"
   ]
  },
  {
   "cell_type": "code",
   "execution_count": 139,
   "id": "6b41f7a4",
   "metadata": {},
   "outputs": [
    {
     "name": "stderr",
     "output_type": "stream",
     "text": [
      "/home/sneha/miniconda3/envs/my_env/lib/python3.8/site-packages/pandas/core/arraylike.py:397: RuntimeWarning: invalid value encountered in sqrt\n",
      "  result = getattr(ufunc, method)(*inputs, **kwargs)\n",
      "/tmp/ipykernel_30138/846826031.py:5: SettingWithCopyWarning: \n",
      "A value is trying to be set on a copy of a slice from a DataFrame.\n",
      "Try using .loc[row_indexer,col_indexer] = value instead\n",
      "\n",
      "See the caveats in the documentation: https://pandas.pydata.org/pandas-docs/stable/user_guide/indexing.html#returning-a-view-versus-a-copy\n",
      "  tree['radius'] = np.sqrt(tree.avginnerarea.copy()/np.pi)\n",
      "/tmp/ipykernel_30138/846826031.py:6: SettingWithCopyWarning: \n",
      "A value is trying to be set on a copy of a slice from a DataFrame\n",
      "\n",
      "See the caveats in the documentation: https://pandas.pydata.org/pandas-docs/stable/user_guide/indexing.html#returning-a-view-versus-a-copy\n",
      "  tree['radius'].fillna(0, inplace=True)\n",
      "/tmp/ipykernel_30138/846826031.py:7: SettingWithCopyWarning: \n",
      "A value is trying to be set on a copy of a slice from a DataFrame.\n",
      "Try using .loc[row_indexer,col_indexer] = value instead\n",
      "\n",
      "See the caveats in the documentation: https://pandas.pydata.org/pandas-docs/stable/user_guide/indexing.html#returning-a-view-versus-a-copy\n",
      "  tree['radius'] = tree.radius.astype(int)\n"
     ]
    },
    {
     "data": {
      "text/html": [
       "<div>\n",
       "<style scoped>\n",
       "    .dataframe tbody tr th:only-of-type {\n",
       "        vertical-align: middle;\n",
       "    }\n",
       "\n",
       "    .dataframe tbody tr th {\n",
       "        vertical-align: top;\n",
       "    }\n",
       "\n",
       "    .dataframe thead th {\n",
       "        text-align: right;\n",
       "    }\n",
       "</style>\n",
       "<table border=\"1\" class=\"dataframe\">\n",
       "  <thead>\n",
       "    <tr style=\"text-align: right;\">\n",
       "      <th></th>\n",
       "      <th>idno</th>\n",
       "      <th>anatomicalname</th>\n",
       "      <th>centerlinelength</th>\n",
       "      <th>avginnerarea</th>\n",
       "      <th>lobe</th>\n",
       "      <th>sublobe</th>\n",
       "      <th>endbpid</th>\n",
       "      <th>startbpid</th>\n",
       "      <th>angle</th>\n",
       "      <th>dircosx</th>\n",
       "      <th>dircosy</th>\n",
       "      <th>dircosz</th>\n",
       "      <th>weibel_generation</th>\n",
       "      <th>radius</th>\n",
       "    </tr>\n",
       "  </thead>\n",
       "  <tbody>\n",
       "    <tr>\n",
       "      <th>0</th>\n",
       "      <td>3010007</td>\n",
       "      <td>Trachea</td>\n",
       "      <td>104.962000</td>\n",
       "      <td>351.51300</td>\n",
       "      <td>0.0</td>\n",
       "      <td>0.0</td>\n",
       "      <td>1.0</td>\n",
       "      <td>-1.0</td>\n",
       "      <td>NaN</td>\n",
       "      <td>-0.024446</td>\n",
       "      <td>0.229788</td>\n",
       "      <td>0.972934</td>\n",
       "      <td>0</td>\n",
       "      <td>10</td>\n",
       "    </tr>\n",
       "    <tr>\n",
       "      <th>1</th>\n",
       "      <td>3010007</td>\n",
       "      <td>LMB</td>\n",
       "      <td>51.014200</td>\n",
       "      <td>148.68100</td>\n",
       "      <td>0.0</td>\n",
       "      <td>0.0</td>\n",
       "      <td>3.0</td>\n",
       "      <td>1.0</td>\n",
       "      <td>140.0360</td>\n",
       "      <td>0.608512</td>\n",
       "      <td>0.045926</td>\n",
       "      <td>0.792214</td>\n",
       "      <td>1</td>\n",
       "      <td>6</td>\n",
       "    </tr>\n",
       "    <tr>\n",
       "      <th>2</th>\n",
       "      <td>3010007</td>\n",
       "      <td>RMB</td>\n",
       "      <td>25.444200</td>\n",
       "      <td>215.56900</td>\n",
       "      <td>0.0</td>\n",
       "      <td>0.0</td>\n",
       "      <td>2.0</td>\n",
       "      <td>1.0</td>\n",
       "      <td>134.8050</td>\n",
       "      <td>-0.694225</td>\n",
       "      <td>-0.047878</td>\n",
       "      <td>0.718164</td>\n",
       "      <td>1</td>\n",
       "      <td>8</td>\n",
       "    </tr>\n",
       "    <tr>\n",
       "      <th>3</th>\n",
       "      <td>3010007</td>\n",
       "      <td>BronInt</td>\n",
       "      <td>29.831900</td>\n",
       "      <td>111.98300</td>\n",
       "      <td>0.0</td>\n",
       "      <td>0.0</td>\n",
       "      <td>4.0</td>\n",
       "      <td>2.0</td>\n",
       "      <td>160.3120</td>\n",
       "      <td>-0.417837</td>\n",
       "      <td>0.018167</td>\n",
       "      <td>0.908341</td>\n",
       "      <td>2</td>\n",
       "      <td>5</td>\n",
       "    </tr>\n",
       "    <tr>\n",
       "      <th>4</th>\n",
       "      <td>3010007</td>\n",
       "      <td>RUL</td>\n",
       "      <td>16.649400</td>\n",
       "      <td>75.69660</td>\n",
       "      <td>3.0</td>\n",
       "      <td>0.0</td>\n",
       "      <td>5.0</td>\n",
       "      <td>2.0</td>\n",
       "      <td>98.5825</td>\n",
       "      <td>-0.813123</td>\n",
       "      <td>-0.038720</td>\n",
       "      <td>-0.580802</td>\n",
       "      <td>2</td>\n",
       "      <td>4</td>\n",
       "    </tr>\n",
       "    <tr>\n",
       "      <th>...</th>\n",
       "      <td>...</td>\n",
       "      <td>...</td>\n",
       "      <td>...</td>\n",
       "      <td>...</td>\n",
       "      <td>...</td>\n",
       "      <td>...</td>\n",
       "      <td>...</td>\n",
       "      <td>...</td>\n",
       "      <td>...</td>\n",
       "      <td>...</td>\n",
       "      <td>...</td>\n",
       "      <td>...</td>\n",
       "      <td>...</td>\n",
       "      <td>...</td>\n",
       "    </tr>\n",
       "    <tr>\n",
       "      <th>376</th>\n",
       "      <td>3010007</td>\n",
       "      <td>-</td>\n",
       "      <td>1.658150</td>\n",
       "      <td>-1.00000</td>\n",
       "      <td>5.0</td>\n",
       "      <td>18.0</td>\n",
       "      <td>377.0</td>\n",
       "      <td>354.0</td>\n",
       "      <td>101.6280</td>\n",
       "      <td>0.408248</td>\n",
       "      <td>0.816497</td>\n",
       "      <td>0.408248</td>\n",
       "      <td>12</td>\n",
       "      <td>0</td>\n",
       "    </tr>\n",
       "    <tr>\n",
       "      <th>377</th>\n",
       "      <td>3010007</td>\n",
       "      <td>-</td>\n",
       "      <td>14.326200</td>\n",
       "      <td>8.93574</td>\n",
       "      <td>5.0</td>\n",
       "      <td>19.0</td>\n",
       "      <td>379.0</td>\n",
       "      <td>360.0</td>\n",
       "      <td>167.6940</td>\n",
       "      <td>-0.260333</td>\n",
       "      <td>0.260333</td>\n",
       "      <td>0.929760</td>\n",
       "      <td>12</td>\n",
       "      <td>1</td>\n",
       "    </tr>\n",
       "    <tr>\n",
       "      <th>378</th>\n",
       "      <td>3010007</td>\n",
       "      <td>-</td>\n",
       "      <td>14.695600</td>\n",
       "      <td>6.03235</td>\n",
       "      <td>5.0</td>\n",
       "      <td>19.0</td>\n",
       "      <td>378.0</td>\n",
       "      <td>360.0</td>\n",
       "      <td>153.0900</td>\n",
       "      <td>-0.267261</td>\n",
       "      <td>0.801784</td>\n",
       "      <td>0.534522</td>\n",
       "      <td>12</td>\n",
       "      <td>1</td>\n",
       "    </tr>\n",
       "    <tr>\n",
       "      <th>379</th>\n",
       "      <td>3010007</td>\n",
       "      <td>-</td>\n",
       "      <td>0.865964</td>\n",
       "      <td>-1.00000</td>\n",
       "      <td>2.0</td>\n",
       "      <td>9.0</td>\n",
       "      <td>380.0</td>\n",
       "      <td>370.0</td>\n",
       "      <td>180.0000</td>\n",
       "      <td>0.000000</td>\n",
       "      <td>0.707107</td>\n",
       "      <td>0.707107</td>\n",
       "      <td>12</td>\n",
       "      <td>0</td>\n",
       "    </tr>\n",
       "    <tr>\n",
       "      <th>380</th>\n",
       "      <td>3010007</td>\n",
       "      <td>-</td>\n",
       "      <td>1.117940</td>\n",
       "      <td>-1.00000</td>\n",
       "      <td>2.0</td>\n",
       "      <td>9.0</td>\n",
       "      <td>381.0</td>\n",
       "      <td>370.0</td>\n",
       "      <td>90.0000</td>\n",
       "      <td>-0.577350</td>\n",
       "      <td>0.577350</td>\n",
       "      <td>-0.577350</td>\n",
       "      <td>12</td>\n",
       "      <td>0</td>\n",
       "    </tr>\n",
       "  </tbody>\n",
       "</table>\n",
       "<p>381 rows × 14 columns</p>\n",
       "</div>"
      ],
      "text/plain": [
       "        idno anatomicalname  centerlinelength  avginnerarea  lobe  sublobe  \\\n",
       "0    3010007        Trachea        104.962000     351.51300   0.0      0.0   \n",
       "1    3010007            LMB         51.014200     148.68100   0.0      0.0   \n",
       "2    3010007            RMB         25.444200     215.56900   0.0      0.0   \n",
       "3    3010007        BronInt         29.831900     111.98300   0.0      0.0   \n",
       "4    3010007            RUL         16.649400      75.69660   3.0      0.0   \n",
       "..       ...            ...               ...           ...   ...      ...   \n",
       "376  3010007              -          1.658150      -1.00000   5.0     18.0   \n",
       "377  3010007              -         14.326200       8.93574   5.0     19.0   \n",
       "378  3010007              -         14.695600       6.03235   5.0     19.0   \n",
       "379  3010007              -          0.865964      -1.00000   2.0      9.0   \n",
       "380  3010007              -          1.117940      -1.00000   2.0      9.0   \n",
       "\n",
       "     endbpid  startbpid     angle   dircosx   dircosy   dircosz  \\\n",
       "0        1.0       -1.0       NaN -0.024446  0.229788  0.972934   \n",
       "1        3.0        1.0  140.0360  0.608512  0.045926  0.792214   \n",
       "2        2.0        1.0  134.8050 -0.694225 -0.047878  0.718164   \n",
       "3        4.0        2.0  160.3120 -0.417837  0.018167  0.908341   \n",
       "4        5.0        2.0   98.5825 -0.813123 -0.038720 -0.580802   \n",
       "..       ...        ...       ...       ...       ...       ...   \n",
       "376    377.0      354.0  101.6280  0.408248  0.816497  0.408248   \n",
       "377    379.0      360.0  167.6940 -0.260333  0.260333  0.929760   \n",
       "378    378.0      360.0  153.0900 -0.267261  0.801784  0.534522   \n",
       "379    380.0      370.0  180.0000  0.000000  0.707107  0.707107   \n",
       "380    381.0      370.0   90.0000 -0.577350  0.577350 -0.577350   \n",
       "\n",
       "     weibel_generation  radius  \n",
       "0                    0      10  \n",
       "1                    1       6  \n",
       "2                    1       8  \n",
       "3                    2       5  \n",
       "4                    2       4  \n",
       "..                 ...     ...  \n",
       "376                 12       0  \n",
       "377                 12       1  \n",
       "378                 12       1  \n",
       "379                 12       0  \n",
       "380                 12       0  \n",
       "\n",
       "[381 rows x 14 columns]"
      ]
     },
     "metadata": {},
     "output_type": "display_data"
    }
   ],
   "source": [
    "# get the tree data for this participant\n",
    "df = pd.read_csv(os.path.abspath(\"/home/sneha/airway_exploration/e5_cleaned_v1.csv\"))\n",
    "tree = df.loc[df.idno == 3010007]\n",
    "if 'radius' not in tree.columns:\n",
    "    tree['radius'] = np.sqrt(tree.avginnerarea.copy()/np.pi)\n",
    "    tree['radius'].fillna(0, inplace=True)\n",
    "    tree['radius'] = tree.radius.astype(int)\n",
    "display(tree)\n"
   ]
  },
  {
   "cell_type": "code",
   "execution_count": 80,
   "id": "abe3ab1f",
   "metadata": {
    "scrolled": true
   },
   "outputs": [
    {
     "name": "stdout",
     "output_type": "stream",
     "text": [
      "Image (0x5563535d3d60)\n",
      "  RTTI typeinfo:   itk::Image<short, 3u>\n",
      "  Reference Count: 1\n",
      "  Modified Time: 2613\n",
      "  Debug: Off\n",
      "  Object Name: \n",
      "  Observers: \n",
      "    none\n",
      "  Source: (none)\n",
      "  Source output name: (none)\n",
      "  Release Data: Off\n",
      "  Data Released: False\n",
      "  Global Release Data: Off\n",
      "  PipelineMTime: 2592\n",
      "  UpdateMTime: 2612\n",
      "  RealTimeStamp: 0 seconds \n",
      "  LargestPossibleRegion: \n",
      "    Dimension: 3\n",
      "    Index: [0, 0, 0]\n",
      "    Size: [512, 512, 670]\n",
      "  BufferedRegion: \n",
      "    Dimension: 3\n",
      "    Index: [0, 0, 0]\n",
      "    Size: [512, 512, 670]\n",
      "  RequestedRegion: \n",
      "    Dimension: 3\n",
      "    Index: [0, 0, 0]\n",
      "    Size: [512, 512, 670]\n",
      "  Spacing: [1, 1, 1]\n",
      "  Origin: [-1, -1, 1]\n",
      "  Direction: \n",
      "-1 0 0\n",
      "0 -1 0\n",
      "0 0 1\n",
      "\n",
      "  IndexToPointMatrix: \n",
      "-1 0 0\n",
      "0 -1 0\n",
      "0 0 1\n",
      "\n",
      "  PointToIndexMatrix: \n",
      "-1 0 0\n",
      "0 -1 0\n",
      "0 0 1\n",
      "\n",
      "  Inverse Direction: \n",
      "-1 0 0\n",
      "0 -1 0\n",
      "0 0 1\n",
      "\n",
      "  PixelContainer: \n",
      "    ImportImageContainer (0x556356c57e70)\n",
      "      RTTI typeinfo:   itk::ImportImageContainer<unsigned long, short>\n",
      "      Reference Count: 1\n",
      "      Modified Time: 2609\n",
      "      Debug: Off\n",
      "      Object Name: \n",
      "      Observers: \n",
      "        none\n",
      "      Pointer: 0x7fe6f52fc010\n",
      "      Container manages memory: true\n",
      "      Size: 175636480\n",
      "      Capacity: 175636480\n",
      "\n"
     ]
    }
   ],
   "source": [
    "print(img)"
   ]
  },
  {
   "cell_type": "code",
   "execution_count": 126,
   "id": "53d6abcc",
   "metadata": {},
   "outputs": [
    {
     "name": "stdout",
     "output_type": "stream",
     "text": [
      "(1.0, 1.0, 1.0) (512, 512, 670)\n"
     ]
    }
   ],
   "source": [
    "print(img.GetSpacing(), img.GetSize())\n",
    "# each voxel is 1mm, 1mm, 1mm size. The voxel grid is of size 512x512x670"
   ]
  },
  {
   "cell_type": "code",
   "execution_count": 127,
   "id": "ea05da61",
   "metadata": {},
   "outputs": [
    {
     "data": {
      "application/vnd.jupyter.widget-view+json": {
       "model_id": "7592e382ae7d471b80a3975205411850",
       "version_major": 2,
       "version_minor": 0
      },
      "text/plain": [
       "interactive(children=(IntSlider(value=255, description='x', max=511), IntSlider(value=255, description='y', ma…"
      ]
     },
     "metadata": {},
     "output_type": "display_data"
    },
    {
     "data": {
      "application/vnd.jupyter.widget-view+json": {
       "model_id": "36a2fc4eceb947d39cf79c5e3f93f7f0",
       "version_major": 2,
       "version_minor": 0
      },
      "text/plain": [
       "interactive(children=(IntSlider(value=255, description='x', max=511), IntSlider(value=255, description='y', ma…"
      ]
     },
     "metadata": {},
     "output_type": "display_data"
    },
    {
     "data": {
      "application/vnd.jupyter.widget-view+json": {
       "model_id": "03ce93e123534385908671c013f3a3b1",
       "version_major": 2,
       "version_minor": 0
      },
      "text/plain": [
       "interactive(children=(IntSlider(value=255, description='x', max=511), IntSlider(value=255, description='y', ma…"
      ]
     },
     "metadata": {},
     "output_type": "display_data"
    }
   ],
   "source": [
    "interactive_view(lung_img)\n",
    "interactive_view(aw_img)\n",
    "interactive_view(img)\n",
    "\n",
    "# z = 0, x= 256, y = 256 on this image appears to be the top of the trachea\n",
    "# --> can see this by scrolling down z axis from 0--> 670 on aw_img"
   ]
  },
  {
   "cell_type": "markdown",
   "id": "3f2fea94",
   "metadata": {},
   "source": [
    "### Single Slice"
   ]
  },
  {
   "cell_type": "code",
   "execution_count": 128,
   "id": "91245c1b",
   "metadata": {},
   "outputs": [],
   "source": [
    "img_array =  sitk.GetArrayFromImage(aw_img)\n",
    "size = img.GetSize()\n",
    "spacing = img.GetSpacing()\n",
    "\n",
    "width  = size[0] * spacing[0]\n",
    "height = size[1] * spacing[1]\n",
    "depth  = size[2] * spacing[2]"
   ]
  },
  {
   "cell_type": "code",
   "execution_count": 129,
   "id": "519addea",
   "metadata": {},
   "outputs": [
    {
     "data": {
      "text/plain": [
       "<matplotlib.image.AxesImage at 0x7fe7d75c4760>"
      ]
     },
     "execution_count": 129,
     "metadata": {},
     "output_type": "execute_result"
    },
    {
     "data": {
      "image/png": "[encoded data removed]",
      "text/plain": [
       "<Figure size 432x288 with 1 Axes>"
      ]
     },
     "metadata": {
      "needs_background": "light"
     },
     "output_type": "display_data"
    }
   ],
   "source": [
    "# top down\n",
    "plt.imshow(img_array[1,:,:], cmap='gray', extent=(0, width, height, 0))"
   ]
  },
  {
   "cell_type": "code",
   "execution_count": 130,
   "id": "cadaaf7b",
   "metadata": {},
   "outputs": [
    {
     "data": {
      "text/plain": [
       "Text(0, 0.5, 'sum x,y')"
      ]
     },
     "execution_count": 130,
     "metadata": {},
     "output_type": "execute_result"
    },
    {
     "data": {
      "image/png": "[encoded data removed]",
      "text/plain": [
       "<Figure size 432x288 with 1 Axes>"
      ]
     },
     "metadata": {
      "needs_background": "light"
     },
     "output_type": "display_data"
    }
   ],
   "source": [
    "# sum each slice along + plot along z axis\n",
    "plt.plot(np.arange(0, 670), img_array.sum(axis=(1,2)))\n",
    "plt.xlabel('z')\n",
    "plt.ylabel('sum x,y')"
   ]
  },
  {
   "cell_type": "code",
   "execution_count": 210,
   "id": "9492ecc6",
   "metadata": {},
   "outputs": [
    {
     "name": "stdout",
     "output_type": "stream",
     "text": [
      "First non zero slice 1\n"
     ]
    },
    {
     "data": {
      "image/png": "[encoded data removed]",
      "text/plain": [
       "<Figure size 432x288 with 1 Axes>"
      ]
     },
     "metadata": {
      "needs_background": "light"
     },
     "output_type": "display_data"
    },
    {
     "name": "stdout",
     "output_type": "stream",
     "text": [
      "Circle (252, 251) 15\n"
     ]
    },
    {
     "data": {
      "image/png": "[encoded data removed]",
      "text/plain": [
       "<Figure size 432x288 with 1 Axes>"
      ]
     },
     "metadata": {
      "needs_background": "light"
     },
     "output_type": "display_data"
    }
   ],
   "source": [
    "def find_start_point(aw_img):\n",
    "    # function to find trachea\n",
    "    # 1: find first slice with non zero pixels \n",
    "    # sum along z_axis\n",
    "    img_array =  sitk.GetArrayFromImage(aw_img)\n",
    "    size = img.GetSize()\n",
    "    spacing = img.GetSpacing()\n",
    "\n",
    "    width  = size[0] * spacing[0]\n",
    "    height = size[1] * spacing[1]\n",
    "    depth  = size[2] * spacing[2]\n",
    "    z = img_array.sum(axis=(1,2))\n",
    "    loc = np.argmax(z> 0) # index of first non-zero slice\n",
    "    print(\"First non zero slice\", loc)\n",
    "    # get that slice and display it\n",
    "    _slice = img_array[loc,:,:]\n",
    "    cv2_img = _slice\n",
    "\n",
    "    # top down\n",
    "    plt.imshow(cv2_img, cmap='gray')\n",
    "    plt.show()\n",
    "    # find the contours\n",
    "    contours, hierarchy = cv2.findContours(_slice, cv2.RETR_EXTERNAL, cv2.CHAIN_APPROX_SIMPLE)\n",
    "    assert len(contours) == 1, f\"Unexpected number of contours {len(contours)}\"\n",
    "    # Use a list to store the center and radius of the target circles:\n",
    "    # cv2.imshow('Circles', _slice)\n",
    "    # Look for the outer contours:\n",
    "    for i, c in enumerate(contours):\n",
    "        # Approximate the contour to a circle:\n",
    "        (x, y), radius = cv2.minEnclosingCircle(c)\n",
    "        # Compute the center and radius:\n",
    "        center = (int(x), int(y))\n",
    "        radius = int(radius)\n",
    "        print(\"Circle\",center,radius)\n",
    "    #     # Draw the circles:\n",
    "        cv2.circle(cv2_img, center, radius, (255, 0, 0), -1)\n",
    "        plt.imshow(cv2_img)\n",
    "    return center, loc\n",
    "(startx, starty), startz = find_start_point(aw_img)"
   ]
  },
  {
   "cell_type": "code",
   "execution_count": 162,
   "id": "236b65a0",
   "metadata": {},
   "outputs": [
    {
     "data": {
      "text/html": [
       "<div>\n",
       "<style scoped>\n",
       "    .dataframe tbody tr th:only-of-type {\n",
       "        vertical-align: middle;\n",
       "    }\n",
       "\n",
       "    .dataframe tbody tr th {\n",
       "        vertical-align: top;\n",
       "    }\n",
       "\n",
       "    .dataframe thead th {\n",
       "        text-align: right;\n",
       "    }\n",
       "</style>\n",
       "<table border=\"1\" class=\"dataframe\">\n",
       "  <thead>\n",
       "    <tr style=\"text-align: right;\">\n",
       "      <th></th>\n",
       "      <th>idno</th>\n",
       "      <th>anatomicalname</th>\n",
       "      <th>centerlinelength</th>\n",
       "      <th>avginnerarea</th>\n",
       "      <th>lobe</th>\n",
       "      <th>sublobe</th>\n",
       "      <th>endbpid</th>\n",
       "      <th>startbpid</th>\n",
       "      <th>angle</th>\n",
       "      <th>dircosx</th>\n",
       "      <th>dircosy</th>\n",
       "      <th>dircosz</th>\n",
       "      <th>weibel_generation</th>\n",
       "      <th>radius</th>\n",
       "      <th>x</th>\n",
       "      <th>y</th>\n",
       "      <th>z</th>\n",
       "    </tr>\n",
       "  </thead>\n",
       "  <tbody>\n",
       "    <tr>\n",
       "      <th>0</th>\n",
       "      <td>3010007</td>\n",
       "      <td>Trachea</td>\n",
       "      <td>104.962000</td>\n",
       "      <td>351.51300</td>\n",
       "      <td>0.0</td>\n",
       "      <td>0.0</td>\n",
       "      <td>1.0</td>\n",
       "      <td>-1.0</td>\n",
       "      <td>NaN</td>\n",
       "      <td>-0.024446</td>\n",
       "      <td>0.229788</td>\n",
       "      <td>0.972934</td>\n",
       "      <td>0</td>\n",
       "      <td>10</td>\n",
       "      <td>249</td>\n",
       "      <td>275</td>\n",
       "      <td>103</td>\n",
       "    </tr>\n",
       "    <tr>\n",
       "      <th>1</th>\n",
       "      <td>3010007</td>\n",
       "      <td>LMB</td>\n",
       "      <td>51.014200</td>\n",
       "      <td>148.68100</td>\n",
       "      <td>0.0</td>\n",
       "      <td>0.0</td>\n",
       "      <td>3.0</td>\n",
       "      <td>1.0</td>\n",
       "      <td>140.0360</td>\n",
       "      <td>0.608512</td>\n",
       "      <td>0.045926</td>\n",
       "      <td>0.792214</td>\n",
       "      <td>1</td>\n",
       "      <td>6</td>\n",
       "      <td>280</td>\n",
       "      <td>277</td>\n",
       "      <td>143</td>\n",
       "    </tr>\n",
       "    <tr>\n",
       "      <th>2</th>\n",
       "      <td>3010007</td>\n",
       "      <td>RMB</td>\n",
       "      <td>25.444200</td>\n",
       "      <td>215.56900</td>\n",
       "      <td>0.0</td>\n",
       "      <td>0.0</td>\n",
       "      <td>2.0</td>\n",
       "      <td>1.0</td>\n",
       "      <td>134.8050</td>\n",
       "      <td>-0.694225</td>\n",
       "      <td>-0.047878</td>\n",
       "      <td>0.718164</td>\n",
       "      <td>1</td>\n",
       "      <td>8</td>\n",
       "      <td>231</td>\n",
       "      <td>273</td>\n",
       "      <td>121</td>\n",
       "    </tr>\n",
       "    <tr>\n",
       "      <th>3</th>\n",
       "      <td>3010007</td>\n",
       "      <td>BronInt</td>\n",
       "      <td>29.831900</td>\n",
       "      <td>111.98300</td>\n",
       "      <td>0.0</td>\n",
       "      <td>0.0</td>\n",
       "      <td>4.0</td>\n",
       "      <td>2.0</td>\n",
       "      <td>160.3120</td>\n",
       "      <td>-0.417837</td>\n",
       "      <td>0.018167</td>\n",
       "      <td>0.908341</td>\n",
       "      <td>2</td>\n",
       "      <td>5</td>\n",
       "      <td>219</td>\n",
       "      <td>274</td>\n",
       "      <td>148</td>\n",
       "    </tr>\n",
       "    <tr>\n",
       "      <th>4</th>\n",
       "      <td>3010007</td>\n",
       "      <td>RUL</td>\n",
       "      <td>16.649400</td>\n",
       "      <td>75.69660</td>\n",
       "      <td>3.0</td>\n",
       "      <td>0.0</td>\n",
       "      <td>5.0</td>\n",
       "      <td>2.0</td>\n",
       "      <td>98.5825</td>\n",
       "      <td>-0.813123</td>\n",
       "      <td>-0.038720</td>\n",
       "      <td>-0.580802</td>\n",
       "      <td>2</td>\n",
       "      <td>4</td>\n",
       "      <td>218</td>\n",
       "      <td>273</td>\n",
       "      <td>111</td>\n",
       "    </tr>\n",
       "    <tr>\n",
       "      <th>...</th>\n",
       "      <td>...</td>\n",
       "      <td>...</td>\n",
       "      <td>...</td>\n",
       "      <td>...</td>\n",
       "      <td>...</td>\n",
       "      <td>...</td>\n",
       "      <td>...</td>\n",
       "      <td>...</td>\n",
       "      <td>...</td>\n",
       "      <td>...</td>\n",
       "      <td>...</td>\n",
       "      <td>...</td>\n",
       "      <td>...</td>\n",
       "      <td>...</td>\n",
       "      <td>...</td>\n",
       "      <td>...</td>\n",
       "      <td>...</td>\n",
       "    </tr>\n",
       "    <tr>\n",
       "      <th>376</th>\n",
       "      <td>3010007</td>\n",
       "      <td>-</td>\n",
       "      <td>1.658150</td>\n",
       "      <td>-1.00000</td>\n",
       "      <td>5.0</td>\n",
       "      <td>18.0</td>\n",
       "      <td>377.0</td>\n",
       "      <td>354.0</td>\n",
       "      <td>101.6280</td>\n",
       "      <td>0.408248</td>\n",
       "      <td>0.816497</td>\n",
       "      <td>0.408248</td>\n",
       "      <td>12</td>\n",
       "      <td>0</td>\n",
       "      <td>173</td>\n",
       "      <td>286</td>\n",
       "      <td>240</td>\n",
       "    </tr>\n",
       "    <tr>\n",
       "      <th>377</th>\n",
       "      <td>3010007</td>\n",
       "      <td>-</td>\n",
       "      <td>14.326200</td>\n",
       "      <td>8.93574</td>\n",
       "      <td>5.0</td>\n",
       "      <td>19.0</td>\n",
       "      <td>379.0</td>\n",
       "      <td>360.0</td>\n",
       "      <td>167.6940</td>\n",
       "      <td>-0.260333</td>\n",
       "      <td>0.260333</td>\n",
       "      <td>0.929760</td>\n",
       "      <td>12</td>\n",
       "      <td>1</td>\n",
       "      <td>200</td>\n",
       "      <td>313</td>\n",
       "      <td>270</td>\n",
       "    </tr>\n",
       "    <tr>\n",
       "      <th>378</th>\n",
       "      <td>3010007</td>\n",
       "      <td>-</td>\n",
       "      <td>14.695600</td>\n",
       "      <td>6.03235</td>\n",
       "      <td>5.0</td>\n",
       "      <td>19.0</td>\n",
       "      <td>378.0</td>\n",
       "      <td>360.0</td>\n",
       "      <td>153.0900</td>\n",
       "      <td>-0.267261</td>\n",
       "      <td>0.801784</td>\n",
       "      <td>0.534522</td>\n",
       "      <td>12</td>\n",
       "      <td>1</td>\n",
       "      <td>200</td>\n",
       "      <td>321</td>\n",
       "      <td>265</td>\n",
       "    </tr>\n",
       "    <tr>\n",
       "      <th>379</th>\n",
       "      <td>3010007</td>\n",
       "      <td>-</td>\n",
       "      <td>0.865964</td>\n",
       "      <td>-1.00000</td>\n",
       "      <td>2.0</td>\n",
       "      <td>9.0</td>\n",
       "      <td>380.0</td>\n",
       "      <td>370.0</td>\n",
       "      <td>180.0000</td>\n",
       "      <td>0.000000</td>\n",
       "      <td>0.707107</td>\n",
       "      <td>0.707107</td>\n",
       "      <td>12</td>\n",
       "      <td>0</td>\n",
       "      <td>306</td>\n",
       "      <td>306</td>\n",
       "      <td>257</td>\n",
       "    </tr>\n",
       "    <tr>\n",
       "      <th>380</th>\n",
       "      <td>3010007</td>\n",
       "      <td>-</td>\n",
       "      <td>1.117940</td>\n",
       "      <td>-1.00000</td>\n",
       "      <td>2.0</td>\n",
       "      <td>9.0</td>\n",
       "      <td>381.0</td>\n",
       "      <td>370.0</td>\n",
       "      <td>90.0000</td>\n",
       "      <td>-0.577350</td>\n",
       "      <td>0.577350</td>\n",
       "      <td>-0.577350</td>\n",
       "      <td>12</td>\n",
       "      <td>0</td>\n",
       "      <td>306</td>\n",
       "      <td>306</td>\n",
       "      <td>255</td>\n",
       "    </tr>\n",
       "  </tbody>\n",
       "</table>\n",
       "<p>381 rows × 17 columns</p>\n",
       "</div>"
      ],
      "text/plain": [
       "        idno anatomicalname  centerlinelength  avginnerarea  lobe  sublobe  \\\n",
       "0    3010007        Trachea        104.962000     351.51300   0.0      0.0   \n",
       "1    3010007            LMB         51.014200     148.68100   0.0      0.0   \n",
       "2    3010007            RMB         25.444200     215.56900   0.0      0.0   \n",
       "3    3010007        BronInt         29.831900     111.98300   0.0      0.0   \n",
       "4    3010007            RUL         16.649400      75.69660   3.0      0.0   \n",
       "..       ...            ...               ...           ...   ...      ...   \n",
       "376  3010007              -          1.658150      -1.00000   5.0     18.0   \n",
       "377  3010007              -         14.326200       8.93574   5.0     19.0   \n",
       "378  3010007              -         14.695600       6.03235   5.0     19.0   \n",
       "379  3010007              -          0.865964      -1.00000   2.0      9.0   \n",
       "380  3010007              -          1.117940      -1.00000   2.0      9.0   \n",
       "\n",
       "     endbpid  startbpid     angle   dircosx   dircosy   dircosz  \\\n",
       "0        1.0       -1.0       NaN -0.024446  0.229788  0.972934   \n",
       "1        3.0        1.0  140.0360  0.608512  0.045926  0.792214   \n",
       "2        2.0        1.0  134.8050 -0.694225 -0.047878  0.718164   \n",
       "3        4.0        2.0  160.3120 -0.417837  0.018167  0.908341   \n",
       "4        5.0        2.0   98.5825 -0.813123 -0.038720 -0.580802   \n",
       "..       ...        ...       ...       ...       ...       ...   \n",
       "376    377.0      354.0  101.6280  0.408248  0.816497  0.408248   \n",
       "377    379.0      360.0  167.6940 -0.260333  0.260333  0.929760   \n",
       "378    378.0      360.0  153.0900 -0.267261  0.801784  0.534522   \n",
       "379    380.0      370.0  180.0000  0.000000  0.707107  0.707107   \n",
       "380    381.0      370.0   90.0000 -0.577350  0.577350 -0.577350   \n",
       "\n",
       "     weibel_generation  radius    x    y    z  \n",
       "0                    0      10  249  275  103  \n",
       "1                    1       6  280  277  143  \n",
       "2                    1       8  231  273  121  \n",
       "3                    2       5  219  274  148  \n",
       "4                    2       4  218  273  111  \n",
       "..                 ...     ...  ...  ...  ...  \n",
       "376                 12       0  173  286  240  \n",
       "377                 12       1  200  313  270  \n",
       "378                 12       1  200  321  265  \n",
       "379                 12       0  306  306  257  \n",
       "380                 12       0  306  306  255  \n",
       "\n",
       "[381 rows x 17 columns]"
      ]
     },
     "execution_count": 162,
     "metadata": {},
     "output_type": "execute_result"
    }
   ],
   "source": [
    "tree_w_coords = _get_coords(tree, start_x=startx, start_y=starty, start_z=startz)\n",
    "tree_w_coords[['x', 'y', 'z']] = tree_w_coords[['x', 'y', 'z']].astype(int)\n",
    "tree_w_coords"
   ]
  },
  {
   "cell_type": "code",
   "execution_count": 235,
   "id": "6430291d",
   "metadata": {},
   "outputs": [
    {
     "ename": "ValueError",
     "evalue": "All dimensions of input must be of equal length",
     "output_type": "error",
     "traceback": [
      "\u001b[0;31m---------------------------------------------------------------------------\u001b[0m",
      "\u001b[0;31mValueError\u001b[0m                                Traceback (most recent call last)",
      "Input \u001b[0;32mIn [235]\u001b[0m, in \u001b[0;36m<cell line: 5>\u001b[0;34m()\u001b[0m\n\u001b[1;32m      3\u001b[0m start\u001b[38;5;241m=\u001b[39m np\u001b[38;5;241m.\u001b[39marray([startz, startx, starty])\n\u001b[1;32m      4\u001b[0m end\u001b[38;5;241m=\u001b[39m tree_w_coords\u001b[38;5;241m.\u001b[39mloc[tree_w_coords\u001b[38;5;241m.\u001b[39mendbpid \u001b[38;5;241m==\u001b[39m \u001b[38;5;241m1\u001b[39m][[\u001b[38;5;124m'\u001b[39m\u001b[38;5;124mz\u001b[39m\u001b[38;5;124m'\u001b[39m,\u001b[38;5;124m'\u001b[39m\u001b[38;5;124mx\u001b[39m\u001b[38;5;124m'\u001b[39m, \u001b[38;5;124m'\u001b[39m\u001b[38;5;124my\u001b[39m\u001b[38;5;124m'\u001b[39m]]\u001b[38;5;241m.\u001b[39mvalues\u001b[38;5;241m.\u001b[39msqueeze()\n\u001b[0;32m----> 5\u001b[0m \u001b[43mnp\u001b[49m\u001b[38;5;241;43m.\u001b[39;49m\u001b[43mfill_diagonal\u001b[49m\u001b[43m(\u001b[49m\u001b[43mbranch_points\u001b[49m\u001b[43m[\u001b[49m\u001b[43mstart\u001b[49m\u001b[43m[\u001b[49m\u001b[38;5;241;43m0\u001b[39;49m\u001b[43m]\u001b[49m\u001b[43m:\u001b[49m\u001b[43mend\u001b[49m\u001b[43m[\u001b[49m\u001b[38;5;241;43m0\u001b[39;49m\u001b[43m]\u001b[49m\u001b[38;5;241;43m+\u001b[39;49m\u001b[38;5;241;43m1\u001b[39;49m\u001b[43m,\u001b[49m\u001b[43m \u001b[49m\u001b[43mstart\u001b[49m\u001b[43m[\u001b[49m\u001b[38;5;241;43m1\u001b[39;49m\u001b[43m]\u001b[49m\u001b[43m:\u001b[49m\u001b[43mend\u001b[49m\u001b[43m[\u001b[49m\u001b[38;5;241;43m1\u001b[39;49m\u001b[43m]\u001b[49m\u001b[38;5;241;43m+\u001b[39;49m\u001b[38;5;241;43m1\u001b[39;49m\u001b[43m,\u001b[49m\u001b[43m \u001b[49m\u001b[43mstart\u001b[49m\u001b[43m[\u001b[49m\u001b[38;5;241;43m2\u001b[39;49m\u001b[43m]\u001b[49m\u001b[43m:\u001b[49m\u001b[43mend\u001b[49m\u001b[43m[\u001b[49m\u001b[38;5;241;43m2\u001b[39;49m\u001b[43m]\u001b[49m\u001b[38;5;241;43m+\u001b[39;49m\u001b[38;5;241;43m1\u001b[39;49m\u001b[43m]\u001b[49m\u001b[43m,\u001b[49m\u001b[43m \u001b[49m\u001b[38;5;241;43m255\u001b[39;49m\u001b[43m)\u001b[49m\n",
      "File \u001b[0;32m<__array_function__ internals>:180\u001b[0m, in \u001b[0;36mfill_diagonal\u001b[0;34m(*args, **kwargs)\u001b[0m\n",
      "File \u001b[0;32m~/miniconda3/envs/my_env/lib/python3.8/site-packages/numpy/lib/index_tricks.py:906\u001b[0m, in \u001b[0;36mfill_diagonal\u001b[0;34m(a, val, wrap)\u001b[0m\n\u001b[1;32m    902\u001b[0m \u001b[38;5;28;01melse\u001b[39;00m:\n\u001b[1;32m    903\u001b[0m     \u001b[38;5;66;03m# For more than d=2, the strided formula is only valid for arrays with\u001b[39;00m\n\u001b[1;32m    904\u001b[0m     \u001b[38;5;66;03m# all dimensions equal, so we check first.\u001b[39;00m\n\u001b[1;32m    905\u001b[0m     \u001b[38;5;28;01mif\u001b[39;00m \u001b[38;5;129;01mnot\u001b[39;00m alltrue(diff(a\u001b[38;5;241m.\u001b[39mshape) \u001b[38;5;241m==\u001b[39m \u001b[38;5;241m0\u001b[39m):\n\u001b[0;32m--> 906\u001b[0m         \u001b[38;5;28;01mraise\u001b[39;00m \u001b[38;5;167;01mValueError\u001b[39;00m(\u001b[38;5;124m\"\u001b[39m\u001b[38;5;124mAll dimensions of input must be of equal length\u001b[39m\u001b[38;5;124m\"\u001b[39m)\n\u001b[1;32m    907\u001b[0m     step \u001b[38;5;241m=\u001b[39m \u001b[38;5;241m1\u001b[39m \u001b[38;5;241m+\u001b[39m (cumprod(a\u001b[38;5;241m.\u001b[39mshape[:\u001b[38;5;241m-\u001b[39m\u001b[38;5;241m1\u001b[39m]))\u001b[38;5;241m.\u001b[39msum()\n\u001b[1;32m    909\u001b[0m \u001b[38;5;66;03m# Write the value out into the diagonal.\u001b[39;00m\n",
      "\u001b[0;31mValueError\u001b[0m: All dimensions of input must be of equal length"
     ]
    }
   ],
   "source": [
    "branch_points = np.zeros_like(img_array)\n",
    "# trachea\n",
    "\n",
    "np.fill_diagonal(branch_points[start[0]:end[0]+1, start[1]:end[1]+1, start[2]:end[2]+1], 255)"
   ]
  },
  {
   "cell_type": "code",
   "execution_count": 310,
   "id": "6444e5b7",
   "metadata": {},
   "outputs": [
    {
     "name": "stdout",
     "output_type": "stream",
     "text": [
      "(670, 512, 512)\n",
      "[  1 252 251] [103 249 275]\n"
     ]
    },
    {
     "data": {
      "image/png": "[encoded data removed]",
      "text/plain": [
       "<Figure size 432x288 with 1 Axes>"
      ]
     },
     "metadata": {
      "needs_background": "light"
     },
     "output_type": "display_data"
    },
    {
     "name": "stdout",
     "output_type": "stream",
     "text": [
      "(10000, 3)\n"
     ]
    },
    {
     "data": {
      "application/vnd.jupyter.widget-view+json": {
       "model_id": "dc2f80a28a4b4aceabb9ad36cfcff978",
       "version_major": 2,
       "version_minor": 0
      },
      "text/plain": [
       "interactive(children=(IntSlider(value=255, description='x', max=511), IntSlider(value=255, description='y', ma…"
      ]
     },
     "metadata": {},
     "output_type": "display_data"
    }
   ],
   "source": [
    "\n",
    "\n",
    "# defining mask\n",
    "image = np.zeros(shape=img_array.shape)\n",
    "print(image.shape)\n",
    "start= np.array([startz, startx, starty])\n",
    "end= tree_w_coords.loc[tree_w_coords.endbpid == 1][['z','x', 'y']].values.squeeze()\n",
    "print(start, end)\n",
    "# set radius and centres values\n",
    "r = 50\n",
    "# start = [30, 45, 60]\n",
    "# end = [40, 58, 70]\n",
    "p1 = np.array(start)\n",
    "p2 = np.array(end)\n",
    "\n",
    "# # calculate p2-p1 distance\n",
    "# dx = p2[0] - p1[0]\n",
    "# dy = p2[1] - p1[1]\n",
    "# dz = p2[2] - p1[2]\n",
    "# dist = math.sqrt(dx**2 + dy**2 + dz**2)\n",
    "\n",
    "# vector in direction of axis\n",
    "v = p2 - p1\n",
    "# find magnitude of vector\n",
    "mag = scipy.linalg.norm(v)\n",
    "# unit vector in direction of axis\n",
    "v = v / mag\n",
    "# make some vector not in the same direction as v\n",
    "not_v = np.array([1, 0, 0])\n",
    "if (v == not_v).all():\n",
    "    not_v = np.array([0, 1, 0])\n",
    "# make vector perpendicular to v\n",
    "n1 = np.cross(v, not_v)\n",
    "# normalize n1\n",
    "n1 /= scipy.linalg.norm(n1)\n",
    "# make unit vector perpendicular to v and n1\n",
    "n2 = np.cross(v, n1)\n",
    "#surface ranges over t from 0 to length of axis and 0 to 2*pi\n",
    "t = np.linspace(0, mag, 100)\n",
    "theta = np.linspace(0, 2 * np.pi, 100)\n",
    "rsample = np.linspace(0, r, 2)\n",
    "\n",
    "#use meshgrid to make 2d arrays\n",
    "t, theta2 = np.meshgrid(t, theta)\n",
    "rsample, theta = np.meshgrid(rsample, theta)\n",
    "\n",
    "# generate coordinates for surface\n",
    "# \"Tube\"\n",
    "X, Y, Z = [p1[i] + v[i] * t + r * np.sin(theta2) * n1[i] + r * np.cos(theta2) * n2[i] for i in [0, 1, 2]]\n",
    "# \"Bottom\"\n",
    "X2, Y2, Z2 = [p1[i] + rsample[i] * np.sin(theta) * n1[i] + rsample[i] * np.cos(theta) * n2[i] for i in [0, 1, 2]]\n",
    "# \"Top\"\n",
    "X3, Y3, Z3 = [p1[i] + v[i] * mag + rsample[i] * np.sin(theta) * n1[i] + rsample[i] * np.cos(theta) * n2[i] for i in [0, 1, 2]]\n",
    "\n",
    "fig = plt.figure()\n",
    "ax = fig.add_subplot(111, projection='3d')\n",
    "ax.plot_surface(X, Y, Z)\n",
    "ax.plot_surface(X2, Y2, Z2)\n",
    "ax.plot_surface(X3, Y3, Z3)\n",
    "\n",
    "plt.show()\n",
    "\n",
    "tube = np.stack((X.ravel(), Y.ravel(), Z.ravel()), axis=1)\n",
    "face1 = np.stack((X2.ravel(), Y2.ravel(), Z2.ravel()), axis=1)\n",
    "face2 = np.stack((X3.ravel(), Y3.ravel(), Z3.ravel()), axis=1)\n",
    "print(tube.shape)\n",
    "# filling numpy mask\n",
    "image = np.zeros(shape=img_array.shape)\n",
    "for i in range(len(tube)):\n",
    "    image[int(tube[i][0]), int(tube[i][1]), int(tube[i][2])] = 1\n",
    "\n",
    "for j in range(len(face1)):\n",
    "    image[int(face1[j][0]), int(face1[j][1]), int(face1[j][2])] = 255\n",
    "\n",
    "for k in range(len(face2)):\n",
    "    image[int(face2[k][0]), int(face2[k][1]), int(face2[k][2])] = 255\n",
    "    \n",
    "def fill_convex(arr):\n",
    "    for i in range(arr.shape[0]):\n",
    "        for j in range(arr.shape[1]):\n",
    "            mask = slice(None), slice(i, i + 1), slice(j, j + 1)\n",
    "#             print(\"mask\",mask)\n",
    "            line = arr[mask]\n",
    "            k = np.where(line > 0)[0]\n",
    "            if len(k):\n",
    "                start, stop = np.min(k), np.max(k)\n",
    "                line[start:stop] = 1\n",
    "    return arr\n",
    "\n",
    "image =fill_convex(image)\n",
    "    \n",
    "interactive_view(sitk.GetImageFromArray(image))"
   ]
  },
  {
   "cell_type": "code",
   "execution_count": 271,
   "id": "2e4c192d",
   "metadata": {},
   "outputs": [
    {
     "ename": "IndexError",
     "evalue": "shape mismatch: indexing arrays could not be broadcast together with shapes (6,) (5,) (5,) ",
     "output_type": "error",
     "traceback": [
      "\u001b[0;31m---------------------------------------------------------------------------\u001b[0m",
      "\u001b[0;31mIndexError\u001b[0m                                Traceback (most recent call last)",
      "Input \u001b[0;32mIn [271]\u001b[0m, in \u001b[0;36m<cell line: 10>\u001b[0;34m()\u001b[0m\n\u001b[1;32m      7\u001b[0m yrange \u001b[38;5;241m=\u001b[39m np\u001b[38;5;241m.\u001b[39marange(\u001b[38;5;28mmin\u001b[39m(\u001b[38;5;241m0\u001b[39m,\u001b[38;5;28mmin\u001b[39m(start[\u001b[38;5;241m1\u001b[39m],end[\u001b[38;5;241m1\u001b[39m]\u001b[38;5;241m-\u001b[39mr)),\u001b[38;5;28mmax\u001b[39m(bps\u001b[38;5;241m.\u001b[39mshape[\u001b[38;5;241m1\u001b[39m], \u001b[38;5;28mmax\u001b[39m(start[\u001b[38;5;241m1\u001b[39m], end[\u001b[38;5;241m1\u001b[39m])\u001b[38;5;241m+\u001b[39m r ))\n\u001b[1;32m      8\u001b[0m zrange \u001b[38;5;241m=\u001b[39m np\u001b[38;5;241m.\u001b[39marange(\u001b[38;5;28mmin\u001b[39m(\u001b[38;5;241m0\u001b[39m,\u001b[38;5;28mmin\u001b[39m(start[\u001b[38;5;241m2\u001b[39m],end[\u001b[38;5;241m2\u001b[39m])),\u001b[38;5;28mmax\u001b[39m(bps\u001b[38;5;241m.\u001b[39mshape[\u001b[38;5;241m2\u001b[39m], \u001b[38;5;28mmax\u001b[39m(start[\u001b[38;5;241m2\u001b[39m], end[\u001b[38;5;241m2\u001b[39m])))\n\u001b[0;32m---> 10\u001b[0m bps[xrange,yrange,zrange]\u001b[38;5;241m=\u001b[39m\u001b[38;5;241m1\u001b[39m\n\u001b[1;32m     12\u001b[0m bps\n",
      "\u001b[0;31mIndexError\u001b[0m: shape mismatch: indexing arrays could not be broadcast together with shapes (6,) (5,) (5,) "
     ]
    }
   ],
   "source": [
    "bps = np.zeros([5,5,5])\n",
    "bps[np.where(bps == 0)]=1\n",
    "start = (1,1,1)\n",
    "end = (4,3,5)\n",
    "r = 2\n",
    "xrange = np.arange(min(0,min(start[0],end[0]-r)),max(bps.shape[0], max(start[0], end[0])+ r ))\n",
    "yrange = np.arange(min(0,min(start[1],end[1]-r)),max(bps.shape[1], max(start[1], end[1])+ r ))\n",
    "zrange = np.arange(min(0,min(start[2],end[2])),max(bps.shape[2], max(start[2], end[2])))\n",
    "\n",
    "bps[xrange,yrange,zrange]=1\n",
    "\n",
    "bps\n"
   ]
  },
  {
   "cell_type": "code",
   "execution_count": 325,
   "id": "dccc57aa",
   "metadata": {},
   "outputs": [
    {
     "name": "stdout",
     "output_type": "stream",
     "text": [
      "z    103\n",
      "x    249\n",
      "y    275\n",
      "Name: 0, dtype: object\n",
      "(-1.0, 0.0, 0.0, 0.0, -1.0, 0.0, 0.0, 0.0, 1.0) (-1.0, 0.0, 0.0, 0.0, -1.0, 0.0, 0.0, 0.0, 1.0)\n"
     ]
    },
    {
     "data": {
      "application/vnd.jupyter.widget-view+json": {
       "model_id": "7c0245a6f86844409e1ad41b9962693a",
       "version_major": 2,
       "version_minor": 0
      },
      "text/plain": [
       "interactive(children=(IntSlider(value=255, description='x', max=511), IntSlider(value=255, description='y', ma…"
      ]
     },
     "metadata": {},
     "output_type": "display_data"
    }
   ],
   "source": [
    "# convert into numpy array\n",
    "branch_points = np.zeros_like(img_array)\n",
    "print(tree_w_coords.iloc[0][['z','x','y']])\n",
    "branch_points[(tree_w_coords.z.values, tree_w_coords.x.values,tree_w_coords.y.values)]=255\n",
    "bp_img = sitk.GetImageFromArray(branch_points)\n",
    "bp_img.SetOrigin(aw_img.GetOrigin())\n",
    "bp_img.SetDirection(aw_img.GetDirection())\n",
    "print(bp_img.GetDirection(), aw_img.GetDirection())\n",
    "interactive_view(label_overlay(aw_img, bp_img))"
   ]
  },
  {
   "cell_type": "code",
   "execution_count": 338,
   "id": "59263d7e",
   "metadata": {},
   "outputs": [
    {
     "name": "stdout",
     "output_type": "stream",
     "text": [
      "[ 49  51  57  59  62  64  65  69  72  73  74  75  76  77  79  80  81  84\n",
      "  85  86  87  88  89  90  91  92  93  94  95  96  97  98  99 100 101 102\n",
      " 103 105 106 107 108 109 110 111 113 114 115 116 117 118 119 120 121 122\n",
      " 123 124 125 126 127 128 130 131 132 133 134 136 137 138 142 143 144 145\n",
      " 146 147 148 149 150 151 152 153 154 155 156 158 159 160 161 162 163 164\n",
      " 165 166 167 168 170 171 172 173 174 175 176 178 179 180 181 182 183 184\n",
      " 185 186 187 189 190 191 192 193 194 195 196 198 199 200 201 202 203 204\n",
      " 205 206 207 208 209 210 211 213 214 215 216 219 220 221 222 224 227 228\n",
      " 229 230 231 233 235 236 238 240 241 242 243 244 246 251 252 253 254 255\n",
      " 256 257 258 261 265 270 281]\n"
     ]
    },
    {
     "data": {
      "text/plain": [
       "idno                  3010007\n",
       "anatomicalname        Trachea\n",
       "centerlinelength      104.962\n",
       "avginnerarea          351.513\n",
       "lobe                      0.0\n",
       "sublobe                   0.0\n",
       "endbpid                   1.0\n",
       "startbpid                -1.0\n",
       "angle                     NaN\n",
       "dircosx             -0.024446\n",
       "dircosy              0.229788\n",
       "dircosz              0.972934\n",
       "weibel_generation           0\n",
       "radius                     10\n",
       "x                         249\n",
       "y                         275\n",
       "z                         103\n",
       "Name: 0, dtype: object"
      ]
     },
     "metadata": {},
     "output_type": "display_data"
    },
    {
     "name": "stdout",
     "output_type": "stream",
     "text": [
      "z_value 103\n"
     ]
    },
    {
     "data": {
      "image/png": "[encoded data removed]",
      "text/plain": [
       "<Figure size 720x720 with 2 Axes>"
      ]
     },
     "metadata": {
      "needs_background": "light"
     },
     "output_type": "display_data"
    }
   ],
   "source": [
    "z_options, freq = np.unique(tree_w_coords.z.values, return_counts=True)\n",
    "print(z_options)\n",
    "def _display_slice(img_array, df_slice, value=0):\n",
    "     # edit this\n",
    "    # plt.figure(figsize=(20,20))\n",
    "    # plt.imshow(_slice)\n",
    "    # plt.show()\n",
    "    \n",
    "    \n",
    "    display(df_slice)\n",
    "    print(\"z_value\", df_slice.z.item())\n",
    "    _slice = cv2.cvtColor(img_array[df_slice.z.item(), :,:], cv2.COLOR_GRAY2RGB)\n",
    "    cv2_img = _slice #np.zeros_like(_slice)\n",
    "    plt.show()\n",
    "    center = (df_slice['x'], df_slice['y'])\n",
    "    radius = int(df_slice['radius'])\n",
    "    cv2.circle(cv2_img, center, 3, (0, 255, 0), 1)\n",
    "    # plt.figure(figsize=(20,20))\n",
    "    f, (ax1, ax2) = plt.subplots(1,2,figsize=(10,10))\n",
    "    ax1.imshow(cv2_img)\n",
    "    ax2.imshow(_slice)\n",
    "    plt.show()\n",
    "\n",
    "\n",
    "bp = tree_w_coords.iloc[0]\n",
    "_display_slice(img_array, bp)"
   ]
  },
  {
   "cell_type": "code",
   "execution_count": 317,
   "id": "92400153",
   "metadata": {},
   "outputs": [
    {
     "data": {
      "text/plain": [
       "<matplotlib.image.AxesImage at 0x7fe763b899d0>"
      ]
     },
     "execution_count": 317,
     "metadata": {},
     "output_type": "execute_result"
    },
    {
     "data": {
      "image/png": "[encoded data removed]",
      "text/plain": [
       "<Figure size 1440x1440 with 1 Axes>"
      ]
     },
     "metadata": {
      "needs_background": "light"
     },
     "output_type": "display_data"
    }
   ],
   "source": [
    "plt.figure(figsize=(20,20))\n",
    "plt.imshow(img_array[:,10,:], origin='lower', cmap='gray', extent=(0, width, 0, depth))"
   ]
  },
  {
   "cell_type": "code",
   "execution_count": 15,
   "id": "25355889",
   "metadata": {},
   "outputs": [
    {
     "data": {
      "text/plain": [
       "<matplotlib.image.AxesImage at 0x7fe8683a2af0>"
      ]
     },
     "execution_count": 15,
     "metadata": {},
     "output_type": "execute_result"
    },
    {
     "data": {
      "image/png": "[encoded data removed]",
      "text/plain": [
       "<Figure size 432x288 with 1 Axes>"
      ]
     },
     "metadata": {
      "needs_background": "light"
     },
     "output_type": "display_data"
    }
   ],
   "source": [
    "plt.imshow(img_array[:,:,180], origin='lower', cmap='gray', extent=(0, height, 0, depth))"
   ]
  },
  {
   "cell_type": "code",
   "execution_count": 16,
   "id": "d52f5730",
   "metadata": {},
   "outputs": [
    {
     "name": "stdout",
     "output_type": "stream",
     "text": [
      "(512, 512, 670)\n"
     ]
    },
    {
     "data": {
      "image/png": "[encoded data removed]",
      "text/plain": [
       "<Figure size 720x288 with 3 Axes>"
      ]
     },
     "metadata": {
      "needs_background": "light"
     },
     "output_type": "display_data"
    }
   ],
   "source": [
    "print(img.GetSize())\n",
    "display_image(img, 256,256,400)"
   ]
  },
  {
   "cell_type": "code",
   "execution_count": 17,
   "id": "dca7fba5",
   "metadata": {
    "scrolled": true
   },
   "outputs": [
    {
     "data": {
      "text/plain": [
       "(array([1.7537307e+08, 0.0000000e+00, 0.0000000e+00, 0.0000000e+00,\n",
       "        0.0000000e+00, 0.0000000e+00, 0.0000000e+00, 0.0000000e+00,\n",
       "        0.0000000e+00, 0.0000000e+00, 0.0000000e+00, 0.0000000e+00,\n",
       "        0.0000000e+00, 0.0000000e+00, 0.0000000e+00, 0.0000000e+00,\n",
       "        0.0000000e+00, 0.0000000e+00, 0.0000000e+00, 2.6341000e+05]),\n",
       " array([  0.  ,  12.75,  25.5 ,  38.25,  51.  ,  63.75,  76.5 ,  89.25,\n",
       "        102.  , 114.75, 127.5 , 140.25, 153.  , 165.75, 178.5 , 191.25,\n",
       "        204.  , 216.75, 229.5 , 242.25, 255.  ]),\n",
       " <BarContainer object of 20 artists>)"
      ]
     },
     "execution_count": 17,
     "metadata": {},
     "output_type": "execute_result"
    },
    {
     "data": {
      "image/png": "[encoded data removed]",
      "text/plain": [
       "<Figure size 432x288 with 1 Axes>"
      ]
     },
     "metadata": {
      "needs_background": "light"
     },
     "output_type": "display_data"
    }
   ],
   "source": [
    "plt.hist(img_array.flatten(), bins=20, density=False)"
   ]
  },
  {
   "cell_type": "code",
   "execution_count": 324,
   "id": "30ff1487",
   "metadata": {},
   "outputs": [
    {
     "data": {
      "text/plain": [
       "<Figure size 1440x1440 with 0 Axes>"
      ]
     },
     "metadata": {},
     "output_type": "display_data"
    },
    {
     "data": {
      "application/vnd.jupyter.widget-view+json": {
       "model_id": "1b2629c64d8144c183c598e9642d727b",
       "version_major": 2,
       "version_minor": 0
      },
      "text/plain": [
       "interactive(children=(IntSlider(value=255, description='x', max=511), IntSlider(value=255, description='y', ma…"
      ]
     },
     "metadata": {},
     "output_type": "display_data"
    }
   ],
   "source": [
    "plt.figure(figsize=(20,20))\n",
    "interactive_view(label_overlay(lung_img, aw_img))\n"
   ]
  },
  {
   "cell_type": "code",
   "execution_count": null,
   "id": "ff639c51",
   "metadata": {},
   "outputs": [],
   "source": []
  }
 ],
 "metadata": {
  "kernelspec": {
   "display_name": "Python 3 (ipykernel)",
   "language": "python",
   "name": "python3"
  },
  "language_info": {
   "codemirror_mode": {
    "name": "ipython",
    "version": 3
   },
   "file_extension": ".py",
   "mimetype": "text/x-python",
   "name": "python",
   "nbconvert_exporter": "python",
   "pygments_lexer": "ipython3",
   "version": "3.8.13"
  }
 },
 "nbformat": 4,
 "nbformat_minor": 5
}
