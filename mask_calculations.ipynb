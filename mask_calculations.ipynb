{
 "cells": [
  {
   "cell_type": "code",
   "execution_count": 266,
   "id": "ca295a32",
   "metadata": {},
   "outputs": [],
   "source": [
    "import os\n",
    "import SimpleITK as sitk\n",
    "# ! pip install SimpleITK==1.2.4\n",
    "import matplotlib.pyplot as plt\n",
    "import matplotlib\n",
    "import numpy as np\n",
    "import cv2\n",
    "import pandas as pd\n",
    "from PIL import Image\n",
    "from ipywidgets import interact, fixed\n",
    "from IPython.display import display\n",
    "import scipy\n",
    "import scipy.linalg\n",
    "import numpy as np\n",
    "from tqdm.notebook import tqdm\n",
    "# import nibabel as nib\n",
    "from mpl_toolkits.mplot3d import Axes3D\n",
    "%matplotlib inline"
   ]
  },
  {
   "cell_type": "markdown",
   "id": "b3e1f00d",
   "metadata": {},
   "source": [
    "### Helper functions (display / intensity) + DF"
   ]
  },
  {
   "cell_type": "code",
   "execution_count": 2,
   "id": "8c0f6e83",
   "metadata": {},
   "outputs": [],
   "source": [
    "def wl_to_lh(window, level):\n",
    "    low = level - window/2\n",
    "    high = level + window/2\n",
    "    return low,high\n",
    "\n",
    "def display_image(img, x=None, y=None, z=None, window=None, level=None):\n",
    "    # Convert SimpleITK image to NumPy array\n",
    "    img_array = sitk.GetArrayFromImage(img)\n",
    "    \n",
    "    # Get image dimensions in millimetres\n",
    "    size = img.GetSize()\n",
    "    spacing = img.GetSpacing()\n",
    "    width  = size[0] * spacing[0]\n",
    "    height = size[1] * spacing[1]\n",
    "    depth  = size[2] * spacing[2]\n",
    "    \n",
    "    if x is None:\n",
    "        x = np.floor(size[0]/2).astype(int)\n",
    "    if y is None:\n",
    "        y = np.floor(size[1]/2).astype(int)\n",
    "    if z is None:\n",
    "        z = np.floor(size[2]/2).astype(int)\n",
    "    \n",
    "    if window is None:\n",
    "        window = np.max(img_array) - np.min(img_array)\n",
    "    \n",
    "    if level is None:\n",
    "        level = window / 2 + np.min(img_array)\n",
    "    \n",
    "    low,high = wl_to_lh(window,level)\n",
    "\n",
    "    # Display the orthogonal slices\n",
    "    fig, (ax1, ax2, ax3) = plt.subplots(1, 3, figsize=(10, 4))\n",
    "\n",
    "    ax1.imshow(img_array[z,:,:], cmap='gray', clim=(low, high), extent=(0, width, height, 0))\n",
    "    ax2.imshow(img_array[:,y,:], origin='lower', cmap='gray', clim=(low, high), extent=(0, width,  0, depth))\n",
    "    ax3.imshow(img_array[:,:,x], origin='lower', cmap='gray', clim=(low, high), extent=(0, height, 0, depth))\n",
    "\n",
    "    # Additionally display crosshairs\n",
    "    ax1.axhline(y * spacing[1], lw=1)\n",
    "    ax1.axvline(x * spacing[0], lw=1)\n",
    "    \n",
    "    ax2.axhline(z * spacing[2], lw=1)\n",
    "    ax2.axvline(x * spacing[0], lw=1)\n",
    "    \n",
    "    ax3.axhline(z * spacing[2], lw=1)\n",
    "    ax3.axvline(y * spacing[1], lw=1)\n",
    "\n",
    "    plt.show()\n",
    "    \n",
    "\n",
    "\n",
    "def interactive_view(img):\n",
    "    size = img.GetSize()\n",
    "    img_array = sitk.GetArrayFromImage(img)\n",
    "    interact(display_image,img=fixed(img),\n",
    "             x=(0, size[0] - 1),\n",
    "             y=(0, size[1] - 1),\n",
    "             z=(0, size[2] - 1),\n",
    "             window=(0,np.max(img_array) - np.min(img_array)),\n",
    "             level=(np.min(img_array),np.max(img_array)))\n",
    "    \n",
    "    \n",
    "def label_overlay(img, seg):\n",
    "    minmax = sitk.MinimumMaximumImageFilter()\n",
    "    minmax.Execute(img)\n",
    "    low, high = minmax.GetMinimum(), minmax.GetMaximum()\n",
    "    img_norm = (img - low) / (high - low)\n",
    "    img_uint8 = sitk.Cast(256 * img_norm, sitk.sitkUInt8)\n",
    "    return sitk.LabelOverlay(img_uint8, seg)\n",
    "\n",
    "def display_overlay(img, seg, *args, **kwargs):\n",
    "    display_image(label_overlay(img, seg), *args, **kwargs)"
   ]
  },
  {
   "cell_type": "code",
   "execution_count": 3,
   "id": "fab0fd29",
   "metadata": {},
   "outputs": [],
   "source": [
    "# DATAFRAME HELPER\n",
    "def _get_coords(single_test, start_x=0, start_y=0,start_z=0):\n",
    "    # gets coords of ENDBPID\n",
    "    x_diff= (single_test.centerlinelength*single_test.dircosx).values\n",
    "    y_diff = (single_test.centerlinelength*single_test.dircosy).values\n",
    "    z_diff = (single_test.centerlinelength*single_test.dircosz).values\n",
    "    endbpid = single_test.endbpid.values\n",
    "    startbpid = single_test.startbpid.values\n",
    "    x = np.zeros_like(x_diff)\n",
    "    y = np.zeros_like(x_diff)\n",
    "    z = np.zeros_like(x_diff)\n",
    "    for i in range(len(x_diff)):\n",
    "        if startbpid[i] == -1:\n",
    "            x[i] = x_diff[i] + start_x\n",
    "            y[i] = y_diff[i] + start_y\n",
    "            z[i] = z_diff[i] + start_z\n",
    "        else:\n",
    "            # find parent id\n",
    "            parent = np.where(endbpid == startbpid[i])\n",
    "            x[i] = x_diff[i] + x[parent] \n",
    "            y[i] = y_diff[i] + y[parent] \n",
    "            z[i] = z_diff[i] + z[parent] \n",
    "    # put into dataframe\n",
    "    coords_df = pd.DataFrame({\"x\": x, \"y\": y, \"z\":z})\n",
    "    \n",
    "    return single_test.join(coords_df, how=\"left\")\n"
   ]
  },
  {
   "cell_type": "markdown",
   "id": "25d83e5c",
   "metadata": {},
   "source": [
    "### Test data"
   ]
  },
  {
   "cell_type": "code",
   "execution_count": 4,
   "id": "76315e7b",
   "metadata": {},
   "outputs": [],
   "source": [
    "aw_test = \"/DATA/data_MESA/MESA_FL_Ex5_Nifty/AW/3010007_AW.nii.gz\"\n",
    "img_test = \"/DATA/data_MESA/MESA_FL_Ex5_Nifty/IMG/3010007_IMG.nii.gz\"\n",
    "lung_test = \"/DATA/data_MESA/MESA_FL_Ex5_Nifty/LUNG/3010007_LUNG.nii.gz\""
   ]
  },
  {
   "cell_type": "code",
   "execution_count": 5,
   "id": "8c15f063",
   "metadata": {},
   "outputs": [],
   "source": [
    "aw_img = sitk.ReadImage(aw_test)\n",
    "lung_img = sitk.ReadImage(lung_test)\n",
    "img = sitk.ReadImage(img_test)"
   ]
  },
  {
   "cell_type": "code",
   "execution_count": 6,
   "id": "f586bc7e",
   "metadata": {},
   "outputs": [
    {
     "name": "stderr",
     "output_type": "stream",
     "text": [
      "/home/sneha/miniconda3/envs/my_env/lib/python3.8/site-packages/pandas/core/arraylike.py:397: RuntimeWarning: invalid value encountered in sqrt\n",
      "  result = getattr(ufunc, method)(*inputs, **kwargs)\n",
      "/tmp/ipykernel_4930/846826031.py:5: SettingWithCopyWarning: \n",
      "A value is trying to be set on a copy of a slice from a DataFrame.\n",
      "Try using .loc[row_indexer,col_indexer] = value instead\n",
      "\n",
      "See the caveats in the documentation: https://pandas.pydata.org/pandas-docs/stable/user_guide/indexing.html#returning-a-view-versus-a-copy\n",
      "  tree['radius'] = np.sqrt(tree.avginnerarea.copy()/np.pi)\n",
      "/tmp/ipykernel_4930/846826031.py:6: SettingWithCopyWarning: \n",
      "A value is trying to be set on a copy of a slice from a DataFrame\n",
      "\n",
      "See the caveats in the documentation: https://pandas.pydata.org/pandas-docs/stable/user_guide/indexing.html#returning-a-view-versus-a-copy\n",
      "  tree['radius'].fillna(0, inplace=True)\n",
      "/tmp/ipykernel_4930/846826031.py:7: SettingWithCopyWarning: \n",
      "A value is trying to be set on a copy of a slice from a DataFrame.\n",
      "Try using .loc[row_indexer,col_indexer] = value instead\n",
      "\n",
      "See the caveats in the documentation: https://pandas.pydata.org/pandas-docs/stable/user_guide/indexing.html#returning-a-view-versus-a-copy\n",
      "  tree['radius'] = tree.radius.astype(int)\n"
     ]
    },
    {
     "data": {
      "text/html": [
       "<div>\n",
       "<style scoped>\n",
       "    .dataframe tbody tr th:only-of-type {\n",
       "        vertical-align: middle;\n",
       "    }\n",
       "\n",
       "    .dataframe tbody tr th {\n",
       "        vertical-align: top;\n",
       "    }\n",
       "\n",
       "    .dataframe thead th {\n",
       "        text-align: right;\n",
       "    }\n",
       "</style>\n",
       "<table border=\"1\" class=\"dataframe\">\n",
       "  <thead>\n",
       "    <tr style=\"text-align: right;\">\n",
       "      <th></th>\n",
       "      <th>idno</th>\n",
       "      <th>anatomicalname</th>\n",
       "      <th>centerlinelength</th>\n",
       "      <th>avginnerarea</th>\n",
       "      <th>lobe</th>\n",
       "      <th>sublobe</th>\n",
       "      <th>endbpid</th>\n",
       "      <th>startbpid</th>\n",
       "      <th>angle</th>\n",
       "      <th>dircosx</th>\n",
       "      <th>dircosy</th>\n",
       "      <th>dircosz</th>\n",
       "      <th>weibel_generation</th>\n",
       "      <th>radius</th>\n",
       "    </tr>\n",
       "  </thead>\n",
       "  <tbody>\n",
       "    <tr>\n",
       "      <th>0</th>\n",
       "      <td>3010007</td>\n",
       "      <td>Trachea</td>\n",
       "      <td>104.962000</td>\n",
       "      <td>351.51300</td>\n",
       "      <td>0.0</td>\n",
       "      <td>0.0</td>\n",
       "      <td>1.0</td>\n",
       "      <td>-1.0</td>\n",
       "      <td>NaN</td>\n",
       "      <td>-0.024446</td>\n",
       "      <td>0.229788</td>\n",
       "      <td>0.972934</td>\n",
       "      <td>0</td>\n",
       "      <td>10</td>\n",
       "    </tr>\n",
       "    <tr>\n",
       "      <th>1</th>\n",
       "      <td>3010007</td>\n",
       "      <td>LMB</td>\n",
       "      <td>51.014200</td>\n",
       "      <td>148.68100</td>\n",
       "      <td>0.0</td>\n",
       "      <td>0.0</td>\n",
       "      <td>3.0</td>\n",
       "      <td>1.0</td>\n",
       "      <td>140.0360</td>\n",
       "      <td>0.608512</td>\n",
       "      <td>0.045926</td>\n",
       "      <td>0.792214</td>\n",
       "      <td>1</td>\n",
       "      <td>6</td>\n",
       "    </tr>\n",
       "    <tr>\n",
       "      <th>2</th>\n",
       "      <td>3010007</td>\n",
       "      <td>RMB</td>\n",
       "      <td>25.444200</td>\n",
       "      <td>215.56900</td>\n",
       "      <td>0.0</td>\n",
       "      <td>0.0</td>\n",
       "      <td>2.0</td>\n",
       "      <td>1.0</td>\n",
       "      <td>134.8050</td>\n",
       "      <td>-0.694225</td>\n",
       "      <td>-0.047878</td>\n",
       "      <td>0.718164</td>\n",
       "      <td>1</td>\n",
       "      <td>8</td>\n",
       "    </tr>\n",
       "    <tr>\n",
       "      <th>3</th>\n",
       "      <td>3010007</td>\n",
       "      <td>BronInt</td>\n",
       "      <td>29.831900</td>\n",
       "      <td>111.98300</td>\n",
       "      <td>0.0</td>\n",
       "      <td>0.0</td>\n",
       "      <td>4.0</td>\n",
       "      <td>2.0</td>\n",
       "      <td>160.3120</td>\n",
       "      <td>-0.417837</td>\n",
       "      <td>0.018167</td>\n",
       "      <td>0.908341</td>\n",
       "      <td>2</td>\n",
       "      <td>5</td>\n",
       "    </tr>\n",
       "    <tr>\n",
       "      <th>4</th>\n",
       "      <td>3010007</td>\n",
       "      <td>RUL</td>\n",
       "      <td>16.649400</td>\n",
       "      <td>75.69660</td>\n",
       "      <td>3.0</td>\n",
       "      <td>0.0</td>\n",
       "      <td>5.0</td>\n",
       "      <td>2.0</td>\n",
       "      <td>98.5825</td>\n",
       "      <td>-0.813123</td>\n",
       "      <td>-0.038720</td>\n",
       "      <td>-0.580802</td>\n",
       "      <td>2</td>\n",
       "      <td>4</td>\n",
       "    </tr>\n",
       "    <tr>\n",
       "      <th>...</th>\n",
       "      <td>...</td>\n",
       "      <td>...</td>\n",
       "      <td>...</td>\n",
       "      <td>...</td>\n",
       "      <td>...</td>\n",
       "      <td>...</td>\n",
       "      <td>...</td>\n",
       "      <td>...</td>\n",
       "      <td>...</td>\n",
       "      <td>...</td>\n",
       "      <td>...</td>\n",
       "      <td>...</td>\n",
       "      <td>...</td>\n",
       "      <td>...</td>\n",
       "    </tr>\n",
       "    <tr>\n",
       "      <th>376</th>\n",
       "      <td>3010007</td>\n",
       "      <td>-</td>\n",
       "      <td>1.658150</td>\n",
       "      <td>-1.00000</td>\n",
       "      <td>5.0</td>\n",
       "      <td>18.0</td>\n",
       "      <td>377.0</td>\n",
       "      <td>354.0</td>\n",
       "      <td>101.6280</td>\n",
       "      <td>0.408248</td>\n",
       "      <td>0.816497</td>\n",
       "      <td>0.408248</td>\n",
       "      <td>12</td>\n",
       "      <td>0</td>\n",
       "    </tr>\n",
       "    <tr>\n",
       "      <th>377</th>\n",
       "      <td>3010007</td>\n",
       "      <td>-</td>\n",
       "      <td>14.326200</td>\n",
       "      <td>8.93574</td>\n",
       "      <td>5.0</td>\n",
       "      <td>19.0</td>\n",
       "      <td>379.0</td>\n",
       "      <td>360.0</td>\n",
       "      <td>167.6940</td>\n",
       "      <td>-0.260333</td>\n",
       "      <td>0.260333</td>\n",
       "      <td>0.929760</td>\n",
       "      <td>12</td>\n",
       "      <td>1</td>\n",
       "    </tr>\n",
       "    <tr>\n",
       "      <th>378</th>\n",
       "      <td>3010007</td>\n",
       "      <td>-</td>\n",
       "      <td>14.695600</td>\n",
       "      <td>6.03235</td>\n",
       "      <td>5.0</td>\n",
       "      <td>19.0</td>\n",
       "      <td>378.0</td>\n",
       "      <td>360.0</td>\n",
       "      <td>153.0900</td>\n",
       "      <td>-0.267261</td>\n",
       "      <td>0.801784</td>\n",
       "      <td>0.534522</td>\n",
       "      <td>12</td>\n",
       "      <td>1</td>\n",
       "    </tr>\n",
       "    <tr>\n",
       "      <th>379</th>\n",
       "      <td>3010007</td>\n",
       "      <td>-</td>\n",
       "      <td>0.865964</td>\n",
       "      <td>-1.00000</td>\n",
       "      <td>2.0</td>\n",
       "      <td>9.0</td>\n",
       "      <td>380.0</td>\n",
       "      <td>370.0</td>\n",
       "      <td>180.0000</td>\n",
       "      <td>0.000000</td>\n",
       "      <td>0.707107</td>\n",
       "      <td>0.707107</td>\n",
       "      <td>12</td>\n",
       "      <td>0</td>\n",
       "    </tr>\n",
       "    <tr>\n",
       "      <th>380</th>\n",
       "      <td>3010007</td>\n",
       "      <td>-</td>\n",
       "      <td>1.117940</td>\n",
       "      <td>-1.00000</td>\n",
       "      <td>2.0</td>\n",
       "      <td>9.0</td>\n",
       "      <td>381.0</td>\n",
       "      <td>370.0</td>\n",
       "      <td>90.0000</td>\n",
       "      <td>-0.577350</td>\n",
       "      <td>0.577350</td>\n",
       "      <td>-0.577350</td>\n",
       "      <td>12</td>\n",
       "      <td>0</td>\n",
       "    </tr>\n",
       "  </tbody>\n",
       "</table>\n",
       "<p>381 rows × 14 columns</p>\n",
       "</div>"
      ],
      "text/plain": [
       "        idno anatomicalname  centerlinelength  avginnerarea  lobe  sublobe  \\\n",
       "0    3010007        Trachea        104.962000     351.51300   0.0      0.0   \n",
       "1    3010007            LMB         51.014200     148.68100   0.0      0.0   \n",
       "2    3010007            RMB         25.444200     215.56900   0.0      0.0   \n",
       "3    3010007        BronInt         29.831900     111.98300   0.0      0.0   \n",
       "4    3010007            RUL         16.649400      75.69660   3.0      0.0   \n",
       "..       ...            ...               ...           ...   ...      ...   \n",
       "376  3010007              -          1.658150      -1.00000   5.0     18.0   \n",
       "377  3010007              -         14.326200       8.93574   5.0     19.0   \n",
       "378  3010007              -         14.695600       6.03235   5.0     19.0   \n",
       "379  3010007              -          0.865964      -1.00000   2.0      9.0   \n",
       "380  3010007              -          1.117940      -1.00000   2.0      9.0   \n",
       "\n",
       "     endbpid  startbpid     angle   dircosx   dircosy   dircosz  \\\n",
       "0        1.0       -1.0       NaN -0.024446  0.229788  0.972934   \n",
       "1        3.0        1.0  140.0360  0.608512  0.045926  0.792214   \n",
       "2        2.0        1.0  134.8050 -0.694225 -0.047878  0.718164   \n",
       "3        4.0        2.0  160.3120 -0.417837  0.018167  0.908341   \n",
       "4        5.0        2.0   98.5825 -0.813123 -0.038720 -0.580802   \n",
       "..       ...        ...       ...       ...       ...       ...   \n",
       "376    377.0      354.0  101.6280  0.408248  0.816497  0.408248   \n",
       "377    379.0      360.0  167.6940 -0.260333  0.260333  0.929760   \n",
       "378    378.0      360.0  153.0900 -0.267261  0.801784  0.534522   \n",
       "379    380.0      370.0  180.0000  0.000000  0.707107  0.707107   \n",
       "380    381.0      370.0   90.0000 -0.577350  0.577350 -0.577350   \n",
       "\n",
       "     weibel_generation  radius  \n",
       "0                    0      10  \n",
       "1                    1       6  \n",
       "2                    1       8  \n",
       "3                    2       5  \n",
       "4                    2       4  \n",
       "..                 ...     ...  \n",
       "376                 12       0  \n",
       "377                 12       1  \n",
       "378                 12       1  \n",
       "379                 12       0  \n",
       "380                 12       0  \n",
       "\n",
       "[381 rows x 14 columns]"
      ]
     },
     "metadata": {},
     "output_type": "display_data"
    }
   ],
   "source": [
    "# get the tree data for this participant\n",
    "df = pd.read_csv(os.path.abspath(\"/home/sneha/airway_exploration/e5_cleaned_v1.csv\"))\n",
    "tree = df.loc[df.idno == 3010007]\n",
    "if 'radius' not in tree.columns:\n",
    "    tree['radius'] = np.sqrt(tree.avginnerarea.copy()/np.pi)\n",
    "    tree['radius'].fillna(0, inplace=True)\n",
    "    tree['radius'] = tree.radius.astype(int)\n",
    "display(tree)\n"
   ]
  },
  {
   "cell_type": "code",
   "execution_count": 7,
   "id": "abe3ab1f",
   "metadata": {
    "scrolled": true
   },
   "outputs": [
    {
     "name": "stdout",
     "output_type": "stream",
     "text": [
      "Image (0x55f02efe2c40)\n",
      "  RTTI typeinfo:   itk::Image<short, 3u>\n",
      "  Reference Count: 1\n",
      "  Modified Time: 1341\n",
      "  Debug: Off\n",
      "  Object Name: \n",
      "  Observers: \n",
      "    none\n",
      "  Source: (none)\n",
      "  Source output name: (none)\n",
      "  Release Data: Off\n",
      "  Data Released: False\n",
      "  Global Release Data: Off\n",
      "  PipelineMTime: 1320\n",
      "  UpdateMTime: 1340\n",
      "  RealTimeStamp: 0 seconds \n",
      "  LargestPossibleRegion: \n",
      "    Dimension: 3\n",
      "    Index: [0, 0, 0]\n",
      "    Size: [512, 512, 670]\n",
      "  BufferedRegion: \n",
      "    Dimension: 3\n",
      "    Index: [0, 0, 0]\n",
      "    Size: [512, 512, 670]\n",
      "  RequestedRegion: \n",
      "    Dimension: 3\n",
      "    Index: [0, 0, 0]\n",
      "    Size: [512, 512, 670]\n",
      "  Spacing: [1, 1, 1]\n",
      "  Origin: [-1, -1, 1]\n",
      "  Direction: \n",
      "-1 0 0\n",
      "0 -1 0\n",
      "0 0 1\n",
      "\n",
      "  IndexToPointMatrix: \n",
      "-1 0 0\n",
      "0 -1 0\n",
      "0 0 1\n",
      "\n",
      "  PointToIndexMatrix: \n",
      "-1 0 0\n",
      "0 -1 0\n",
      "0 0 1\n",
      "\n",
      "  Inverse Direction: \n",
      "-1 0 0\n",
      "0 -1 0\n",
      "0 0 1\n",
      "\n",
      "  PixelContainer: \n",
      "    ImportImageContainer (0x55f02ee5de30)\n",
      "      RTTI typeinfo:   itk::ImportImageContainer<unsigned long, short>\n",
      "      Reference Count: 1\n",
      "      Modified Time: 1337\n",
      "      Debug: Off\n",
      "      Object Name: \n",
      "      Observers: \n",
      "        none\n",
      "      Pointer: 0x7f758704e010\n",
      "      Container manages memory: true\n",
      "      Size: 175636480\n",
      "      Capacity: 175636480\n",
      "\n"
     ]
    }
   ],
   "source": [
    "print(img)"
   ]
  },
  {
   "cell_type": "code",
   "execution_count": 8,
   "id": "53d6abcc",
   "metadata": {},
   "outputs": [
    {
     "name": "stdout",
     "output_type": "stream",
     "text": [
      "(1.0, 1.0, 1.0) (512, 512, 670)\n"
     ]
    }
   ],
   "source": [
    "print(img.GetSpacing(), img.GetSize())\n",
    "# each voxel is 1mm, 1mm, 1mm size. The voxel grid is of size 512x512x670"
   ]
  },
  {
   "cell_type": "code",
   "execution_count": 9,
   "id": "891ea229",
   "metadata": {},
   "outputs": [
    {
     "data": {
      "application/vnd.jupyter.widget-view+json": {
       "model_id": "8ddc42e465ec4f7b94b8b2a71953de4e",
       "version_major": 2,
       "version_minor": 0
      },
      "text/plain": [
       "interactive(children=(IntSlider(value=255, description='x', max=511), IntSlider(value=255, description='y', ma…"
      ]
     },
     "metadata": {},
     "output_type": "display_data"
    },
    {
     "data": {
      "application/vnd.jupyter.widget-view+json": {
       "model_id": "b4bc3ef8ecb34cf1bd121a05f4f9155b",
       "version_major": 2,
       "version_minor": 0
      },
      "text/plain": [
       "interactive(children=(IntSlider(value=255, description='x', max=511), IntSlider(value=255, description='y', ma…"
      ]
     },
     "metadata": {},
     "output_type": "display_data"
    },
    {
     "data": {
      "application/vnd.jupyter.widget-view+json": {
       "model_id": "2eb134e4908440afbfd3ea3cb2b05acd",
       "version_major": 2,
       "version_minor": 0
      },
      "text/plain": [
       "interactive(children=(IntSlider(value=255, description='x', max=511), IntSlider(value=255, description='y', ma…"
      ]
     },
     "metadata": {},
     "output_type": "display_data"
    }
   ],
   "source": [
    "interactive_view(lung_img)\n",
    "interactive_view(aw_img)\n",
    "interactive_view(img)\n",
    "\n",
    "# z = 0, x= 256, y = 256 on this image appears to be the top of the trachea\n",
    "# --> can see this by scrolling down z axis from 0--> 670 on aw_img"
   ]
  },
  {
   "cell_type": "markdown",
   "id": "01cc7e78",
   "metadata": {},
   "source": [
    "### Single Slice"
   ]
  },
  {
   "cell_type": "code",
   "execution_count": 10,
   "id": "91245c1b",
   "metadata": {},
   "outputs": [],
   "source": [
    "img_array =  sitk.GetArrayFromImage(aw_img)\n",
    "size = img.GetSize()\n",
    "spacing = img.GetSpacing()\n",
    "\n",
    "width  = size[0] * spacing[0]\n",
    "height = size[1] * spacing[1]\n",
    "depth  = size[2] * spacing[2]"
   ]
  },
  {
   "cell_type": "code",
   "execution_count": 11,
   "id": "519addea",
   "metadata": {},
   "outputs": [
    {
     "data": {
      "text/plain": [
       "<matplotlib.image.AxesImage at 0x7f75867a2580>"
      ]
     },
     "execution_count": 11,
     "metadata": {},
     "output_type": "execute_result"
    },
    {
     "data": {
      "image/png": "[encoded data removed]",
      "text/plain": [
       "<Figure size 432x288 with 1 Axes>"
      ]
     },
     "metadata": {
      "needs_background": "light"
     },
     "output_type": "display_data"
    }
   ],
   "source": [
    "# top down\n",
    "plt.imshow(img_array[1,:,:], cmap='gray', extent=(0, width, height, 0))"
   ]
  },
  {
   "cell_type": "code",
   "execution_count": 12,
   "id": "06097593",
   "metadata": {},
   "outputs": [
    {
     "data": {
      "text/plain": [
       "Text(0, 0.5, 'sum x,y')"
      ]
     },
     "execution_count": 12,
     "metadata": {},
     "output_type": "execute_result"
    },
    {
     "data": {
      "image/png": "[encoded data removed]",
      "text/plain": [
       "<Figure size 432x288 with 1 Axes>"
      ]
     },
     "metadata": {
      "needs_background": "light"
     },
     "output_type": "display_data"
    }
   ],
   "source": [
    "# sum each slice along + plot along z axis\n",
    "plt.plot(np.arange(0, 670), img_array.sum(axis=(1,2)))\n",
    "plt.xlabel('z')\n",
    "plt.ylabel('sum x,y')"
   ]
  },
  {
   "cell_type": "code",
   "execution_count": 13,
   "id": "740158ba",
   "metadata": {},
   "outputs": [
    {
     "name": "stdout",
     "output_type": "stream",
     "text": [
      "First non zero slice 1\n"
     ]
    },
    {
     "data": {
      "image/png": "[encoded data removed]",
      "text/plain": [
       "<Figure size 432x288 with 1 Axes>"
      ]
     },
     "metadata": {
      "needs_background": "light"
     },
     "output_type": "display_data"
    },
    {
     "name": "stdout",
     "output_type": "stream",
     "text": [
      "Circle (252, 251) 15\n"
     ]
    },
    {
     "data": {
      "image/png": "[encoded data removed]",
      "text/plain": [
       "<Figure size 432x288 with 1 Axes>"
      ]
     },
     "metadata": {
      "needs_background": "light"
     },
     "output_type": "display_data"
    }
   ],
   "source": [
    "# TRY SHIFTING TO CARINA\n",
    "def find_start_point(aw_img):\n",
    "    # function to find trachea\n",
    "    # 1: find first slice with non zero pixels \n",
    "    # sum along z_axis\n",
    "    img_array =  sitk.GetArrayFromImage(aw_img)\n",
    "    size = img.GetSize()\n",
    "    spacing = img.GetSpacing()\n",
    "\n",
    "    width  = size[0] * spacing[0]\n",
    "    height = size[1] * spacing[1]\n",
    "    depth  = size[2] * spacing[2]\n",
    "    z = img_array.sum(axis=(1,2))\n",
    "    loc = np.argmax(z> 0) # index of first non-zero slice\n",
    "    print(\"First non zero slice\", loc)\n",
    "    # get that slice and display it\n",
    "    _slice = img_array[loc,:,:]\n",
    "    cv2_img = _slice\n",
    "\n",
    "    # top down\n",
    "    plt.imshow(cv2_img, cmap='gray')\n",
    "    plt.show()\n",
    "    # find the contours\n",
    "    contours, hierarchy = cv2.findContours(_slice, cv2.RETR_EXTERNAL, cv2.CHAIN_APPROX_SIMPLE)\n",
    "    assert len(contours) == 1, f\"Unexpected number of contours {len(contours)}\"\n",
    "    # Use a list to store the center and radius of the target circles:\n",
    "    # cv2.imshow('Circles', _slice)\n",
    "    # Look for the outer contours:\n",
    "    for i, c in enumerate(contours):\n",
    "        # Approximate the contour to a circle:\n",
    "        (x, y), radius = cv2.minEnclosingCircle(c)\n",
    "        # Compute the center and radius:\n",
    "        center = (int(x), int(y))\n",
    "        radius = int(radius)\n",
    "        print(\"Circle\",center,radius)\n",
    "    #     # Draw the circles:\n",
    "        cv2.circle(cv2_img, center, radius, (255, 0, 0), -1)\n",
    "        plt.imshow(cv2_img)\n",
    "    return center, loc\n",
    "(startx, starty), startz = find_start_point(aw_img)"
   ]
  },
  {
   "cell_type": "code",
   "execution_count": 14,
   "id": "99a72dbf",
   "metadata": {},
   "outputs": [
    {
     "data": {
      "text/html": [
       "<div>\n",
       "<style scoped>\n",
       "    .dataframe tbody tr th:only-of-type {\n",
       "        vertical-align: middle;\n",
       "    }\n",
       "\n",
       "    .dataframe tbody tr th {\n",
       "        vertical-align: top;\n",
       "    }\n",
       "\n",
       "    .dataframe thead th {\n",
       "        text-align: right;\n",
       "    }\n",
       "</style>\n",
       "<table border=\"1\" class=\"dataframe\">\n",
       "  <thead>\n",
       "    <tr style=\"text-align: right;\">\n",
       "      <th></th>\n",
       "      <th>idno</th>\n",
       "      <th>anatomicalname</th>\n",
       "      <th>centerlinelength</th>\n",
       "      <th>avginnerarea</th>\n",
       "      <th>lobe</th>\n",
       "      <th>sublobe</th>\n",
       "      <th>endbpid</th>\n",
       "      <th>startbpid</th>\n",
       "      <th>angle</th>\n",
       "      <th>dircosx</th>\n",
       "      <th>dircosy</th>\n",
       "      <th>dircosz</th>\n",
       "      <th>weibel_generation</th>\n",
       "      <th>radius</th>\n",
       "      <th>x</th>\n",
       "      <th>y</th>\n",
       "      <th>z</th>\n",
       "    </tr>\n",
       "  </thead>\n",
       "  <tbody>\n",
       "    <tr>\n",
       "      <th>0</th>\n",
       "      <td>3010007</td>\n",
       "      <td>Trachea</td>\n",
       "      <td>104.962000</td>\n",
       "      <td>351.51300</td>\n",
       "      <td>0.0</td>\n",
       "      <td>0.0</td>\n",
       "      <td>1.0</td>\n",
       "      <td>-1.0</td>\n",
       "      <td>NaN</td>\n",
       "      <td>-0.024446</td>\n",
       "      <td>0.229788</td>\n",
       "      <td>0.972934</td>\n",
       "      <td>0</td>\n",
       "      <td>10</td>\n",
       "      <td>249</td>\n",
       "      <td>275</td>\n",
       "      <td>103</td>\n",
       "    </tr>\n",
       "    <tr>\n",
       "      <th>1</th>\n",
       "      <td>3010007</td>\n",
       "      <td>LMB</td>\n",
       "      <td>51.014200</td>\n",
       "      <td>148.68100</td>\n",
       "      <td>0.0</td>\n",
       "      <td>0.0</td>\n",
       "      <td>3.0</td>\n",
       "      <td>1.0</td>\n",
       "      <td>140.0360</td>\n",
       "      <td>0.608512</td>\n",
       "      <td>0.045926</td>\n",
       "      <td>0.792214</td>\n",
       "      <td>1</td>\n",
       "      <td>6</td>\n",
       "      <td>280</td>\n",
       "      <td>277</td>\n",
       "      <td>143</td>\n",
       "    </tr>\n",
       "    <tr>\n",
       "      <th>2</th>\n",
       "      <td>3010007</td>\n",
       "      <td>RMB</td>\n",
       "      <td>25.444200</td>\n",
       "      <td>215.56900</td>\n",
       "      <td>0.0</td>\n",
       "      <td>0.0</td>\n",
       "      <td>2.0</td>\n",
       "      <td>1.0</td>\n",
       "      <td>134.8050</td>\n",
       "      <td>-0.694225</td>\n",
       "      <td>-0.047878</td>\n",
       "      <td>0.718164</td>\n",
       "      <td>1</td>\n",
       "      <td>8</td>\n",
       "      <td>231</td>\n",
       "      <td>273</td>\n",
       "      <td>121</td>\n",
       "    </tr>\n",
       "    <tr>\n",
       "      <th>3</th>\n",
       "      <td>3010007</td>\n",
       "      <td>BronInt</td>\n",
       "      <td>29.831900</td>\n",
       "      <td>111.98300</td>\n",
       "      <td>0.0</td>\n",
       "      <td>0.0</td>\n",
       "      <td>4.0</td>\n",
       "      <td>2.0</td>\n",
       "      <td>160.3120</td>\n",
       "      <td>-0.417837</td>\n",
       "      <td>0.018167</td>\n",
       "      <td>0.908341</td>\n",
       "      <td>2</td>\n",
       "      <td>5</td>\n",
       "      <td>219</td>\n",
       "      <td>274</td>\n",
       "      <td>148</td>\n",
       "    </tr>\n",
       "    <tr>\n",
       "      <th>4</th>\n",
       "      <td>3010007</td>\n",
       "      <td>RUL</td>\n",
       "      <td>16.649400</td>\n",
       "      <td>75.69660</td>\n",
       "      <td>3.0</td>\n",
       "      <td>0.0</td>\n",
       "      <td>5.0</td>\n",
       "      <td>2.0</td>\n",
       "      <td>98.5825</td>\n",
       "      <td>-0.813123</td>\n",
       "      <td>-0.038720</td>\n",
       "      <td>-0.580802</td>\n",
       "      <td>2</td>\n",
       "      <td>4</td>\n",
       "      <td>218</td>\n",
       "      <td>273</td>\n",
       "      <td>111</td>\n",
       "    </tr>\n",
       "    <tr>\n",
       "      <th>...</th>\n",
       "      <td>...</td>\n",
       "      <td>...</td>\n",
       "      <td>...</td>\n",
       "      <td>...</td>\n",
       "      <td>...</td>\n",
       "      <td>...</td>\n",
       "      <td>...</td>\n",
       "      <td>...</td>\n",
       "      <td>...</td>\n",
       "      <td>...</td>\n",
       "      <td>...</td>\n",
       "      <td>...</td>\n",
       "      <td>...</td>\n",
       "      <td>...</td>\n",
       "      <td>...</td>\n",
       "      <td>...</td>\n",
       "      <td>...</td>\n",
       "    </tr>\n",
       "    <tr>\n",
       "      <th>376</th>\n",
       "      <td>3010007</td>\n",
       "      <td>-</td>\n",
       "      <td>1.658150</td>\n",
       "      <td>-1.00000</td>\n",
       "      <td>5.0</td>\n",
       "      <td>18.0</td>\n",
       "      <td>377.0</td>\n",
       "      <td>354.0</td>\n",
       "      <td>101.6280</td>\n",
       "      <td>0.408248</td>\n",
       "      <td>0.816497</td>\n",
       "      <td>0.408248</td>\n",
       "      <td>12</td>\n",
       "      <td>0</td>\n",
       "      <td>173</td>\n",
       "      <td>286</td>\n",
       "      <td>240</td>\n",
       "    </tr>\n",
       "    <tr>\n",
       "      <th>377</th>\n",
       "      <td>3010007</td>\n",
       "      <td>-</td>\n",
       "      <td>14.326200</td>\n",
       "      <td>8.93574</td>\n",
       "      <td>5.0</td>\n",
       "      <td>19.0</td>\n",
       "      <td>379.0</td>\n",
       "      <td>360.0</td>\n",
       "      <td>167.6940</td>\n",
       "      <td>-0.260333</td>\n",
       "      <td>0.260333</td>\n",
       "      <td>0.929760</td>\n",
       "      <td>12</td>\n",
       "      <td>1</td>\n",
       "      <td>200</td>\n",
       "      <td>313</td>\n",
       "      <td>270</td>\n",
       "    </tr>\n",
       "    <tr>\n",
       "      <th>378</th>\n",
       "      <td>3010007</td>\n",
       "      <td>-</td>\n",
       "      <td>14.695600</td>\n",
       "      <td>6.03235</td>\n",
       "      <td>5.0</td>\n",
       "      <td>19.0</td>\n",
       "      <td>378.0</td>\n",
       "      <td>360.0</td>\n",
       "      <td>153.0900</td>\n",
       "      <td>-0.267261</td>\n",
       "      <td>0.801784</td>\n",
       "      <td>0.534522</td>\n",
       "      <td>12</td>\n",
       "      <td>1</td>\n",
       "      <td>200</td>\n",
       "      <td>321</td>\n",
       "      <td>265</td>\n",
       "    </tr>\n",
       "    <tr>\n",
       "      <th>379</th>\n",
       "      <td>3010007</td>\n",
       "      <td>-</td>\n",
       "      <td>0.865964</td>\n",
       "      <td>-1.00000</td>\n",
       "      <td>2.0</td>\n",
       "      <td>9.0</td>\n",
       "      <td>380.0</td>\n",
       "      <td>370.0</td>\n",
       "      <td>180.0000</td>\n",
       "      <td>0.000000</td>\n",
       "      <td>0.707107</td>\n",
       "      <td>0.707107</td>\n",
       "      <td>12</td>\n",
       "      <td>0</td>\n",
       "      <td>306</td>\n",
       "      <td>306</td>\n",
       "      <td>257</td>\n",
       "    </tr>\n",
       "    <tr>\n",
       "      <th>380</th>\n",
       "      <td>3010007</td>\n",
       "      <td>-</td>\n",
       "      <td>1.117940</td>\n",
       "      <td>-1.00000</td>\n",
       "      <td>2.0</td>\n",
       "      <td>9.0</td>\n",
       "      <td>381.0</td>\n",
       "      <td>370.0</td>\n",
       "      <td>90.0000</td>\n",
       "      <td>-0.577350</td>\n",
       "      <td>0.577350</td>\n",
       "      <td>-0.577350</td>\n",
       "      <td>12</td>\n",
       "      <td>0</td>\n",
       "      <td>306</td>\n",
       "      <td>306</td>\n",
       "      <td>255</td>\n",
       "    </tr>\n",
       "  </tbody>\n",
       "</table>\n",
       "<p>381 rows × 17 columns</p>\n",
       "</div>"
      ],
      "text/plain": [
       "        idno anatomicalname  centerlinelength  avginnerarea  lobe  sublobe  \\\n",
       "0    3010007        Trachea        104.962000     351.51300   0.0      0.0   \n",
       "1    3010007            LMB         51.014200     148.68100   0.0      0.0   \n",
       "2    3010007            RMB         25.444200     215.56900   0.0      0.0   \n",
       "3    3010007        BronInt         29.831900     111.98300   0.0      0.0   \n",
       "4    3010007            RUL         16.649400      75.69660   3.0      0.0   \n",
       "..       ...            ...               ...           ...   ...      ...   \n",
       "376  3010007              -          1.658150      -1.00000   5.0     18.0   \n",
       "377  3010007              -         14.326200       8.93574   5.0     19.0   \n",
       "378  3010007              -         14.695600       6.03235   5.0     19.0   \n",
       "379  3010007              -          0.865964      -1.00000   2.0      9.0   \n",
       "380  3010007              -          1.117940      -1.00000   2.0      9.0   \n",
       "\n",
       "     endbpid  startbpid     angle   dircosx   dircosy   dircosz  \\\n",
       "0        1.0       -1.0       NaN -0.024446  0.229788  0.972934   \n",
       "1        3.0        1.0  140.0360  0.608512  0.045926  0.792214   \n",
       "2        2.0        1.0  134.8050 -0.694225 -0.047878  0.718164   \n",
       "3        4.0        2.0  160.3120 -0.417837  0.018167  0.908341   \n",
       "4        5.0        2.0   98.5825 -0.813123 -0.038720 -0.580802   \n",
       "..       ...        ...       ...       ...       ...       ...   \n",
       "376    377.0      354.0  101.6280  0.408248  0.816497  0.408248   \n",
       "377    379.0      360.0  167.6940 -0.260333  0.260333  0.929760   \n",
       "378    378.0      360.0  153.0900 -0.267261  0.801784  0.534522   \n",
       "379    380.0      370.0  180.0000  0.000000  0.707107  0.707107   \n",
       "380    381.0      370.0   90.0000 -0.577350  0.577350 -0.577350   \n",
       "\n",
       "     weibel_generation  radius    x    y    z  \n",
       "0                    0      10  249  275  103  \n",
       "1                    1       6  280  277  143  \n",
       "2                    1       8  231  273  121  \n",
       "3                    2       5  219  274  148  \n",
       "4                    2       4  218  273  111  \n",
       "..                 ...     ...  ...  ...  ...  \n",
       "376                 12       0  173  286  240  \n",
       "377                 12       1  200  313  270  \n",
       "378                 12       1  200  321  265  \n",
       "379                 12       0  306  306  257  \n",
       "380                 12       0  306  306  255  \n",
       "\n",
       "[381 rows x 17 columns]"
      ]
     },
     "execution_count": 14,
     "metadata": {},
     "output_type": "execute_result"
    }
   ],
   "source": [
    "tree_w_coords = _get_coords(tree, start_x=startx, start_y=starty, start_z=startz)\n",
    "tree_w_coords[['x', 'y', 'z']] = tree_w_coords[['x', 'y', 'z']].astype(int)\n",
    "tree_w_coords"
   ]
  },
  {
   "cell_type": "code",
   "execution_count": 276,
   "id": "4b9e1517",
   "metadata": {},
   "outputs": [
    {
     "name": "stdout",
     "output_type": "stream",
     "text": [
      "No parent\n",
      "No parent\n",
      "No parent\n"
     ]
    },
    {
     "data": {
      "text/html": [
       "<div>\n",
       "<style scoped>\n",
       "    .dataframe tbody tr th:only-of-type {\n",
       "        vertical-align: middle;\n",
       "    }\n",
       "\n",
       "    .dataframe tbody tr th {\n",
       "        vertical-align: top;\n",
       "    }\n",
       "\n",
       "    .dataframe thead th {\n",
       "        text-align: right;\n",
       "    }\n",
       "</style>\n",
       "<table border=\"1\" class=\"dataframe\">\n",
       "  <thead>\n",
       "    <tr style=\"text-align: right;\">\n",
       "      <th></th>\n",
       "      <th>idno</th>\n",
       "      <th>anatomicalname</th>\n",
       "      <th>centerlinelength</th>\n",
       "      <th>avginnerarea</th>\n",
       "      <th>lobe</th>\n",
       "      <th>sublobe</th>\n",
       "      <th>endbpid</th>\n",
       "      <th>startbpid</th>\n",
       "      <th>angle</th>\n",
       "      <th>dircosx</th>\n",
       "      <th>...</th>\n",
       "      <th>y</th>\n",
       "      <th>z</th>\n",
       "      <th>parent_x</th>\n",
       "      <th>parent_y</th>\n",
       "      <th>parent_z</th>\n",
       "      <th>parent_loc</th>\n",
       "      <th>parent_loc_zxy</th>\n",
       "      <th>parent_loc_x</th>\n",
       "      <th>parent_loc_y</th>\n",
       "      <th>parent_loc_z</th>\n",
       "    </tr>\n",
       "  </thead>\n",
       "  <tbody>\n",
       "    <tr>\n",
       "      <th>0</th>\n",
       "      <td>3010007</td>\n",
       "      <td>Trachea</td>\n",
       "      <td>104.9620</td>\n",
       "      <td>351.5130</td>\n",
       "      <td>0.0</td>\n",
       "      <td>0.0</td>\n",
       "      <td>1.0</td>\n",
       "      <td>-1.0</td>\n",
       "      <td>NaN</td>\n",
       "      <td>-0.024446</td>\n",
       "      <td>...</td>\n",
       "      <td>275</td>\n",
       "      <td>103</td>\n",
       "      <td>280</td>\n",
       "      <td>277</td>\n",
       "      <td>143</td>\n",
       "      <td>[nan, nan, nan]</td>\n",
       "      <td>[nan, nan, nan]</td>\n",
       "      <td>252.0</td>\n",
       "      <td>251.0</td>\n",
       "      <td>1.0</td>\n",
       "    </tr>\n",
       "    <tr>\n",
       "      <th>1</th>\n",
       "      <td>3010007</td>\n",
       "      <td>LMB</td>\n",
       "      <td>51.0142</td>\n",
       "      <td>148.6810</td>\n",
       "      <td>0.0</td>\n",
       "      <td>0.0</td>\n",
       "      <td>3.0</td>\n",
       "      <td>1.0</td>\n",
       "      <td>140.0360</td>\n",
       "      <td>0.608512</td>\n",
       "      <td>...</td>\n",
       "      <td>277</td>\n",
       "      <td>143</td>\n",
       "      <td>280</td>\n",
       "      <td>277</td>\n",
       "      <td>143</td>\n",
       "      <td>[249, 275, 103]</td>\n",
       "      <td>[103, 249, 275]</td>\n",
       "      <td>249.0</td>\n",
       "      <td>275.0</td>\n",
       "      <td>103.0</td>\n",
       "    </tr>\n",
       "    <tr>\n",
       "      <th>2</th>\n",
       "      <td>3010007</td>\n",
       "      <td>RMB</td>\n",
       "      <td>25.4442</td>\n",
       "      <td>215.5690</td>\n",
       "      <td>0.0</td>\n",
       "      <td>0.0</td>\n",
       "      <td>2.0</td>\n",
       "      <td>1.0</td>\n",
       "      <td>134.8050</td>\n",
       "      <td>-0.694225</td>\n",
       "      <td>...</td>\n",
       "      <td>273</td>\n",
       "      <td>121</td>\n",
       "      <td>280</td>\n",
       "      <td>277</td>\n",
       "      <td>143</td>\n",
       "      <td>[249, 275, 103]</td>\n",
       "      <td>[103, 249, 275]</td>\n",
       "      <td>249.0</td>\n",
       "      <td>275.0</td>\n",
       "      <td>103.0</td>\n",
       "    </tr>\n",
       "    <tr>\n",
       "      <th>3</th>\n",
       "      <td>3010007</td>\n",
       "      <td>BronInt</td>\n",
       "      <td>29.8319</td>\n",
       "      <td>111.9830</td>\n",
       "      <td>0.0</td>\n",
       "      <td>0.0</td>\n",
       "      <td>4.0</td>\n",
       "      <td>2.0</td>\n",
       "      <td>160.3120</td>\n",
       "      <td>-0.417837</td>\n",
       "      <td>...</td>\n",
       "      <td>274</td>\n",
       "      <td>148</td>\n",
       "      <td>231</td>\n",
       "      <td>273</td>\n",
       "      <td>121</td>\n",
       "      <td>[231, 273, 121]</td>\n",
       "      <td>[121, 231, 273]</td>\n",
       "      <td>231.0</td>\n",
       "      <td>273.0</td>\n",
       "      <td>121.0</td>\n",
       "    </tr>\n",
       "    <tr>\n",
       "      <th>4</th>\n",
       "      <td>3010007</td>\n",
       "      <td>RUL</td>\n",
       "      <td>16.6494</td>\n",
       "      <td>75.6966</td>\n",
       "      <td>3.0</td>\n",
       "      <td>0.0</td>\n",
       "      <td>5.0</td>\n",
       "      <td>2.0</td>\n",
       "      <td>98.5825</td>\n",
       "      <td>-0.813123</td>\n",
       "      <td>...</td>\n",
       "      <td>273</td>\n",
       "      <td>111</td>\n",
       "      <td>231</td>\n",
       "      <td>273</td>\n",
       "      <td>121</td>\n",
       "      <td>[231, 273, 121]</td>\n",
       "      <td>[121, 231, 273]</td>\n",
       "      <td>231.0</td>\n",
       "      <td>273.0</td>\n",
       "      <td>121.0</td>\n",
       "    </tr>\n",
       "  </tbody>\n",
       "</table>\n",
       "<p>5 rows × 25 columns</p>\n",
       "</div>"
      ],
      "text/plain": [
       "      idno anatomicalname  centerlinelength  avginnerarea  lobe  sublobe  \\\n",
       "0  3010007        Trachea          104.9620      351.5130   0.0      0.0   \n",
       "1  3010007            LMB           51.0142      148.6810   0.0      0.0   \n",
       "2  3010007            RMB           25.4442      215.5690   0.0      0.0   \n",
       "3  3010007        BronInt           29.8319      111.9830   0.0      0.0   \n",
       "4  3010007            RUL           16.6494       75.6966   3.0      0.0   \n",
       "\n",
       "   endbpid  startbpid     angle   dircosx  ...    y    z  parent_x  parent_y  \\\n",
       "0      1.0       -1.0       NaN -0.024446  ...  275  103       280       277   \n",
       "1      3.0        1.0  140.0360  0.608512  ...  277  143       280       277   \n",
       "2      2.0        1.0  134.8050 -0.694225  ...  273  121       280       277   \n",
       "3      4.0        2.0  160.3120 -0.417837  ...  274  148       231       273   \n",
       "4      5.0        2.0   98.5825 -0.813123  ...  273  111       231       273   \n",
       "\n",
       "   parent_z       parent_loc   parent_loc_zxy  parent_loc_x  parent_loc_y  \\\n",
       "0       143  [nan, nan, nan]  [nan, nan, nan]         252.0         251.0   \n",
       "1       143  [249, 275, 103]  [103, 249, 275]         249.0         275.0   \n",
       "2       143  [249, 275, 103]  [103, 249, 275]         249.0         275.0   \n",
       "3       121  [231, 273, 121]  [121, 231, 273]         231.0         273.0   \n",
       "4       121  [231, 273, 121]  [121, 231, 273]         231.0         273.0   \n",
       "\n",
       "   parent_loc_z  \n",
       "0           1.0  \n",
       "1         103.0  \n",
       "2         103.0  \n",
       "3         121.0  \n",
       "4         121.0  \n",
       "\n",
       "[5 rows x 25 columns]"
      ]
     },
     "execution_count": 276,
     "metadata": {},
     "output_type": "execute_result"
    }
   ],
   "source": [
    "def get_parent_coords(x, col='x'):\n",
    "        v = np.array(tree_w_coords['endbpid'].to_list()) # exclude trachea for the participant\n",
    "        if np.any(np.isin(v,x.startbpid)):\n",
    "            index = np.argmax(np.isin(v,x.startbpid)) # find row that contains the parent branch (prev bpid)\n",
    "#             print(\"index\",x.startbpid, index)\n",
    "            try:\n",
    "                row_parent = tree_w_coords.iloc[index] # adding 1 back on for the trachea\n",
    "            except:\n",
    "                print(\"Help\", index, len(x))\n",
    "            return row_parent[col]\n",
    "        else:\n",
    "            print(\"No parent\")\n",
    "            return np.nan\n",
    "        \n",
    "tree_w_coords[\"parent_loc_x\"]=tree_w_coords.apply(lambda x: get_parent_coords(x,'x'), axis=1)\n",
    "tree_w_coords[\"parent_loc_y\"]=tree_w_coords.apply(lambda x: get_parent_coords(x,'y'), axis=1)\n",
    "tree_w_coords[\"parent_loc_z\"]=tree_w_coords.apply(lambda x: get_parent_coords(x,'z'), axis=1)\n",
    "\n",
    "# fill parent loc fo rtrachea with start\n",
    "tree_w_coords.loc[tree_w_coords.startbpid == -1, 'parent_loc_x']= startx\n",
    "tree_w_coords.loc[tree_w_coords.startbpid == -1,'parent_loc_y']= starty\n",
    "tree_w_coords.loc[tree_w_coords.startbpid == -1, 'parent_loc_z']= startz\n",
    "tree_w_coords.head()"
   ]
  },
  {
   "cell_type": "code",
   "execution_count": 287,
   "id": "f2d7e66e",
   "metadata": {},
   "outputs": [
    {
     "data": {
      "text/plain": [
       "0      False\n",
       "1      False\n",
       "2      False\n",
       "3      False\n",
       "4      False\n",
       "       ...  \n",
       "376     True\n",
       "377    False\n",
       "378    False\n",
       "379     True\n",
       "380     True\n",
       "Name: radius, Length: 381, dtype: bool"
      ]
     },
     "execution_count": 287,
     "metadata": {},
     "output_type": "execute_result"
    }
   ],
   "source": [
    "(tree_w_coords.radius == 0) # 55x 0 radius what to do\n"
   ]
  },
  {
   "cell_type": "code",
   "execution_count": 305,
   "id": "1deccd27",
   "metadata": {},
   "outputs": [
    {
     "name": "stdout",
     "output_type": "stream",
     "text": [
      "[ 0. -1.  0.]\n",
      "1.0\n"
     ]
    }
   ],
   "source": [
    "v = np.array([0,0,-1]).astype('int64')\n",
    "not_v = np.array([1, 0, 0]).astype('int64')\n",
    "if (v == not_v).all():\n",
    "    not_v = np.array([0, 1, 0]).astype('int64')\n",
    "# make vector perpendicular to v\n",
    "n1 = np.cross(v.astype('int64'), not_v.astype('int64')).astype('float64')\n",
    "print(n1)\n",
    "# normalize n1\n",
    "print(scipy.linalg.norm(n1.astype('int64')))\n",
    "n1 /= scipy.linalg.norm(n1)"
   ]
  },
  {
   "cell_type": "code",
   "execution_count": 309,
   "id": "a3cac4f4",
   "metadata": {},
   "outputs": [
    {
     "name": "stdout",
     "output_type": "stream",
     "text": [
      "(670, 512, 512)\n",
      "[  1 252 251] [103 249 275] 10\n"
     ]
    },
    {
     "data": {
      "application/vnd.jupyter.widget-view+json": {
       "model_id": "9a84715a683c409f86b3e716dac23e9d",
       "version_major": 2,
       "version_minor": 0
      },
      "text/plain": [
       "Building tree:   0%|          | 0/381 [00:00<?, ?it/s]"
      ]
     },
     "metadata": {},
     "output_type": "display_data"
    },
    {
     "name": "stdout",
     "output_type": "stream",
     "text": [
      "0 radius: skipping segment\n",
      "0 radius: skipping segment\n"
     ]
    },
    {
     "name": "stderr",
     "output_type": "stream",
     "text": [
      "/tmp/ipykernel_4930/1966530950.py:39: RuntimeWarning: invalid value encountered in true_divide\n",
      "  n1 /= scipy.linalg.norm(n1)\n"
     ]
    },
    {
     "name": "stdout",
     "output_type": "stream",
     "text": [
      "[[nan nan nan]\n",
      " [nan nan nan]\n",
      " [nan nan nan]\n",
      " ...\n",
      " [nan nan nan]\n",
      " [nan nan nan]\n",
      " [nan nan nan]]\n",
      "0 radius: skipping segment\n",
      "0 radius: skipping segment\n",
      "0 radius: skipping segment\n",
      "0 radius: skipping segment\n",
      "0 radius: skipping segment\n",
      "0 radius: skipping segment\n",
      "0 radius: skipping segment\n",
      "0 radius: skipping segment\n",
      "0 radius: skipping segment\n",
      "0 radius: skipping segment\n",
      "0 radius: skipping segment\n",
      "0 radius: skipping segment\n",
      "0 radius: skipping segment\n",
      "0 radius: skipping segment\n",
      "0 radius: skipping segment\n",
      "0 radius: skipping segment\n",
      "0 radius: skipping segment\n",
      "0 radius: skipping segment\n",
      "0 radius: skipping segment\n",
      "0 radius: skipping segment\n",
      "0 radius: skipping segment\n",
      "0 radius: skipping segment\n",
      "[[nan nan nan]\n",
      " [nan nan nan]\n",
      " [nan nan nan]\n",
      " ...\n",
      " [nan nan nan]\n",
      " [nan nan nan]\n",
      " [nan nan nan]]\n"
     ]
    },
    {
     "name": "stderr",
     "output_type": "stream",
     "text": [
      "/tmp/ipykernel_4930/1966530950.py:39: RuntimeWarning: invalid value encountered in true_divide\n",
      "  n1 /= scipy.linalg.norm(n1)\n"
     ]
    },
    {
     "name": "stdout",
     "output_type": "stream",
     "text": [
      "0 radius: skipping segment\n",
      "0 radius: skipping segment\n",
      "0 radius: skipping segment\n",
      "0 radius: skipping segment\n",
      "0 radius: skipping segment\n",
      "0 radius: skipping segment\n",
      "0 radius: skipping segment\n",
      "0 radius: skipping segment\n",
      "0 radius: skipping segment\n",
      "0 radius: skipping segment\n",
      "0 radius: skipping segment\n",
      "0 radius: skipping segment\n",
      "0 radius: skipping segment\n",
      "0 radius: skipping segment\n",
      "0 radius: skipping segment\n",
      "0 radius: skipping segment\n",
      "0 radius: skipping segment\n",
      "0 radius: skipping segment\n",
      "0 radius: skipping segment\n",
      "0 radius: skipping segment\n",
      "0 radius: skipping segment\n",
      "0 radius: skipping segment\n",
      "0 radius: skipping segment\n",
      "0 radius: skipping segment\n",
      "0 radius: skipping segment\n",
      "0 radius: skipping segment\n",
      "0 radius: skipping segment\n",
      "0 radius: skipping segment\n",
      "0 radius: skipping segment\n",
      "0 radius: skipping segment\n",
      "0 radius: skipping segment\n"
     ]
    },
    {
     "data": {
      "image/png": "[encoded data removed]",
      "text/plain": [
       "<Figure size 432x288 with 1 Axes>"
      ]
     },
     "metadata": {
      "needs_background": "light"
     },
     "output_type": "display_data"
    },
    {
     "data": {
      "application/vnd.jupyter.widget-view+json": {
       "model_id": "4351a42ff30d4f46937173837e164026",
       "version_major": 2,
       "version_minor": 0
      },
      "text/plain": [
       "interactive(children=(IntSlider(value=255, description='x', max=511), IntSlider(value=255, description='y', ma…"
      ]
     },
     "metadata": {},
     "output_type": "display_data"
    }
   ],
   "source": [
    "# two cross sections at diff slices - > simple linear interp of centers radius interp between first slice and last --> draw filled in circles inside image on each slice\n",
    "# section may not be aligned with the slice - reorient + rotate \n",
    "\n",
    "# defining mask\n",
    "image = np.zeros(shape=img_array.shape, dtype=np.uint8)\n",
    "print(image.shape)\n",
    "start= np.array([startz, startx, starty])\n",
    "end= tree_w_coords.loc[tree_w_coords.endbpid == 1][['z','x', 'y']].values.squeeze()\n",
    "\n",
    "# set radius and centres values\n",
    "r = tree_w_coords.loc[tree_w_coords.endbpid == 1]['radius'].item()\n",
    "print(start, end, r)\n",
    "\n",
    "def get_cyllinder(start, end, radius):\n",
    "    p1 = np.array(start)\n",
    "    p2 = np.array(end)\n",
    "    r = radius\n",
    "    # # calculate p2-p1 distance\n",
    "    # dx = p2[0] - p1[0]\n",
    "    # dy = p2[1] - p1[1]\n",
    "    # dz = p2[2] - p1[2]\n",
    "    # dist = math.sqrt(dx**2 + dy**2 + dz**2)\n",
    "\n",
    "    # vector in direction of axis\n",
    "    v = p2 - p1\n",
    "    # find magnitude of vector\n",
    "    mag = scipy.linalg.norm(v)\n",
    "    # unit vector in direction of axis\n",
    "    v = v / mag\n",
    "    # make some vector not in the same direction as v\n",
    "    not_v = np.array([1, 0, 0])\n",
    "    if (v == not_v).all():\n",
    "        not_v = np.array([0, 1, 0])\n",
    "        \n",
    "    try:\n",
    "        # make vector perpendicular to v\n",
    "        n1 = np.cross(v, not_v).astype('float64')\n",
    "        # normalize n1\n",
    "        n1 /= scipy.linalg.norm(n1)\n",
    "        # make unit vector perpendicular to v and n1\n",
    "        n2 = np.cross(v, n1).astype('float64')\n",
    "        #volume ranges over t from 0 to length of axis and 0 to 2*pi\n",
    "        t = np.linspace(0, mag, 100)\n",
    "        theta = np.linspace(0, 2 * np.pi, 90)\n",
    "        rsample = np.linspace(0, r, 100)\n",
    "\n",
    "        #use meshgrid to make 2d arrays\n",
    "        t, theta2, rsample2 = np.meshgrid(t, theta,rsample)\n",
    "        # print(\"here\", t, theta, rsample2)\n",
    "    # rsample, theta = np.meshgrid(rsample, theta)\n",
    "\n",
    "        # generate coordinates for surface\n",
    "        # \"Tube\"\n",
    "        X, Y, Z = [p1[i] + v[i] * t + rsample2* np.sin(theta2) * n1[i] + rsample2 * np.cos(theta2) * n2[i] for i in [0, 1, 2]]\n",
    "    #     print(Z.shape, X.shape)\n",
    "        # \"Bottom\"\n",
    "        # X2, Y2, Z2 = [p1[i] + rsample[i] * np.sin(theta) * n1[i] + rsample[i] * np.cos(theta) * n2[i] for i in [0, 1, 2]]\n",
    "        # \"Top\"\n",
    "        # X3, Y3, Z3 = [p1[i] + v[i] * mag + rsample[i] * np.sin(theta) * n1[i] + rsample[i] * np.cos(theta) * n2[i] for i in [0, 1, 2]]\n",
    "        # replaced mag with 1\n",
    "    #     fig = plt.figure()\n",
    "    #     ax = fig.add_subplot(111, projection='3d')\n",
    "        # ax.plot_surface(X, Y, Z)\n",
    "        # ax.plot_surface(X2, Y2, Z2)\n",
    "        # ax.plot_surface(X3, Y3, Z3)\n",
    "\n",
    "    # plt.show()\n",
    "\n",
    "        tube = np.stack((X.ravel(), Y.ravel(), Z.ravel()), axis=1)\n",
    "    except:\n",
    "        print(f\"A problem occurred, skipping segment: {start, end, radius}\")\n",
    "        tube = None\n",
    "        \n",
    "    return tube\n",
    "\n",
    "image = np.zeros(shape=img_array.shape)\n",
    "# face1 = np.stack((X2.ravel(), Y2.ravel(), Z2.ravel()), axis=1)\n",
    "# face2 = np.stack((X3.ravel(), Y3.ravel(), Z3.ravel()), axis=1)\n",
    "# filling numpy mask\n",
    "def _fill_tube(image, tube):\n",
    "    for i in range(len(tube)):\n",
    "        image[int(tube[i][0]), int(tube[i][1]), int(tube[i][2])] = 255\n",
    "    return image\n",
    "\n",
    "for i in tqdm(range(len(tree_w_coords)), desc='Building tree'):\n",
    "    # set radius and centres values\n",
    "    row = tree_w_coords.iloc[i]\n",
    "    r = row['radius'].item()\n",
    "    if r == 0:\n",
    "        print(\"0 radius: skipping segment\")\n",
    "        continue\n",
    "    start =  np.array(row[['parent_loc_z','parent_loc_x', 'parent_loc_y']].values.squeeze()).astype('int64')\n",
    "    end= np.array(row[['z','x', 'y']].values.squeeze()).astype('int64')\n",
    "    tube = get_cyllinder(start, end, r)\n",
    "    \n",
    "    if tube is not None:\n",
    "        try:\n",
    "            image = _fill_tube(image, tube)\n",
    "        except:\n",
    "            print(tube)\n",
    "    \n",
    "\n",
    "\n",
    "# for j in range(len(face1)):\n",
    "#     image[int(face1[j][0]), int(face1[j][1]), int(face1[j][2])] = 1\n",
    "\n",
    "# for k in range(len(face2)):\n",
    "#     image[int(face2[k][0]), int(face2[k][1]), int(face2[k][2])] = 1\n",
    "\n",
    "\n",
    "\n",
    "\n",
    "\n",
    "fig=plt.figure()\n",
    "ax = fig.add_subplot(projection='3d')\n",
    "xs, ys, zs = np.where(image==255)\n",
    "ax.scatter(zs, xs, ys)\n",
    "plt.show()\n",
    "\n",
    "# def fill_convex(arr):\n",
    "#     for i in range(arr.shape[0]):\n",
    "#         for j in range(arr.shape[1]):\n",
    "#             mask = slice(None), slice(i, i + 1), slice(j, j + 1)\n",
    "# #             print(\"mask\",mask)\n",
    "#             line = arr[mask]\n",
    "#             k = np.where(line > 0)[0]\n",
    "#             if len(k):\n",
    "#                 start, stop = np.min(k), np.max(k)\n",
    "#                 line[start:stop] = 1\n",
    "#     return arr\n",
    "\n",
    "def fill_contours(arr):\n",
    "    l_r = np.maximum.accumulate(arr).astype(bool)\n",
    "    r_l = np.maximum.accumulate(arr[:,::-1])[:,::-1].astype(bool)\n",
    "    return l_r & r_l\n",
    "\n",
    "# image[p1[0]:p2[0],p1[1]:p2[1],p1[2]:p2[2]] =np.array([fill_contours(image[p1[0]:p2[0],p1[1]:p2[1],p1[2]:p2[2]][i]) for i in range(image[p1[0]:p2[0],p1[1]:p2[1],p1[2]:p2[2]].shape[0])])\n",
    "# print(\"sum\", image.sum())\n",
    "# image = np.stack([fill_contours(arr) for arr in image])\n",
    "overlay = sitk.GetImageFromArray(image.astype('uint8'),isVector=False)\n",
    "overlay.SetOrigin(aw_img.GetOrigin())\n",
    "overlay.SetDirection(aw_img.GetDirection())\n",
    "# # cyllinder + analytical --> what are the x/y smaller than radius defines the shape to binariese any fixed     \n",
    "# display_overlay(aw_img, overlay)\n",
    "interactive_view(sitk.LabelOverlay(aw_img, overlay))"
   ]
  },
  {
   "cell_type": "code",
   "execution_count": 191,
   "id": "d2c6e4ec",
   "metadata": {},
   "outputs": [
    {
     "data": {
      "image/png": "[encoded data removed]",
      "text/plain": [
       "<Figure size 432x288 with 1 Axes>"
      ]
     },
     "metadata": {
      "needs_background": "light"
     },
     "output_type": "display_data"
    }
   ],
   "source": [
    "image = np.zeros(shape=img_array.shape)\n",
    "\n",
    "x, y = np.meshgrid(np.linspace(0,100,100),np.linspace(0,100,100))\n",
    "test =np.stack([x,y], axis=0)\n",
    "where =  np.where(np.power(test[0],2) + np.power(test[1],2) < 10^2)\n",
    "image[where] = 1\n",
    "fig=plt.figure()\n",
    "ax = fig.add_subplot(projection='3d')\n",
    "xs, ys, zs = np.where(image==1)\n",
    "ax.scatter(zs, xs, ys)\n",
    "plt.show()"
   ]
  },
  {
   "cell_type": "code",
   "execution_count": 106,
   "id": "69ca3e7c",
   "metadata": {},
   "outputs": [
    {
     "name": "stdout",
     "output_type": "stream",
     "text": [
      "8-bit unsigned integer\n",
      "8-bit unsigned integer\n",
      "8-bit unsigned integer\n"
     ]
    }
   ],
   "source": [
    "print(aw_img.GetPixelIDTypeAsString())\n",
    "print(lung_img.GetPixelIDTypeAsString())\n",
    "print(overlay.GetPixelIDTypeAsString())\n"
   ]
  },
  {
   "cell_type": "code",
   "execution_count": 158,
   "id": "452d6c44",
   "metadata": {},
   "outputs": [
    {
     "data": {
      "text/plain": [
       "3"
      ]
     },
     "execution_count": 158,
     "metadata": {},
     "output_type": "execute_result"
    }
   ],
   "source": [
    "theta = np.linspace(0,2*np.pi,180)\n",
    "z = np.linspace(-100,100,100)\n",
    "X, Y, Z = [p1[i] + v[i] * t + r * np.sin(theta2) * n1[i] + r * np.cos(theta2) * n2[i] for i in [0, 1, 2]]\n",
    "coords = np.meshgrid(x,y,z)"
   ]
  },
  {
   "cell_type": "code",
   "execution_count": 100,
   "id": "6acd5eaf",
   "metadata": {},
   "outputs": [
    {
     "data": {
      "text/plain": [
       "(array([  0,   0,   0, ..., 669, 669, 669]),\n",
       " array([242, 242, 242, ..., 254, 255, 255]),\n",
       " array([250, 251, 252, ..., 260, 259, 260]))"
      ]
     },
     "execution_count": 100,
     "metadata": {},
     "output_type": "execute_result"
    }
   ],
   "source": [
    "np.where(sitk.GetArrayFromImage(overlay)==1)"
   ]
  },
  {
   "cell_type": "code",
   "execution_count": 141,
   "id": "9b7a3616",
   "metadata": {},
   "outputs": [
    {
     "data": {
      "text/plain": [
       "7481"
      ]
     },
     "execution_count": 141,
     "metadata": {},
     "output_type": "execute_result"
    }
   ],
   "source": [
    "np.array(list(np.where(image==1))).sum(axis=0).argmax()"
   ]
  },
  {
   "cell_type": "code",
   "execution_count": 47,
   "id": "e1451b20",
   "metadata": {},
   "outputs": [
    {
     "name": "stdout",
     "output_type": "stream",
     "text": [
      "[1 1 1]\n",
      "[[[  0   0   0]\n",
      "  [  0   0   0]\n",
      "  [  0   0   0]]\n",
      "\n",
      " [[  1   1   1]\n",
      "  [  1   1   1]\n",
      "  [  1   1   1]]\n",
      "\n",
      " [[100 100 100]\n",
      "  [100 100 100]\n",
      "  [100 100 100]]]\n",
      "[[[[0 0 0]\n",
      "   [0 0 0]\n",
      "   [0 0 0]]\n",
      "\n",
      "  [[1 1 1]\n",
      "   [1 1 1]\n",
      "   [1 1 1]]\n",
      "\n",
      "  [[2 2 2]\n",
      "   [2 2 2]\n",
      "   [2 2 2]]]\n",
      "\n",
      "\n",
      " [[[0 0 0]\n",
      "   [1 1 1]\n",
      "   [2 2 2]]\n",
      "\n",
      "  [[0 0 0]\n",
      "   [1 1 1]\n",
      "   [2 2 2]]\n",
      "\n",
      "  [[0 0 0]\n",
      "   [1 1 1]\n",
      "   [2 2 2]]]\n",
      "\n",
      "\n",
      " [[[0 1 2]\n",
      "   [0 1 2]\n",
      "   [0 1 2]]\n",
      "\n",
      "  [[0 1 2]\n",
      "   [0 1 2]\n",
      "   [0 1 2]]\n",
      "\n",
      "  [[0 1 2]\n",
      "   [0 1 2]\n",
      "   [0 1 2]]]]\n",
      "(3, 3, 3, 3)\n",
      "(670, 512, 512)\n"
     ]
    }
   ],
   "source": [
    "# bps=np.mgrid[0:3,0:3,0:3]\n",
    "\n",
    "bps[np.where((bps[0] < 2) & (bps[1] > 1))]=100\n",
    "print(bps[0])\n",
    "# start = (1,1,1)\n",
    "# end = (4,3,5)\n",
    "# r = 2\n",
    "print(out)\n",
    "print(out.shape)\n",
    "print(img_array.shape)"
   ]
  },
  {
   "cell_type": "code",
   "execution_count": 18,
   "id": "ca7cf646",
   "metadata": {},
   "outputs": [
    {
     "name": "stdout",
     "output_type": "stream",
     "text": [
      "z    103\n",
      "x    249\n",
      "y    275\n",
      "Name: 0, dtype: object\n",
      "(-1.0, 0.0, 0.0, 0.0, -1.0, 0.0, 0.0, 0.0, 1.0) (-1.0, 0.0, 0.0, 0.0, -1.0, 0.0, 0.0, 0.0, 1.0)\n"
     ]
    },
    {
     "data": {
      "application/vnd.jupyter.widget-view+json": {
       "model_id": "0a9803e1c389403fb45fc3ededc29903",
       "version_major": 2,
       "version_minor": 0
      },
      "text/plain": [
       "interactive(children=(IntSlider(value=255, description='x', max=511), IntSlider(value=255, description='y', ma…"
      ]
     },
     "metadata": {},
     "output_type": "display_data"
    }
   ],
   "source": [
    "# convert into numpy array\n",
    "branch_points = np.zeros_like(img_array)\n",
    "print(tree_w_coords.iloc[0][['z','x','y']])\n",
    "branch_points[(tree_w_coords.z.values, tree_w_coords.x.values,tree_w_coords.y.values)]=255\n",
    "bp_img = sitk.GetImageFromArray(branch_points)\n",
    "bp_img.SetOrigin(aw_img.GetOrigin())\n",
    "bp_img.SetDirection(aw_img.GetDirection())\n",
    "print(bp_img.GetDirection(), aw_img.GetDirection())\n",
    "interactive_view(label_overlay(aw_img, bp_img))"
   ]
  },
  {
   "cell_type": "code",
   "execution_count": 27,
   "id": "d81f3089",
   "metadata": {},
   "outputs": [
    {
     "name": "stdout",
     "output_type": "stream",
     "text": [
      "[ 49  51  57  59  62  64  65  69  72  73  74  75  76  77  79  80  81  84\n",
      "  85  86  87  88  89  90  91  92  93  94  95  96  97  98  99 100 101 102\n",
      " 103 105 106 107 108 109 110 111 113 114 115 116 117 118 119 120 121 122\n",
      " 123 124 125 126 127 128 130 131 132 133 134 136 137 138 142 143 144 145\n",
      " 146 147 148 149 150 151 152 153 154 155 156 158 159 160 161 162 163 164\n",
      " 165 166 167 168 170 171 172 173 174 175 176 178 179 180 181 182 183 184\n",
      " 185 186 187 189 190 191 192 193 194 195 196 198 199 200 201 202 203 204\n",
      " 205 206 207 208 209 210 211 213 214 215 216 219 220 221 222 224 227 228\n",
      " 229 230 231 233 235 236 238 240 241 242 243 244 246 251 252 253 254 255\n",
      " 256 257 258 261 265 270 281]\n"
     ]
    },
    {
     "data": {
      "text/plain": [
       "idno                  3010007\n",
       "anatomicalname              -\n",
       "centerlinelength      21.8037\n",
       "avginnerarea           7.2968\n",
       "lobe                      5.0\n",
       "sublobe                  15.0\n",
       "endbpid                 201.0\n",
       "startbpid               125.0\n",
       "angle                 157.537\n",
       "dircosx             -0.031607\n",
       "dircosy              0.948209\n",
       "dircosz               0.31607\n",
       "weibel_generation           8\n",
       "radius                      1\n",
       "x                         202\n",
       "y                         332\n",
       "z                         170\n",
       "Name: 200, dtype: object"
      ]
     },
     "metadata": {},
     "output_type": "display_data"
    },
    {
     "name": "stdout",
     "output_type": "stream",
     "text": [
      "z_value 170\n",
      "center (332, 202)\n"
     ]
    },
    {
     "data": {
      "image/png": "[encoded data removed]",
      "text/plain": [
       "<Figure size 720x720 with 2 Axes>"
      ]
     },
     "metadata": {
      "needs_background": "light"
     },
     "output_type": "display_data"
    }
   ],
   "source": [
    "z_options, freq = np.unique(tree_w_coords.z.values, return_counts=True)\n",
    "print(z_options)\n",
    "def _display_slice(img_array, df_slice, value=0):\n",
    "     #displays slice of image with circled branch point\n",
    "    display(df_slice)\n",
    "    print(\"z_value\", df_slice.z.item())\n",
    "    _slice = cv2.cvtColor(img_array[df_slice.z.item(), :,:], cv2.COLOR_GRAY2RGB)\n",
    "    cv2_img = _slice #np.zeros_like(_slice)\n",
    "    plt.show()\n",
    "    center = (df_slice['y'], df_slice['x'])\n",
    "    radius = int(df_slice['radius'])\n",
    "    print(\"center\", center)\n",
    "    cv2.circle(cv2_img, center, 4, (0, 255, 255), 1)\n",
    "    # plt.figure(figsize=(20,20))\n",
    "    f, (ax1, ax2) = plt.subplots(1,2,figsize=(10,10))\n",
    "    ax1.imshow(cv2_img)\n",
    "    ax2.imshow(img_array[df_slice.z.item(), :,:], cmap='gray')\n",
    "    plt.show()\n",
    "\n",
    "\n",
    "bp = tree_w_coords.iloc[200]\n",
    "_display_slice(img_array, bp)"
   ]
  },
  {
   "cell_type": "code",
   "execution_count": 21,
   "id": "25355889",
   "metadata": {},
   "outputs": [
    {
     "data": {
      "text/plain": [
       "<matplotlib.image.AxesImage at 0x7f75869fc2e0>"
      ]
     },
     "execution_count": 21,
     "metadata": {},
     "output_type": "execute_result"
    },
    {
     "data": {
      "image/png": "[encoded data removed]",
      "text/plain": [
       "<Figure size 432x288 with 1 Axes>"
      ]
     },
     "metadata": {
      "needs_background": "light"
     },
     "output_type": "display_data"
    }
   ],
   "source": [
    "plt.imshow(img_array[:,:,180], origin='lower', cmap='gray', extent=(0, height, 0, depth))"
   ]
  },
  {
   "cell_type": "code",
   "execution_count": 22,
   "id": "d52f5730",
   "metadata": {},
   "outputs": [
    {
     "name": "stdout",
     "output_type": "stream",
     "text": [
      "(512, 512, 670)\n"
     ]
    },
    {
     "data": {
      "image/png": "[encoded data removed]",
      "text/plain": [
       "<Figure size 720x288 with 3 Axes>"
      ]
     },
     "metadata": {
      "needs_background": "light"
     },
     "output_type": "display_data"
    }
   ],
   "source": [
    "print(img.GetSize())\n",
    "display_image(img, 256,256,400)"
   ]
  },
  {
   "cell_type": "code",
   "execution_count": 23,
   "id": "dca7fba5",
   "metadata": {
    "scrolled": true
   },
   "outputs": [
    {
     "data": {
      "text/plain": [
       "(array([1.75372433e+08, 0.00000000e+00, 0.00000000e+00, 0.00000000e+00,\n",
       "        0.00000000e+00, 0.00000000e+00, 0.00000000e+00, 0.00000000e+00,\n",
       "        0.00000000e+00, 0.00000000e+00, 0.00000000e+00, 0.00000000e+00,\n",
       "        0.00000000e+00, 0.00000000e+00, 0.00000000e+00, 0.00000000e+00,\n",
       "        0.00000000e+00, 0.00000000e+00, 0.00000000e+00, 2.64047000e+05]),\n",
       " array([  0.  ,  12.75,  25.5 ,  38.25,  51.  ,  63.75,  76.5 ,  89.25,\n",
       "        102.  , 114.75, 127.5 , 140.25, 153.  , 165.75, 178.5 , 191.25,\n",
       "        204.  , 216.75, 229.5 , 242.25, 255.  ]),\n",
       " <BarContainer object of 20 artists>)"
      ]
     },
     "execution_count": 23,
     "metadata": {},
     "output_type": "execute_result"
    },
    {
     "data": {
      "image/png": "[encoded data removed]",
      "text/plain": [
       "<Figure size 432x288 with 1 Axes>"
      ]
     },
     "metadata": {
      "needs_background": "light"
     },
     "output_type": "display_data"
    }
   ],
   "source": [
    "plt.hist(img_array.flatten(), bins=20, density=False)"
   ]
  },
  {
   "cell_type": "code",
   "execution_count": 208,
   "id": "30ff1487",
   "metadata": {},
   "outputs": [
    {
     "data": {
      "text/plain": [
       "<Figure size 1440x1440 with 0 Axes>"
      ]
     },
     "metadata": {},
     "output_type": "display_data"
    },
    {
     "data": {
      "application/vnd.jupyter.widget-view+json": {
       "model_id": "a3b9e9b3157c45ce93ff8bc296af2f20",
       "version_major": 2,
       "version_minor": 0
      },
      "text/plain": [
       "interactive(children=(IntSlider(value=255, description='x', max=511), IntSlider(value=255, description='y', ma…"
      ]
     },
     "metadata": {},
     "output_type": "display_data"
    }
   ],
   "source": [
    "plt.figure(figsize=(20,20))\n",
    "interactive_view(label_overlay(aw_img, aw_img))\n",
    "# poisson shape mapping --> normalised + radial distance --> this is somewhere on file - pdcm\n",
    "# VIDA lobelevel"
   ]
  },
  {
   "cell_type": "code",
   "execution_count": null,
   "id": "ff639c51",
   "metadata": {},
   "outputs": [],
   "source": []
  }
 ],
 "metadata": {
  "kernelspec": {
   "display_name": "Python 3 (ipykernel)",
   "language": "python",
   "name": "python3"
  },
  "language_info": {
   "codemirror_mode": {
    "name": "ipython",
    "version": 3
   },
   "file_extension": ".py",
   "mimetype": "text/x-python",
   "name": "python",
   "nbconvert_exporter": "python",
   "pygments_lexer": "ipython3",
   "version": "3.8.13"
  }
 },
 "nbformat": 4,
 "nbformat_minor": 5
}
